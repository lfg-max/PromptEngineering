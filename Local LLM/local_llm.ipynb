{
 "cells": [
  {
   "cell_type": "code",
   "execution_count": 1,
   "metadata": {},
   "outputs": [],
   "source": [
    "# pip install llama-index-llms-ollama"
   ]
  },
  {
   "cell_type": "code",
   "execution_count": null,
   "metadata": {},
   "outputs": [],
   "source": [
    "from ollama import Client\n",
    "\n",
    "# Initialize the client\n",
    "client = Client()\n",
    "\n",
    "# Specify the model (make sure you've pulled this model beforehand)\n",
    "# model = \"llama3.2\" \n",
    "# model = 'mistral'\n",
    "# model = \"qwen2.5-coder\"\n",
    "model = 'deepseek-r1:1.5b'\n",
    "# model = 'deepseek-r1:8b'\n",
    "\n",
    "\n",
    "\n",
    "# Ask a question\n",
    "question = \"What is nothing ?\"\n",
    "\n",
    "# Generate a response using the chat method\n",
    "# response = client.chat(model=model, messages=[{\"role\": \"user\", \"content\": question}])\n",
    "\n",
    "try:\n",
    "    response = client.chat(\n",
    "        model=model,\n",
    "        messages=[{\"role\": \"user\", \"content\": question}],\n",
    "        options={\n",
    "            \"temperature\": 0,\n",
    "            \"top_p\": 0.9,\n",
    "            \"max_tokens\": 1024,\n",
    "            \"presence_penalty\": 0.0,\n",
    "            \"frequency_penalty\": 0.0,\n",
    "            \"best_of\": 1,\n",
    "            \"n\": 1,\n",
    "            \"stop\": ['INST']\n",
    "\n",
    "        }\n",
    "    )\n",
    "    print(response['message']['content'])\n",
    "except Exception as e:\n",
    "    print(f\"An error occurred: {e}\")"
   ]
  },
  {
   "cell_type": "code",
   "execution_count": null,
   "metadata": {},
   "outputs": [],
   "source": []
  }
 ],
 "metadata": {
  "kernelspec": {
   "display_name": ".venv",
   "language": "python",
   "name": "python3"
  },
  "language_info": {
   "codemirror_mode": {
    "name": "ipython",
    "version": 3
   },
   "file_extension": ".py",
   "mimetype": "text/x-python",
   "name": "python",
   "nbconvert_exporter": "python",
   "pygments_lexer": "ipython3",
   "version": "3.12.0"
  }
 },
 "nbformat": 4,
 "nbformat_minor": 2
}
