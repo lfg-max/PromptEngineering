{
 "cells": [
  {
   "cell_type": "code",
   "execution_count": 3,
   "metadata": {},
   "outputs": [],
   "source": [
    "# pip install llama-index-llms-ollama"
   ]
  },
  {
   "cell_type": "code",
   "execution_count": 5,
   "metadata": {},
   "outputs": [
    {
     "name": "stdout",
     "output_type": "stream",
     "text": [
      "The concept of \"nothing\" is a complex and abstract idea that has been debated by philosophers, scientists, and thinkers for centuries. There is no straightforward answer, but here's a nuanced exploration:\n",
      "\n",
      "In physics, the concept of \"nothing\" refers to the absence of matter, energy, space, and time. In this sense, nothing is not just the absence of something, but also the absence of any physical properties or attributes. This idea is often referred to as the \"quantum vacuum,\" which is a state of complete emptiness in terms of particles and fields.\n",
      "\n",
      "However, even in the quantum vacuum, there are still some residual effects, such as:\n",
      "\n",
      "1. Virtual particles: Even in the absence of matter and energy, virtual particles can appear and disappear in a process known as \"virtual particle-antiparticle pairs.\"\n",
      "2. Quantum fluctuations: The laws of physics themselves introduce random fluctuations that can create temporary particles and antiparticles.\n",
      "3. Zero-point energy: Even at absolute zero temperature, there is still some residual energy present due to quantum mechanical effects.\n",
      "\n",
      "In philosophy, the concept of nothingness raises questions about existence, reality, and the nature of being. Some arguments for the existence of nothing include:\n",
      "\n",
      "1. The concept of \"nothing\" as a negation of something else: If we consider the absence of something, does that mean there is actually something?\n",
      "2. The idea of an infinite regress: If we try to define what nothing is, do we create a paradox by implying that it has some kind of existence or definition?\n",
      "\n",
      "On the other hand, some arguments against the concept of nothing include:\n",
      "\n",
      "1. The problem of reference: How can we even talk about \"nothing\" if there's no reference point or something to compare it to?\n",
      "2. The idea that everything is interconnected: Even in the absence of matter and energy, the laws of physics themselves are still present, suggesting that some kind of reality or structure exists.\n",
      "\n",
      "Ultimately, the concept of nothing remains a mystery, and our understanding of it continues to evolve as we explore the boundaries of human knowledge.\n",
      "\n",
      "What do you think? Do you have any personal thoughts on what \"nothing\" might mean?\n"
     ]
    }
   ],
   "source": [
    "from ollama import Client\n",
    "\n",
    "# Initialize the client\n",
    "client = Client()\n",
    "\n",
    "# Specify the model (make sure you've pulled this model beforehand)\n",
    "model = \"llama3.2\" \n",
    "\n",
    "# model = 'mistral'\n",
    "# model = \"qwen2.5-coder\"\n",
    "# model = 'deepseek-r1:1.5b'\n",
    "# model = 'deepseek-r1:8b'\n",
    "# model = 'deepseek-r1:latest'\n",
    "# model = 'qwen3:latest'\n",
    "\n",
    "\n",
    "\n",
    "# Ask a question\n",
    "question = \"What is nothing ?\"\n",
    "\n",
    "# Generate a response using the chat method\n",
    "# response = client.chat(model=model, messages=[{\"role\": \"user\", \"content\": question}])\n",
    "\n",
    "try:\n",
    "    response = client.chat(\n",
    "        model=model,\n",
    "        messages=[{\"role\": \"user\", \"content\": question}],\n",
    "        options={\n",
    "            \"temperature\": 0,\n",
    "            \"top_p\": 0.9,\n",
    "            \"max_tokens\": 1024,\n",
    "            \"presence_penalty\": 0.0,\n",
    "            \"frequency_penalty\": 0.0,\n",
    "            \"best_of\": 1,\n",
    "            \"n\": 1,\n",
    "            \"stop\": ['INST']\n",
    "\n",
    "        }\n",
    "    )\n",
    "    print(response['message']['content'])\n",
    "except Exception as e:\n",
    "    print(f\"An error occurred: {e}\")"
   ]
  },
  {
   "cell_type": "code",
   "execution_count": null,
   "metadata": {},
   "outputs": [],
   "source": []
  }
 ],
 "metadata": {
  "kernelspec": {
   "display_name": ".venv",
   "language": "python",
   "name": "python3"
  },
  "language_info": {
   "codemirror_mode": {
    "name": "ipython",
    "version": 3
   },
   "file_extension": ".py",
   "mimetype": "text/x-python",
   "name": "python",
   "nbconvert_exporter": "python",
   "pygments_lexer": "ipython3",
   "version": "3.12.0"
  }
 },
 "nbformat": 4,
 "nbformat_minor": 2
}
