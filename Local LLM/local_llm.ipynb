{
 "cells": [
  {
   "cell_type": "code",
   "execution_count": 2,
   "metadata": {},
   "outputs": [
    {
     "name": "stdout",
     "output_type": "stream",
     "text": [
      "Ah, \"nothing.\" A question that has plagued philosophers, physicists, and poets for centuries! It's a deceptively simple question with incredibly complex answers. Here's a breakdown of what \"nothing\" can mean, exploring different perspectives:\n",
      "\n",
      "**1. Philosophical Perspectives:**\n",
      "\n",
      "*   **Absence of Being:**  This is the most basic understanding.  Nothing is the absence of anything – no objects, no energy, no space, no time, no consciousness. It's the void.  This is a difficult concept to truly grasp because our minds are wired to perceive *something*.\n",
      "*   **Potentiality:** Some philosophers argue that \"nothing\" isn't truly empty. It's a state of pure potential, a blank canvas from which everything can emerge.  Think of it like a seed – it's \"nothing\" in terms of a fully grown tree, but it contains the potential for that tree.\n",
      "*   **Conceptual Nothingness:**  Even the *idea* of nothingness is a concept, and concepts exist *within* something (our minds). So, even trying to think about nothing creates something – a thought.\n",
      "*   **Nihilism:**  A philosophical stance that asserts that life is without objective meaning, purpose, or intrinsic value.  Nihilism often grapples with the idea that ultimately, existence is meaningless, and that everything will eventually return to \"nothing.\"\n",
      "\n",
      "**2. Physical/Scientific Perspectives:**\n",
      "\n",
      "*   **Quantum Vacuum:**  In quantum physics, the \"vacuum\" isn't truly empty. It's a state of lowest possible energy, but it's still filled with virtual particles that pop in and out of existence.  This is a very active area of research.  The vacuum energy is thought to have a non-zero value.\n",
      "*   **Space-Time:**  Even empty space isn't truly \"nothing.\"  Einstein's theory of relativity tells us that space and time are interwoven into a single entity called spacetime.  So, even in the absence of matter and energy, spacetime itself exists.\n",
      "*   **The Big Bang:**  Cosmology explores the question of what, if anything, existed *before* the Big Bang.  Some theories suggest that the Big Bang arose from a singularity – a point of infinite density and temperature.  It's unclear what, if anything, preceded that singularity.  Some theories propose that the Big Bang emerged from \"nothing\" (though this is a highly debated and speculative idea).\n",
      "*   **Mathematical Zero:** In mathematics, zero represents the absence of quantity. It's a crucial concept for calculations and is a fundamental part of our number system.\n",
      "\n",
      "**3.  Everyday Understanding:**\n",
      "\n",
      "*   **Absence of Something Specific:**  We often use \"nothing\" to mean the absence of something particular.  \"I have nothing to say\" means I have no comments or remarks.  \"There's nothing in the fridge\" means there's no food in the refrigerator.\n",
      "*   **Emptiness:**  A feeling of emptiness, loneliness, or lack of purpose. This is a subjective experience.\n",
      "\n",
      "\n",
      "\n",
      "**Why is it so hard to define?**\n",
      "\n",
      "*   **Our Minds are Built to Perceive:**  Our brains evolved to process information about the world around us.  We're constantly bombarded with sensory input, so the concept of absolute nothingness is difficult for us to conceive.\n",
      "*   **Language Limitations:**  Language itself is designed to describe things that *exist*.  It's hard to talk about something that is, by definition, the absence of everything.\n",
      "*   **Paradoxes:**  Trying to think about nothing often leads to paradoxes.  If you can think about nothing, then nothing isn't truly nothing.\n",
      "\n",
      "\n",
      "\n",
      "**In conclusion:**\n",
      "\n",
      "\"Nothing\" is a multifaceted concept that can be interpreted in many different ways. It's a fundamental question that touches on philosophy, physics, and our own understanding of existence.  There's no single, easy answer.  The very act of asking the question reveals the complexity and mystery of the universe.\n",
      "\n",
      "\n",
      "\n",
      "What aspects of \"nothing\" are you most curious about?  Knowing that might help me provide a more focused response.\n",
      "\n",
      "\n",
      "\n",
      "\n"
     ]
    }
   ],
   "source": [
    "from ollama import Client\n",
    "\n",
    "# Initialize the client\n",
    "client = Client()\n",
    "\n",
    "# Specify the model (make sure you've pulled this model beforehand)\n",
    "# model = \"llama3.2\"\n",
    "# model = 'mistral'\n",
    "# model = \"qwen2.5-coder\"\n",
    "model = 'gemma3n'\n",
    "# model = 'deepseek-r1:latest'\n",
    "# model = 'qwen3:4b'\n",
    "\n",
    "\n",
    "\n",
    "# Ask a question\n",
    "question = \"What is nothing ?\"\n",
    "\n",
    "# Generate a response using the chat method\n",
    "# response = client.chat(model=model, messages=[{\"role\": \"user\", \"content\": question}])\n",
    "\n",
    "try:\n",
    "    response = client.chat(\n",
    "        model=model,\n",
    "        messages=[{\"role\": \"user\", \"content\": question}],\n",
    "        options={\n",
    "            \"temperature\": 0,\n",
    "            \"top_p\": 0.9,\n",
    "            \"max_tokens\": 1024,\n",
    "            \"presence_penalty\": 0.0,\n",
    "            \"frequency_penalty\": 0.0,\n",
    "            \"best_of\": 1,\n",
    "            \"n\": 1,\n",
    "            \"stop\": ['INST']\n",
    "\n",
    "        }\n",
    "    )\n",
    "    print(response['message']['content'])\n",
    "except Exception as e:\n",
    "    print(f\"An error occurred: {e}\")"
   ]
  },
  {
   "cell_type": "code",
   "execution_count": null,
   "metadata": {},
   "outputs": [],
   "source": []
  }
 ],
 "metadata": {
  "kernelspec": {
   "display_name": ".venv",
   "language": "python",
   "name": "python3"
  },
  "language_info": {
   "codemirror_mode": {
    "name": "ipython",
    "version": 3
   },
   "file_extension": ".py",
   "mimetype": "text/x-python",
   "name": "python",
   "nbconvert_exporter": "python",
   "pygments_lexer": "ipython3",
   "version": "3.13.1"
  }
 },
 "nbformat": 4,
 "nbformat_minor": 2
}
