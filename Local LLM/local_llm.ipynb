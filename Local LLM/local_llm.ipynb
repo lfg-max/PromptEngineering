{
 "cells": [
  {
   "cell_type": "code",
   "execution_count": 1,
   "metadata": {},
   "outputs": [],
   "source": [
    "# pip install llama-index-llms-ollama"
   ]
  },
  {
   "cell_type": "code",
   "execution_count": 2,
   "metadata": {},
   "outputs": [
    {
     "name": "stdout",
     "output_type": "stream",
     "text": [
      "<think>\n",
      "\n",
      "</think>\n",
      "\n",
      "The concept of \"nothing\" is a fundamental question in philosophy and mathematics. Here are some key ideas related to the idea of nothing:\n",
      "\n",
      "1. **Philosophy**:\n",
      "   - In philosophy, \"nothing\" often refers to the absence of all things.\n",
      "   - In **Plato's** ideal world, there was an \"universe,\" but later he considered \"nothing\" as a separate concept.\n",
      "   - In **Aristotle**, \"nothing\" is seen as the opposite of being and existence.\n",
      "\n",
      "2. **Mathematics**:\n",
      "   - In set theory, the empty set (∅) represents something containing no elements.\n",
      "   - The number zero also symbolizes nothingness in numeral systems.\n",
      "\n",
      "3. **Physics**:\n",
      "   - In quantum physics, concepts like \"nothing\" are explored in interpretations of quantum mechanics and relativity.\n",
      "   - Some theories suggest that space and time might have no dimensions or curvature.\n",
      "\n",
      "4. **Logic and Language**:\n",
      "   - In formal logic, the term \"undefined\" sometimes refers to something non-existent or non-assignable.\n",
      "   - In language, words like \"nothing\" are used to denote absence of objects.\n",
      "\n",
      "5. **Religion**:\n",
      "   - Many religions have concepts of \"nothingness,\" such as the idea that there is no substance before creation (e.g., in Hinduism and Buddhism).\n",
      "\n",
      "In summary, \"nothing\" is a multifaceted concept that varies across different disciplines, each offering unique perspectives on its nature.\n"
     ]
    }
   ],
   "source": [
    "from ollama import Client\n",
    "\n",
    "# Initialize the client\n",
    "client = Client()\n",
    "\n",
    "# Specify the model (make sure you've pulled this model beforehand)\n",
    "# model = \"llama3.2\" \n",
    "# model = 'mistral'\n",
    "# model = \"qwen2.5-coder\"\n",
    "model = 'deepseek-r1:1.5b'\n",
    "# model = 'deepseek-r1:8b'\n",
    "\n",
    "\n",
    "\n",
    "# Ask a question\n",
    "question = \"What is nothing ?\"\n",
    "\n",
    "# Generate a response using the chat method\n",
    "# response = client.chat(model=model, messages=[{\"role\": \"user\", \"content\": question}])\n",
    "\n",
    "try:\n",
    "    response = client.chat(\n",
    "        model=model,\n",
    "        messages=[{\"role\": \"user\", \"content\": question}],\n",
    "        options={\n",
    "            \"temperature\": 0,\n",
    "            \"top_p\": 0.9,\n",
    "            \"max_tokens\": 1024,\n",
    "            \"presence_penalty\": 0.0,\n",
    "            \"frequency_penalty\": 0.0,\n",
    "            \"best_of\": 1,\n",
    "            \"n\": 1,\n",
    "            \"stop\": ['INST']\n",
    "\n",
    "        }\n",
    "    )\n",
    "    print(response['message']['content'])\n",
    "except Exception as e:\n",
    "    print(f\"An error occurred: {e}\")"
   ]
  },
  {
   "cell_type": "code",
   "execution_count": null,
   "metadata": {},
   "outputs": [],
   "source": []
  }
 ],
 "metadata": {
  "kernelspec": {
   "display_name": ".venv",
   "language": "python",
   "name": "python3"
  },
  "language_info": {
   "codemirror_mode": {
    "name": "ipython",
    "version": 3
   },
   "file_extension": ".py",
   "mimetype": "text/x-python",
   "name": "python",
   "nbconvert_exporter": "python",
   "pygments_lexer": "ipython3",
   "version": "3.12.0"
  }
 },
 "nbformat": 4,
 "nbformat_minor": 2
}
