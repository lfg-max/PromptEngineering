{
 "cells": [
  {
   "cell_type": "code",
   "execution_count": 1,
   "metadata": {},
   "outputs": [],
   "source": [
    "# pip install llama-index-llms-ollama"
   ]
  },
  {
   "cell_type": "code",
   "execution_count": 4,
   "metadata": {},
   "outputs": [
    {
     "name": "stdout",
     "output_type": "stream",
     "text": [
      "The concept of \"nothing\" can be a complex and abstract idea, as it often challenges our understanding of reality. Philosophers, scientists, and thinkers have grappled with the nature of nothingness for centuries.\n",
      "\n",
      "In philosophy, \"nothing\" refers to the absence of existence, being, or quality. It is often used to describe a state where there are no objects, events, or properties present. However, this concept can be problematic, as it raises questions about what exactly constitutes \"nothing.\"\n",
      "\n",
      "From a scientific perspective, nothingness is not a physical entity that can be observed or measured directly. In physics, the concept of nothingness is often associated with the idea of a vacuum, where there are no particles, fields, or energy present.\n",
      "\n",
      "In quantum mechanics, the concept of nothingness takes on a different form. The Heisenberg Uncertainty Principle states that it's impossible to know both the position and momentum of a particle at the same time. This leads to the idea that, at the quantum level, \"nothing\" can be thought of as a state of superposition, where particles exist in multiple places and states simultaneously.\n",
      "\n",
      "In cosmology, the concept of nothingness is often associated with the Big Bang theory, which suggests that the universe began from a singularity, an infinitely hot and dense point. This singularity represents a state of \"nothing\" before the universe expanded and evolved into its current form.\n",
      "\n",
      "So, what is nothing? It's difficult to say, as it depends on how one defines it. However, here are some possible interpretations:\n",
      "\n",
      "1. **The absence of existence**: Nothingness can be seen as the absence of any physical or metaphysical entity, event, or property.\n",
      "2. **A quantum state**: In quantum mechanics, nothingness can be thought of as a superposition of states, where particles exist in multiple places and states simultaneously.\n",
      "3. **A cosmological singularity**: The Big Bang theory suggests that the universe began from a state of \"nothing,\" which is now represented by the singularity at the center of our observable universe.\n",
      "\n",
      "Ultimately, the concept of nothingness remains a subject of debate and exploration in philosophy, science, and human understanding.\n"
     ]
    }
   ],
   "source": [
    "from ollama import Client\n",
    "\n",
    "# Initialize the client\n",
    "client = Client()\n",
    "\n",
    "# Specify the model (make sure you've pulled this model beforehand)\n",
    "model = \"llama3.2\"   #Give the version of the model that you have installed using ollama\n",
    "# model = \"qwen2.5-coder\"   #Give the version of the model that you have installed using ollama\n",
    "# model = 'qwen2.5-coder:0.5b'\n",
    "# model = 'marco-o1'\n",
    "# model = 'mistral'\n",
    "\n",
    "# Ask a question\n",
    "question = \"What is nothing ?\"\n",
    "\n",
    "# Generate a response using the chat method\n",
    "# response = client.chat(model=model, messages=[{\"role\": \"user\", \"content\": question}])\n",
    "\n",
    "try:\n",
    "    response = client.chat(\n",
    "        model=model,\n",
    "        messages=[{\"role\": \"user\", \"content\": question}],\n",
    "        options={\n",
    "            \"temperature\": 0,\n",
    "            \"top_p\": 0.9,\n",
    "            \"max_tokens\": 1024,\n",
    "            \"presence_penalty\": 0.0,\n",
    "            \"frequency_penalty\": 0.0,\n",
    "            \"best_of\": 1,\n",
    "            \"n\": 1,\n",
    "            \"stop\": ['INST']\n",
    "\n",
    "        }\n",
    "    )\n",
    "    print(response['message']['content'])\n",
    "except Exception as e:\n",
    "    print(f\"An error occurred: {e}\")"
   ]
  },
  {
   "cell_type": "code",
   "execution_count": null,
   "metadata": {},
   "outputs": [],
   "source": []
  }
 ],
 "metadata": {
  "kernelspec": {
   "display_name": ".venv",
   "language": "python",
   "name": "python3"
  },
  "language_info": {
   "codemirror_mode": {
    "name": "ipython",
    "version": 3
   },
   "file_extension": ".py",
   "mimetype": "text/x-python",
   "name": "python",
   "nbconvert_exporter": "python",
   "pygments_lexer": "ipython3",
   "version": "3.13.1"
  }
 },
 "nbformat": 4,
 "nbformat_minor": 2
}
