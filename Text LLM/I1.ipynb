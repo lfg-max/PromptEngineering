{
 "cells": [
  {
   "cell_type": "code",
   "execution_count": 2,
   "metadata": {},
   "outputs": [],
   "source": [
    "import helper_fn as hf\n",
    "import instructions as ins\n"
   ]
  },
  {
   "cell_type": "markdown",
   "metadata": {},
   "source": [
    "### Model & Instruction"
   ]
  },
  {
   "cell_type": "code",
   "execution_count": 3,
   "metadata": {},
   "outputs": [
    {
     "data": {
      "application/vnd.jupyter.widget-view+json": {
       "model_id": "013aa2b6d0a34b4cb751f46d34c2109d",
       "version_major": 2,
       "version_minor": 0
      },
      "text/plain": [
       "Dropdown(description='Select Instruction:', options=('I_1', 'I_2', 'I_3', 'I_4', 'I_5'), value='I_1')"
      ]
     },
     "metadata": {},
     "output_type": "display_data"
    }
   ],
   "source": [
    "hf.instruction_dropdown_widget()"
   ]
  },
  {
   "cell_type": "code",
   "execution_count": 4,
   "metadata": {},
   "outputs": [
    {
     "data": {
      "text/plain": [
       "'\\n    You are an AI analyzing restaurant reviews. Classify the sentiment of the provided review into the following categories:\\n    - Positive\\n    - Negative\\n    - Neutral\\n'"
      ]
     },
     "execution_count": 4,
     "metadata": {},
     "output_type": "execute_result"
    }
   ],
   "source": [
    "hf.selected_instruction_value"
   ]
  },
  {
   "cell_type": "code",
   "execution_count": 5,
   "metadata": {},
   "outputs": [
    {
     "data": {
      "application/vnd.jupyter.widget-view+json": {
       "model_id": "5c48113f879548d68f413d30a2ca75fa",
       "version_major": 2,
       "version_minor": 0
      },
      "text/plain": [
       "Dropdown(description='Select LLM:', options=('llama3.2', 'mistral', 'marco-o1', 'qwen2.5-coder'), value='llama…"
      ]
     },
     "metadata": {},
     "output_type": "display_data"
    }
   ],
   "source": [
    "hf.llm_dropdown_widget()"
   ]
  },
  {
   "cell_type": "code",
   "execution_count": 6,
   "metadata": {},
   "outputs": [
    {
     "data": {
      "text/plain": [
       "'llama3.2'"
      ]
     },
     "execution_count": 6,
     "metadata": {},
     "output_type": "execute_result"
    }
   ],
   "source": [
    "hf.selected_llm"
   ]
  },
  {
   "cell_type": "code",
   "execution_count": 7,
   "metadata": {},
   "outputs": [],
   "source": [
    "p1 = hf.Pompt(model_name = hf.selected_llm, instruction = hf.selected_instruction_value)"
   ]
  },
  {
   "cell_type": "code",
   "execution_count": 8,
   "metadata": {},
   "outputs": [
    {
     "data": {
      "text/plain": [
       "'llama3.2'"
      ]
     },
     "execution_count": 8,
     "metadata": {},
     "output_type": "execute_result"
    }
   ],
   "source": [
    "p1.model"
   ]
  },
  {
   "cell_type": "code",
   "execution_count": 9,
   "metadata": {},
   "outputs": [
    {
     "data": {
      "text/plain": [
       "'\\n    You are an AI analyzing restaurant reviews. Classify the sentiment of the provided review into the following categories:\\n    - Positive\\n    - Negative\\n    - Neutral\\n'"
      ]
     },
     "execution_count": 9,
     "metadata": {},
     "output_type": "execute_result"
    }
   ],
   "source": [
    "p1.instruction"
   ]
  },
  {
   "cell_type": "code",
   "execution_count": 10,
   "metadata": {},
   "outputs": [],
   "source": [
    "# getting the data\n",
    "data_og = p1.get_data()\n",
    "\n",
    "# creating a copy of the data\n",
    "data = data_og.copy()"
   ]
  },
  {
   "cell_type": "code",
   "execution_count": 11,
   "metadata": {},
   "outputs": [
    {
     "data": {
      "text/html": [
       "<div>\n",
       "<style scoped>\n",
       "    .dataframe tbody tr th:only-of-type {\n",
       "        vertical-align: middle;\n",
       "    }\n",
       "\n",
       "    .dataframe tbody tr th {\n",
       "        vertical-align: top;\n",
       "    }\n",
       "\n",
       "    .dataframe thead th {\n",
       "        text-align: right;\n",
       "    }\n",
       "</style>\n",
       "<table border=\"1\" class=\"dataframe\">\n",
       "  <thead>\n",
       "    <tr style=\"text-align: right;\">\n",
       "      <th></th>\n",
       "      <th>restaurant_ID</th>\n",
       "      <th>rating_review</th>\n",
       "      <th>review_full</th>\n",
       "    </tr>\n",
       "  </thead>\n",
       "  <tbody>\n",
       "    <tr>\n",
       "      <th>0</th>\n",
       "      <td>FLV202</td>\n",
       "      <td>5</td>\n",
       "      <td>Totally in love with the Auro of the place, really beautiful and quite fancy at the same time. The ambience is very pure and gives a sense of positivity throughout. Outdoor and indoor interior are quite quaint and cute. Love the open kitchen idea and there whole marketplace ideology. Due to coronovirus they specifically use disposable cutlery to keep the pandemic in mind taking all the precautionary measures from the beginning of the place with the mask on their staff and using good sanitisation. The food is really amazing specially the pizza straight from the oven and the hummus and pita bread are quite delicious too. If you're looking for a classy yet soothing Italian place in Delhi,Fatjar is a go to for you!</td>\n",
       "    </tr>\n",
       "    <tr>\n",
       "      <th>1</th>\n",
       "      <td>SAV303</td>\n",
       "      <td>5</td>\n",
       "      <td>Kailash colony is brimming with small cafes now. I happened to visit this beauty for lunch and was amazed with the 1st impression it made.  We started with Falafel &amp; Pita and Margherita Pizza. Safe to say, Margherita pizza was the best choice of the day. Its made freshly in front of you in the Wood Fired oven. The taste was exquisite and I would recommend this to anybody who plans to visit this outlet. I could come here just to have that Pizza. Hummus, Pita and Falafel were a good side dish while we ordered the next couple of dishes. We moved on to order Fussili Alfredo. This white sauce fussili pasta was good but could not be compared to the pizza we had earlier.  In the end, we went for Frozen Yoghurt with Honey. It is recommended to have it with honey, which will do wonders to the frozen yoghurt!  This place turned out to be quite peaceful and the plants enhanced its beauty.</td>\n",
       "    </tr>\n",
       "    <tr>\n",
       "      <th>2</th>\n",
       "      <td>YUM789</td>\n",
       "      <td>5</td>\n",
       "      <td>Excellent taste and awesome decorum. Must visit. Subham Barnwal had given us a great service. One of the best experience.</td>\n",
       "    </tr>\n",
       "    <tr>\n",
       "      <th>3</th>\n",
       "      <td>TST101</td>\n",
       "      <td>5</td>\n",
       "      <td>I have visited at jw lough/restourant. There were a first class service at lough, specially Ms.laxmi  who were superbed for handling the client need, me and my family lots enjoyed her specialty in the manner, and Laxmi is a very very good in the client service, I hope when I will come against I would definitely serve from Ms. Laxmi and she is wonderful girl in that service. See you again Ms. Laxmi for the your best service which I have received from you at jw lough/resourant. Thank you JW Marriott Hotel at Atrocity, Delhi</td>\n",
       "    </tr>\n",
       "    <tr>\n",
       "      <th>4</th>\n",
       "      <td>EAT456</td>\n",
       "      <td>5</td>\n",
       "      <td>Had a great experience in the restaurant food was fabulous, staff was nice. Hotel staff seems very professional specially the team at front desk although I was not staying there but they helped me with few of my quarries. Was dining with my kids and the team member at front desk young guy came with some kids book and gave it to my little child. It was a wonderful experience at Holiday inn and the staff was super . I was little worried as using the hotel first time for dining but the staff made it more comfortable. Will strongly recommend this and special thanks to people working at desk do not remember his name but he was a manager in the lobby who suggested us kylin for food and thanks to him that we enjoyed meal at kylin and now it's my first choice for food.</td>\n",
       "    </tr>\n",
       "  </tbody>\n",
       "</table>\n",
       "</div>"
      ],
      "text/plain": [
       "  restaurant_ID  rating_review  \\\n",
       "0        FLV202              5   \n",
       "1        SAV303              5   \n",
       "2        YUM789              5   \n",
       "3        TST101              5   \n",
       "4        EAT456              5   \n",
       "\n",
       "                                                                                                                                                                                                                                                                                                                                                                                                                                                                                                                                                                                                                                                                                                                                                                                                                                                                                                                  review_full  \n",
       "0                                                                                                                                                                            Totally in love with the Auro of the place, really beautiful and quite fancy at the same time. The ambience is very pure and gives a sense of positivity throughout. Outdoor and indoor interior are quite quaint and cute. Love the open kitchen idea and there whole marketplace ideology. Due to coronovirus they specifically use disposable cutlery to keep the pandemic in mind taking all the precautionary measures from the beginning of the place with the mask on their staff and using good sanitisation. The food is really amazing specially the pizza straight from the oven and the hummus and pita bread are quite delicious too. If you're looking for a classy yet soothing Italian place in Delhi,Fatjar is a go to for you!  \n",
       "1  Kailash colony is brimming with small cafes now. I happened to visit this beauty for lunch and was amazed with the 1st impression it made.  We started with Falafel & Pita and Margherita Pizza. Safe to say, Margherita pizza was the best choice of the day. Its made freshly in front of you in the Wood Fired oven. The taste was exquisite and I would recommend this to anybody who plans to visit this outlet. I could come here just to have that Pizza. Hummus, Pita and Falafel were a good side dish while we ordered the next couple of dishes. We moved on to order Fussili Alfredo. This white sauce fussili pasta was good but could not be compared to the pizza we had earlier.  In the end, we went for Frozen Yoghurt with Honey. It is recommended to have it with honey, which will do wonders to the frozen yoghurt!  This place turned out to be quite peaceful and the plants enhanced its beauty.  \n",
       "2                                                                                                                                                                                                                                                                                                                                                                                                                                                                                                                                                                                                                                                                                                                                                                                                   Excellent taste and awesome decorum. Must visit. Subham Barnwal had given us a great service. One of the best experience.  \n",
       "3                                                                                                                                                                                                                                                                                                                                                                             I have visited at jw lough/restourant. There were a first class service at lough, specially Ms.laxmi  who were superbed for handling the client need, me and my family lots enjoyed her specialty in the manner, and Laxmi is a very very good in the client service, I hope when I will come against I would definitely serve from Ms. Laxmi and she is wonderful girl in that service. See you again Ms. Laxmi for the your best service which I have received from you at jw lough/resourant. Thank you JW Marriott Hotel at Atrocity, Delhi  \n",
       "4                                                                                                                         Had a great experience in the restaurant food was fabulous, staff was nice. Hotel staff seems very professional specially the team at front desk although I was not staying there but they helped me with few of my quarries. Was dining with my kids and the team member at front desk young guy came with some kids book and gave it to my little child. It was a wonderful experience at Holiday inn and the staff was super . I was little worried as using the hotel first time for dining but the staff made it more comfortable. Will strongly recommend this and special thanks to people working at desk do not remember his name but he was a manager in the lobby who suggested us kylin for food and thanks to him that we enjoyed meal at kylin and now it's my first choice for food.  "
      ]
     },
     "execution_count": 11,
     "metadata": {},
     "output_type": "execute_result"
    }
   ],
   "source": [
    "data.head()"
   ]
  },
  {
   "cell_type": "markdown",
   "metadata": {},
   "source": [
    "#### Check how this instructionn works on a single input"
   ]
  },
  {
   "cell_type": "code",
   "execution_count": 12,
   "metadata": {},
   "outputs": [
    {
     "name": "stdout",
     "output_type": "stream",
     "text": [
      "The sentiment of this review can be classified as:\n",
      "\n",
      "Positive\n",
      "\n",
      "Although there is a mention of taking precautions due to the pandemic, which could be seen as a negative aspect, the overall tone of the review is overwhelmingly positive. The reviewer uses words and phrases such as \"really beautiful\", \"quite fancy\", \"pure and gives a sense of positivity\", \"quaint and cute\", \"amazing\", and \"delicious\" to describe their experience at Fatjar. They also explicitly state that it's a \"go-to\" place for a classy yet soothing Italian restaurant in Delhi, indicating a strong endorsement.\n"
     ]
    }
   ],
   "source": [
    "m = p1.generate_response(data['review_full'].values[0])\n",
    "print(m)"
   ]
  },
  {
   "cell_type": "markdown",
   "metadata": {},
   "source": [
    "#### Now apply that to all the reviews"
   ]
  },
  {
   "cell_type": "code",
   "execution_count": 13,
   "metadata": {},
   "outputs": [],
   "source": [
    "data['model_response'] = data['review_full'].apply(\n",
    "                                                 lambda x: p1.generate_response(x))\n"
   ]
  },
  {
   "cell_type": "markdown",
   "metadata": {},
   "source": [
    "#### Check the Data"
   ]
  },
  {
   "cell_type": "code",
   "execution_count": 14,
   "metadata": {},
   "outputs": [
    {
     "data": {
      "text/html": [
       "<div>\n",
       "<style scoped>\n",
       "    .dataframe tbody tr th:only-of-type {\n",
       "        vertical-align: middle;\n",
       "    }\n",
       "\n",
       "    .dataframe tbody tr th {\n",
       "        vertical-align: top;\n",
       "    }\n",
       "\n",
       "    .dataframe thead th {\n",
       "        text-align: right;\n",
       "    }\n",
       "</style>\n",
       "<table border=\"1\" class=\"dataframe\">\n",
       "  <thead>\n",
       "    <tr style=\"text-align: right;\">\n",
       "      <th></th>\n",
       "      <th>restaurant_ID</th>\n",
       "      <th>rating_review</th>\n",
       "      <th>review_full</th>\n",
       "      <th>model_response</th>\n",
       "    </tr>\n",
       "  </thead>\n",
       "  <tbody>\n",
       "    <tr>\n",
       "      <th>0</th>\n",
       "      <td>FLV202</td>\n",
       "      <td>5</td>\n",
       "      <td>Totally in love with the Auro of the place, really beautiful and quite fancy at the same time. The ambience is very pure and gives a sense of positivity throughout. Outdoor and indoor interior are quite quaint and cute. Love the open kitchen idea and there whole marketplace ideology. Due to coronovirus they specifically use disposable cutlery to keep the pandemic in mind taking all the precautionary measures from the beginning of the place with the mask on their staff and using good sanitisation. The food is really amazing specially the pizza straight from the oven and the hummus and pita bread are quite delicious too. If you're looking for a classy yet soothing Italian place in Delhi,Fatjar is a go to for you!</td>\n",
       "      <td>The sentiment of this review can be classified as:\\n\\nPositive\\n\\nAlthough there is a mention of taking precautions due to the pandemic, which could be seen as a negative aspect, the overall tone of the review is overwhelmingly positive. The reviewer uses words and phrases such as \"really beautiful\", \"quite fancy\", \"pure and gives a sense of positivity\", \"quaint and cute\", \"amazing\", and \"delicious\" to describe their experience at Fatjar. They also explicitly state that it's a \"go-to\" place for a classy yet soothing Italian restaurant in Delhi, indicating a strong endorsement.</td>\n",
       "    </tr>\n",
       "    <tr>\n",
       "      <th>1</th>\n",
       "      <td>SAV303</td>\n",
       "      <td>5</td>\n",
       "      <td>Kailash colony is brimming with small cafes now. I happened to visit this beauty for lunch and was amazed with the 1st impression it made.  We started with Falafel &amp; Pita and Margherita Pizza. Safe to say, Margherita pizza was the best choice of the day. Its made freshly in front of you in the Wood Fired oven. The taste was exquisite and I would recommend this to anybody who plans to visit this outlet. I could come here just to have that Pizza. Hummus, Pita and Falafel were a good side dish while we ordered the next couple of dishes. We moved on to order Fussili Alfredo. This white sauce fussili pasta was good but could not be compared to the pizza we had earlier.  In the end, we went for Frozen Yoghurt with Honey. It is recommended to have it with honey, which will do wonders to the frozen yoghurt!  This place turned out to be quite peaceful and the plants enhanced its beauty.</td>\n",
       "      <td>The sentiment of this review can be classified as:\\n\\nPositive\\n\\nAlthough the reviewer mentions that the Fussili Alfredo was not compared to the pizza, which implies a slight disappointment, the overall tone of the review is overwhelmingly positive. The reviewer uses phrases such as \"amazed with the 1st impression\", \"exquisite taste\", and \"I would recommend this to anybody\" to describe their experience. They also mention that they could come back just for the pizza, indicating a strong enthusiasm for the restaurant.</td>\n",
       "    </tr>\n",
       "    <tr>\n",
       "      <th>2</th>\n",
       "      <td>YUM789</td>\n",
       "      <td>5</td>\n",
       "      <td>Excellent taste and awesome decorum. Must visit. Subham Barnwal had given us a great service. One of the best experience.</td>\n",
       "      <td>I would classify the sentiment of this review as:\\n\\nPositive\\n\\nThe reviewer uses positive adjectives such as \"excellent\", \"awesome\", and \"one of the best experience\" to describe their visit. They also mention that Subham Barnwal provided great service, which further reinforces the positive tone of the review.</td>\n",
       "    </tr>\n",
       "    <tr>\n",
       "      <th>3</th>\n",
       "      <td>TST101</td>\n",
       "      <td>5</td>\n",
       "      <td>I have visited at jw lough/restourant. There were a first class service at lough, specially Ms.laxmi  who were superbed for handling the client need, me and my family lots enjoyed her specialty in the manner, and Laxmi is a very very good in the client service, I hope when I will come against I would definitely serve from Ms. Laxmi and she is wonderful girl in that service. See you again Ms. Laxmi for the your best service which I have received from you at jw lough/resourant. Thank you JW Marriott Hotel at Atrocity, Delhi</td>\n",
       "      <td>I would classify the sentiment of this review as:\\n\\n**Positive**\\n\\nThe reviewer expresses their satisfaction with the service they received at JW Marriott Hotel in Delhi, specifically mentioning that Ms. Laxmi provided excellent service and made them feel special. They also mention that they will definitely return to the hotel when they come back, indicating a high level of satisfaction and loyalty. The tone is enthusiastic and appreciative, with no negative comments or criticisms.</td>\n",
       "    </tr>\n",
       "    <tr>\n",
       "      <th>4</th>\n",
       "      <td>EAT456</td>\n",
       "      <td>5</td>\n",
       "      <td>Had a great experience in the restaurant food was fabulous, staff was nice. Hotel staff seems very professional specially the team at front desk although I was not staying there but they helped me with few of my quarries. Was dining with my kids and the team member at front desk young guy came with some kids book and gave it to my little child. It was a wonderful experience at Holiday inn and the staff was super . I was little worried as using the hotel first time for dining but the staff made it more comfortable. Will strongly recommend this and special thanks to people working at desk do not remember his name but he was a manager in the lobby who suggested us kylin for food and thanks to him that we enjoyed meal at kylin and now it's my first choice for food.</td>\n",
       "      <td>I would classify the sentiment of this review as:\\n\\nPositive\\n\\nThe reviewer had a great experience at Holiday Inn, praising the food, staff, and hotel staff. They also mentioned that the team member at the front desk was very professional and friendly, especially when interacting with their children. The reviewer even went so far as to say they would strongly recommend the hotel and restaurant, and specifically thanked the staff for making them feel comfortable during their first time using the hotel's dining facilities.</td>\n",
       "    </tr>\n",
       "  </tbody>\n",
       "</table>\n",
       "</div>"
      ],
      "text/plain": [
       "  restaurant_ID  rating_review  \\\n",
       "0        FLV202              5   \n",
       "1        SAV303              5   \n",
       "2        YUM789              5   \n",
       "3        TST101              5   \n",
       "4        EAT456              5   \n",
       "\n",
       "                                                                                                                                                                                                                                                                                                                                                                                                                                                                                                                                                                                                                                                                                                                                                                                                                                                                                                                  review_full  \\\n",
       "0                                                                                                                                                                            Totally in love with the Auro of the place, really beautiful and quite fancy at the same time. The ambience is very pure and gives a sense of positivity throughout. Outdoor and indoor interior are quite quaint and cute. Love the open kitchen idea and there whole marketplace ideology. Due to coronovirus they specifically use disposable cutlery to keep the pandemic in mind taking all the precautionary measures from the beginning of the place with the mask on their staff and using good sanitisation. The food is really amazing specially the pizza straight from the oven and the hummus and pita bread are quite delicious too. If you're looking for a classy yet soothing Italian place in Delhi,Fatjar is a go to for you!   \n",
       "1  Kailash colony is brimming with small cafes now. I happened to visit this beauty for lunch and was amazed with the 1st impression it made.  We started with Falafel & Pita and Margherita Pizza. Safe to say, Margherita pizza was the best choice of the day. Its made freshly in front of you in the Wood Fired oven. The taste was exquisite and I would recommend this to anybody who plans to visit this outlet. I could come here just to have that Pizza. Hummus, Pita and Falafel were a good side dish while we ordered the next couple of dishes. We moved on to order Fussili Alfredo. This white sauce fussili pasta was good but could not be compared to the pizza we had earlier.  In the end, we went for Frozen Yoghurt with Honey. It is recommended to have it with honey, which will do wonders to the frozen yoghurt!  This place turned out to be quite peaceful and the plants enhanced its beauty.   \n",
       "2                                                                                                                                                                                                                                                                                                                                                                                                                                                                                                                                                                                                                                                                                                                                                                                                   Excellent taste and awesome decorum. Must visit. Subham Barnwal had given us a great service. One of the best experience.   \n",
       "3                                                                                                                                                                                                                                                                                                                                                                             I have visited at jw lough/restourant. There were a first class service at lough, specially Ms.laxmi  who were superbed for handling the client need, me and my family lots enjoyed her specialty in the manner, and Laxmi is a very very good in the client service, I hope when I will come against I would definitely serve from Ms. Laxmi and she is wonderful girl in that service. See you again Ms. Laxmi for the your best service which I have received from you at jw lough/resourant. Thank you JW Marriott Hotel at Atrocity, Delhi   \n",
       "4                                                                                                                         Had a great experience in the restaurant food was fabulous, staff was nice. Hotel staff seems very professional specially the team at front desk although I was not staying there but they helped me with few of my quarries. Was dining with my kids and the team member at front desk young guy came with some kids book and gave it to my little child. It was a wonderful experience at Holiday inn and the staff was super . I was little worried as using the hotel first time for dining but the staff made it more comfortable. Will strongly recommend this and special thanks to people working at desk do not remember his name but he was a manager in the lobby who suggested us kylin for food and thanks to him that we enjoyed meal at kylin and now it's my first choice for food.   \n",
       "\n",
       "                                                                                                                                                                                                                                                                                                                                                                                                                                                                                                                                                                                            model_response  \n",
       "0  The sentiment of this review can be classified as:\\n\\nPositive\\n\\nAlthough there is a mention of taking precautions due to the pandemic, which could be seen as a negative aspect, the overall tone of the review is overwhelmingly positive. The reviewer uses words and phrases such as \"really beautiful\", \"quite fancy\", \"pure and gives a sense of positivity\", \"quaint and cute\", \"amazing\", and \"delicious\" to describe their experience at Fatjar. They also explicitly state that it's a \"go-to\" place for a classy yet soothing Italian restaurant in Delhi, indicating a strong endorsement.  \n",
       "1                                                               The sentiment of this review can be classified as:\\n\\nPositive\\n\\nAlthough the reviewer mentions that the Fussili Alfredo was not compared to the pizza, which implies a slight disappointment, the overall tone of the review is overwhelmingly positive. The reviewer uses phrases such as \"amazed with the 1st impression\", \"exquisite taste\", and \"I would recommend this to anybody\" to describe their experience. They also mention that they could come back just for the pizza, indicating a strong enthusiasm for the restaurant.  \n",
       "2                                                                                                                                                                                                                                                                                 I would classify the sentiment of this review as:\\n\\nPositive\\n\\nThe reviewer uses positive adjectives such as \"excellent\", \"awesome\", and \"one of the best experience\" to describe their visit. They also mention that Subham Barnwal provided great service, which further reinforces the positive tone of the review.  \n",
       "3                                                                                                 I would classify the sentiment of this review as:\\n\\n**Positive**\\n\\nThe reviewer expresses their satisfaction with the service they received at JW Marriott Hotel in Delhi, specifically mentioning that Ms. Laxmi provided excellent service and made them feel special. They also mention that they will definitely return to the hotel when they come back, indicating a high level of satisfaction and loyalty. The tone is enthusiastic and appreciative, with no negative comments or criticisms.  \n",
       "4                                                         I would classify the sentiment of this review as:\\n\\nPositive\\n\\nThe reviewer had a great experience at Holiday Inn, praising the food, staff, and hotel staff. They also mentioned that the team member at the front desk was very professional and friendly, especially when interacting with their children. The reviewer even went so far as to say they would strongly recommend the hotel and restaurant, and specifically thanked the staff for making them feel comfortable during their first time using the hotel's dining facilities.  "
      ]
     },
     "execution_count": 14,
     "metadata": {},
     "output_type": "execute_result"
    }
   ],
   "source": [
    "data.head()"
   ]
  },
  {
   "cell_type": "markdown",
   "metadata": {},
   "source": [
    "#### See one of the model responses"
   ]
  },
  {
   "cell_type": "code",
   "execution_count": 15,
   "metadata": {},
   "outputs": [],
   "source": [
    "review = data['review_full'].values[0]\n",
    "response = data['model_response'].values[0]"
   ]
  },
  {
   "cell_type": "code",
   "execution_count": 16,
   "metadata": {},
   "outputs": [
    {
     "data": {
      "text/plain": [
       "(\"Totally in love with the Auro of the place, really beautiful and quite fancy at the same time. The ambience is very pure and gives a sense of positivity throughout. Outdoor and indoor interior are quite quaint and cute. Love the open kitchen idea and there whole marketplace ideology. Due to coronovirus they specifically use disposable cutlery to keep the pandemic in mind taking all the precautionary measures from the beginning of the place with the mask on their staff and using good sanitisation. The food is really amazing specially the pizza straight from the oven and the hummus and pita bread are quite delicious too. If you're looking for a classy yet soothing Italian place in Delhi,Fatjar is a go to for you!\",\n",
       " 'The sentiment of this review can be classified as:\\n\\nPositive\\n\\nAlthough there is a mention of taking precautions due to the pandemic, which could be seen as a negative aspect, the overall tone of the review is overwhelmingly positive. The reviewer uses words and phrases such as \"really beautiful\", \"quite fancy\", \"pure and gives a sense of positivity\", \"quaint and cute\", \"amazing\", and \"delicious\" to describe their experience at Fatjar. They also explicitly state that it\\'s a \"go-to\" place for a classy yet soothing Italian restaurant in Delhi, indicating a strong endorsement.')"
      ]
     },
     "execution_count": 16,
     "metadata": {},
     "output_type": "execute_result"
    }
   ],
   "source": [
    "review, response"
   ]
  },
  {
   "cell_type": "markdown",
   "metadata": {},
   "source": [
    "#### Check the Sentiments"
   ]
  },
  {
   "cell_type": "code",
   "execution_count": 17,
   "metadata": {},
   "outputs": [
    {
     "name": "stdout",
     "output_type": "stream",
     "text": [
      "Extracted Sentiment:\n",
      "Positive\n"
     ]
    }
   ],
   "source": [
    "# Extract the sentiment from the content\n",
    "sentiment = p1.extract_sentiment(response)\n",
    "print(\"Extracted Sentiment:\")\n",
    "print(sentiment)"
   ]
  },
  {
   "cell_type": "code",
   "execution_count": 18,
   "metadata": {},
   "outputs": [
    {
     "data": {
      "text/plain": [
       "0    Positive\n",
       "1    Positive\n",
       "2    Positive\n",
       "3    Positive\n",
       "4    Positive\n",
       "Name: sentiment, dtype: object"
      ]
     },
     "execution_count": 18,
     "metadata": {},
     "output_type": "execute_result"
    }
   ],
   "source": [
    "# applying the function to the model response\n",
    "data['sentiment'] = data['model_response'].apply(p1.extract_sentiment)\n",
    "data['sentiment'].head()"
   ]
  },
  {
   "cell_type": "code",
   "execution_count": 19,
   "metadata": {},
   "outputs": [
    {
     "data": {
      "text/html": [
       "<div>\n",
       "<style scoped>\n",
       "    .dataframe tbody tr th:only-of-type {\n",
       "        vertical-align: middle;\n",
       "    }\n",
       "\n",
       "    .dataframe tbody tr th {\n",
       "        vertical-align: top;\n",
       "    }\n",
       "\n",
       "    .dataframe thead th {\n",
       "        text-align: right;\n",
       "    }\n",
       "</style>\n",
       "<table border=\"1\" class=\"dataframe\">\n",
       "  <thead>\n",
       "    <tr style=\"text-align: right;\">\n",
       "      <th></th>\n",
       "      <th>restaurant_ID</th>\n",
       "      <th>rating_review</th>\n",
       "      <th>review_full</th>\n",
       "      <th>model_response</th>\n",
       "      <th>sentiment</th>\n",
       "    </tr>\n",
       "  </thead>\n",
       "  <tbody>\n",
       "    <tr>\n",
       "      <th>0</th>\n",
       "      <td>FLV202</td>\n",
       "      <td>5</td>\n",
       "      <td>Totally in love with the Auro of the place, really beautiful and quite fancy at the same time. The ambience is very pure and gives a sense of positivity throughout. Outdoor and indoor interior are quite quaint and cute. Love the open kitchen idea and there whole marketplace ideology. Due to coronovirus they specifically use disposable cutlery to keep the pandemic in mind taking all the precautionary measures from the beginning of the place with the mask on their staff and using good sanitisation. The food is really amazing specially the pizza straight from the oven and the hummus and pita bread are quite delicious too. If you're looking for a classy yet soothing Italian place in Delhi,Fatjar is a go to for you!</td>\n",
       "      <td>The sentiment of this review can be classified as:\\n\\nPositive\\n\\nAlthough there is a mention of taking precautions due to the pandemic, which could be seen as a negative aspect, the overall tone of the review is overwhelmingly positive. The reviewer uses words and phrases such as \"really beautiful\", \"quite fancy\", \"pure and gives a sense of positivity\", \"quaint and cute\", \"amazing\", and \"delicious\" to describe their experience at Fatjar. They also explicitly state that it's a \"go-to\" place for a classy yet soothing Italian restaurant in Delhi, indicating a strong endorsement.</td>\n",
       "      <td>Positive</td>\n",
       "    </tr>\n",
       "    <tr>\n",
       "      <th>1</th>\n",
       "      <td>SAV303</td>\n",
       "      <td>5</td>\n",
       "      <td>Kailash colony is brimming with small cafes now. I happened to visit this beauty for lunch and was amazed with the 1st impression it made.  We started with Falafel &amp; Pita and Margherita Pizza. Safe to say, Margherita pizza was the best choice of the day. Its made freshly in front of you in the Wood Fired oven. The taste was exquisite and I would recommend this to anybody who plans to visit this outlet. I could come here just to have that Pizza. Hummus, Pita and Falafel were a good side dish while we ordered the next couple of dishes. We moved on to order Fussili Alfredo. This white sauce fussili pasta was good but could not be compared to the pizza we had earlier.  In the end, we went for Frozen Yoghurt with Honey. It is recommended to have it with honey, which will do wonders to the frozen yoghurt!  This place turned out to be quite peaceful and the plants enhanced its beauty.</td>\n",
       "      <td>The sentiment of this review can be classified as:\\n\\nPositive\\n\\nAlthough the reviewer mentions that the Fussili Alfredo was not compared to the pizza, which implies a slight disappointment, the overall tone of the review is overwhelmingly positive. The reviewer uses phrases such as \"amazed with the 1st impression\", \"exquisite taste\", and \"I would recommend this to anybody\" to describe their experience. They also mention that they could come back just for the pizza, indicating a strong enthusiasm for the restaurant.</td>\n",
       "      <td>Positive</td>\n",
       "    </tr>\n",
       "    <tr>\n",
       "      <th>2</th>\n",
       "      <td>YUM789</td>\n",
       "      <td>5</td>\n",
       "      <td>Excellent taste and awesome decorum. Must visit. Subham Barnwal had given us a great service. One of the best experience.</td>\n",
       "      <td>I would classify the sentiment of this review as:\\n\\nPositive\\n\\nThe reviewer uses positive adjectives such as \"excellent\", \"awesome\", and \"one of the best experience\" to describe their visit. They also mention that Subham Barnwal provided great service, which further reinforces the positive tone of the review.</td>\n",
       "      <td>Positive</td>\n",
       "    </tr>\n",
       "    <tr>\n",
       "      <th>3</th>\n",
       "      <td>TST101</td>\n",
       "      <td>5</td>\n",
       "      <td>I have visited at jw lough/restourant. There were a first class service at lough, specially Ms.laxmi  who were superbed for handling the client need, me and my family lots enjoyed her specialty in the manner, and Laxmi is a very very good in the client service, I hope when I will come against I would definitely serve from Ms. Laxmi and she is wonderful girl in that service. See you again Ms. Laxmi for the your best service which I have received from you at jw lough/resourant. Thank you JW Marriott Hotel at Atrocity, Delhi</td>\n",
       "      <td>I would classify the sentiment of this review as:\\n\\n**Positive**\\n\\nThe reviewer expresses their satisfaction with the service they received at JW Marriott Hotel in Delhi, specifically mentioning that Ms. Laxmi provided excellent service and made them feel special. They also mention that they will definitely return to the hotel when they come back, indicating a high level of satisfaction and loyalty. The tone is enthusiastic and appreciative, with no negative comments or criticisms.</td>\n",
       "      <td>Positive</td>\n",
       "    </tr>\n",
       "    <tr>\n",
       "      <th>4</th>\n",
       "      <td>EAT456</td>\n",
       "      <td>5</td>\n",
       "      <td>Had a great experience in the restaurant food was fabulous, staff was nice. Hotel staff seems very professional specially the team at front desk although I was not staying there but they helped me with few of my quarries. Was dining with my kids and the team member at front desk young guy came with some kids book and gave it to my little child. It was a wonderful experience at Holiday inn and the staff was super . I was little worried as using the hotel first time for dining but the staff made it more comfortable. Will strongly recommend this and special thanks to people working at desk do not remember his name but he was a manager in the lobby who suggested us kylin for food and thanks to him that we enjoyed meal at kylin and now it's my first choice for food.</td>\n",
       "      <td>I would classify the sentiment of this review as:\\n\\nPositive\\n\\nThe reviewer had a great experience at Holiday Inn, praising the food, staff, and hotel staff. They also mentioned that the team member at the front desk was very professional and friendly, especially when interacting with their children. The reviewer even went so far as to say they would strongly recommend the hotel and restaurant, and specifically thanked the staff for making them feel comfortable during their first time using the hotel's dining facilities.</td>\n",
       "      <td>Positive</td>\n",
       "    </tr>\n",
       "    <tr>\n",
       "      <th>5</th>\n",
       "      <td>RST-A1</td>\n",
       "      <td>5</td>\n",
       "      <td>We came across Perch by accident and had dinner there on two separate occasions, having enjoyed it so much the first time round. There is no doubt that it has a strong European emphasis, although results in fantastic, modern food and attentive service that was amongst the best that we've experienced here.  The Indian Sauvignon Blanc was very acceptable, rather than the more expensive European alternatives, and there was a good range of cocktails, mocktails and beers. Decor was stylish but simple, ambience was good with lively, tasteful music to suit the meal. All food we ordered was good, and we've taken a menu home to replicate some of our favourite dishes. Have two appetisers or one main each, a couple of puddings are good to share on a small table.  Half carafe of wine, half of Sangria, two beers, five appetisers and two puddings including taxes and service about £75.</td>\n",
       "      <td>I would classify the sentiment of this review as:\\n\\nPositive\\n\\nThe reviewer had a great experience at Perch, enjoying their food and service on two separate occasions. They mention that the restaurant has a strong European emphasis but still manages to serve \"fantastic, modern food\" and provide attentive service. The reviewer also praises the wine selection, cocktails, and decor, describing it as \"stylish but simple\". Overall, the review is very positive and suggests that Perch is a great dining option.</td>\n",
       "      <td>Positive</td>\n",
       "    </tr>\n",
       "    <tr>\n",
       "      <th>6</th>\n",
       "      <td>DSH404</td>\n",
       "      <td>5</td>\n",
       "      <td>We went there on birthday special time. A nice place for evening drinks and food. Spend your time with friends in this place over conversation. The interior is friendly and not intimidating like any other pubs.The place has very soft lighting and the second floor, especially, has a cozy feel. No issues on the decor/service. we ordered a Pulled Duck Salad. The Mulled Wine was more or less as expected - star anise/cinnamon loaded, sweet, with a floating orange slice. The Holiday Coffee was infused with a heavy dose of whiskey, topped with whipped cream and grated candied orange. Both of these items were incredibly comforting on the cold evening. The pulled duck was prepared and seasoned well but the meat had been marinated with too much balsamic vinegar and tasted that way. Can't call this place very cost-effective either - the season specials were surely priced over the value-for-money mark.</td>\n",
       "      <td>I would classify the sentiment of this review as Mixed, leaning towards Negative.\\n\\nWhile the reviewer mentions some positive aspects, such as the friendly atmosphere, soft lighting, and comforting drinks, they also mention several negative points, including:\\n\\n* The pulled duck salad was overpowered by balsamic vinegar\\n* The prices were considered too high for the value-for-money\\n* Some of the season specials were not worth it\\n\\nThe reviewer's tone is generally neutral to slightly negative, highlighting both the good and bad aspects of their experience.</td>\n",
       "      <td>Positive</td>\n",
       "    </tr>\n",
       "    <tr>\n",
       "      <th>7</th>\n",
       "      <td>GRT505</td>\n",
       "      <td>3</td>\n",
       "      <td>Our visit to Green Bites on a busy Saturday evening offered a mixed experience. The service was a bit slow despite a few attentive staff members. The menu had a variety of options, and while some dishes were tasty, others were just average. The prices were reasonable, resulting in an overall neutral impression</td>\n",
       "      <td>I would classify the sentiment of this review as \"Neutral\". The reviewer mentions both positive and negative aspects, such as attentive staff members, tasty dishes, average dishes, and reasonable prices. They also mention that their overall experience was a mix of good and bad, resulting in a neutral impression. There is no strong language or emphasis on either positive or negative points, which suggests a neutral tone.</td>\n",
       "      <td>Positive</td>\n",
       "    </tr>\n",
       "    <tr>\n",
       "      <th>8</th>\n",
       "      <td>MMM606</td>\n",
       "      <td>3</td>\n",
       "      <td>At Bella Cuisine, the cozy atmosphere and friendly staff created a welcoming setting. The menu had a good selection, though the service was a bit inconsistent. While some dishes were flavorful, others lacked a distinctive taste. The pricing was fair, making it an overall neutral dining experience</td>\n",
       "      <td>I would classify the sentiment of this review as \"Neutral\".\\n\\nAlthough the reviewer mentions some positive aspects, such as the cozy atmosphere and friendly staff, they also mention several negative points, including inconsistent service, dishes that lacked a distinctive taste, and pricing that is only described as \"fair\". The overall tone of the review suggests that the reviewer was neither extremely impressed nor disappointed with their experience at Bella Cuisine.</td>\n",
       "      <td>Positive</td>\n",
       "    </tr>\n",
       "    <tr>\n",
       "      <th>9</th>\n",
       "      <td>FST707</td>\n",
       "      <td>3</td>\n",
       "      <td>Our dinner at Spice Haven provided a neutral experience. The service was efficient, with attentive staff members. The menu offered a range of options, and the dishes were generally well-prepared, if not exceptional. The prices were reasonable for the quality of food and service, resulting in a balanced impression</td>\n",
       "      <td>I would classify the sentiment of this review as \"Neutral\".\\n\\nAlthough the reviewer mentions that the service was efficient and the prices were reasonable, they also state that the food was \"generally well-prepared, if not exceptional\". This suggests a lack of strong positive emotions or enthusiasm for their experience at Spice Haven. The tone is more matter-of-fact and balanced, indicating a neutral overall sentiment.</td>\n",
       "      <td>Positive</td>\n",
       "    </tr>\n",
       "    <tr>\n",
       "      <th>10</th>\n",
       "      <td>SPL808</td>\n",
       "      <td>3</td>\n",
       "      <td>DineXpress, with its casual vibe, offered a neutral dining experience. The service was prompt, though the menu lacked variety. The food was decent, without any standout dishes. The affordable prices made it a reasonable choice for a casual meal, contributing to an overall neutral impression</td>\n",
       "      <td>I would classify the sentiment of this review as:\\n\\nNeutral\\n\\nThe reviewer mentions both positive and negative aspects, but they are balanced and do not outweigh each other. The reviewer praises the prompt service and affordable prices, while criticizing the lack of variety in the menu and the food being \"decent\" without any standout dishes. Overall, the tone is neutral and does not express strong emotions or enthusiasm for the restaurant.</td>\n",
       "      <td>Positive</td>\n",
       "    </tr>\n",
       "    <tr>\n",
       "      <th>11</th>\n",
       "      <td>QIK909</td>\n",
       "      <td>3</td>\n",
       "      <td>Our recent visit to SeaFlavors had its ups and downs. The seaside ambiance was pleasant, and the staff was friendly. However, the service was a bit slow, and the menu, while extensive, didn't deliver consistent quality. Prices were average, resulting in a neutral overall dining experience</td>\n",
       "      <td>I would classify the sentiment of this review as:\\n\\nNeutral\\n\\nAlthough the reviewer mentions some positive aspects, such as the pleasant seaside ambiance and friendly staff, they also mention several negative points, including slow service, inconsistent menu quality, and average prices. The overall tone is balanced, with neither overwhelmingly positive nor negative comments dominating the review.</td>\n",
       "      <td>Positive</td>\n",
       "    </tr>\n",
       "    <tr>\n",
       "      <th>12</th>\n",
       "      <td>TST010</td>\n",
       "      <td>3</td>\n",
       "      <td>At Urban Tastes, the modern decor and attentive service contributed to a neutral dining experience. The menu offered a variety of options, though the execution of some dishes fell short. Prices were on par with the overall quality, making it an average choice for a casual meal.</td>\n",
       "      <td>I would classify the sentiment of this review as \"Neutral\".\\n\\nThe reviewer mentions both positive aspects (modern decor, attentive service) and negative aspects (execution of some dishes fell short), which suggests a balanced evaluation. The tone is also neutral, with no strong emotions or language used to express enthusiasm or disappointment. Overall, the reviewer seems to provide a fair and objective assessment of their dining experience at Urban Tastes.</td>\n",
       "      <td>Positive</td>\n",
       "    </tr>\n",
       "    <tr>\n",
       "      <th>13</th>\n",
       "      <td>DLY111</td>\n",
       "      <td>1</td>\n",
       "      <td>Notwithstanding its location and potential for attracting a trendy, upmarket crowd, the Coast Cafe's characterization of a boutique destination for casual dining is a rather misleading one. I'd visited the place on a Thursday evening after work and walked in to what resembled a restaurant with a bunch of waiters spread across the floor. One was sitting by the stairwell listening to music, another was supposedly taking an order on the telephone, and a third was cleaning glasses at the bar. Neither felt necessary or important to welcome a patron or pay attention, least of all provide directions to a table for two people. Nonetheless, after making myself comfortable and waiting for a considerable amount of time to be catered to, I was compelled to call upon a waiter and request for a glass of water and a menu card. Both dishes (i.e., prawns in chili olive oil and a fish fry) arrived much after I drowned a glass of fresh orange and basil juice in spite of explicitly requesting the entire order to arrive together. As I was prepared to wrap up, leave, and pay the bill, one of the service staff requested me to climb a flight of stairs to the building's third floor to pay by debit card as \"their machine was immovable\". I would have been happy to leave a positive review with constructive feedback for the Coast Café to take note of and improve upon, but a brazen lack of any understanding of maintaining and upholding hospitality standards whatsoever would leave any customer with a lot to say albeit devoid of any confidence or trust in the management's ability to deliver.</td>\n",
       "      <td>I would classify the sentiment of this review as Negative. The reviewer expresses frustration and disappointment with their experience at the Coast Cafe, citing issues with the service staff's attentiveness, communication, and overall hospitality. They also mention several specific problems, such as long wait times, incorrect order fulfillment, and a request to climb multiple flights of stairs to pay by debit card. The tone is critical and disapproving, indicating that the reviewer was not satisfied with their visit.</td>\n",
       "      <td>Negative</td>\n",
       "    </tr>\n",
       "    <tr>\n",
       "      <th>14</th>\n",
       "      <td>ZZZ222</td>\n",
       "      <td>1</td>\n",
       "      <td>I went to Pluck (Hotel Pullman) on a Friday night. We were a group of 7 adults and 1 infant. There weren’t many people in the restaurant when we reached around 10:20PM and very soon the ones that were there also left. So eventually it was just all of us on one table and after that no one else came. Some person came to our table and introduced himself as Ashish and told us that he would take care of our table. The menus were in a tablet which seemed impressive. We were coming straight from the airport after our journey and were hungry and tired too. We quickly ordered 3 set menus, some food items and some drinks. The service from the very beginning was very slow. Apart from Ashish, we could see about 4-5 more waiters inside the restaurant; but when it came to servicing our table, it was only Ashish who was doing it and couldn’t do it effectively. We kept waiting for our order; we had to call him so many times to remind him to bring our order, particularly the next dish of our set menu. Looked like the chef also couldn’t manage. The tomato and coriander consommé (more commonly known as tomato dhaniya shorba in India) was a big disappointment! There were few pieces of tomato and coriander (or some greens) and he gave some sort of liquid to pour over it which was bland, watery and didn’t give the soup any taste. The organic quinoa broccoli cake that I got was burnt/over cooked and I left it. The pan roasted lamb Loin that was ordered for the second time was undercooked. Some of the food items that we got were decent in taste but the service level was so poor that the overall experience was very disappointing. We were in the restaurant for almost 2 hours, only waiting for our food to come, with only one person looking after the needs of 8 people! And in the end came the bill which was a bomb (Price for one person came out to approx INR3,000). It seemed an absurd figure, considering the extremely poor service that we received on a Friday night at a Fine Dining restaurant of a renowned hotel near the airport. I would not recommend this place to a family, especially if you are coming back from or going to the airport; you might just end up with a long wait!</td>\n",
       "      <td>The sentiment of this review is Negative. The reviewer expresses disappointment and frustration with their experience at Pluck (Hotel Pullman), citing slow service, poor quality food, and an extremely high bill. They also mention that the restaurant was nearly empty when they arrived, suggesting that it may have been understaffed or underprepared for a busy night. Overall, the review is critical of the restaurant's performance and would not recommend it to others.</td>\n",
       "      <td>Negative</td>\n",
       "    </tr>\n",
       "    <tr>\n",
       "      <th>15</th>\n",
       "      <td>CRV333</td>\n",
       "      <td>1</td>\n",
       "      <td>SERVICE HORRENDOUS!!!!! Listen to the reviews. Sandwich was decent enough (maybe because I was soooo hungry after a hectic day out) well presented but the service put me off completely. 12 servers on the floor including the manager and not one person came over to check back to make sure all was okay with our meals. All hanging around talking. And when I say 12 that’s not even an exaggeration. Not a 5 star service. And certainly not a 5 star hotel. We did ask for bottled water and when poured in to a glass you could see tiny bubbles forming and microscopic imperfections on the glass because it was so warm. I asked for cold water and I was told they did not have any? I explained that I will not be drinking the warm water after waiting 15 minutes a new bottle came out...coldish.. 5 star ? And they do not have cold water! Ridiculous. Maybe for further tourist this could be a preference, cold water or temperature. 3700 rupees €46 for two sandwiches, bottled water and terrible service! Certainly not worth it. I reckon the street food stalls would give a better service then here</td>\n",
       "      <td>I would classify the sentiment of this review as:\\n\\nNegative\\n\\nThe reviewer expresses strong dissatisfaction with their experience at the restaurant, citing poor service, inadequate water quality, and a lack of attention from staff. They also compare it unfavorably to street food stalls, implying that they were not impressed with the overall quality of the establishment. The only slightly positive comment is about the presentation of the sandwich, but this is quickly overshadowed by the numerous negative points raised in the review.</td>\n",
       "      <td>Positive</td>\n",
       "    </tr>\n",
       "    <tr>\n",
       "      <th>16</th>\n",
       "      <td>LSH444</td>\n",
       "      <td>1</td>\n",
       "      <td>Impolite and worst ever treatment towards customer by service staff and manager. Went there with my wife and another couple. Was provided a table first. Afterwards we requested a seperate table for me and my wife so that we could give privacy to the newly wed couple. We were outrightly rejected a second table even when the entire restaurant was empty. We assured that we shall vacate the table as and when your guest comes but they refused bluntly. The manager also refused to let us sit on a vacant table because of his high headedness. I said i shall leave the restaurant if that is the behavior they show towards there guests to which they said you can leave if you wish. This was an outright experience of racism and outcast felt by me and my wife wherein they werent affected in disrespecting their customer.  Moreover the reason i felt that happened was because on the very first moment that we took seat at the table we asked for regular water when the waiter was asking for still or sparkling water. I strongly feel that they made a perception about us and were not at all intereated in serving us. Worst ever restaurant experience i have ever felt across in my life, such kind of instance i havent come across abroad and was shocked to experience in my home country. Racism and High Headedness</td>\n",
       "      <td>I would classify the sentiment of this review as:\\n\\n**Negative**\\n\\nThe reviewer expresses extreme dissatisfaction and frustration with their experience at the restaurant, citing poor treatment by service staff and a manager who refused to accommodate their request for a separate table. The reviewer also mentions feeling discriminated against due to perceived racism, which adds to the overall negative tone of the review. There is no mention of any positive aspects or redeeming qualities about the restaurant, making it clear that this was a disastrous experience for the reviewer and their wife.</td>\n",
       "      <td>Positive</td>\n",
       "    </tr>\n",
       "    <tr>\n",
       "      <th>17</th>\n",
       "      <td>PIZ555</td>\n",
       "      <td>1</td>\n",
       "      <td>Whilst staying at the Welcolmhotel Dwarka we visited Pavillion 75 expecting great things but we were disappointed. The place has great trip advisor reviews so we had high expectations that were sadly not met.  What really ruined our nice meal was the self service. A waiter gave us (a party of 5) two tablets to look at the menu on. Unlike with proper menus, where everyone can browse at their own speed we had to share a tablet between 5. We asked the waiter for more tablets and were given one. After we had eventually all used the tablets to browse and input our orders on to one tablet the tablet then had an error message and froze. We used the other tablet to order and that one ran out of battery. We were hungry after a long day travelling this was stressful. Eventually one of the waiters came over and took details of our order. I really disliked this way of ordering food, and would not use the restaurant again because of this.  The table was also dirty, there was dust and bits of fluff on the table and cloth napkins and my aunt was given a chipped glass which she discovered upon taking a drink. We told the waiter and he apologised and got us a new glass but again, this just really made our experience a disappointment.  Very disappointed as seems to have good reviews, maybe we came on a bad day but we didn't like the menu/way of ordering, the table was dirty and a member of our party was given a chipped glass.</td>\n",
       "      <td>I would classify the sentiment of this review as Negative.\\n\\nAlthough the reviewer mentions that they had high expectations based on TripAdvisor reviews, their experience at Pavilion 75 was disappointing. They specifically mention several issues with the self-service ordering system, table cleanliness, and a chipped glass, which all contributed to a stressful and unpleasant dining experience. The only positive comment is a vague statement about \"great trip advisor reviews\", but it's clear that this did not translate to their own experience.</td>\n",
       "      <td>Positive</td>\n",
       "    </tr>\n",
       "    <tr>\n",
       "      <th>18</th>\n",
       "      <td>BRR666</td>\n",
       "      <td>1</td>\n",
       "      <td>At this restaurant the staff is extremely rude, they try to push the customers around. We made a booking for 7 people and then they put us on a table which is big enough for four and when we said this table only can seat 6 people that also with great difficulty they said they will add another chair to it as if 7 year old kids are coming to have dinner. The staff is so unprofessional and ill-trained it is unbelievable. One of my friends wanted to do sheesha so we asked them if we could shift upstairs and first they kept on saying no and then suddenly agreed and then kept on bugging us to shift outside quickly. The outside table was even smaller and when we said it they could light on the heater which was next to the seating, they said the heater is broken. Shocking the kind of restaurant this is. The we were having our food, suddenly a cat runs underneath the seating and my friend almost spilled hot coffee on herself. When we complained to the staff they were least bothered. It took sheesha almost 30 minutes to come after it was ordered, when we complained how come it took so long, the waiter answered back that there were 4 sheeshas ordered before us and it takes time, never heard a response like this. Un-trained staff can only answered back to customers like that. The food is very poor, don't even try the vietnamese chicken it looks horrible and tastes bad too. As we were eating another cat ran over the seating and by this time all of us had really lost our cool and got up and decided to leave. The waiter started running after us with the bill as if we were going to leave without paying. Also, it was funny couple of waiters came up to us and said please make a huge noise about the cats as the owner is least bothered about hyegine in this restaurant. I hope the cats don't run through people's food in the kitchen or on the tables. It is natural how bad this restaurant is as the owners are least bothered about the quality of service or food or experience. Please avoid at all cost. Not worth it.</td>\n",
       "      <td>The sentiment of this review is overwhelmingly Negative. The reviewer expresses extreme dissatisfaction with various aspects of their experience, including:\\n\\n* Rude and unprofessional staff\\n* Inadequate table arrangement\\n* Poor service (long wait for sheesha, uncooperative staff)\\n* Low-quality food (poor presentation, bad taste)\\n* Unhygienic conditions (cats running on tables)\\n\\nThe reviewer's tone is also aggressive and warning, advising others to \"avoid at all cost\" the restaurant. The only positive comment made is a sarcastic remark about the owners being \"least bothered\" about hygiene, but this does not change the overall negative sentiment of the review.</td>\n",
       "      <td>Positive</td>\n",
       "    </tr>\n",
       "    <tr>\n",
       "      <th>19</th>\n",
       "      <td>CNF777</td>\n",
       "      <td>1</td>\n",
       "      <td>Splendid location, above poor experience  I heard alot about this place over social media and many knowns but for me it was a place which made me shamefull among my family. The thursday evening started Started with a sleepy shabby looking guy Mr. Virender who was sleeping and was shoked when we entered the reception having no gesture to even stand and welcome. Then we were escorted to the restaurant by another guy where the restaurant manager (I guess) alloted us a table in open place though restaurant inside was really unoccupied by anyone. Then after almost 20mins later menu cards were presented. We ordered two beers and a whisky. Thank god it was quick service though no standard procedure of service is there. Not even asking for temperature and with or without froth in glass service. No knowledge of right way to serve food and wine as per standard service etiquettes rather they are like falling on us or serving from a wrong side. No proper cover and cutlary as per the meal and drinks. No knowldege of handing glass and cutlery. Really shamefull.... You guys are charging way more than any other fine dining restaurants and claiming to be 5star and under a brand welcomheritage... Food is awsome..but service is pathetic. I won’t suggest this place to anyone after this shamefull evening.</td>\n",
       "      <td>The sentiment of the provided review is:\\n\\nNegative\\n\\nAlthough the reviewer mentions that \"Food is awesome\", this positive comment is vastly outweighed by the numerous negative comments about the service, including poor reception, lack of standard procedure, and unprofessional behavior from staff. The reviewer's overall experience was marred by a \"shameful\" evening, which suggests a strong negative sentiment towards the restaurant.</td>\n",
       "      <td>Positive</td>\n",
       "    </tr>\n",
       "  </tbody>\n",
       "</table>\n",
       "</div>"
      ],
      "text/plain": [
       "   restaurant_ID  rating_review  \\\n",
       "0         FLV202              5   \n",
       "1         SAV303              5   \n",
       "2         YUM789              5   \n",
       "3         TST101              5   \n",
       "4         EAT456              5   \n",
       "5         RST-A1              5   \n",
       "6         DSH404              5   \n",
       "7         GRT505              3   \n",
       "8         MMM606              3   \n",
       "9         FST707              3   \n",
       "10        SPL808              3   \n",
       "11        QIK909              3   \n",
       "12        TST010              3   \n",
       "13        DLY111              1   \n",
       "14        ZZZ222              1   \n",
       "15        CRV333              1   \n",
       "16        LSH444              1   \n",
       "17        PIZ555              1   \n",
       "18        BRR666              1   \n",
       "19        CNF777              1   \n",
       "\n",
       "                                                                                                                                                                                                                                                                                                                                                                                                                                                                                                                                                                                                                                                                                                                                                                                                                                                                                                                                                                                                                                                                                                                                                                                                                                                                                                                                                                                                                                                                                                                                                                                                                                                                                                                                                                                                                                                                                                                                                                                                                                                                                                                                                                                                                                                                    review_full  \\\n",
       "0                                                                                                                                                                                                                                                                                                                                                                                                                                                                                                                                                                                                                                                                                                                                                                                                                                                                                                                                                                                                                                                                                                                                                                                                                                                                                                                                                                                                                                                                                                                              Totally in love with the Auro of the place, really beautiful and quite fancy at the same time. The ambience is very pure and gives a sense of positivity throughout. Outdoor and indoor interior are quite quaint and cute. Love the open kitchen idea and there whole marketplace ideology. Due to coronovirus they specifically use disposable cutlery to keep the pandemic in mind taking all the precautionary measures from the beginning of the place with the mask on their staff and using good sanitisation. The food is really amazing specially the pizza straight from the oven and the hummus and pita bread are quite delicious too. If you're looking for a classy yet soothing Italian place in Delhi,Fatjar is a go to for you!   \n",
       "1                                                                                                                                                                                                                                                                                                                                                                                                                                                                                                                                                                                                                                                                                                                                                                                                                                                                                                                                                                                                                                                                                                                                                                                                                                                                                                                                                    Kailash colony is brimming with small cafes now. I happened to visit this beauty for lunch and was amazed with the 1st impression it made.  We started with Falafel & Pita and Margherita Pizza. Safe to say, Margherita pizza was the best choice of the day. Its made freshly in front of you in the Wood Fired oven. The taste was exquisite and I would recommend this to anybody who plans to visit this outlet. I could come here just to have that Pizza. Hummus, Pita and Falafel were a good side dish while we ordered the next couple of dishes. We moved on to order Fussili Alfredo. This white sauce fussili pasta was good but could not be compared to the pizza we had earlier.  In the end, we went for Frozen Yoghurt with Honey. It is recommended to have it with honey, which will do wonders to the frozen yoghurt!  This place turned out to be quite peaceful and the plants enhanced its beauty.   \n",
       "2                                                                                                                                                                                                                                                                                                                                                                                                                                                                                                                                                                                                                                                                                                                                                                                                                                                                                                                                                                                                                                                                                                                                                                                                                                                                                                                                                                                                                                                                                                                                                                                                                                                                                                                                                                                                                                                                                                                                                                                                                                                                                                                                                     Excellent taste and awesome decorum. Must visit. Subham Barnwal had given us a great service. One of the best experience.   \n",
       "3                                                                                                                                                                                                                                                                                                                                                                                                                                                                                                                                                                                                                                                                                                                                                                                                                                                                                                                                                                                                                                                                                                                                                                                                                                                                                                                                                                                                                                                                                                                                                                                                                                                                                                                               I have visited at jw lough/restourant. There were a first class service at lough, specially Ms.laxmi  who were superbed for handling the client need, me and my family lots enjoyed her specialty in the manner, and Laxmi is a very very good in the client service, I hope when I will come against I would definitely serve from Ms. Laxmi and she is wonderful girl in that service. See you again Ms. Laxmi for the your best service which I have received from you at jw lough/resourant. Thank you JW Marriott Hotel at Atrocity, Delhi   \n",
       "4                                                                                                                                                                                                                                                                                                                                                                                                                                                                                                                                                                                                                                                                                                                                                                                                                                                                                                                                                                                                                                                                                                                                                                                                                                                                                                                                                                                                                                                                           Had a great experience in the restaurant food was fabulous, staff was nice. Hotel staff seems very professional specially the team at front desk although I was not staying there but they helped me with few of my quarries. Was dining with my kids and the team member at front desk young guy came with some kids book and gave it to my little child. It was a wonderful experience at Holiday inn and the staff was super . I was little worried as using the hotel first time for dining but the staff made it more comfortable. Will strongly recommend this and special thanks to people working at desk do not remember his name but he was a manager in the lobby who suggested us kylin for food and thanks to him that we enjoyed meal at kylin and now it's my first choice for food.   \n",
       "5                                                                                                                                                                                                                                                                                                                                                                                                                                                                                                                                                                                                                                                                                                                                                                                                                                                                                                                                                                                                                                                                                                                                                                                                                                                                                                                                                          We came across Perch by accident and had dinner there on two separate occasions, having enjoyed it so much the first time round. There is no doubt that it has a strong European emphasis, although results in fantastic, modern food and attentive service that was amongst the best that we've experienced here.  The Indian Sauvignon Blanc was very acceptable, rather than the more expensive European alternatives, and there was a good range of cocktails, mocktails and beers. Decor was stylish but simple, ambience was good with lively, tasteful music to suit the meal. All food we ordered was good, and we've taken a menu home to replicate some of our favourite dishes. Have two appetisers or one main each, a couple of puddings are good to share on a small table.  Half carafe of wine, half of Sangria, two beers, five appetisers and two puddings including taxes and service about £75.    \n",
       "6                                                                                                                                                                                                                                                                                                                                                                                                                                                                                                                                                                                                                                                                                                                                                                                                                                                                                                                                                                                                                                                                                                                                                                                                                                                                                                                                       We went there on birthday special time. A nice place for evening drinks and food. Spend your time with friends in this place over conversation. The interior is friendly and not intimidating like any other pubs.The place has very soft lighting and the second floor, especially, has a cozy feel. No issues on the decor/service. we ordered a Pulled Duck Salad. The Mulled Wine was more or less as expected - star anise/cinnamon loaded, sweet, with a floating orange slice. The Holiday Coffee was infused with a heavy dose of whiskey, topped with whipped cream and grated candied orange. Both of these items were incredibly comforting on the cold evening. The pulled duck was prepared and seasoned well but the meat had been marinated with too much balsamic vinegar and tasted that way. Can't call this place very cost-effective either - the season specials were surely priced over the value-for-money mark.   \n",
       "7                                                                                                                                                                                                                                                                                                                                                                                                                                                                                                                                                                                                                                                                                                                                                                                                                                                                                                                                                                                                                                                                                                                                                                                                                                                                                                                                                                                                                                                                                                                                                                                                                                                                                                                                                                                                                                                                                                                                                       Our visit to Green Bites on a busy Saturday evening offered a mixed experience. The service was a bit slow despite a few attentive staff members. The menu had a variety of options, and while some dishes were tasty, others were just average. The prices were reasonable, resulting in an overall neutral impression   \n",
       "8                                                                                                                                                                                                                                                                                                                                                                                                                                                                                                                                                                                                                                                                                                                                                                                                                                                                                                                                                                                                                                                                                                                                                                                                                                                                                                                                                                                                                                                                                                                                                                                                                                                                                                                                                                                                                                                                                                                                                                     At Bella Cuisine, the cozy atmosphere and friendly staff created a welcoming setting. The menu had a good selection, though the service was a bit inconsistent. While some dishes were flavorful, others lacked a distinctive taste. The pricing was fair, making it an overall neutral dining experience   \n",
       "9                                                                                                                                                                                                                                                                                                                                                                                                                                                                                                                                                                                                                                                                                                                                                                                                                                                                                                                                                                                                                                                                                                                                                                                                                                                                                                                                                                                                                                                                                                                                                                                                                                                                                                                                                                                                                                                                                                                                                    Our dinner at Spice Haven provided a neutral experience. The service was efficient, with attentive staff members. The menu offered a range of options, and the dishes were generally well-prepared, if not exceptional. The prices were reasonable for the quality of food and service, resulting in a balanced impression   \n",
       "10                                                                                                                                                                                                                                                                                                                                                                                                                                                                                                                                                                                                                                                                                                                                                                                                                                                                                                                                                                                                                                                                                                                                                                                                                                                                                                                                                                                                                                                                                                                                                                                                                                                                                                                                                                                                                                                                                                                                                                          DineXpress, with its casual vibe, offered a neutral dining experience. The service was prompt, though the menu lacked variety. The food was decent, without any standout dishes. The affordable prices made it a reasonable choice for a casual meal, contributing to an overall neutral impression   \n",
       "11                                                                                                                                                                                                                                                                                                                                                                                                                                                                                                                                                                                                                                                                                                                                                                                                                                                                                                                                                                                                                                                                                                                                                                                                                                                                                                                                                                                                                                                                                                                                                                                                                                                                                                                                                                                                                                                                                                                                                                            Our recent visit to SeaFlavors had its ups and downs. The seaside ambiance was pleasant, and the staff was friendly. However, the service was a bit slow, and the menu, while extensive, didn't deliver consistent quality. Prices were average, resulting in a neutral overall dining experience   \n",
       "12                                                                                                                                                                                                                                                                                                                                                                                                                                                                                                                                                                                                                                                                                                                                                                                                                                                                                                                                                                                                                                                                                                                                                                                                                                                                                                                                                                                                                                                                                                                                                                                                                                                                                                                                                                                                                                                                                                                                                                                       At Urban Tastes, the modern decor and attentive service contributed to a neutral dining experience. The menu offered a variety of options, though the execution of some dishes fell short. Prices were on par with the overall quality, making it an average choice for a casual meal.   \n",
       "13                                                                                                                                                                                                                                                                                                                                                                                                                                                                                                                                                                                                                           Notwithstanding its location and potential for attracting a trendy, upmarket crowd, the Coast Cafe's characterization of a boutique destination for casual dining is a rather misleading one. I'd visited the place on a Thursday evening after work and walked in to what resembled a restaurant with a bunch of waiters spread across the floor. One was sitting by the stairwell listening to music, another was supposedly taking an order on the telephone, and a third was cleaning glasses at the bar. Neither felt necessary or important to welcome a patron or pay attention, least of all provide directions to a table for two people. Nonetheless, after making myself comfortable and waiting for a considerable amount of time to be catered to, I was compelled to call upon a waiter and request for a glass of water and a menu card. Both dishes (i.e., prawns in chili olive oil and a fish fry) arrived much after I drowned a glass of fresh orange and basil juice in spite of explicitly requesting the entire order to arrive together. As I was prepared to wrap up, leave, and pay the bill, one of the service staff requested me to climb a flight of stairs to the building's third floor to pay by debit card as \"their machine was immovable\". I would have been happy to leave a positive review with constructive feedback for the Coast Café to take note of and improve upon, but a brazen lack of any understanding of maintaining and upholding hospitality standards whatsoever would leave any customer with a lot to say albeit devoid of any confidence or trust in the management's ability to deliver.   \n",
       "14  I went to Pluck (Hotel Pullman) on a Friday night. We were a group of 7 adults and 1 infant. There weren’t many people in the restaurant when we reached around 10:20PM and very soon the ones that were there also left. So eventually it was just all of us on one table and after that no one else came. Some person came to our table and introduced himself as Ashish and told us that he would take care of our table. The menus were in a tablet which seemed impressive. We were coming straight from the airport after our journey and were hungry and tired too. We quickly ordered 3 set menus, some food items and some drinks. The service from the very beginning was very slow. Apart from Ashish, we could see about 4-5 more waiters inside the restaurant; but when it came to servicing our table, it was only Ashish who was doing it and couldn’t do it effectively. We kept waiting for our order; we had to call him so many times to remind him to bring our order, particularly the next dish of our set menu. Looked like the chef also couldn’t manage. The tomato and coriander consommé (more commonly known as tomato dhaniya shorba in India) was a big disappointment! There were few pieces of tomato and coriander (or some greens) and he gave some sort of liquid to pour over it which was bland, watery and didn’t give the soup any taste. The organic quinoa broccoli cake that I got was burnt/over cooked and I left it. The pan roasted lamb Loin that was ordered for the second time was undercooked. Some of the food items that we got were decent in taste but the service level was so poor that the overall experience was very disappointing. We were in the restaurant for almost 2 hours, only waiting for our food to come, with only one person looking after the needs of 8 people! And in the end came the bill which was a bomb (Price for one person came out to approx INR3,000). It seemed an absurd figure, considering the extremely poor service that we received on a Friday night at a Fine Dining restaurant of a renowned hotel near the airport. I would not recommend this place to a family, especially if you are coming back from or going to the airport; you might just end up with a long wait!   \n",
       "15                                                                                                                                                                                                                                                                                                                                                                                                                                                                                                                                                                                                                                                                                                                                                                                                                                                                                                                                                                                                                                                                                                                                            SERVICE HORRENDOUS!!!!! Listen to the reviews. Sandwich was decent enough (maybe because I was soooo hungry after a hectic day out) well presented but the service put me off completely. 12 servers on the floor including the manager and not one person came over to check back to make sure all was okay with our meals. All hanging around talking. And when I say 12 that’s not even an exaggeration. Not a 5 star service. And certainly not a 5 star hotel. We did ask for bottled water and when poured in to a glass you could see tiny bubbles forming and microscopic imperfections on the glass because it was so warm. I asked for cold water and I was told they did not have any? I explained that I will not be drinking the warm water after waiting 15 minutes a new bottle came out...coldish.. 5 star ? And they do not have cold water! Ridiculous. Maybe for further tourist this could be a preference, cold water or temperature. 3700 rupees €46 for two sandwiches, bottled water and terrible service! Certainly not worth it. I reckon the street food stalls would give a better service then here    \n",
       "16                                                                                                                                                                                                                                                                                                                                                                                                                                                                                                                                                                                                                                                                                                                                                                                                                                                                                                                    Impolite and worst ever treatment towards customer by service staff and manager. Went there with my wife and another couple. Was provided a table first. Afterwards we requested a seperate table for me and my wife so that we could give privacy to the newly wed couple. We were outrightly rejected a second table even when the entire restaurant was empty. We assured that we shall vacate the table as and when your guest comes but they refused bluntly. The manager also refused to let us sit on a vacant table because of his high headedness. I said i shall leave the restaurant if that is the behavior they show towards there guests to which they said you can leave if you wish. This was an outright experience of racism and outcast felt by me and my wife wherein they werent affected in disrespecting their customer.  Moreover the reason i felt that happened was because on the very first moment that we took seat at the table we asked for regular water when the waiter was asking for still or sparkling water. I strongly feel that they made a perception about us and were not at all intereated in serving us. Worst ever restaurant experience i have ever felt across in my life, such kind of instance i havent come across abroad and was shocked to experience in my home country. Racism and High Headedness    \n",
       "17                                                                                                                                                                                                                                                                                                                                                                                                                                                                                                                                                                                                                                                                                                                                                                                      Whilst staying at the Welcolmhotel Dwarka we visited Pavillion 75 expecting great things but we were disappointed. The place has great trip advisor reviews so we had high expectations that were sadly not met.  What really ruined our nice meal was the self service. A waiter gave us (a party of 5) two tablets to look at the menu on. Unlike with proper menus, where everyone can browse at their own speed we had to share a tablet between 5. We asked the waiter for more tablets and were given one. After we had eventually all used the tablets to browse and input our orders on to one tablet the tablet then had an error message and froze. We used the other tablet to order and that one ran out of battery. We were hungry after a long day travelling this was stressful. Eventually one of the waiters came over and took details of our order. I really disliked this way of ordering food, and would not use the restaurant again because of this.  The table was also dirty, there was dust and bits of fluff on the table and cloth napkins and my aunt was given a chipped glass which she discovered upon taking a drink. We told the waiter and he apologised and got us a new glass but again, this just really made our experience a disappointment.  Very disappointed as seems to have good reviews, maybe we came on a bad day but we didn't like the menu/way of ordering, the table was dirty and a member of our party was given a chipped glass.   \n",
       "18                                                                                                                                                                   At this restaurant the staff is extremely rude, they try to push the customers around. We made a booking for 7 people and then they put us on a table which is big enough for four and when we said this table only can seat 6 people that also with great difficulty they said they will add another chair to it as if 7 year old kids are coming to have dinner. The staff is so unprofessional and ill-trained it is unbelievable. One of my friends wanted to do sheesha so we asked them if we could shift upstairs and first they kept on saying no and then suddenly agreed and then kept on bugging us to shift outside quickly. The outside table was even smaller and when we said it they could light on the heater which was next to the seating, they said the heater is broken. Shocking the kind of restaurant this is. The we were having our food, suddenly a cat runs underneath the seating and my friend almost spilled hot coffee on herself. When we complained to the staff they were least bothered. It took sheesha almost 30 minutes to come after it was ordered, when we complained how come it took so long, the waiter answered back that there were 4 sheeshas ordered before us and it takes time, never heard a response like this. Un-trained staff can only answered back to customers like that. The food is very poor, don't even try the vietnamese chicken it looks horrible and tastes bad too. As we were eating another cat ran over the seating and by this time all of us had really lost our cool and got up and decided to leave. The waiter started running after us with the bill as if we were going to leave without paying. Also, it was funny couple of waiters came up to us and said please make a huge noise about the cats as the owner is least bothered about hyegine in this restaurant. I hope the cats don't run through people's food in the kitchen or on the tables. It is natural how bad this restaurant is as the owners are least bothered about the quality of service or food or experience. Please avoid at all cost. Not worth it.   \n",
       "19                                                                                                                                                                                                                                                                                                                                                                                                                                                                                                                                                                                                                                                                                                                                                                                                                                                                                                                    Splendid location, above poor experience  I heard alot about this place over social media and many knowns but for me it was a place which made me shamefull among my family. The thursday evening started Started with a sleepy shabby looking guy Mr. Virender who was sleeping and was shoked when we entered the reception having no gesture to even stand and welcome. Then we were escorted to the restaurant by another guy where the restaurant manager (I guess) alloted us a table in open place though restaurant inside was really unoccupied by anyone. Then after almost 20mins later menu cards were presented. We ordered two beers and a whisky. Thank god it was quick service though no standard procedure of service is there. Not even asking for temperature and with or without froth in glass service. No knowledge of right way to serve food and wine as per standard service etiquettes rather they are like falling on us or serving from a wrong side. No proper cover and cutlary as per the meal and drinks. No knowldege of handing glass and cutlery. Really shamefull.... You guys are charging way more than any other fine dining restaurants and claiming to be 5star and under a brand welcomheritage... Food is awsome..but service is pathetic. I won’t suggest this place to anyone after this shamefull evening.   \n",
       "\n",
       "                                                                                                                                                                                                                                                                                                                                                                                                                                                                                                                                                                                                                                                                                        model_response  \\\n",
       "0                                                                                              The sentiment of this review can be classified as:\\n\\nPositive\\n\\nAlthough there is a mention of taking precautions due to the pandemic, which could be seen as a negative aspect, the overall tone of the review is overwhelmingly positive. The reviewer uses words and phrases such as \"really beautiful\", \"quite fancy\", \"pure and gives a sense of positivity\", \"quaint and cute\", \"amazing\", and \"delicious\" to describe their experience at Fatjar. They also explicitly state that it's a \"go-to\" place for a classy yet soothing Italian restaurant in Delhi, indicating a strong endorsement.   \n",
       "1                                                                                                                                                           The sentiment of this review can be classified as:\\n\\nPositive\\n\\nAlthough the reviewer mentions that the Fussili Alfredo was not compared to the pizza, which implies a slight disappointment, the overall tone of the review is overwhelmingly positive. The reviewer uses phrases such as \"amazed with the 1st impression\", \"exquisite taste\", and \"I would recommend this to anybody\" to describe their experience. They also mention that they could come back just for the pizza, indicating a strong enthusiasm for the restaurant.   \n",
       "2                                                                                                                                                                                                                                                                                                                                                                             I would classify the sentiment of this review as:\\n\\nPositive\\n\\nThe reviewer uses positive adjectives such as \"excellent\", \"awesome\", and \"one of the best experience\" to describe their visit. They also mention that Subham Barnwal provided great service, which further reinforces the positive tone of the review.   \n",
       "3                                                                                                                                                                                             I would classify the sentiment of this review as:\\n\\n**Positive**\\n\\nThe reviewer expresses their satisfaction with the service they received at JW Marriott Hotel in Delhi, specifically mentioning that Ms. Laxmi provided excellent service and made them feel special. They also mention that they will definitely return to the hotel when they come back, indicating a high level of satisfaction and loyalty. The tone is enthusiastic and appreciative, with no negative comments or criticisms.   \n",
       "4                                                                                                                                                     I would classify the sentiment of this review as:\\n\\nPositive\\n\\nThe reviewer had a great experience at Holiday Inn, praising the food, staff, and hotel staff. They also mentioned that the team member at the front desk was very professional and friendly, especially when interacting with their children. The reviewer even went so far as to say they would strongly recommend the hotel and restaurant, and specifically thanked the staff for making them feel comfortable during their first time using the hotel's dining facilities.   \n",
       "5                                                                                                                                                                       I would classify the sentiment of this review as:\\n\\nPositive\\n\\nThe reviewer had a great experience at Perch, enjoying their food and service on two separate occasions. They mention that the restaurant has a strong European emphasis but still manages to serve \"fantastic, modern food\" and provide attentive service. The reviewer also praises the wine selection, cocktails, and decor, describing it as \"stylish but simple\". Overall, the review is very positive and suggests that Perch is a great dining option.   \n",
       "6                                                                                                                I would classify the sentiment of this review as Mixed, leaning towards Negative.\\n\\nWhile the reviewer mentions some positive aspects, such as the friendly atmosphere, soft lighting, and comforting drinks, they also mention several negative points, including:\\n\\n* The pulled duck salad was overpowered by balsamic vinegar\\n* The prices were considered too high for the value-for-money\\n* Some of the season specials were not worth it\\n\\nThe reviewer's tone is generally neutral to slightly negative, highlighting both the good and bad aspects of their experience.   \n",
       "7                                                                                                                                                                                                                                                              I would classify the sentiment of this review as \"Neutral\". The reviewer mentions both positive and negative aspects, such as attentive staff members, tasty dishes, average dishes, and reasonable prices. They also mention that their overall experience was a mix of good and bad, resulting in a neutral impression. There is no strong language or emphasis on either positive or negative points, which suggests a neutral tone.   \n",
       "8                                                                                                                                                                                                             I would classify the sentiment of this review as \"Neutral\".\\n\\nAlthough the reviewer mentions some positive aspects, such as the cozy atmosphere and friendly staff, they also mention several negative points, including inconsistent service, dishes that lacked a distinctive taste, and pricing that is only described as \"fair\". The overall tone of the review suggests that the reviewer was neither extremely impressed nor disappointed with their experience at Bella Cuisine.   \n",
       "9                                                                                                                                                                                                                                                              I would classify the sentiment of this review as \"Neutral\".\\n\\nAlthough the reviewer mentions that the service was efficient and the prices were reasonable, they also state that the food was \"generally well-prepared, if not exceptional\". This suggests a lack of strong positive emotions or enthusiasm for their experience at Spice Haven. The tone is more matter-of-fact and balanced, indicating a neutral overall sentiment.   \n",
       "10                                                                                                                                                                                                                                       I would classify the sentiment of this review as:\\n\\nNeutral\\n\\nThe reviewer mentions both positive and negative aspects, but they are balanced and do not outweigh each other. The reviewer praises the prompt service and affordable prices, while criticizing the lack of variety in the menu and the food being \"decent\" without any standout dishes. Overall, the tone is neutral and does not express strong emotions or enthusiasm for the restaurant.   \n",
       "11                                                                                                                                                                                                                                                                                   I would classify the sentiment of this review as:\\n\\nNeutral\\n\\nAlthough the reviewer mentions some positive aspects, such as the pleasant seaside ambiance and friendly staff, they also mention several negative points, including slow service, inconsistent menu quality, and average prices. The overall tone is balanced, with neither overwhelmingly positive nor negative comments dominating the review.   \n",
       "12                                                                                                                                                                                                                       I would classify the sentiment of this review as \"Neutral\".\\n\\nThe reviewer mentions both positive aspects (modern decor, attentive service) and negative aspects (execution of some dishes fell short), which suggests a balanced evaluation. The tone is also neutral, with no strong emotions or language used to express enthusiasm or disappointment. Overall, the reviewer seems to provide a fair and objective assessment of their dining experience at Urban Tastes.   \n",
       "13                                                                                                                                                          I would classify the sentiment of this review as Negative. The reviewer expresses frustration and disappointment with their experience at the Coast Cafe, citing issues with the service staff's attentiveness, communication, and overall hospitality. They also mention several specific problems, such as long wait times, incorrect order fulfillment, and a request to climb multiple flights of stairs to pay by debit card. The tone is critical and disapproving, indicating that the reviewer was not satisfied with their visit.   \n",
       "14                                                                                                                                                                                                                The sentiment of this review is Negative. The reviewer expresses disappointment and frustration with their experience at Pluck (Hotel Pullman), citing slow service, poor quality food, and an extremely high bill. They also mention that the restaurant was nearly empty when they arrived, suggesting that it may have been understaffed or underprepared for a busy night. Overall, the review is critical of the restaurant's performance and would not recommend it to others.   \n",
       "15                                                                                                                                        I would classify the sentiment of this review as:\\n\\nNegative\\n\\nThe reviewer expresses strong dissatisfaction with their experience at the restaurant, citing poor service, inadequate water quality, and a lack of attention from staff. They also compare it unfavorably to street food stalls, implying that they were not impressed with the overall quality of the establishment. The only slightly positive comment is about the presentation of the sandwich, but this is quickly overshadowed by the numerous negative points raised in the review.   \n",
       "16                                                                           I would classify the sentiment of this review as:\\n\\n**Negative**\\n\\nThe reviewer expresses extreme dissatisfaction and frustration with their experience at the restaurant, citing poor treatment by service staff and a manager who refused to accommodate their request for a separate table. The reviewer also mentions feeling discriminated against due to perceived racism, which adds to the overall negative tone of the review. There is no mention of any positive aspects or redeeming qualities about the restaurant, making it clear that this was a disastrous experience for the reviewer and their wife.   \n",
       "17                                                                                                                                 I would classify the sentiment of this review as Negative.\\n\\nAlthough the reviewer mentions that they had high expectations based on TripAdvisor reviews, their experience at Pavilion 75 was disappointing. They specifically mention several issues with the self-service ordering system, table cleanliness, and a chipped glass, which all contributed to a stressful and unpleasant dining experience. The only positive comment is a vague statement about \"great trip advisor reviews\", but it's clear that this did not translate to their own experience.   \n",
       "18  The sentiment of this review is overwhelmingly Negative. The reviewer expresses extreme dissatisfaction with various aspects of their experience, including:\\n\\n* Rude and unprofessional staff\\n* Inadequate table arrangement\\n* Poor service (long wait for sheesha, uncooperative staff)\\n* Low-quality food (poor presentation, bad taste)\\n* Unhygienic conditions (cats running on tables)\\n\\nThe reviewer's tone is also aggressive and warning, advising others to \"avoid at all cost\" the restaurant. The only positive comment made is a sarcastic remark about the owners being \"least bothered\" about hygiene, but this does not change the overall negative sentiment of the review.   \n",
       "19                                                                                                                                                                                                                                               The sentiment of the provided review is:\\n\\nNegative\\n\\nAlthough the reviewer mentions that \"Food is awesome\", this positive comment is vastly outweighed by the numerous negative comments about the service, including poor reception, lack of standard procedure, and unprofessional behavior from staff. The reviewer's overall experience was marred by a \"shameful\" evening, which suggests a strong negative sentiment towards the restaurant.   \n",
       "\n",
       "   sentiment  \n",
       "0   Positive  \n",
       "1   Positive  \n",
       "2   Positive  \n",
       "3   Positive  \n",
       "4   Positive  \n",
       "5   Positive  \n",
       "6   Positive  \n",
       "7   Positive  \n",
       "8   Positive  \n",
       "9   Positive  \n",
       "10  Positive  \n",
       "11  Positive  \n",
       "12  Positive  \n",
       "13  Negative  \n",
       "14  Negative  \n",
       "15  Positive  \n",
       "16  Positive  \n",
       "17  Positive  \n",
       "18  Positive  \n",
       "19  Positive  "
      ]
     },
     "execution_count": 19,
     "metadata": {},
     "output_type": "execute_result"
    }
   ],
   "source": [
    "data.head(25)"
   ]
  },
  {
   "cell_type": "code",
   "execution_count": null,
   "metadata": {},
   "outputs": [],
   "source": [
    "data['sentiment'].value_counts()"
   ]
  },
  {
   "cell_type": "code",
   "execution_count": null,
   "metadata": {},
   "outputs": [],
   "source": []
  },
  {
   "cell_type": "code",
   "execution_count": null,
   "metadata": {},
   "outputs": [],
   "source": []
  }
 ],
 "metadata": {
  "kernelspec": {
   "display_name": ".venv",
   "language": "python",
   "name": "python3"
  },
  "language_info": {
   "codemirror_mode": {
    "name": "ipython",
    "version": 3
   },
   "file_extension": ".py",
   "mimetype": "text/x-python",
   "name": "python",
   "nbconvert_exporter": "python",
   "pygments_lexer": "ipython3",
   "version": "3.13.1"
  }
 },
 "nbformat": 4,
 "nbformat_minor": 2
}
