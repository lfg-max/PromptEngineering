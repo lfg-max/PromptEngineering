{
 "cells": [
  {
   "cell_type": "code",
   "execution_count": 1,
   "metadata": {},
   "outputs": [],
   "source": [
    "import helper_fn as hf\n",
    "import config as cf\n"
   ]
  },
  {
   "cell_type": "markdown",
   "metadata": {},
   "source": [
    "### Model & Instruction"
   ]
  },
  {
   "cell_type": "code",
   "execution_count": 2,
   "metadata": {},
   "outputs": [
    {
     "data": {
      "application/vnd.jupyter.widget-view+json": {
       "model_id": "1c3f15623abf459e888c313b919d0fa8",
       "version_major": 2,
       "version_minor": 0
      },
      "text/plain": [
       "Dropdown(description='Select Instruction:', options=('I_1', 'I_2', 'I_3', 'I_4', 'I_5'), value='I_1')"
      ]
     },
     "metadata": {},
     "output_type": "display_data"
    }
   ],
   "source": [
    "hf.instruction_dropdown_widget()"
   ]
  },
  {
   "cell_type": "code",
   "execution_count": 3,
   "metadata": {},
   "outputs": [
    {
     "data": {
      "text/plain": [
       "'\\n    You are an AI analyzing restaurant reviews. Classify the sentiment of the provided review into the following categories:\\n    - Positive\\n    - Negative\\n    - Neutral\\n'"
      ]
     },
     "execution_count": 3,
     "metadata": {},
     "output_type": "execute_result"
    }
   ],
   "source": [
    "hf.selected_instruction_value"
   ]
  },
  {
   "cell_type": "code",
   "execution_count": 5,
   "metadata": {},
   "outputs": [
    {
     "data": {
      "application/vnd.jupyter.widget-view+json": {
       "model_id": "1675a888b4f947a6b3bb053675c4a169",
       "version_major": 2,
       "version_minor": 0
      },
      "text/plain": [
       "Dropdown(description='Select LLM:', index=1, options=('llama3.2', 'mistral', 'marco-o1', 'qwen2.5-coder'), val…"
      ]
     },
     "metadata": {},
     "output_type": "display_data"
    }
   ],
   "source": [
    "hf.llm_dropdown_widget()"
   ]
  },
  {
   "cell_type": "code",
   "execution_count": 6,
   "metadata": {},
   "outputs": [
    {
     "data": {
      "text/plain": [
       "'mistral'"
      ]
     },
     "execution_count": 6,
     "metadata": {},
     "output_type": "execute_result"
    }
   ],
   "source": [
    "hf.selected_llm"
   ]
  },
  {
   "cell_type": "code",
   "execution_count": 7,
   "metadata": {},
   "outputs": [],
   "source": [
    "p1 = hf.Pompt(model_name = hf.selected_llm, instruction = hf.selected_instruction_value)"
   ]
  },
  {
   "cell_type": "code",
   "execution_count": 8,
   "metadata": {},
   "outputs": [
    {
     "data": {
      "text/plain": [
       "'mistral'"
      ]
     },
     "execution_count": 8,
     "metadata": {},
     "output_type": "execute_result"
    }
   ],
   "source": [
    "p1.model"
   ]
  },
  {
   "cell_type": "code",
   "execution_count": 9,
   "metadata": {},
   "outputs": [
    {
     "data": {
      "text/plain": [
       "'\\n    You are an AI analyzing restaurant reviews. Classify the sentiment of the provided review into the following categories:\\n    - Positive\\n    - Negative\\n    - Neutral\\n'"
      ]
     },
     "execution_count": 9,
     "metadata": {},
     "output_type": "execute_result"
    }
   ],
   "source": [
    "p1.instruction"
   ]
  },
  {
   "cell_type": "code",
   "execution_count": 10,
   "metadata": {},
   "outputs": [],
   "source": [
    "# getting the data\n",
    "data_og = p1.get_data()\n",
    "\n",
    "# creating a copy of the data\n",
    "data = data_og.copy()"
   ]
  },
  {
   "cell_type": "code",
   "execution_count": 11,
   "metadata": {},
   "outputs": [
    {
     "data": {
      "text/html": [
       "<div>\n",
       "<style scoped>\n",
       "    .dataframe tbody tr th:only-of-type {\n",
       "        vertical-align: middle;\n",
       "    }\n",
       "\n",
       "    .dataframe tbody tr th {\n",
       "        vertical-align: top;\n",
       "    }\n",
       "\n",
       "    .dataframe thead th {\n",
       "        text-align: right;\n",
       "    }\n",
       "</style>\n",
       "<table border=\"1\" class=\"dataframe\">\n",
       "  <thead>\n",
       "    <tr style=\"text-align: right;\">\n",
       "      <th></th>\n",
       "      <th>restaurant_ID</th>\n",
       "      <th>rating_review</th>\n",
       "      <th>review_full</th>\n",
       "    </tr>\n",
       "  </thead>\n",
       "  <tbody>\n",
       "    <tr>\n",
       "      <th>0</th>\n",
       "      <td>FLV202</td>\n",
       "      <td>5</td>\n",
       "      <td>Totally in love with the Auro of the place, really beautiful and quite fancy at the same time. The ambience is very pure and gives a sense of positivity throughout. Outdoor and indoor interior are quite quaint and cute. Love the open kitchen idea and there whole marketplace ideology. Due to coronovirus they specifically use disposable cutlery to keep the pandemic in mind taking all the precautionary measures from the beginning of the place with the mask on their staff and using good sanitisation. The food is really amazing specially the pizza straight from the oven and the hummus and pita bread are quite delicious too. If you're looking for a classy yet soothing Italian place in Delhi,Fatjar is a go to for you!</td>\n",
       "    </tr>\n",
       "    <tr>\n",
       "      <th>1</th>\n",
       "      <td>SAV303</td>\n",
       "      <td>5</td>\n",
       "      <td>Kailash colony is brimming with small cafes now. I happened to visit this beauty for lunch and was amazed with the 1st impression it made.  We started with Falafel &amp; Pita and Margherita Pizza. Safe to say, Margherita pizza was the best choice of the day. Its made freshly in front of you in the Wood Fired oven. The taste was exquisite and I would recommend this to anybody who plans to visit this outlet. I could come here just to have that Pizza. Hummus, Pita and Falafel were a good side dish while we ordered the next couple of dishes. We moved on to order Fussili Alfredo. This white sauce fussili pasta was good but could not be compared to the pizza we had earlier.  In the end, we went for Frozen Yoghurt with Honey. It is recommended to have it with honey, which will do wonders to the frozen yoghurt!  This place turned out to be quite peaceful and the plants enhanced its beauty.</td>\n",
       "    </tr>\n",
       "    <tr>\n",
       "      <th>2</th>\n",
       "      <td>YUM789</td>\n",
       "      <td>5</td>\n",
       "      <td>Excellent taste and awesome decorum. Must visit. Subham Barnwal had given us a great service. One of the best experience.</td>\n",
       "    </tr>\n",
       "    <tr>\n",
       "      <th>3</th>\n",
       "      <td>TST101</td>\n",
       "      <td>5</td>\n",
       "      <td>I have visited at jw lough/restourant. There were a first class service at lough, specially Ms.laxmi  who were superbed for handling the client need, me and my family lots enjoyed her specialty in the manner, and Laxmi is a very very good in the client service, I hope when I will come against I would definitely serve from Ms. Laxmi and she is wonderful girl in that service. See you again Ms. Laxmi for the your best service which I have received from you at jw lough/resourant. Thank you JW Marriott Hotel at Atrocity, Delhi</td>\n",
       "    </tr>\n",
       "    <tr>\n",
       "      <th>4</th>\n",
       "      <td>EAT456</td>\n",
       "      <td>5</td>\n",
       "      <td>Had a great experience in the restaurant food was fabulous, staff was nice. Hotel staff seems very professional specially the team at front desk although I was not staying there but they helped me with few of my quarries. Was dining with my kids and the team member at front desk young guy came with some kids book and gave it to my little child. It was a wonderful experience at Holiday inn and the staff was super . I was little worried as using the hotel first time for dining but the staff made it more comfortable. Will strongly recommend this and special thanks to people working at desk do not remember his name but he was a manager in the lobby who suggested us kylin for food and thanks to him that we enjoyed meal at kylin and now it's my first choice for food.</td>\n",
       "    </tr>\n",
       "  </tbody>\n",
       "</table>\n",
       "</div>"
      ],
      "text/plain": [
       "  restaurant_ID  rating_review  \\\n",
       "0        FLV202              5   \n",
       "1        SAV303              5   \n",
       "2        YUM789              5   \n",
       "3        TST101              5   \n",
       "4        EAT456              5   \n",
       "\n",
       "                                                                                                                                                                                                                                                                                                                                                                                                                                                                                                                                                                                                                                                                                                                                                                                                                                                                                                                  review_full  \n",
       "0                                                                                                                                                                            Totally in love with the Auro of the place, really beautiful and quite fancy at the same time. The ambience is very pure and gives a sense of positivity throughout. Outdoor and indoor interior are quite quaint and cute. Love the open kitchen idea and there whole marketplace ideology. Due to coronovirus they specifically use disposable cutlery to keep the pandemic in mind taking all the precautionary measures from the beginning of the place with the mask on their staff and using good sanitisation. The food is really amazing specially the pizza straight from the oven and the hummus and pita bread are quite delicious too. If you're looking for a classy yet soothing Italian place in Delhi,Fatjar is a go to for you!  \n",
       "1  Kailash colony is brimming with small cafes now. I happened to visit this beauty for lunch and was amazed with the 1st impression it made.  We started with Falafel & Pita and Margherita Pizza. Safe to say, Margherita pizza was the best choice of the day. Its made freshly in front of you in the Wood Fired oven. The taste was exquisite and I would recommend this to anybody who plans to visit this outlet. I could come here just to have that Pizza. Hummus, Pita and Falafel were a good side dish while we ordered the next couple of dishes. We moved on to order Fussili Alfredo. This white sauce fussili pasta was good but could not be compared to the pizza we had earlier.  In the end, we went for Frozen Yoghurt with Honey. It is recommended to have it with honey, which will do wonders to the frozen yoghurt!  This place turned out to be quite peaceful and the plants enhanced its beauty.  \n",
       "2                                                                                                                                                                                                                                                                                                                                                                                                                                                                                                                                                                                                                                                                                                                                                                                                   Excellent taste and awesome decorum. Must visit. Subham Barnwal had given us a great service. One of the best experience.  \n",
       "3                                                                                                                                                                                                                                                                                                                                                                             I have visited at jw lough/restourant. There were a first class service at lough, specially Ms.laxmi  who were superbed for handling the client need, me and my family lots enjoyed her specialty in the manner, and Laxmi is a very very good in the client service, I hope when I will come against I would definitely serve from Ms. Laxmi and she is wonderful girl in that service. See you again Ms. Laxmi for the your best service which I have received from you at jw lough/resourant. Thank you JW Marriott Hotel at Atrocity, Delhi  \n",
       "4                                                                                                                         Had a great experience in the restaurant food was fabulous, staff was nice. Hotel staff seems very professional specially the team at front desk although I was not staying there but they helped me with few of my quarries. Was dining with my kids and the team member at front desk young guy came with some kids book and gave it to my little child. It was a wonderful experience at Holiday inn and the staff was super . I was little worried as using the hotel first time for dining but the staff made it more comfortable. Will strongly recommend this and special thanks to people working at desk do not remember his name but he was a manager in the lobby who suggested us kylin for food and thanks to him that we enjoyed meal at kylin and now it's my first choice for food.  "
      ]
     },
     "execution_count": 11,
     "metadata": {},
     "output_type": "execute_result"
    }
   ],
   "source": [
    "data.head()"
   ]
  },
  {
   "cell_type": "markdown",
   "metadata": {},
   "source": [
    "#### Check how this instructionn works on a single input"
   ]
  },
  {
   "cell_type": "code",
   "execution_count": 12,
   "metadata": {},
   "outputs": [
    {
     "name": "stdout",
     "output_type": "stream",
     "text": [
      " Positive\n"
     ]
    }
   ],
   "source": [
    "m = p1.generate_response(data['review_full'].values[0])\n",
    "print(m)"
   ]
  },
  {
   "cell_type": "markdown",
   "metadata": {},
   "source": [
    "#### Now apply that to all the reviews"
   ]
  },
  {
   "cell_type": "code",
   "execution_count": 13,
   "metadata": {},
   "outputs": [],
   "source": [
    "column_name = p1.model + ' - I1'\n",
    "\n",
    "data[column_name] = data['review_full'].apply(\n",
    "                                                 lambda x: p1.generate_response(x))\n"
   ]
  },
  {
   "cell_type": "markdown",
   "metadata": {},
   "source": [
    "#### Check the Data"
   ]
  },
  {
   "cell_type": "code",
   "execution_count": 14,
   "metadata": {},
   "outputs": [
    {
     "data": {
      "text/html": [
       "<div>\n",
       "<style scoped>\n",
       "    .dataframe tbody tr th:only-of-type {\n",
       "        vertical-align: middle;\n",
       "    }\n",
       "\n",
       "    .dataframe tbody tr th {\n",
       "        vertical-align: top;\n",
       "    }\n",
       "\n",
       "    .dataframe thead th {\n",
       "        text-align: right;\n",
       "    }\n",
       "</style>\n",
       "<table border=\"1\" class=\"dataframe\">\n",
       "  <thead>\n",
       "    <tr style=\"text-align: right;\">\n",
       "      <th></th>\n",
       "      <th>restaurant_ID</th>\n",
       "      <th>rating_review</th>\n",
       "      <th>review_full</th>\n",
       "      <th>mistral - I1</th>\n",
       "    </tr>\n",
       "  </thead>\n",
       "  <tbody>\n",
       "    <tr>\n",
       "      <th>0</th>\n",
       "      <td>FLV202</td>\n",
       "      <td>5</td>\n",
       "      <td>Totally in love with the Auro of the place, really beautiful and quite fancy at the same time. The ambience is very pure and gives a sense of positivity throughout. Outdoor and indoor interior are quite quaint and cute. Love the open kitchen idea and there whole marketplace ideology. Due to coronovirus they specifically use disposable cutlery to keep the pandemic in mind taking all the precautionary measures from the beginning of the place with the mask on their staff and using good sanitisation. The food is really amazing specially the pizza straight from the oven and the hummus and pita bread are quite delicious too. If you're looking for a classy yet soothing Italian place in Delhi,Fatjar is a go to for you!</td>\n",
       "      <td>Positive</td>\n",
       "    </tr>\n",
       "    <tr>\n",
       "      <th>1</th>\n",
       "      <td>SAV303</td>\n",
       "      <td>5</td>\n",
       "      <td>Kailash colony is brimming with small cafes now. I happened to visit this beauty for lunch and was amazed with the 1st impression it made.  We started with Falafel &amp; Pita and Margherita Pizza. Safe to say, Margherita pizza was the best choice of the day. Its made freshly in front of you in the Wood Fired oven. The taste was exquisite and I would recommend this to anybody who plans to visit this outlet. I could come here just to have that Pizza. Hummus, Pita and Falafel were a good side dish while we ordered the next couple of dishes. We moved on to order Fussili Alfredo. This white sauce fussili pasta was good but could not be compared to the pizza we had earlier.  In the end, we went for Frozen Yoghurt with Honey. It is recommended to have it with honey, which will do wonders to the frozen yoghurt!  This place turned out to be quite peaceful and the plants enhanced its beauty.</td>\n",
       "      <td>Positive</td>\n",
       "    </tr>\n",
       "    <tr>\n",
       "      <th>2</th>\n",
       "      <td>YUM789</td>\n",
       "      <td>5</td>\n",
       "      <td>Excellent taste and awesome decorum. Must visit. Subham Barnwal had given us a great service. One of the best experience.</td>\n",
       "      <td>Positive</td>\n",
       "    </tr>\n",
       "    <tr>\n",
       "      <th>3</th>\n",
       "      <td>TST101</td>\n",
       "      <td>5</td>\n",
       "      <td>I have visited at jw lough/restourant. There were a first class service at lough, specially Ms.laxmi  who were superbed for handling the client need, me and my family lots enjoyed her specialty in the manner, and Laxmi is a very very good in the client service, I hope when I will come against I would definitely serve from Ms. Laxmi and she is wonderful girl in that service. See you again Ms. Laxmi for the your best service which I have received from you at jw lough/resourant. Thank you JW Marriott Hotel at Atrocity, Delhi</td>\n",
       "      <td>Positive</td>\n",
       "    </tr>\n",
       "    <tr>\n",
       "      <th>4</th>\n",
       "      <td>EAT456</td>\n",
       "      <td>5</td>\n",
       "      <td>Had a great experience in the restaurant food was fabulous, staff was nice. Hotel staff seems very professional specially the team at front desk although I was not staying there but they helped me with few of my quarries. Was dining with my kids and the team member at front desk young guy came with some kids book and gave it to my little child. It was a wonderful experience at Holiday inn and the staff was super . I was little worried as using the hotel first time for dining but the staff made it more comfortable. Will strongly recommend this and special thanks to people working at desk do not remember his name but he was a manager in the lobby who suggested us kylin for food and thanks to him that we enjoyed meal at kylin and now it's my first choice for food.</td>\n",
       "      <td>Positive</td>\n",
       "    </tr>\n",
       "  </tbody>\n",
       "</table>\n",
       "</div>"
      ],
      "text/plain": [
       "  restaurant_ID  rating_review  \\\n",
       "0        FLV202              5   \n",
       "1        SAV303              5   \n",
       "2        YUM789              5   \n",
       "3        TST101              5   \n",
       "4        EAT456              5   \n",
       "\n",
       "                                                                                                                                                                                                                                                                                                                                                                                                                                                                                                                                                                                                                                                                                                                                                                                                                                                                                                                  review_full  \\\n",
       "0                                                                                                                                                                            Totally in love with the Auro of the place, really beautiful and quite fancy at the same time. The ambience is very pure and gives a sense of positivity throughout. Outdoor and indoor interior are quite quaint and cute. Love the open kitchen idea and there whole marketplace ideology. Due to coronovirus they specifically use disposable cutlery to keep the pandemic in mind taking all the precautionary measures from the beginning of the place with the mask on their staff and using good sanitisation. The food is really amazing specially the pizza straight from the oven and the hummus and pita bread are quite delicious too. If you're looking for a classy yet soothing Italian place in Delhi,Fatjar is a go to for you!   \n",
       "1  Kailash colony is brimming with small cafes now. I happened to visit this beauty for lunch and was amazed with the 1st impression it made.  We started with Falafel & Pita and Margherita Pizza. Safe to say, Margherita pizza was the best choice of the day. Its made freshly in front of you in the Wood Fired oven. The taste was exquisite and I would recommend this to anybody who plans to visit this outlet. I could come here just to have that Pizza. Hummus, Pita and Falafel were a good side dish while we ordered the next couple of dishes. We moved on to order Fussili Alfredo. This white sauce fussili pasta was good but could not be compared to the pizza we had earlier.  In the end, we went for Frozen Yoghurt with Honey. It is recommended to have it with honey, which will do wonders to the frozen yoghurt!  This place turned out to be quite peaceful and the plants enhanced its beauty.   \n",
       "2                                                                                                                                                                                                                                                                                                                                                                                                                                                                                                                                                                                                                                                                                                                                                                                                   Excellent taste and awesome decorum. Must visit. Subham Barnwal had given us a great service. One of the best experience.   \n",
       "3                                                                                                                                                                                                                                                                                                                                                                             I have visited at jw lough/restourant. There were a first class service at lough, specially Ms.laxmi  who were superbed for handling the client need, me and my family lots enjoyed her specialty in the manner, and Laxmi is a very very good in the client service, I hope when I will come against I would definitely serve from Ms. Laxmi and she is wonderful girl in that service. See you again Ms. Laxmi for the your best service which I have received from you at jw lough/resourant. Thank you JW Marriott Hotel at Atrocity, Delhi   \n",
       "4                                                                                                                         Had a great experience in the restaurant food was fabulous, staff was nice. Hotel staff seems very professional specially the team at front desk although I was not staying there but they helped me with few of my quarries. Was dining with my kids and the team member at front desk young guy came with some kids book and gave it to my little child. It was a wonderful experience at Holiday inn and the staff was super . I was little worried as using the hotel first time for dining but the staff made it more comfortable. Will strongly recommend this and special thanks to people working at desk do not remember his name but he was a manager in the lobby who suggested us kylin for food and thanks to him that we enjoyed meal at kylin and now it's my first choice for food.   \n",
       "\n",
       "  mistral - I1  \n",
       "0     Positive  \n",
       "1     Positive  \n",
       "2     Positive  \n",
       "3     Positive  \n",
       "4     Positive  "
      ]
     },
     "execution_count": 14,
     "metadata": {},
     "output_type": "execute_result"
    }
   ],
   "source": [
    "data.head()"
   ]
  },
  {
   "cell_type": "markdown",
   "metadata": {},
   "source": [
    "#### See one of the model responses"
   ]
  },
  {
   "cell_type": "code",
   "execution_count": 15,
   "metadata": {},
   "outputs": [],
   "source": [
    "# review = data['review_full'].values[0]\n",
    "# response = data[column_name].values[0]\n",
    "# review, response"
   ]
  },
  {
   "cell_type": "markdown",
   "metadata": {},
   "source": [
    "#### Check the Sentiments"
   ]
  },
  {
   "cell_type": "code",
   "execution_count": 16,
   "metadata": {},
   "outputs": [],
   "source": [
    "# # applying the function to the model response\n",
    "# data['sentiment'] = data['model_response'].apply(p1.extract_sentiment)\n",
    "# data['sentiment'].head()"
   ]
  },
  {
   "cell_type": "markdown",
   "metadata": {},
   "source": [
    "## Instruction 2\n",
    "### 2. Sentiment Analysis and Returning Structured Output (Llama)\n",
    "\n",
    "\n",
    "defining the instructions for the model\n",
    "instruction_2 = \"\"\"\n",
    "    You are an AI analyzing restaurant reviews. Classify the sentiment of the provided review into the following categories:\n",
    "    - Positive\n",
    "    - Negative\n",
    "    - Neutral\n",
    "\n",
    "    Format the output as a JSON object with a single key-value pair as shown below:\n",
    "    {\"sentiment\": \"your_sentiment_prediction\"}\n",
    "\"\"\""
   ]
  },
  {
   "cell_type": "code",
   "execution_count": 17,
   "metadata": {},
   "outputs": [
    {
     "data": {
      "text/plain": [
       "'\\n    You are an AI analyzing restaurant reviews. Classify the sentiment of the provided review into the following categories:\\n    - Positive\\n    - Negative\\n    - Neutral\\n\\n    Format the output as a JSON object with a single key-value pair as shown below:\\n    {\"sentiment\": \"your_sentiment_prediction\"}\\n'"
      ]
     },
     "execution_count": 17,
     "metadata": {},
     "output_type": "execute_result"
    }
   ],
   "source": [
    "p1.set_instruction(cf.instruction_2)\n",
    "p1.instruction"
   ]
  },
  {
   "cell_type": "markdown",
   "metadata": {},
   "source": [
    "#### Check how this instructionn works on a single input"
   ]
  },
  {
   "cell_type": "code",
   "execution_count": 18,
   "metadata": {},
   "outputs": [
    {
     "name": "stdout",
     "output_type": "stream",
     "text": [
      " {\"sentiment\": \"Positive\"}\n"
     ]
    }
   ],
   "source": [
    "m = p1.generate_response(data['review_full'].values[0])\n",
    "print(m)"
   ]
  },
  {
   "cell_type": "markdown",
   "metadata": {},
   "source": [
    "#### Now apply that to all the reviews"
   ]
  },
  {
   "cell_type": "code",
   "execution_count": 19,
   "metadata": {},
   "outputs": [],
   "source": [
    "column_name = p1.model + ' - I2'\n",
    "\n",
    "data[column_name] = data['review_full'].apply(\n",
    "                                                 lambda x: p1.generate_response(x))\n"
   ]
  },
  {
   "cell_type": "markdown",
   "metadata": {},
   "source": [
    "#### Check the Data"
   ]
  },
  {
   "cell_type": "code",
   "execution_count": 20,
   "metadata": {},
   "outputs": [
    {
     "data": {
      "text/html": [
       "<div>\n",
       "<style scoped>\n",
       "    .dataframe tbody tr th:only-of-type {\n",
       "        vertical-align: middle;\n",
       "    }\n",
       "\n",
       "    .dataframe tbody tr th {\n",
       "        vertical-align: top;\n",
       "    }\n",
       "\n",
       "    .dataframe thead th {\n",
       "        text-align: right;\n",
       "    }\n",
       "</style>\n",
       "<table border=\"1\" class=\"dataframe\">\n",
       "  <thead>\n",
       "    <tr style=\"text-align: right;\">\n",
       "      <th></th>\n",
       "      <th>restaurant_ID</th>\n",
       "      <th>rating_review</th>\n",
       "      <th>review_full</th>\n",
       "      <th>mistral - I1</th>\n",
       "      <th>mistral - I2</th>\n",
       "    </tr>\n",
       "  </thead>\n",
       "  <tbody>\n",
       "    <tr>\n",
       "      <th>0</th>\n",
       "      <td>FLV202</td>\n",
       "      <td>5</td>\n",
       "      <td>Totally in love with the Auro of the place, really beautiful and quite fancy at the same time. The ambience is very pure and gives a sense of positivity throughout. Outdoor and indoor interior are quite quaint and cute. Love the open kitchen idea and there whole marketplace ideology. Due to coronovirus they specifically use disposable cutlery to keep the pandemic in mind taking all the precautionary measures from the beginning of the place with the mask on their staff and using good sanitisation. The food is really amazing specially the pizza straight from the oven and the hummus and pita bread are quite delicious too. If you're looking for a classy yet soothing Italian place in Delhi,Fatjar is a go to for you!</td>\n",
       "      <td>Positive</td>\n",
       "      <td>{\"sentiment\": \"Positive\"}</td>\n",
       "    </tr>\n",
       "    <tr>\n",
       "      <th>1</th>\n",
       "      <td>SAV303</td>\n",
       "      <td>5</td>\n",
       "      <td>Kailash colony is brimming with small cafes now. I happened to visit this beauty for lunch and was amazed with the 1st impression it made.  We started with Falafel &amp; Pita and Margherita Pizza. Safe to say, Margherita pizza was the best choice of the day. Its made freshly in front of you in the Wood Fired oven. The taste was exquisite and I would recommend this to anybody who plans to visit this outlet. I could come here just to have that Pizza. Hummus, Pita and Falafel were a good side dish while we ordered the next couple of dishes. We moved on to order Fussili Alfredo. This white sauce fussili pasta was good but could not be compared to the pizza we had earlier.  In the end, we went for Frozen Yoghurt with Honey. It is recommended to have it with honey, which will do wonders to the frozen yoghurt!  This place turned out to be quite peaceful and the plants enhanced its beauty.</td>\n",
       "      <td>Positive</td>\n",
       "      <td>{\"sentiment\": \"Positive\"}</td>\n",
       "    </tr>\n",
       "    <tr>\n",
       "      <th>2</th>\n",
       "      <td>YUM789</td>\n",
       "      <td>5</td>\n",
       "      <td>Excellent taste and awesome decorum. Must visit. Subham Barnwal had given us a great service. One of the best experience.</td>\n",
       "      <td>Positive</td>\n",
       "      <td>{\"sentiment\": \"Positive\"}</td>\n",
       "    </tr>\n",
       "    <tr>\n",
       "      <th>3</th>\n",
       "      <td>TST101</td>\n",
       "      <td>5</td>\n",
       "      <td>I have visited at jw lough/restourant. There were a first class service at lough, specially Ms.laxmi  who were superbed for handling the client need, me and my family lots enjoyed her specialty in the manner, and Laxmi is a very very good in the client service, I hope when I will come against I would definitely serve from Ms. Laxmi and she is wonderful girl in that service. See you again Ms. Laxmi for the your best service which I have received from you at jw lough/resourant. Thank you JW Marriott Hotel at Atrocity, Delhi</td>\n",
       "      <td>Positive</td>\n",
       "      <td>{\"sentiment\": \"Positive\"}</td>\n",
       "    </tr>\n",
       "    <tr>\n",
       "      <th>4</th>\n",
       "      <td>EAT456</td>\n",
       "      <td>5</td>\n",
       "      <td>Had a great experience in the restaurant food was fabulous, staff was nice. Hotel staff seems very professional specially the team at front desk although I was not staying there but they helped me with few of my quarries. Was dining with my kids and the team member at front desk young guy came with some kids book and gave it to my little child. It was a wonderful experience at Holiday inn and the staff was super . I was little worried as using the hotel first time for dining but the staff made it more comfortable. Will strongly recommend this and special thanks to people working at desk do not remember his name but he was a manager in the lobby who suggested us kylin for food and thanks to him that we enjoyed meal at kylin and now it's my first choice for food.</td>\n",
       "      <td>Positive</td>\n",
       "      <td>{\"sentiment\": \"Positive\"}</td>\n",
       "    </tr>\n",
       "  </tbody>\n",
       "</table>\n",
       "</div>"
      ],
      "text/plain": [
       "  restaurant_ID  rating_review  \\\n",
       "0        FLV202              5   \n",
       "1        SAV303              5   \n",
       "2        YUM789              5   \n",
       "3        TST101              5   \n",
       "4        EAT456              5   \n",
       "\n",
       "                                                                                                                                                                                                                                                                                                                                                                                                                                                                                                                                                                                                                                                                                                                                                                                                                                                                                                                  review_full  \\\n",
       "0                                                                                                                                                                            Totally in love with the Auro of the place, really beautiful and quite fancy at the same time. The ambience is very pure and gives a sense of positivity throughout. Outdoor and indoor interior are quite quaint and cute. Love the open kitchen idea and there whole marketplace ideology. Due to coronovirus they specifically use disposable cutlery to keep the pandemic in mind taking all the precautionary measures from the beginning of the place with the mask on their staff and using good sanitisation. The food is really amazing specially the pizza straight from the oven and the hummus and pita bread are quite delicious too. If you're looking for a classy yet soothing Italian place in Delhi,Fatjar is a go to for you!   \n",
       "1  Kailash colony is brimming with small cafes now. I happened to visit this beauty for lunch and was amazed with the 1st impression it made.  We started with Falafel & Pita and Margherita Pizza. Safe to say, Margherita pizza was the best choice of the day. Its made freshly in front of you in the Wood Fired oven. The taste was exquisite and I would recommend this to anybody who plans to visit this outlet. I could come here just to have that Pizza. Hummus, Pita and Falafel were a good side dish while we ordered the next couple of dishes. We moved on to order Fussili Alfredo. This white sauce fussili pasta was good but could not be compared to the pizza we had earlier.  In the end, we went for Frozen Yoghurt with Honey. It is recommended to have it with honey, which will do wonders to the frozen yoghurt!  This place turned out to be quite peaceful and the plants enhanced its beauty.   \n",
       "2                                                                                                                                                                                                                                                                                                                                                                                                                                                                                                                                                                                                                                                                                                                                                                                                   Excellent taste and awesome decorum. Must visit. Subham Barnwal had given us a great service. One of the best experience.   \n",
       "3                                                                                                                                                                                                                                                                                                                                                                             I have visited at jw lough/restourant. There were a first class service at lough, specially Ms.laxmi  who were superbed for handling the client need, me and my family lots enjoyed her specialty in the manner, and Laxmi is a very very good in the client service, I hope when I will come against I would definitely serve from Ms. Laxmi and she is wonderful girl in that service. See you again Ms. Laxmi for the your best service which I have received from you at jw lough/resourant. Thank you JW Marriott Hotel at Atrocity, Delhi   \n",
       "4                                                                                                                         Had a great experience in the restaurant food was fabulous, staff was nice. Hotel staff seems very professional specially the team at front desk although I was not staying there but they helped me with few of my quarries. Was dining with my kids and the team member at front desk young guy came with some kids book and gave it to my little child. It was a wonderful experience at Holiday inn and the staff was super . I was little worried as using the hotel first time for dining but the staff made it more comfortable. Will strongly recommend this and special thanks to people working at desk do not remember his name but he was a manager in the lobby who suggested us kylin for food and thanks to him that we enjoyed meal at kylin and now it's my first choice for food.   \n",
       "\n",
       "  mistral - I1                mistral - I2  \n",
       "0     Positive   {\"sentiment\": \"Positive\"}  \n",
       "1     Positive   {\"sentiment\": \"Positive\"}  \n",
       "2     Positive   {\"sentiment\": \"Positive\"}  \n",
       "3     Positive   {\"sentiment\": \"Positive\"}  \n",
       "4     Positive   {\"sentiment\": \"Positive\"}  "
      ]
     },
     "execution_count": 20,
     "metadata": {},
     "output_type": "execute_result"
    }
   ],
   "source": [
    "data.head()"
   ]
  },
  {
   "cell_type": "markdown",
   "metadata": {},
   "source": [
    "## Instruction 3\n"
   ]
  },
  {
   "cell_type": "markdown",
   "metadata": {},
   "source": [
    "instruction_3 = \"\"\"\n",
    "    You are an AI analyzing restaurant reviews. Classify the overall sentiment of the provided review into the following categories:\n",
    "    - \"Positive\"\n",
    "    - \"Negative\"\n",
    "    - \"Neutral\"\n",
    "\n",
    "    Once that is done, check for a mention of the following aspects in the review and classify the sentiment of each aspect as \"Positive\", \"Negative\", or \"Neutral\":\n",
    "    1. \"Food Quality\"\n",
    "    2. \"Service\"\n",
    "    3. \"Ambience\"\n",
    "\n",
    "    Output the overall sentiment and sentiment for each category in a JSON format with the following keys:\n",
    "    {\n",
    "        \"Overall\": \"your_sentiment_prediction\",\n",
    "        \"Food Quality\": \"your_sentiment_prediction\",\n",
    "        \"Service\": \"your_sentiment_prediction\",\n",
    "        \"Ambience\": \"your_sentiment_prediction\"\n",
    "    }\n",
    "\n",
    "    In case one of the three aspects is not mentioned in the review, set \"Not Applicable\" (including quotes) for the corresponding JSON key value.\n",
    "    Only return the JSON, do not return any other information.\n",
    "\"\"\""
   ]
  },
  {
   "cell_type": "code",
   "execution_count": 21,
   "metadata": {},
   "outputs": [
    {
     "data": {
      "text/plain": [
       "'\\n    You are an AI analyzing restaurant reviews. Classify the overall sentiment of the provided review into the following categories:\\n    - \"Positive\"\\n    - \"Negative\"\\n    - \"Neutral\"\\n\\n    Once that is done, check for a mention of the following aspects in the review and classify the sentiment of each aspect as \"Positive\", \"Negative\", or \"Neutral\":\\n    1. \"Food Quality\"\\n    2. \"Service\"\\n    3. \"Ambience\"\\n\\n    Output the overall sentiment and sentiment for each category in a JSON format with the following keys:\\n    {\\n        \"Overall\": \"your_sentiment_prediction\",\\n        \"Food Quality\": \"your_sentiment_prediction\",\\n        \"Service\": \"your_sentiment_prediction\",\\n        \"Ambience\": \"your_sentiment_prediction\"\\n    }\\n\\n    In case one of the three aspects is not mentioned in the review, set \"Not Applicable\" (including quotes) for the corresponding JSON key value.\\n    Only return the JSON, do not return any other information.\\n'"
      ]
     },
     "execution_count": 21,
     "metadata": {},
     "output_type": "execute_result"
    }
   ],
   "source": [
    "p1.set_instruction(cf.instruction_3)\n",
    "p1.instruction"
   ]
  },
  {
   "cell_type": "markdown",
   "metadata": {},
   "source": [
    "#### Check how this instructionn works on a single input"
   ]
  },
  {
   "cell_type": "code",
   "execution_count": 22,
   "metadata": {},
   "outputs": [
    {
     "name": "stdout",
     "output_type": "stream",
     "text": [
      " {\n",
      "        \"Overall\": \"Positive\",\n",
      "        \"Food Quality\": \"Positive\",\n",
      "        \"Service\": \"Positive\",\n",
      "        \"Ambience\": \"Positive\"\n",
      "    }\n"
     ]
    }
   ],
   "source": [
    "m = p1.generate_response(data['review_full'].values[0])\n",
    "print(m)"
   ]
  },
  {
   "cell_type": "markdown",
   "metadata": {},
   "source": [
    "#### Now apply that to all the reviews"
   ]
  },
  {
   "cell_type": "code",
   "execution_count": 23,
   "metadata": {},
   "outputs": [],
   "source": [
    "column_name = p1.model + ' - I3'\n",
    "\n",
    "data[column_name] = data['review_full'].apply(\n",
    "                                                 lambda x: p1.generate_response(x))\n"
   ]
  },
  {
   "cell_type": "markdown",
   "metadata": {},
   "source": [
    "#### Check the Data"
   ]
  },
  {
   "cell_type": "code",
   "execution_count": 24,
   "metadata": {},
   "outputs": [
    {
     "data": {
      "text/html": [
       "<div>\n",
       "<style scoped>\n",
       "    .dataframe tbody tr th:only-of-type {\n",
       "        vertical-align: middle;\n",
       "    }\n",
       "\n",
       "    .dataframe tbody tr th {\n",
       "        vertical-align: top;\n",
       "    }\n",
       "\n",
       "    .dataframe thead th {\n",
       "        text-align: right;\n",
       "    }\n",
       "</style>\n",
       "<table border=\"1\" class=\"dataframe\">\n",
       "  <thead>\n",
       "    <tr style=\"text-align: right;\">\n",
       "      <th></th>\n",
       "      <th>restaurant_ID</th>\n",
       "      <th>rating_review</th>\n",
       "      <th>review_full</th>\n",
       "      <th>mistral - I1</th>\n",
       "      <th>mistral - I2</th>\n",
       "      <th>mistral - I3</th>\n",
       "    </tr>\n",
       "  </thead>\n",
       "  <tbody>\n",
       "    <tr>\n",
       "      <th>0</th>\n",
       "      <td>FLV202</td>\n",
       "      <td>5</td>\n",
       "      <td>Totally in love with the Auro of the place, really beautiful and quite fancy at the same time. The ambience is very pure and gives a sense of positivity throughout. Outdoor and indoor interior are quite quaint and cute. Love the open kitchen idea and there whole marketplace ideology. Due to coronovirus they specifically use disposable cutlery to keep the pandemic in mind taking all the precautionary measures from the beginning of the place with the mask on their staff and using good sanitisation. The food is really amazing specially the pizza straight from the oven and the hummus and pita bread are quite delicious too. If you're looking for a classy yet soothing Italian place in Delhi,Fatjar is a go to for you!</td>\n",
       "      <td>Positive</td>\n",
       "      <td>{\"sentiment\": \"Positive\"}</td>\n",
       "      <td>{\\n        \"Overall\": \"Positive\",\\n        \"Food Quality\": \"Positive\",\\n        \"Service\": \"Positive\",\\n        \"Ambience\": \"Positive\"\\n    }</td>\n",
       "    </tr>\n",
       "    <tr>\n",
       "      <th>1</th>\n",
       "      <td>SAV303</td>\n",
       "      <td>5</td>\n",
       "      <td>Kailash colony is brimming with small cafes now. I happened to visit this beauty for lunch and was amazed with the 1st impression it made.  We started with Falafel &amp; Pita and Margherita Pizza. Safe to say, Margherita pizza was the best choice of the day. Its made freshly in front of you in the Wood Fired oven. The taste was exquisite and I would recommend this to anybody who plans to visit this outlet. I could come here just to have that Pizza. Hummus, Pita and Falafel were a good side dish while we ordered the next couple of dishes. We moved on to order Fussili Alfredo. This white sauce fussili pasta was good but could not be compared to the pizza we had earlier.  In the end, we went for Frozen Yoghurt with Honey. It is recommended to have it with honey, which will do wonders to the frozen yoghurt!  This place turned out to be quite peaceful and the plants enhanced its beauty.</td>\n",
       "      <td>Positive</td>\n",
       "      <td>{\"sentiment\": \"Positive\"}</td>\n",
       "      <td>{\\n        \"Overall\": \"Positive\",\\n        \"Food Quality\": \"Positive\",\\n        \"Service\": \"Not Applicable\",\\n        \"Ambience\": \"Positive\"\\n    }</td>\n",
       "    </tr>\n",
       "    <tr>\n",
       "      <th>2</th>\n",
       "      <td>YUM789</td>\n",
       "      <td>5</td>\n",
       "      <td>Excellent taste and awesome decorum. Must visit. Subham Barnwal had given us a great service. One of the best experience.</td>\n",
       "      <td>Positive</td>\n",
       "      <td>{\"sentiment\": \"Positive\"}</td>\n",
       "      <td>{\\n        \"Overall\": \"Positive\",\\n        \"Food Quality\": \"Not Applicable\",\\n        \"Service\": \"Positive\",\\n        \"Ambience\": \"Positive\"\\n    }</td>\n",
       "    </tr>\n",
       "    <tr>\n",
       "      <th>3</th>\n",
       "      <td>TST101</td>\n",
       "      <td>5</td>\n",
       "      <td>I have visited at jw lough/restourant. There were a first class service at lough, specially Ms.laxmi  who were superbed for handling the client need, me and my family lots enjoyed her specialty in the manner, and Laxmi is a very very good in the client service, I hope when I will come against I would definitely serve from Ms. Laxmi and she is wonderful girl in that service. See you again Ms. Laxmi for the your best service which I have received from you at jw lough/resourant. Thank you JW Marriott Hotel at Atrocity, Delhi</td>\n",
       "      <td>Positive</td>\n",
       "      <td>{\"sentiment\": \"Positive\"}</td>\n",
       "      <td>{\\n        \"Overall\": \"Positive\",\\n        \"Food Quality\": \"Not Applicable\",\\n        \"Service\": \"Positive\",\\n        \"Ambience\": \"Positive\"\\n    }</td>\n",
       "    </tr>\n",
       "    <tr>\n",
       "      <th>4</th>\n",
       "      <td>EAT456</td>\n",
       "      <td>5</td>\n",
       "      <td>Had a great experience in the restaurant food was fabulous, staff was nice. Hotel staff seems very professional specially the team at front desk although I was not staying there but they helped me with few of my quarries. Was dining with my kids and the team member at front desk young guy came with some kids book and gave it to my little child. It was a wonderful experience at Holiday inn and the staff was super . I was little worried as using the hotel first time for dining but the staff made it more comfortable. Will strongly recommend this and special thanks to people working at desk do not remember his name but he was a manager in the lobby who suggested us kylin for food and thanks to him that we enjoyed meal at kylin and now it's my first choice for food.</td>\n",
       "      <td>Positive</td>\n",
       "      <td>{\"sentiment\": \"Positive\"}</td>\n",
       "      <td>{\\n        \"Overall\": \"Positive\",\\n        \"Food Quality\": \"Positive\",\\n        \"Service\": \"Positive\",\\n        \"Ambience\": \"Not Applicable\"\\n    }</td>\n",
       "    </tr>\n",
       "  </tbody>\n",
       "</table>\n",
       "</div>"
      ],
      "text/plain": [
       "  restaurant_ID  rating_review  \\\n",
       "0        FLV202              5   \n",
       "1        SAV303              5   \n",
       "2        YUM789              5   \n",
       "3        TST101              5   \n",
       "4        EAT456              5   \n",
       "\n",
       "                                                                                                                                                                                                                                                                                                                                                                                                                                                                                                                                                                                                                                                                                                                                                                                                                                                                                                                  review_full  \\\n",
       "0                                                                                                                                                                            Totally in love with the Auro of the place, really beautiful and quite fancy at the same time. The ambience is very pure and gives a sense of positivity throughout. Outdoor and indoor interior are quite quaint and cute. Love the open kitchen idea and there whole marketplace ideology. Due to coronovirus they specifically use disposable cutlery to keep the pandemic in mind taking all the precautionary measures from the beginning of the place with the mask on their staff and using good sanitisation. The food is really amazing specially the pizza straight from the oven and the hummus and pita bread are quite delicious too. If you're looking for a classy yet soothing Italian place in Delhi,Fatjar is a go to for you!   \n",
       "1  Kailash colony is brimming with small cafes now. I happened to visit this beauty for lunch and was amazed with the 1st impression it made.  We started with Falafel & Pita and Margherita Pizza. Safe to say, Margherita pizza was the best choice of the day. Its made freshly in front of you in the Wood Fired oven. The taste was exquisite and I would recommend this to anybody who plans to visit this outlet. I could come here just to have that Pizza. Hummus, Pita and Falafel were a good side dish while we ordered the next couple of dishes. We moved on to order Fussili Alfredo. This white sauce fussili pasta was good but could not be compared to the pizza we had earlier.  In the end, we went for Frozen Yoghurt with Honey. It is recommended to have it with honey, which will do wonders to the frozen yoghurt!  This place turned out to be quite peaceful and the plants enhanced its beauty.   \n",
       "2                                                                                                                                                                                                                                                                                                                                                                                                                                                                                                                                                                                                                                                                                                                                                                                                   Excellent taste and awesome decorum. Must visit. Subham Barnwal had given us a great service. One of the best experience.   \n",
       "3                                                                                                                                                                                                                                                                                                                                                                             I have visited at jw lough/restourant. There were a first class service at lough, specially Ms.laxmi  who were superbed for handling the client need, me and my family lots enjoyed her specialty in the manner, and Laxmi is a very very good in the client service, I hope when I will come against I would definitely serve from Ms. Laxmi and she is wonderful girl in that service. See you again Ms. Laxmi for the your best service which I have received from you at jw lough/resourant. Thank you JW Marriott Hotel at Atrocity, Delhi   \n",
       "4                                                                                                                         Had a great experience in the restaurant food was fabulous, staff was nice. Hotel staff seems very professional specially the team at front desk although I was not staying there but they helped me with few of my quarries. Was dining with my kids and the team member at front desk young guy came with some kids book and gave it to my little child. It was a wonderful experience at Holiday inn and the staff was super . I was little worried as using the hotel first time for dining but the staff made it more comfortable. Will strongly recommend this and special thanks to people working at desk do not remember his name but he was a manager in the lobby who suggested us kylin for food and thanks to him that we enjoyed meal at kylin and now it's my first choice for food.   \n",
       "\n",
       "  mistral - I1                mistral - I2  \\\n",
       "0     Positive   {\"sentiment\": \"Positive\"}   \n",
       "1     Positive   {\"sentiment\": \"Positive\"}   \n",
       "2     Positive   {\"sentiment\": \"Positive\"}   \n",
       "3     Positive   {\"sentiment\": \"Positive\"}   \n",
       "4     Positive   {\"sentiment\": \"Positive\"}   \n",
       "\n",
       "                                                                                                                                           mistral - I3  \n",
       "0         {\\n        \"Overall\": \"Positive\",\\n        \"Food Quality\": \"Positive\",\\n        \"Service\": \"Positive\",\\n        \"Ambience\": \"Positive\"\\n    }  \n",
       "1   {\\n        \"Overall\": \"Positive\",\\n        \"Food Quality\": \"Positive\",\\n        \"Service\": \"Not Applicable\",\\n        \"Ambience\": \"Positive\"\\n    }  \n",
       "2   {\\n        \"Overall\": \"Positive\",\\n        \"Food Quality\": \"Not Applicable\",\\n        \"Service\": \"Positive\",\\n        \"Ambience\": \"Positive\"\\n    }  \n",
       "3   {\\n        \"Overall\": \"Positive\",\\n        \"Food Quality\": \"Not Applicable\",\\n        \"Service\": \"Positive\",\\n        \"Ambience\": \"Positive\"\\n    }  \n",
       "4   {\\n        \"Overall\": \"Positive\",\\n        \"Food Quality\": \"Positive\",\\n        \"Service\": \"Positive\",\\n        \"Ambience\": \"Not Applicable\"\\n    }  "
      ]
     },
     "execution_count": 24,
     "metadata": {},
     "output_type": "execute_result"
    }
   ],
   "source": [
    "data.head()"
   ]
  },
  {
   "cell_type": "code",
   "execution_count": null,
   "metadata": {},
   "outputs": [],
   "source": []
  },
  {
   "cell_type": "markdown",
   "metadata": {},
   "source": [
    "## Instruction 4\n"
   ]
  },
  {
   "cell_type": "markdown",
   "metadata": {},
   "source": [
    "instruction_4 = \"\"\"\n",
    "    You are provided a review and it's sentiment.\n",
    "\n",
    "    Instructions:\n",
    "    Classify the sentiment of each aspect as either of \"Positive\", \"Negative\", or \"Neutral\" only and not any other for the given review:\n",
    "    1. \"Food Quality\"\n",
    "    2. \"Service\"\n",
    "    3. \"Ambience\"\n",
    "    In case one of the three aspects is not mentioned in the review, return \"Not Applicable\" (including quotes) for the corresponding JSON key value.\n",
    "    Return the output in the format {\"Overall\": given sentiment input,\"Food Quality\": \"your_sentiment_prediction\",\"Service\": \"your_sentiment_prediction\",\"Ambience\": \"your_sentiment_prediction\"}\n",
    "\n",
    "\"\"\""
   ]
  },
  {
   "cell_type": "code",
   "execution_count": 25,
   "metadata": {},
   "outputs": [
    {
     "data": {
      "text/plain": [
       "'\\n    You are provided a review and it\\'s sentiment.\\n\\n    Instructions:\\n    Classify the sentiment of each aspect as either of \"Positive\", \"Negative\", or \"Neutral\" only and not any other for the given review:\\n    1. \"Food Quality\"\\n    2. \"Service\"\\n    3. \"Ambience\"\\n    In case one of the three aspects is not mentioned in the review, return \"Not Applicable\" (including quotes) for the corresponding JSON key value.\\n    Return the output in the format {\"Overall\": given sentiment input,\"Food Quality\": \"your_sentiment_prediction\",\"Service\": \"your_sentiment_prediction\",\"Ambience\": \"your_sentiment_prediction\"}\\n\\n'"
      ]
     },
     "execution_count": 25,
     "metadata": {},
     "output_type": "execute_result"
    }
   ],
   "source": [
    "p1.set_instruction(cf.instruction_4)\n",
    "p1.instruction"
   ]
  },
  {
   "cell_type": "markdown",
   "metadata": {},
   "source": [
    "#### Check how this instructionn works on a single input"
   ]
  },
  {
   "cell_type": "code",
   "execution_count": 26,
   "metadata": {},
   "outputs": [
    {
     "name": "stdout",
     "output_type": "stream",
     "text": [
      " {\n",
      "      \"Overall\": \"Positive\",\n",
      "      \"Food Quality\": \"Positive\",\n",
      "      \"Service\": \"Not Applicable\",\n",
      "      \"Ambience\": \"Positive\"\n",
      "    }\n"
     ]
    }
   ],
   "source": [
    "m = p1.generate_response(data['review_full'].values[0])\n",
    "print(m)"
   ]
  },
  {
   "cell_type": "markdown",
   "metadata": {},
   "source": [
    "#### Now apply that to all the reviews"
   ]
  },
  {
   "cell_type": "code",
   "execution_count": 27,
   "metadata": {},
   "outputs": [],
   "source": [
    "column_name = p1.model + ' - I4'\n",
    "\n",
    "data[column_name] = data['review_full'].apply(\n",
    "                                                 lambda x: p1.generate_response(x))\n"
   ]
  },
  {
   "cell_type": "markdown",
   "metadata": {},
   "source": [
    "#### Check the Data"
   ]
  },
  {
   "cell_type": "code",
   "execution_count": 28,
   "metadata": {},
   "outputs": [
    {
     "data": {
      "text/html": [
       "<div>\n",
       "<style scoped>\n",
       "    .dataframe tbody tr th:only-of-type {\n",
       "        vertical-align: middle;\n",
       "    }\n",
       "\n",
       "    .dataframe tbody tr th {\n",
       "        vertical-align: top;\n",
       "    }\n",
       "\n",
       "    .dataframe thead th {\n",
       "        text-align: right;\n",
       "    }\n",
       "</style>\n",
       "<table border=\"1\" class=\"dataframe\">\n",
       "  <thead>\n",
       "    <tr style=\"text-align: right;\">\n",
       "      <th></th>\n",
       "      <th>restaurant_ID</th>\n",
       "      <th>rating_review</th>\n",
       "      <th>review_full</th>\n",
       "      <th>mistral - I1</th>\n",
       "      <th>mistral - I2</th>\n",
       "      <th>mistral - I3</th>\n",
       "      <th>mistral - I4</th>\n",
       "    </tr>\n",
       "  </thead>\n",
       "  <tbody>\n",
       "    <tr>\n",
       "      <th>0</th>\n",
       "      <td>FLV202</td>\n",
       "      <td>5</td>\n",
       "      <td>Totally in love with the Auro of the place, really beautiful and quite fancy at the same time. The ambience is very pure and gives a sense of positivity throughout. Outdoor and indoor interior are quite quaint and cute. Love the open kitchen idea and there whole marketplace ideology. Due to coronovirus they specifically use disposable cutlery to keep the pandemic in mind taking all the precautionary measures from the beginning of the place with the mask on their staff and using good sanitisation. The food is really amazing specially the pizza straight from the oven and the hummus and pita bread are quite delicious too. If you're looking for a classy yet soothing Italian place in Delhi,Fatjar is a go to for you!</td>\n",
       "      <td>Positive</td>\n",
       "      <td>{\"sentiment\": \"Positive\"}</td>\n",
       "      <td>{\\n        \"Overall\": \"Positive\",\\n        \"Food Quality\": \"Positive\",\\n        \"Service\": \"Positive\",\\n        \"Ambience\": \"Positive\"\\n    }</td>\n",
       "      <td>{\\n      \"Overall\": \"Positive\",\\n      \"Food Quality\": \"Positive\",\\n      \"Service\": \"Not Applicable\",\\n      \"Ambience\": \"Positive\"\\n    }</td>\n",
       "    </tr>\n",
       "    <tr>\n",
       "      <th>1</th>\n",
       "      <td>SAV303</td>\n",
       "      <td>5</td>\n",
       "      <td>Kailash colony is brimming with small cafes now. I happened to visit this beauty for lunch and was amazed with the 1st impression it made.  We started with Falafel &amp; Pita and Margherita Pizza. Safe to say, Margherita pizza was the best choice of the day. Its made freshly in front of you in the Wood Fired oven. The taste was exquisite and I would recommend this to anybody who plans to visit this outlet. I could come here just to have that Pizza. Hummus, Pita and Falafel were a good side dish while we ordered the next couple of dishes. We moved on to order Fussili Alfredo. This white sauce fussili pasta was good but could not be compared to the pizza we had earlier.  In the end, we went for Frozen Yoghurt with Honey. It is recommended to have it with honey, which will do wonders to the frozen yoghurt!  This place turned out to be quite peaceful and the plants enhanced its beauty.</td>\n",
       "      <td>Positive</td>\n",
       "      <td>{\"sentiment\": \"Positive\"}</td>\n",
       "      <td>{\\n        \"Overall\": \"Positive\",\\n        \"Food Quality\": \"Positive\",\\n        \"Service\": \"Not Applicable\",\\n        \"Ambience\": \"Positive\"\\n    }</td>\n",
       "      <td>{\\n      \"Overall\": \"Positive\",\\n      \"Food Quality\": \"Positive\",\\n      \"Service\": \"Not Applicable\",\\n      \"Ambience\": \"Positive\"\\n    }</td>\n",
       "    </tr>\n",
       "    <tr>\n",
       "      <th>2</th>\n",
       "      <td>YUM789</td>\n",
       "      <td>5</td>\n",
       "      <td>Excellent taste and awesome decorum. Must visit. Subham Barnwal had given us a great service. One of the best experience.</td>\n",
       "      <td>Positive</td>\n",
       "      <td>{\"sentiment\": \"Positive\"}</td>\n",
       "      <td>{\\n        \"Overall\": \"Positive\",\\n        \"Food Quality\": \"Not Applicable\",\\n        \"Service\": \"Positive\",\\n        \"Ambience\": \"Positive\"\\n    }</td>\n",
       "      <td>{\\n      \"Overall\": \"Positive\",\\n      \"Food Quality\": \"Not Applicable\",\\n      \"Service\": \"Positive\",\\n      \"Ambience\": \"Positive\"\\n    }</td>\n",
       "    </tr>\n",
       "    <tr>\n",
       "      <th>3</th>\n",
       "      <td>TST101</td>\n",
       "      <td>5</td>\n",
       "      <td>I have visited at jw lough/restourant. There were a first class service at lough, specially Ms.laxmi  who were superbed for handling the client need, me and my family lots enjoyed her specialty in the manner, and Laxmi is a very very good in the client service, I hope when I will come against I would definitely serve from Ms. Laxmi and she is wonderful girl in that service. See you again Ms. Laxmi for the your best service which I have received from you at jw lough/resourant. Thank you JW Marriott Hotel at Atrocity, Delhi</td>\n",
       "      <td>Positive</td>\n",
       "      <td>{\"sentiment\": \"Positive\"}</td>\n",
       "      <td>{\\n        \"Overall\": \"Positive\",\\n        \"Food Quality\": \"Not Applicable\",\\n        \"Service\": \"Positive\",\\n        \"Ambience\": \"Positive\"\\n    }</td>\n",
       "      <td>{\\n      \"Overall\": \"Positive\",\\n      \"Food Quality\": \"Not Applicable\",\\n      \"Service\": \"Positive\",\\n      \"Ambience\": \"Not Applicable\"\\n    }</td>\n",
       "    </tr>\n",
       "    <tr>\n",
       "      <th>4</th>\n",
       "      <td>EAT456</td>\n",
       "      <td>5</td>\n",
       "      <td>Had a great experience in the restaurant food was fabulous, staff was nice. Hotel staff seems very professional specially the team at front desk although I was not staying there but they helped me with few of my quarries. Was dining with my kids and the team member at front desk young guy came with some kids book and gave it to my little child. It was a wonderful experience at Holiday inn and the staff was super . I was little worried as using the hotel first time for dining but the staff made it more comfortable. Will strongly recommend this and special thanks to people working at desk do not remember his name but he was a manager in the lobby who suggested us kylin for food and thanks to him that we enjoyed meal at kylin and now it's my first choice for food.</td>\n",
       "      <td>Positive</td>\n",
       "      <td>{\"sentiment\": \"Positive\"}</td>\n",
       "      <td>{\\n        \"Overall\": \"Positive\",\\n        \"Food Quality\": \"Positive\",\\n        \"Service\": \"Positive\",\\n        \"Ambience\": \"Not Applicable\"\\n    }</td>\n",
       "      <td>{\\n      \"Overall\": \"Positive\",\\n      \"Food Quality\": \"Positive\",\\n      \"Service\": \"Positive\",\\n      \"Ambience\": \"Not Applicable\"\\n    }</td>\n",
       "    </tr>\n",
       "  </tbody>\n",
       "</table>\n",
       "</div>"
      ],
      "text/plain": [
       "  restaurant_ID  rating_review  \\\n",
       "0        FLV202              5   \n",
       "1        SAV303              5   \n",
       "2        YUM789              5   \n",
       "3        TST101              5   \n",
       "4        EAT456              5   \n",
       "\n",
       "                                                                                                                                                                                                                                                                                                                                                                                                                                                                                                                                                                                                                                                                                                                                                                                                                                                                                                                  review_full  \\\n",
       "0                                                                                                                                                                            Totally in love with the Auro of the place, really beautiful and quite fancy at the same time. The ambience is very pure and gives a sense of positivity throughout. Outdoor and indoor interior are quite quaint and cute. Love the open kitchen idea and there whole marketplace ideology. Due to coronovirus they specifically use disposable cutlery to keep the pandemic in mind taking all the precautionary measures from the beginning of the place with the mask on their staff and using good sanitisation. The food is really amazing specially the pizza straight from the oven and the hummus and pita bread are quite delicious too. If you're looking for a classy yet soothing Italian place in Delhi,Fatjar is a go to for you!   \n",
       "1  Kailash colony is brimming with small cafes now. I happened to visit this beauty for lunch and was amazed with the 1st impression it made.  We started with Falafel & Pita and Margherita Pizza. Safe to say, Margherita pizza was the best choice of the day. Its made freshly in front of you in the Wood Fired oven. The taste was exquisite and I would recommend this to anybody who plans to visit this outlet. I could come here just to have that Pizza. Hummus, Pita and Falafel were a good side dish while we ordered the next couple of dishes. We moved on to order Fussili Alfredo. This white sauce fussili pasta was good but could not be compared to the pizza we had earlier.  In the end, we went for Frozen Yoghurt with Honey. It is recommended to have it with honey, which will do wonders to the frozen yoghurt!  This place turned out to be quite peaceful and the plants enhanced its beauty.   \n",
       "2                                                                                                                                                                                                                                                                                                                                                                                                                                                                                                                                                                                                                                                                                                                                                                                                   Excellent taste and awesome decorum. Must visit. Subham Barnwal had given us a great service. One of the best experience.   \n",
       "3                                                                                                                                                                                                                                                                                                                                                                             I have visited at jw lough/restourant. There were a first class service at lough, specially Ms.laxmi  who were superbed for handling the client need, me and my family lots enjoyed her specialty in the manner, and Laxmi is a very very good in the client service, I hope when I will come against I would definitely serve from Ms. Laxmi and she is wonderful girl in that service. See you again Ms. Laxmi for the your best service which I have received from you at jw lough/resourant. Thank you JW Marriott Hotel at Atrocity, Delhi   \n",
       "4                                                                                                                         Had a great experience in the restaurant food was fabulous, staff was nice. Hotel staff seems very professional specially the team at front desk although I was not staying there but they helped me with few of my quarries. Was dining with my kids and the team member at front desk young guy came with some kids book and gave it to my little child. It was a wonderful experience at Holiday inn and the staff was super . I was little worried as using the hotel first time for dining but the staff made it more comfortable. Will strongly recommend this and special thanks to people working at desk do not remember his name but he was a manager in the lobby who suggested us kylin for food and thanks to him that we enjoyed meal at kylin and now it's my first choice for food.   \n",
       "\n",
       "  mistral - I1                mistral - I2  \\\n",
       "0     Positive   {\"sentiment\": \"Positive\"}   \n",
       "1     Positive   {\"sentiment\": \"Positive\"}   \n",
       "2     Positive   {\"sentiment\": \"Positive\"}   \n",
       "3     Positive   {\"sentiment\": \"Positive\"}   \n",
       "4     Positive   {\"sentiment\": \"Positive\"}   \n",
       "\n",
       "                                                                                                                                           mistral - I3  \\\n",
       "0         {\\n        \"Overall\": \"Positive\",\\n        \"Food Quality\": \"Positive\",\\n        \"Service\": \"Positive\",\\n        \"Ambience\": \"Positive\"\\n    }   \n",
       "1   {\\n        \"Overall\": \"Positive\",\\n        \"Food Quality\": \"Positive\",\\n        \"Service\": \"Not Applicable\",\\n        \"Ambience\": \"Positive\"\\n    }   \n",
       "2   {\\n        \"Overall\": \"Positive\",\\n        \"Food Quality\": \"Not Applicable\",\\n        \"Service\": \"Positive\",\\n        \"Ambience\": \"Positive\"\\n    }   \n",
       "3   {\\n        \"Overall\": \"Positive\",\\n        \"Food Quality\": \"Not Applicable\",\\n        \"Service\": \"Positive\",\\n        \"Ambience\": \"Positive\"\\n    }   \n",
       "4   {\\n        \"Overall\": \"Positive\",\\n        \"Food Quality\": \"Positive\",\\n        \"Service\": \"Positive\",\\n        \"Ambience\": \"Not Applicable\"\\n    }   \n",
       "\n",
       "                                                                                                                                         mistral - I4  \n",
       "0         {\\n      \"Overall\": \"Positive\",\\n      \"Food Quality\": \"Positive\",\\n      \"Service\": \"Not Applicable\",\\n      \"Ambience\": \"Positive\"\\n    }  \n",
       "1         {\\n      \"Overall\": \"Positive\",\\n      \"Food Quality\": \"Positive\",\\n      \"Service\": \"Not Applicable\",\\n      \"Ambience\": \"Positive\"\\n    }  \n",
       "2         {\\n      \"Overall\": \"Positive\",\\n      \"Food Quality\": \"Not Applicable\",\\n      \"Service\": \"Positive\",\\n      \"Ambience\": \"Positive\"\\n    }  \n",
       "3   {\\n      \"Overall\": \"Positive\",\\n      \"Food Quality\": \"Not Applicable\",\\n      \"Service\": \"Positive\",\\n      \"Ambience\": \"Not Applicable\"\\n    }  \n",
       "4         {\\n      \"Overall\": \"Positive\",\\n      \"Food Quality\": \"Positive\",\\n      \"Service\": \"Positive\",\\n      \"Ambience\": \"Not Applicable\"\\n    }  "
      ]
     },
     "execution_count": 28,
     "metadata": {},
     "output_type": "execute_result"
    }
   ],
   "source": [
    "data.head()"
   ]
  },
  {
   "cell_type": "markdown",
   "metadata": {},
   "source": [
    "## Instruction 5\n"
   ]
  },
  {
   "cell_type": "markdown",
   "metadata": {},
   "source": [
    "# defining the instructions for the model\n",
    "instruction_5 = \"\"\"\n",
    "    You are an AI tasked with analyzing restaurant reviews. Your goal is to classify the overall sentiment of the provided review into the following categories:\n",
    "        - Positive\n",
    "        - Negative\n",
    "        - Neutral\n",
    "\n",
    "    Subsequently, assess the sentiment of specific aspects mentioned in the review, namely:\n",
    "        1. Food quality\n",
    "        2. Service\n",
    "        3. Ambience\n",
    "\n",
    "    Further, identify liked and/or disliked features associated with each aspect in the review.\n",
    "\n",
    "    Return the output in the specified JSON format, ensuring consistency and handling missing values appropriately:\n",
    "\n",
    "    {\n",
    "        \"Overall\": \"your_sentiment_prediction\",\n",
    "        \"Food Quality\": \"your_sentiment_prediction\",\n",
    "        \"Service\": \"your_sentiment_prediction\",\n",
    "        \"Ambience\": \"your_sentiment_prediction\",\n",
    "        \"Food Quality Features\": [\"liked/disliked features\"],\n",
    "        \"Service Features\": [\"liked/disliked features\"],\n",
    "        \"Ambience Features\": [\"liked/disliked features\"]\n",
    "    }\n",
    "\n",
    "    The sentiment prediction for Overall, Food Quality, Service, and Ambience should be one of \"Positive\", \"Negative\", or \"Neutral\" only.\n",
    "    In case one of the three aspects is not mentioned in the review, set \"Not Applicable\" (including quotes) in the corresponding JSON key value for the sentiment.\n",
    "    In case there are no liked/disliked features for a particular aspect, assign an empty list in the corresponding JSON key value for the aspect.\n",
    "    Only return the JSON, do NOT return any other text or information."
   ]
  },
  {
   "cell_type": "code",
   "execution_count": 29,
   "metadata": {},
   "outputs": [
    {
     "data": {
      "text/plain": [
       "'\\n    You are an AI tasked with analyzing restaurant reviews. Your goal is to classify the overall sentiment of the provided review into the following categories:\\n        - Positive\\n        - Negative\\n        - Neutral\\n\\n    Subsequently, assess the sentiment of specific aspects mentioned in the review, namely:\\n        1. Food quality\\n        2. Service\\n        3. Ambience\\n\\n    Further, identify liked and/or disliked features associated with each aspect in the review.\\n\\n    Return the output in the specified JSON format, ensuring consistency and handling missing values appropriately:\\n\\n    {\\n        \"Overall\": \"your_sentiment_prediction\",\\n        \"Food Quality\": \"your_sentiment_prediction\",\\n        \"Service\": \"your_sentiment_prediction\",\\n        \"Ambience\": \"your_sentiment_prediction\",\\n        \"Food Quality Features\": [\"liked/disliked features\"],\\n        \"Service Features\": [\"liked/disliked features\"],\\n        \"Ambience Features\": [\"liked/disliked features\"]\\n    }\\n\\n    The sentiment prediction for Overall, Food Quality, Service, and Ambience should be one of \"Positive\", \"Negative\", or \"Neutral\" only.\\n    In case one of the three aspects is not mentioned in the review, set \"Not Applicable\" (including quotes) in the corresponding JSON key value for the sentiment.\\n    In case there are no liked/disliked features for a particular aspect, assign an empty list in the corresponding JSON key value for the aspect.\\n    Only return the JSON, do NOT return any other text or information.\\n'"
      ]
     },
     "execution_count": 29,
     "metadata": {},
     "output_type": "execute_result"
    }
   ],
   "source": [
    "p1.set_instruction(cf.instruction_5)\n",
    "p1.instruction"
   ]
  },
  {
   "cell_type": "markdown",
   "metadata": {},
   "source": [
    "#### Check how this instructionn works on a single input"
   ]
  },
  {
   "cell_type": "code",
   "execution_count": 30,
   "metadata": {},
   "outputs": [
    {
     "name": "stdout",
     "output_type": "stream",
     "text": [
      " {\n",
      "        \"Overall\": \"Positive\",\n",
      "        \"Food Quality\": \"Positive\",\n",
      "        \"Service\": \"Not Applicable\",\n",
      "        \"Ambience\": \"Positive\",\n",
      "        \"Food Quality Features\": [\"pizza\", \"hummus and pita bread\"],\n",
      "        \"Service Features\": [],\n",
      "        \"Ambience Features\": [\"ambience is very pure\", \"gives a sense of positivity throughout\", \"quaint and cute\"]\n",
      "    }\n"
     ]
    }
   ],
   "source": [
    "m = p1.generate_response(data['review_full'].values[0])\n",
    "print(m)"
   ]
  },
  {
   "cell_type": "markdown",
   "metadata": {},
   "source": [
    "#### Now apply that to all the reviews"
   ]
  },
  {
   "cell_type": "code",
   "execution_count": 31,
   "metadata": {},
   "outputs": [],
   "source": [
    "column_name = p1.model + ' - I5'\n",
    "\n",
    "data[column_name] = data['review_full'].apply(\n",
    "                                                 lambda x: p1.generate_response(x))\n"
   ]
  },
  {
   "cell_type": "markdown",
   "metadata": {},
   "source": [
    "#### Check the Data"
   ]
  },
  {
   "cell_type": "code",
   "execution_count": 32,
   "metadata": {},
   "outputs": [
    {
     "data": {
      "text/html": [
       "<div>\n",
       "<style scoped>\n",
       "    .dataframe tbody tr th:only-of-type {\n",
       "        vertical-align: middle;\n",
       "    }\n",
       "\n",
       "    .dataframe tbody tr th {\n",
       "        vertical-align: top;\n",
       "    }\n",
       "\n",
       "    .dataframe thead th {\n",
       "        text-align: right;\n",
       "    }\n",
       "</style>\n",
       "<table border=\"1\" class=\"dataframe\">\n",
       "  <thead>\n",
       "    <tr style=\"text-align: right;\">\n",
       "      <th></th>\n",
       "      <th>restaurant_ID</th>\n",
       "      <th>rating_review</th>\n",
       "      <th>review_full</th>\n",
       "      <th>mistral - I1</th>\n",
       "      <th>mistral - I2</th>\n",
       "      <th>mistral - I3</th>\n",
       "      <th>mistral - I4</th>\n",
       "      <th>mistral - I5</th>\n",
       "    </tr>\n",
       "  </thead>\n",
       "  <tbody>\n",
       "    <tr>\n",
       "      <th>0</th>\n",
       "      <td>FLV202</td>\n",
       "      <td>5</td>\n",
       "      <td>Totally in love with the Auro of the place, really beautiful and quite fancy at the same time. The ambience is very pure and gives a sense of positivity throughout. Outdoor and indoor interior are quite quaint and cute. Love the open kitchen idea and there whole marketplace ideology. Due to coronovirus they specifically use disposable cutlery to keep the pandemic in mind taking all the precautionary measures from the beginning of the place with the mask on their staff and using good sanitisation. The food is really amazing specially the pizza straight from the oven and the hummus and pita bread are quite delicious too. If you're looking for a classy yet soothing Italian place in Delhi,Fatjar is a go to for you!</td>\n",
       "      <td>Positive</td>\n",
       "      <td>{\"sentiment\": \"Positive\"}</td>\n",
       "      <td>{\\n        \"Overall\": \"Positive\",\\n        \"Food Quality\": \"Positive\",\\n        \"Service\": \"Positive\",\\n        \"Ambience\": \"Positive\"\\n    }</td>\n",
       "      <td>{\\n      \"Overall\": \"Positive\",\\n      \"Food Quality\": \"Positive\",\\n      \"Service\": \"Not Applicable\",\\n      \"Ambience\": \"Positive\"\\n    }</td>\n",
       "      <td>{\\n        \"Overall\": \"Positive\",\\n        \"Food Quality\": \"Positive\",\\n        \"Service\": \"Not Applicable\",\\n        \"Ambience\": \"Positive\",\\n        \"Food Quality Features\": [\"pizza\", \"hummus and pita bread\"],\\n        \"Service Features\": [],\\n        \"Ambience Features\": [\"ambience is very pure\", \"gives a sense of positivity throughout\", \"quaint and cute\"]\\n    }</td>\n",
       "    </tr>\n",
       "    <tr>\n",
       "      <th>1</th>\n",
       "      <td>SAV303</td>\n",
       "      <td>5</td>\n",
       "      <td>Kailash colony is brimming with small cafes now. I happened to visit this beauty for lunch and was amazed with the 1st impression it made.  We started with Falafel &amp; Pita and Margherita Pizza. Safe to say, Margherita pizza was the best choice of the day. Its made freshly in front of you in the Wood Fired oven. The taste was exquisite and I would recommend this to anybody who plans to visit this outlet. I could come here just to have that Pizza. Hummus, Pita and Falafel were a good side dish while we ordered the next couple of dishes. We moved on to order Fussili Alfredo. This white sauce fussili pasta was good but could not be compared to the pizza we had earlier.  In the end, we went for Frozen Yoghurt with Honey. It is recommended to have it with honey, which will do wonders to the frozen yoghurt!  This place turned out to be quite peaceful and the plants enhanced its beauty.</td>\n",
       "      <td>Positive</td>\n",
       "      <td>{\"sentiment\": \"Positive\"}</td>\n",
       "      <td>{\\n        \"Overall\": \"Positive\",\\n        \"Food Quality\": \"Positive\",\\n        \"Service\": \"Not Applicable\",\\n        \"Ambience\": \"Positive\"\\n    }</td>\n",
       "      <td>{\\n      \"Overall\": \"Positive\",\\n      \"Food Quality\": \"Positive\",\\n      \"Service\": \"Not Applicable\",\\n      \"Ambience\": \"Positive\"\\n    }</td>\n",
       "      <td>{\\n        \"Overall\": \"Positive\",\\n        \"Food Quality\": \"Positive\",\\n        \"Service\": \"Not Applicable\",\\n        \"Ambience\": \"Positive\",\\n        \"Food Quality Features\": [\"Margherita pizza\", \"Hummus, Pita and Falafel\"],\\n        \"Service Features\": [],\\n        \"Ambience Features\": [\"peaceful\", \"beauty\", \"plants\"]\\n    }</td>\n",
       "    </tr>\n",
       "    <tr>\n",
       "      <th>2</th>\n",
       "      <td>YUM789</td>\n",
       "      <td>5</td>\n",
       "      <td>Excellent taste and awesome decorum. Must visit. Subham Barnwal had given us a great service. One of the best experience.</td>\n",
       "      <td>Positive</td>\n",
       "      <td>{\"sentiment\": \"Positive\"}</td>\n",
       "      <td>{\\n        \"Overall\": \"Positive\",\\n        \"Food Quality\": \"Not Applicable\",\\n        \"Service\": \"Positive\",\\n        \"Ambience\": \"Positive\"\\n    }</td>\n",
       "      <td>{\\n      \"Overall\": \"Positive\",\\n      \"Food Quality\": \"Not Applicable\",\\n      \"Service\": \"Positive\",\\n      \"Ambience\": \"Positive\"\\n    }</td>\n",
       "      <td>{\\n        \"Overall\": \"Positive\",\\n        \"Food Quality\": \"Not Applicable\",\\n        \"Service\": \"Positive\",\\n        \"Ambience\": \"Positive\",\\n        \"Food Quality Features\": [],\\n        \"Service Features\": [\"Subham Barnwal\"],\\n        \"Ambience Features\": []\\n    }</td>\n",
       "    </tr>\n",
       "    <tr>\n",
       "      <th>3</th>\n",
       "      <td>TST101</td>\n",
       "      <td>5</td>\n",
       "      <td>I have visited at jw lough/restourant. There were a first class service at lough, specially Ms.laxmi  who were superbed for handling the client need, me and my family lots enjoyed her specialty in the manner, and Laxmi is a very very good in the client service, I hope when I will come against I would definitely serve from Ms. Laxmi and she is wonderful girl in that service. See you again Ms. Laxmi for the your best service which I have received from you at jw lough/resourant. Thank you JW Marriott Hotel at Atrocity, Delhi</td>\n",
       "      <td>Positive</td>\n",
       "      <td>{\"sentiment\": \"Positive\"}</td>\n",
       "      <td>{\\n        \"Overall\": \"Positive\",\\n        \"Food Quality\": \"Not Applicable\",\\n        \"Service\": \"Positive\",\\n        \"Ambience\": \"Positive\"\\n    }</td>\n",
       "      <td>{\\n      \"Overall\": \"Positive\",\\n      \"Food Quality\": \"Not Applicable\",\\n      \"Service\": \"Positive\",\\n      \"Ambience\": \"Not Applicable\"\\n    }</td>\n",
       "      <td>{\\n        \"Overall\": \"Positive\",\\n        \"Food Quality\": \"Not Applicable\",\\n        \"Service\": \"Positive\",\\n        \"Ambience\": \"Positive\",\\n        \"Food Quality Features\": [],\\n        \"Service Features\": [\"Ms. Laxmi\"],\\n        \"Ambience Features\": []\\n    }</td>\n",
       "    </tr>\n",
       "    <tr>\n",
       "      <th>4</th>\n",
       "      <td>EAT456</td>\n",
       "      <td>5</td>\n",
       "      <td>Had a great experience in the restaurant food was fabulous, staff was nice. Hotel staff seems very professional specially the team at front desk although I was not staying there but they helped me with few of my quarries. Was dining with my kids and the team member at front desk young guy came with some kids book and gave it to my little child. It was a wonderful experience at Holiday inn and the staff was super . I was little worried as using the hotel first time for dining but the staff made it more comfortable. Will strongly recommend this and special thanks to people working at desk do not remember his name but he was a manager in the lobby who suggested us kylin for food and thanks to him that we enjoyed meal at kylin and now it's my first choice for food.</td>\n",
       "      <td>Positive</td>\n",
       "      <td>{\"sentiment\": \"Positive\"}</td>\n",
       "      <td>{\\n        \"Overall\": \"Positive\",\\n        \"Food Quality\": \"Positive\",\\n        \"Service\": \"Positive\",\\n        \"Ambience\": \"Not Applicable\"\\n    }</td>\n",
       "      <td>{\\n      \"Overall\": \"Positive\",\\n      \"Food Quality\": \"Positive\",\\n      \"Service\": \"Positive\",\\n      \"Ambience\": \"Not Applicable\"\\n    }</td>\n",
       "      <td>{\\n        \"Overall\": \"Positive\",\\n        \"Food Quality\": \"Positive\",\\n        \"Service\": \"Positive\",\\n        \"Ambience\": \"Positive\",\\n        \"Food Quality Features\": [\"fabulous\"],\\n        \"Service Features\": [\"nice\", \"professional\", \"comfortable\"],\\n        \"Ambience Features\": []\\n    }</td>\n",
       "    </tr>\n",
       "  </tbody>\n",
       "</table>\n",
       "</div>"
      ],
      "text/plain": [
       "  restaurant_ID  rating_review  \\\n",
       "0        FLV202              5   \n",
       "1        SAV303              5   \n",
       "2        YUM789              5   \n",
       "3        TST101              5   \n",
       "4        EAT456              5   \n",
       "\n",
       "                                                                                                                                                                                                                                                                                                                                                                                                                                                                                                                                                                                                                                                                                                                                                                                                                                                                                                                  review_full  \\\n",
       "0                                                                                                                                                                            Totally in love with the Auro of the place, really beautiful and quite fancy at the same time. The ambience is very pure and gives a sense of positivity throughout. Outdoor and indoor interior are quite quaint and cute. Love the open kitchen idea and there whole marketplace ideology. Due to coronovirus they specifically use disposable cutlery to keep the pandemic in mind taking all the precautionary measures from the beginning of the place with the mask on their staff and using good sanitisation. The food is really amazing specially the pizza straight from the oven and the hummus and pita bread are quite delicious too. If you're looking for a classy yet soothing Italian place in Delhi,Fatjar is a go to for you!   \n",
       "1  Kailash colony is brimming with small cafes now. I happened to visit this beauty for lunch and was amazed with the 1st impression it made.  We started with Falafel & Pita and Margherita Pizza. Safe to say, Margherita pizza was the best choice of the day. Its made freshly in front of you in the Wood Fired oven. The taste was exquisite and I would recommend this to anybody who plans to visit this outlet. I could come here just to have that Pizza. Hummus, Pita and Falafel were a good side dish while we ordered the next couple of dishes. We moved on to order Fussili Alfredo. This white sauce fussili pasta was good but could not be compared to the pizza we had earlier.  In the end, we went for Frozen Yoghurt with Honey. It is recommended to have it with honey, which will do wonders to the frozen yoghurt!  This place turned out to be quite peaceful and the plants enhanced its beauty.   \n",
       "2                                                                                                                                                                                                                                                                                                                                                                                                                                                                                                                                                                                                                                                                                                                                                                                                   Excellent taste and awesome decorum. Must visit. Subham Barnwal had given us a great service. One of the best experience.   \n",
       "3                                                                                                                                                                                                                                                                                                                                                                             I have visited at jw lough/restourant. There were a first class service at lough, specially Ms.laxmi  who were superbed for handling the client need, me and my family lots enjoyed her specialty in the manner, and Laxmi is a very very good in the client service, I hope when I will come against I would definitely serve from Ms. Laxmi and she is wonderful girl in that service. See you again Ms. Laxmi for the your best service which I have received from you at jw lough/resourant. Thank you JW Marriott Hotel at Atrocity, Delhi   \n",
       "4                                                                                                                         Had a great experience in the restaurant food was fabulous, staff was nice. Hotel staff seems very professional specially the team at front desk although I was not staying there but they helped me with few of my quarries. Was dining with my kids and the team member at front desk young guy came with some kids book and gave it to my little child. It was a wonderful experience at Holiday inn and the staff was super . I was little worried as using the hotel first time for dining but the staff made it more comfortable. Will strongly recommend this and special thanks to people working at desk do not remember his name but he was a manager in the lobby who suggested us kylin for food and thanks to him that we enjoyed meal at kylin and now it's my first choice for food.   \n",
       "\n",
       "  mistral - I1                mistral - I2  \\\n",
       "0     Positive   {\"sentiment\": \"Positive\"}   \n",
       "1     Positive   {\"sentiment\": \"Positive\"}   \n",
       "2     Positive   {\"sentiment\": \"Positive\"}   \n",
       "3     Positive   {\"sentiment\": \"Positive\"}   \n",
       "4     Positive   {\"sentiment\": \"Positive\"}   \n",
       "\n",
       "                                                                                                                                           mistral - I3  \\\n",
       "0         {\\n        \"Overall\": \"Positive\",\\n        \"Food Quality\": \"Positive\",\\n        \"Service\": \"Positive\",\\n        \"Ambience\": \"Positive\"\\n    }   \n",
       "1   {\\n        \"Overall\": \"Positive\",\\n        \"Food Quality\": \"Positive\",\\n        \"Service\": \"Not Applicable\",\\n        \"Ambience\": \"Positive\"\\n    }   \n",
       "2   {\\n        \"Overall\": \"Positive\",\\n        \"Food Quality\": \"Not Applicable\",\\n        \"Service\": \"Positive\",\\n        \"Ambience\": \"Positive\"\\n    }   \n",
       "3   {\\n        \"Overall\": \"Positive\",\\n        \"Food Quality\": \"Not Applicable\",\\n        \"Service\": \"Positive\",\\n        \"Ambience\": \"Positive\"\\n    }   \n",
       "4   {\\n        \"Overall\": \"Positive\",\\n        \"Food Quality\": \"Positive\",\\n        \"Service\": \"Positive\",\\n        \"Ambience\": \"Not Applicable\"\\n    }   \n",
       "\n",
       "                                                                                                                                         mistral - I4  \\\n",
       "0         {\\n      \"Overall\": \"Positive\",\\n      \"Food Quality\": \"Positive\",\\n      \"Service\": \"Not Applicable\",\\n      \"Ambience\": \"Positive\"\\n    }   \n",
       "1         {\\n      \"Overall\": \"Positive\",\\n      \"Food Quality\": \"Positive\",\\n      \"Service\": \"Not Applicable\",\\n      \"Ambience\": \"Positive\"\\n    }   \n",
       "2         {\\n      \"Overall\": \"Positive\",\\n      \"Food Quality\": \"Not Applicable\",\\n      \"Service\": \"Positive\",\\n      \"Ambience\": \"Positive\"\\n    }   \n",
       "3   {\\n      \"Overall\": \"Positive\",\\n      \"Food Quality\": \"Not Applicable\",\\n      \"Service\": \"Positive\",\\n      \"Ambience\": \"Not Applicable\"\\n    }   \n",
       "4         {\\n      \"Overall\": \"Positive\",\\n      \"Food Quality\": \"Positive\",\\n      \"Service\": \"Positive\",\\n      \"Ambience\": \"Not Applicable\"\\n    }   \n",
       "\n",
       "                                                                                                                                                                                                                                                                                                                                                                        mistral - I5  \n",
       "0   {\\n        \"Overall\": \"Positive\",\\n        \"Food Quality\": \"Positive\",\\n        \"Service\": \"Not Applicable\",\\n        \"Ambience\": \"Positive\",\\n        \"Food Quality Features\": [\"pizza\", \"hummus and pita bread\"],\\n        \"Service Features\": [],\\n        \"Ambience Features\": [\"ambience is very pure\", \"gives a sense of positivity throughout\", \"quaint and cute\"]\\n    }  \n",
       "1                                           {\\n        \"Overall\": \"Positive\",\\n        \"Food Quality\": \"Positive\",\\n        \"Service\": \"Not Applicable\",\\n        \"Ambience\": \"Positive\",\\n        \"Food Quality Features\": [\"Margherita pizza\", \"Hummus, Pita and Falafel\"],\\n        \"Service Features\": [],\\n        \"Ambience Features\": [\"peaceful\", \"beauty\", \"plants\"]\\n    }  \n",
       "2                                                                                                       {\\n        \"Overall\": \"Positive\",\\n        \"Food Quality\": \"Not Applicable\",\\n        \"Service\": \"Positive\",\\n        \"Ambience\": \"Positive\",\\n        \"Food Quality Features\": [],\\n        \"Service Features\": [\"Subham Barnwal\"],\\n        \"Ambience Features\": []\\n    }  \n",
       "3                                                                                                            {\\n        \"Overall\": \"Positive\",\\n        \"Food Quality\": \"Not Applicable\",\\n        \"Service\": \"Positive\",\\n        \"Ambience\": \"Positive\",\\n        \"Food Quality Features\": [],\\n        \"Service Features\": [\"Ms. Laxmi\"],\\n        \"Ambience Features\": []\\n    }  \n",
       "4                                                                              {\\n        \"Overall\": \"Positive\",\\n        \"Food Quality\": \"Positive\",\\n        \"Service\": \"Positive\",\\n        \"Ambience\": \"Positive\",\\n        \"Food Quality Features\": [\"fabulous\"],\\n        \"Service Features\": [\"nice\", \"professional\", \"comfortable\"],\\n        \"Ambience Features\": []\\n    }  "
      ]
     },
     "execution_count": 32,
     "metadata": {},
     "output_type": "execute_result"
    }
   ],
   "source": [
    "data.head()"
   ]
  },
  {
   "cell_type": "code",
   "execution_count": 34,
   "metadata": {},
   "outputs": [],
   "source": [
    "df = data.copy()"
   ]
  },
  {
   "cell_type": "code",
   "execution_count": null,
   "metadata": {},
   "outputs": [],
   "source": [
    "# 1. Remove extra spaces\n",
    "df[column_name] = df[column_name].str.strip() \n",
    "\n",
    "# 2. Remove newlines\n",
    "df[column_name] = df[column_name].str.replace('\\n', ' ', regex=False) "
   ]
  },
  {
   "cell_type": "code",
   "execution_count": 36,
   "metadata": {},
   "outputs": [
    {
     "data": {
      "text/html": [
       "<div>\n",
       "<style scoped>\n",
       "    .dataframe tbody tr th:only-of-type {\n",
       "        vertical-align: middle;\n",
       "    }\n",
       "\n",
       "    .dataframe tbody tr th {\n",
       "        vertical-align: top;\n",
       "    }\n",
       "\n",
       "    .dataframe thead th {\n",
       "        text-align: right;\n",
       "    }\n",
       "</style>\n",
       "<table border=\"1\" class=\"dataframe\">\n",
       "  <thead>\n",
       "    <tr style=\"text-align: right;\">\n",
       "      <th></th>\n",
       "      <th>restaurant_ID</th>\n",
       "      <th>rating_review</th>\n",
       "      <th>review_full</th>\n",
       "      <th>mistral - I1</th>\n",
       "      <th>mistral - I2</th>\n",
       "      <th>mistral - I3</th>\n",
       "      <th>mistral - I4</th>\n",
       "      <th>mistral - I5</th>\n",
       "    </tr>\n",
       "  </thead>\n",
       "  <tbody>\n",
       "    <tr>\n",
       "      <th>0</th>\n",
       "      <td>FLV202</td>\n",
       "      <td>5</td>\n",
       "      <td>Totally in love with the Auro of the place, really beautiful and quite fancy at the same time. The ambience is very pure and gives a sense of positivity throughout. Outdoor and indoor interior are quite quaint and cute. Love the open kitchen idea and there whole marketplace ideology. Due to coronovirus they specifically use disposable cutlery to keep the pandemic in mind taking all the precautionary measures from the beginning of the place with the mask on their staff and using good sanitisation. The food is really amazing specially the pizza straight from the oven and the hummus and pita bread are quite delicious too. If you're looking for a classy yet soothing Italian place in Delhi,Fatjar is a go to for you!</td>\n",
       "      <td>Positive</td>\n",
       "      <td>{\"sentiment\": \"Positive\"}</td>\n",
       "      <td>{\\n        \"Overall\": \"Positive\",\\n        \"Food Quality\": \"Positive\",\\n        \"Service\": \"Positive\",\\n        \"Ambience\": \"Positive\"\\n    }</td>\n",
       "      <td>{\\n      \"Overall\": \"Positive\",\\n      \"Food Quality\": \"Positive\",\\n      \"Service\": \"Not Applicable\",\\n      \"Ambience\": \"Positive\"\\n    }</td>\n",
       "      <td>{         \"Overall\": \"Positive\",         \"Food Quality\": \"Positive\",         \"Service\": \"Not Applicable\",         \"Ambience\": \"Positive\",         \"Food Quality Features\": [\"pizza\", \"hummus and pita bread\"],         \"Service Features\": [],         \"Ambience Features\": [\"ambience is very pure\", \"gives a sense of positivity throughout\", \"quaint and cute\"]     }</td>\n",
       "    </tr>\n",
       "    <tr>\n",
       "      <th>1</th>\n",
       "      <td>SAV303</td>\n",
       "      <td>5</td>\n",
       "      <td>Kailash colony is brimming with small cafes now. I happened to visit this beauty for lunch and was amazed with the 1st impression it made.  We started with Falafel &amp; Pita and Margherita Pizza. Safe to say, Margherita pizza was the best choice of the day. Its made freshly in front of you in the Wood Fired oven. The taste was exquisite and I would recommend this to anybody who plans to visit this outlet. I could come here just to have that Pizza. Hummus, Pita and Falafel were a good side dish while we ordered the next couple of dishes. We moved on to order Fussili Alfredo. This white sauce fussili pasta was good but could not be compared to the pizza we had earlier.  In the end, we went for Frozen Yoghurt with Honey. It is recommended to have it with honey, which will do wonders to the frozen yoghurt!  This place turned out to be quite peaceful and the plants enhanced its beauty.</td>\n",
       "      <td>Positive</td>\n",
       "      <td>{\"sentiment\": \"Positive\"}</td>\n",
       "      <td>{\\n        \"Overall\": \"Positive\",\\n        \"Food Quality\": \"Positive\",\\n        \"Service\": \"Not Applicable\",\\n        \"Ambience\": \"Positive\"\\n    }</td>\n",
       "      <td>{\\n      \"Overall\": \"Positive\",\\n      \"Food Quality\": \"Positive\",\\n      \"Service\": \"Not Applicable\",\\n      \"Ambience\": \"Positive\"\\n    }</td>\n",
       "      <td>{         \"Overall\": \"Positive\",         \"Food Quality\": \"Positive\",         \"Service\": \"Not Applicable\",         \"Ambience\": \"Positive\",         \"Food Quality Features\": [\"Margherita pizza\", \"Hummus, Pita and Falafel\"],         \"Service Features\": [],         \"Ambience Features\": [\"peaceful\", \"beauty\", \"plants\"]     }</td>\n",
       "    </tr>\n",
       "    <tr>\n",
       "      <th>2</th>\n",
       "      <td>YUM789</td>\n",
       "      <td>5</td>\n",
       "      <td>Excellent taste and awesome decorum. Must visit. Subham Barnwal had given us a great service. One of the best experience.</td>\n",
       "      <td>Positive</td>\n",
       "      <td>{\"sentiment\": \"Positive\"}</td>\n",
       "      <td>{\\n        \"Overall\": \"Positive\",\\n        \"Food Quality\": \"Not Applicable\",\\n        \"Service\": \"Positive\",\\n        \"Ambience\": \"Positive\"\\n    }</td>\n",
       "      <td>{\\n      \"Overall\": \"Positive\",\\n      \"Food Quality\": \"Not Applicable\",\\n      \"Service\": \"Positive\",\\n      \"Ambience\": \"Positive\"\\n    }</td>\n",
       "      <td>{         \"Overall\": \"Positive\",         \"Food Quality\": \"Not Applicable\",         \"Service\": \"Positive\",         \"Ambience\": \"Positive\",         \"Food Quality Features\": [],         \"Service Features\": [\"Subham Barnwal\"],         \"Ambience Features\": []     }</td>\n",
       "    </tr>\n",
       "    <tr>\n",
       "      <th>3</th>\n",
       "      <td>TST101</td>\n",
       "      <td>5</td>\n",
       "      <td>I have visited at jw lough/restourant. There were a first class service at lough, specially Ms.laxmi  who were superbed for handling the client need, me and my family lots enjoyed her specialty in the manner, and Laxmi is a very very good in the client service, I hope when I will come against I would definitely serve from Ms. Laxmi and she is wonderful girl in that service. See you again Ms. Laxmi for the your best service which I have received from you at jw lough/resourant. Thank you JW Marriott Hotel at Atrocity, Delhi</td>\n",
       "      <td>Positive</td>\n",
       "      <td>{\"sentiment\": \"Positive\"}</td>\n",
       "      <td>{\\n        \"Overall\": \"Positive\",\\n        \"Food Quality\": \"Not Applicable\",\\n        \"Service\": \"Positive\",\\n        \"Ambience\": \"Positive\"\\n    }</td>\n",
       "      <td>{\\n      \"Overall\": \"Positive\",\\n      \"Food Quality\": \"Not Applicable\",\\n      \"Service\": \"Positive\",\\n      \"Ambience\": \"Not Applicable\"\\n    }</td>\n",
       "      <td>{         \"Overall\": \"Positive\",         \"Food Quality\": \"Not Applicable\",         \"Service\": \"Positive\",         \"Ambience\": \"Positive\",         \"Food Quality Features\": [],         \"Service Features\": [\"Ms. Laxmi\"],         \"Ambience Features\": []     }</td>\n",
       "    </tr>\n",
       "    <tr>\n",
       "      <th>4</th>\n",
       "      <td>EAT456</td>\n",
       "      <td>5</td>\n",
       "      <td>Had a great experience in the restaurant food was fabulous, staff was nice. Hotel staff seems very professional specially the team at front desk although I was not staying there but they helped me with few of my quarries. Was dining with my kids and the team member at front desk young guy came with some kids book and gave it to my little child. It was a wonderful experience at Holiday inn and the staff was super . I was little worried as using the hotel first time for dining but the staff made it more comfortable. Will strongly recommend this and special thanks to people working at desk do not remember his name but he was a manager in the lobby who suggested us kylin for food and thanks to him that we enjoyed meal at kylin and now it's my first choice for food.</td>\n",
       "      <td>Positive</td>\n",
       "      <td>{\"sentiment\": \"Positive\"}</td>\n",
       "      <td>{\\n        \"Overall\": \"Positive\",\\n        \"Food Quality\": \"Positive\",\\n        \"Service\": \"Positive\",\\n        \"Ambience\": \"Not Applicable\"\\n    }</td>\n",
       "      <td>{\\n      \"Overall\": \"Positive\",\\n      \"Food Quality\": \"Positive\",\\n      \"Service\": \"Positive\",\\n      \"Ambience\": \"Not Applicable\"\\n    }</td>\n",
       "      <td>{         \"Overall\": \"Positive\",         \"Food Quality\": \"Positive\",         \"Service\": \"Positive\",         \"Ambience\": \"Positive\",         \"Food Quality Features\": [\"fabulous\"],         \"Service Features\": [\"nice\", \"professional\", \"comfortable\"],         \"Ambience Features\": []     }</td>\n",
       "    </tr>\n",
       "  </tbody>\n",
       "</table>\n",
       "</div>"
      ],
      "text/plain": [
       "  restaurant_ID  rating_review  \\\n",
       "0        FLV202              5   \n",
       "1        SAV303              5   \n",
       "2        YUM789              5   \n",
       "3        TST101              5   \n",
       "4        EAT456              5   \n",
       "\n",
       "                                                                                                                                                                                                                                                                                                                                                                                                                                                                                                                                                                                                                                                                                                                                                                                                                                                                                                                  review_full  \\\n",
       "0                                                                                                                                                                            Totally in love with the Auro of the place, really beautiful and quite fancy at the same time. The ambience is very pure and gives a sense of positivity throughout. Outdoor and indoor interior are quite quaint and cute. Love the open kitchen idea and there whole marketplace ideology. Due to coronovirus they specifically use disposable cutlery to keep the pandemic in mind taking all the precautionary measures from the beginning of the place with the mask on their staff and using good sanitisation. The food is really amazing specially the pizza straight from the oven and the hummus and pita bread are quite delicious too. If you're looking for a classy yet soothing Italian place in Delhi,Fatjar is a go to for you!   \n",
       "1  Kailash colony is brimming with small cafes now. I happened to visit this beauty for lunch and was amazed with the 1st impression it made.  We started with Falafel & Pita and Margherita Pizza. Safe to say, Margherita pizza was the best choice of the day. Its made freshly in front of you in the Wood Fired oven. The taste was exquisite and I would recommend this to anybody who plans to visit this outlet. I could come here just to have that Pizza. Hummus, Pita and Falafel were a good side dish while we ordered the next couple of dishes. We moved on to order Fussili Alfredo. This white sauce fussili pasta was good but could not be compared to the pizza we had earlier.  In the end, we went for Frozen Yoghurt with Honey. It is recommended to have it with honey, which will do wonders to the frozen yoghurt!  This place turned out to be quite peaceful and the plants enhanced its beauty.   \n",
       "2                                                                                                                                                                                                                                                                                                                                                                                                                                                                                                                                                                                                                                                                                                                                                                                                   Excellent taste and awesome decorum. Must visit. Subham Barnwal had given us a great service. One of the best experience.   \n",
       "3                                                                                                                                                                                                                                                                                                                                                                             I have visited at jw lough/restourant. There were a first class service at lough, specially Ms.laxmi  who were superbed for handling the client need, me and my family lots enjoyed her specialty in the manner, and Laxmi is a very very good in the client service, I hope when I will come against I would definitely serve from Ms. Laxmi and she is wonderful girl in that service. See you again Ms. Laxmi for the your best service which I have received from you at jw lough/resourant. Thank you JW Marriott Hotel at Atrocity, Delhi   \n",
       "4                                                                                                                         Had a great experience in the restaurant food was fabulous, staff was nice. Hotel staff seems very professional specially the team at front desk although I was not staying there but they helped me with few of my quarries. Was dining with my kids and the team member at front desk young guy came with some kids book and gave it to my little child. It was a wonderful experience at Holiday inn and the staff was super . I was little worried as using the hotel first time for dining but the staff made it more comfortable. Will strongly recommend this and special thanks to people working at desk do not remember his name but he was a manager in the lobby who suggested us kylin for food and thanks to him that we enjoyed meal at kylin and now it's my first choice for food.   \n",
       "\n",
       "  mistral - I1                mistral - I2  \\\n",
       "0     Positive   {\"sentiment\": \"Positive\"}   \n",
       "1     Positive   {\"sentiment\": \"Positive\"}   \n",
       "2     Positive   {\"sentiment\": \"Positive\"}   \n",
       "3     Positive   {\"sentiment\": \"Positive\"}   \n",
       "4     Positive   {\"sentiment\": \"Positive\"}   \n",
       "\n",
       "                                                                                                                                           mistral - I3  \\\n",
       "0         {\\n        \"Overall\": \"Positive\",\\n        \"Food Quality\": \"Positive\",\\n        \"Service\": \"Positive\",\\n        \"Ambience\": \"Positive\"\\n    }   \n",
       "1   {\\n        \"Overall\": \"Positive\",\\n        \"Food Quality\": \"Positive\",\\n        \"Service\": \"Not Applicable\",\\n        \"Ambience\": \"Positive\"\\n    }   \n",
       "2   {\\n        \"Overall\": \"Positive\",\\n        \"Food Quality\": \"Not Applicable\",\\n        \"Service\": \"Positive\",\\n        \"Ambience\": \"Positive\"\\n    }   \n",
       "3   {\\n        \"Overall\": \"Positive\",\\n        \"Food Quality\": \"Not Applicable\",\\n        \"Service\": \"Positive\",\\n        \"Ambience\": \"Positive\"\\n    }   \n",
       "4   {\\n        \"Overall\": \"Positive\",\\n        \"Food Quality\": \"Positive\",\\n        \"Service\": \"Positive\",\\n        \"Ambience\": \"Not Applicable\"\\n    }   \n",
       "\n",
       "                                                                                                                                         mistral - I4  \\\n",
       "0         {\\n      \"Overall\": \"Positive\",\\n      \"Food Quality\": \"Positive\",\\n      \"Service\": \"Not Applicable\",\\n      \"Ambience\": \"Positive\"\\n    }   \n",
       "1         {\\n      \"Overall\": \"Positive\",\\n      \"Food Quality\": \"Positive\",\\n      \"Service\": \"Not Applicable\",\\n      \"Ambience\": \"Positive\"\\n    }   \n",
       "2         {\\n      \"Overall\": \"Positive\",\\n      \"Food Quality\": \"Not Applicable\",\\n      \"Service\": \"Positive\",\\n      \"Ambience\": \"Positive\"\\n    }   \n",
       "3   {\\n      \"Overall\": \"Positive\",\\n      \"Food Quality\": \"Not Applicable\",\\n      \"Service\": \"Positive\",\\n      \"Ambience\": \"Not Applicable\"\\n    }   \n",
       "4         {\\n      \"Overall\": \"Positive\",\\n      \"Food Quality\": \"Positive\",\\n      \"Service\": \"Positive\",\\n      \"Ambience\": \"Not Applicable\"\\n    }   \n",
       "\n",
       "                                                                                                                                                                                                                                                                                                                                                               mistral - I5  \n",
       "0  {         \"Overall\": \"Positive\",         \"Food Quality\": \"Positive\",         \"Service\": \"Not Applicable\",         \"Ambience\": \"Positive\",         \"Food Quality Features\": [\"pizza\", \"hummus and pita bread\"],         \"Service Features\": [],         \"Ambience Features\": [\"ambience is very pure\", \"gives a sense of positivity throughout\", \"quaint and cute\"]     }  \n",
       "1                                          {         \"Overall\": \"Positive\",         \"Food Quality\": \"Positive\",         \"Service\": \"Not Applicable\",         \"Ambience\": \"Positive\",         \"Food Quality Features\": [\"Margherita pizza\", \"Hummus, Pita and Falafel\"],         \"Service Features\": [],         \"Ambience Features\": [\"peaceful\", \"beauty\", \"plants\"]     }  \n",
       "2                                                                                                      {         \"Overall\": \"Positive\",         \"Food Quality\": \"Not Applicable\",         \"Service\": \"Positive\",         \"Ambience\": \"Positive\",         \"Food Quality Features\": [],         \"Service Features\": [\"Subham Barnwal\"],         \"Ambience Features\": []     }  \n",
       "3                                                                                                           {         \"Overall\": \"Positive\",         \"Food Quality\": \"Not Applicable\",         \"Service\": \"Positive\",         \"Ambience\": \"Positive\",         \"Food Quality Features\": [],         \"Service Features\": [\"Ms. Laxmi\"],         \"Ambience Features\": []     }  \n",
       "4                                                                             {         \"Overall\": \"Positive\",         \"Food Quality\": \"Positive\",         \"Service\": \"Positive\",         \"Ambience\": \"Positive\",         \"Food Quality Features\": [\"fabulous\"],         \"Service Features\": [\"nice\", \"professional\", \"comfortable\"],         \"Ambience Features\": []     }  "
      ]
     },
     "execution_count": 36,
     "metadata": {},
     "output_type": "execute_result"
    }
   ],
   "source": [
    "df.head()"
   ]
  },
  {
   "cell_type": "code",
   "execution_count": 39,
   "metadata": {},
   "outputs": [
    {
     "data": {
      "text/html": [
       "<div>\n",
       "<style scoped>\n",
       "    .dataframe tbody tr th:only-of-type {\n",
       "        vertical-align: middle;\n",
       "    }\n",
       "\n",
       "    .dataframe tbody tr th {\n",
       "        vertical-align: top;\n",
       "    }\n",
       "\n",
       "    .dataframe thead th {\n",
       "        text-align: right;\n",
       "    }\n",
       "</style>\n",
       "<table border=\"1\" class=\"dataframe\">\n",
       "  <thead>\n",
       "    <tr style=\"text-align: right;\">\n",
       "      <th></th>\n",
       "      <th>restaurant_ID</th>\n",
       "      <th>rating_review</th>\n",
       "      <th>review_full</th>\n",
       "      <th>mistral - I1</th>\n",
       "      <th>mistral - I2</th>\n",
       "      <th>mistral - I3</th>\n",
       "      <th>mistral - I4</th>\n",
       "      <th>mistral - I5</th>\n",
       "    </tr>\n",
       "  </thead>\n",
       "  <tbody>\n",
       "    <tr>\n",
       "      <th>0</th>\n",
       "      <td>FLV202</td>\n",
       "      <td>5</td>\n",
       "      <td>Totally in love with the Auro of the place, really beautiful and quite fancy at the same time. The ambience is very pure and gives a sense of positivity throughout. Outdoor and indoor interior are quite quaint and cute. Love the open kitchen idea and there whole marketplace ideology. Due to coronovirus they specifically use disposable cutlery to keep the pandemic in mind taking all the precautionary measures from the beginning of the place with the mask on their staff and using good sanitisation. The food is really amazing specially the pizza straight from the oven and the hummus and pita bread are quite delicious too. If you're looking for a classy yet soothing Italian place in Delhi,Fatjar is a go to for you!</td>\n",
       "      <td>Positive</td>\n",
       "      <td>{\"sentiment\": \"Positive\"}</td>\n",
       "      <td>{\\n        \"Overall\": \"Positive\",\\n        \"Food Quality\": \"Positive\",\\n        \"Service\": \"Positive\",\\n        \"Ambience\": \"Positive\"\\n    }</td>\n",
       "      <td>{\\n      \"Overall\": \"Positive\",\\n      \"Food Quality\": \"Positive\",\\n      \"Service\": \"Not Applicable\",\\n      \"Ambience\": \"Positive\"\\n    }</td>\n",
       "      <td>Overall Positive         Food Quality Positive         Service Not Applicable         Ambience Positive         Food Quality Features pizza hummus and pita bread         Service Features          Ambience Features ambience is very pure gives a sense of positivity throughout quaint and cute</td>\n",
       "    </tr>\n",
       "    <tr>\n",
       "      <th>1</th>\n",
       "      <td>SAV303</td>\n",
       "      <td>5</td>\n",
       "      <td>Kailash colony is brimming with small cafes now. I happened to visit this beauty for lunch and was amazed with the 1st impression it made.  We started with Falafel &amp; Pita and Margherita Pizza. Safe to say, Margherita pizza was the best choice of the day. Its made freshly in front of you in the Wood Fired oven. The taste was exquisite and I would recommend this to anybody who plans to visit this outlet. I could come here just to have that Pizza. Hummus, Pita and Falafel were a good side dish while we ordered the next couple of dishes. We moved on to order Fussili Alfredo. This white sauce fussili pasta was good but could not be compared to the pizza we had earlier.  In the end, we went for Frozen Yoghurt with Honey. It is recommended to have it with honey, which will do wonders to the frozen yoghurt!  This place turned out to be quite peaceful and the plants enhanced its beauty.</td>\n",
       "      <td>Positive</td>\n",
       "      <td>{\"sentiment\": \"Positive\"}</td>\n",
       "      <td>{\\n        \"Overall\": \"Positive\",\\n        \"Food Quality\": \"Positive\",\\n        \"Service\": \"Not Applicable\",\\n        \"Ambience\": \"Positive\"\\n    }</td>\n",
       "      <td>{\\n      \"Overall\": \"Positive\",\\n      \"Food Quality\": \"Positive\",\\n      \"Service\": \"Not Applicable\",\\n      \"Ambience\": \"Positive\"\\n    }</td>\n",
       "      <td>Overall Positive         Food Quality Positive         Service Not Applicable         Ambience Positive         Food Quality Features Margherita pizza Hummus Pita and Falafel         Service Features          Ambience Features peaceful beauty plants</td>\n",
       "    </tr>\n",
       "    <tr>\n",
       "      <th>2</th>\n",
       "      <td>YUM789</td>\n",
       "      <td>5</td>\n",
       "      <td>Excellent taste and awesome decorum. Must visit. Subham Barnwal had given us a great service. One of the best experience.</td>\n",
       "      <td>Positive</td>\n",
       "      <td>{\"sentiment\": \"Positive\"}</td>\n",
       "      <td>{\\n        \"Overall\": \"Positive\",\\n        \"Food Quality\": \"Not Applicable\",\\n        \"Service\": \"Positive\",\\n        \"Ambience\": \"Positive\"\\n    }</td>\n",
       "      <td>{\\n      \"Overall\": \"Positive\",\\n      \"Food Quality\": \"Not Applicable\",\\n      \"Service\": \"Positive\",\\n      \"Ambience\": \"Positive\"\\n    }</td>\n",
       "      <td>Overall Positive         Food Quality Not Applicable         Service Positive         Ambience Positive         Food Quality Features          Service Features Subham Barnwal         Ambience Features</td>\n",
       "    </tr>\n",
       "    <tr>\n",
       "      <th>3</th>\n",
       "      <td>TST101</td>\n",
       "      <td>5</td>\n",
       "      <td>I have visited at jw lough/restourant. There were a first class service at lough, specially Ms.laxmi  who were superbed for handling the client need, me and my family lots enjoyed her specialty in the manner, and Laxmi is a very very good in the client service, I hope when I will come against I would definitely serve from Ms. Laxmi and she is wonderful girl in that service. See you again Ms. Laxmi for the your best service which I have received from you at jw lough/resourant. Thank you JW Marriott Hotel at Atrocity, Delhi</td>\n",
       "      <td>Positive</td>\n",
       "      <td>{\"sentiment\": \"Positive\"}</td>\n",
       "      <td>{\\n        \"Overall\": \"Positive\",\\n        \"Food Quality\": \"Not Applicable\",\\n        \"Service\": \"Positive\",\\n        \"Ambience\": \"Positive\"\\n    }</td>\n",
       "      <td>{\\n      \"Overall\": \"Positive\",\\n      \"Food Quality\": \"Not Applicable\",\\n      \"Service\": \"Positive\",\\n      \"Ambience\": \"Not Applicable\"\\n    }</td>\n",
       "      <td>Overall Positive         Food Quality Not Applicable         Service Positive         Ambience Positive         Food Quality Features          Service Features Ms Laxmi         Ambience Features</td>\n",
       "    </tr>\n",
       "    <tr>\n",
       "      <th>4</th>\n",
       "      <td>EAT456</td>\n",
       "      <td>5</td>\n",
       "      <td>Had a great experience in the restaurant food was fabulous, staff was nice. Hotel staff seems very professional specially the team at front desk although I was not staying there but they helped me with few of my quarries. Was dining with my kids and the team member at front desk young guy came with some kids book and gave it to my little child. It was a wonderful experience at Holiday inn and the staff was super . I was little worried as using the hotel first time for dining but the staff made it more comfortable. Will strongly recommend this and special thanks to people working at desk do not remember his name but he was a manager in the lobby who suggested us kylin for food and thanks to him that we enjoyed meal at kylin and now it's my first choice for food.</td>\n",
       "      <td>Positive</td>\n",
       "      <td>{\"sentiment\": \"Positive\"}</td>\n",
       "      <td>{\\n        \"Overall\": \"Positive\",\\n        \"Food Quality\": \"Positive\",\\n        \"Service\": \"Positive\",\\n        \"Ambience\": \"Not Applicable\"\\n    }</td>\n",
       "      <td>{\\n      \"Overall\": \"Positive\",\\n      \"Food Quality\": \"Positive\",\\n      \"Service\": \"Positive\",\\n      \"Ambience\": \"Not Applicable\"\\n    }</td>\n",
       "      <td>Overall Positive         Food Quality Positive         Service Positive         Ambience Positive         Food Quality Features fabulous         Service Features nice professional comfortable         Ambience Features</td>\n",
       "    </tr>\n",
       "  </tbody>\n",
       "</table>\n",
       "</div>"
      ],
      "text/plain": [
       "  restaurant_ID  rating_review  \\\n",
       "0        FLV202              5   \n",
       "1        SAV303              5   \n",
       "2        YUM789              5   \n",
       "3        TST101              5   \n",
       "4        EAT456              5   \n",
       "\n",
       "                                                                                                                                                                                                                                                                                                                                                                                                                                                                                                                                                                                                                                                                                                                                                                                                                                                                                                                  review_full  \\\n",
       "0                                                                                                                                                                            Totally in love with the Auro of the place, really beautiful and quite fancy at the same time. The ambience is very pure and gives a sense of positivity throughout. Outdoor and indoor interior are quite quaint and cute. Love the open kitchen idea and there whole marketplace ideology. Due to coronovirus they specifically use disposable cutlery to keep the pandemic in mind taking all the precautionary measures from the beginning of the place with the mask on their staff and using good sanitisation. The food is really amazing specially the pizza straight from the oven and the hummus and pita bread are quite delicious too. If you're looking for a classy yet soothing Italian place in Delhi,Fatjar is a go to for you!   \n",
       "1  Kailash colony is brimming with small cafes now. I happened to visit this beauty for lunch and was amazed with the 1st impression it made.  We started with Falafel & Pita and Margherita Pizza. Safe to say, Margherita pizza was the best choice of the day. Its made freshly in front of you in the Wood Fired oven. The taste was exquisite and I would recommend this to anybody who plans to visit this outlet. I could come here just to have that Pizza. Hummus, Pita and Falafel were a good side dish while we ordered the next couple of dishes. We moved on to order Fussili Alfredo. This white sauce fussili pasta was good but could not be compared to the pizza we had earlier.  In the end, we went for Frozen Yoghurt with Honey. It is recommended to have it with honey, which will do wonders to the frozen yoghurt!  This place turned out to be quite peaceful and the plants enhanced its beauty.   \n",
       "2                                                                                                                                                                                                                                                                                                                                                                                                                                                                                                                                                                                                                                                                                                                                                                                                   Excellent taste and awesome decorum. Must visit. Subham Barnwal had given us a great service. One of the best experience.   \n",
       "3                                                                                                                                                                                                                                                                                                                                                                             I have visited at jw lough/restourant. There were a first class service at lough, specially Ms.laxmi  who were superbed for handling the client need, me and my family lots enjoyed her specialty in the manner, and Laxmi is a very very good in the client service, I hope when I will come against I would definitely serve from Ms. Laxmi and she is wonderful girl in that service. See you again Ms. Laxmi for the your best service which I have received from you at jw lough/resourant. Thank you JW Marriott Hotel at Atrocity, Delhi   \n",
       "4                                                                                                                         Had a great experience in the restaurant food was fabulous, staff was nice. Hotel staff seems very professional specially the team at front desk although I was not staying there but they helped me with few of my quarries. Was dining with my kids and the team member at front desk young guy came with some kids book and gave it to my little child. It was a wonderful experience at Holiday inn and the staff was super . I was little worried as using the hotel first time for dining but the staff made it more comfortable. Will strongly recommend this and special thanks to people working at desk do not remember his name but he was a manager in the lobby who suggested us kylin for food and thanks to him that we enjoyed meal at kylin and now it's my first choice for food.   \n",
       "\n",
       "  mistral - I1                mistral - I2  \\\n",
       "0     Positive   {\"sentiment\": \"Positive\"}   \n",
       "1     Positive   {\"sentiment\": \"Positive\"}   \n",
       "2     Positive   {\"sentiment\": \"Positive\"}   \n",
       "3     Positive   {\"sentiment\": \"Positive\"}   \n",
       "4     Positive   {\"sentiment\": \"Positive\"}   \n",
       "\n",
       "                                                                                                                                           mistral - I3  \\\n",
       "0         {\\n        \"Overall\": \"Positive\",\\n        \"Food Quality\": \"Positive\",\\n        \"Service\": \"Positive\",\\n        \"Ambience\": \"Positive\"\\n    }   \n",
       "1   {\\n        \"Overall\": \"Positive\",\\n        \"Food Quality\": \"Positive\",\\n        \"Service\": \"Not Applicable\",\\n        \"Ambience\": \"Positive\"\\n    }   \n",
       "2   {\\n        \"Overall\": \"Positive\",\\n        \"Food Quality\": \"Not Applicable\",\\n        \"Service\": \"Positive\",\\n        \"Ambience\": \"Positive\"\\n    }   \n",
       "3   {\\n        \"Overall\": \"Positive\",\\n        \"Food Quality\": \"Not Applicable\",\\n        \"Service\": \"Positive\",\\n        \"Ambience\": \"Positive\"\\n    }   \n",
       "4   {\\n        \"Overall\": \"Positive\",\\n        \"Food Quality\": \"Positive\",\\n        \"Service\": \"Positive\",\\n        \"Ambience\": \"Not Applicable\"\\n    }   \n",
       "\n",
       "                                                                                                                                         mistral - I4  \\\n",
       "0         {\\n      \"Overall\": \"Positive\",\\n      \"Food Quality\": \"Positive\",\\n      \"Service\": \"Not Applicable\",\\n      \"Ambience\": \"Positive\"\\n    }   \n",
       "1         {\\n      \"Overall\": \"Positive\",\\n      \"Food Quality\": \"Positive\",\\n      \"Service\": \"Not Applicable\",\\n      \"Ambience\": \"Positive\"\\n    }   \n",
       "2         {\\n      \"Overall\": \"Positive\",\\n      \"Food Quality\": \"Not Applicable\",\\n      \"Service\": \"Positive\",\\n      \"Ambience\": \"Positive\"\\n    }   \n",
       "3   {\\n      \"Overall\": \"Positive\",\\n      \"Food Quality\": \"Not Applicable\",\\n      \"Service\": \"Positive\",\\n      \"Ambience\": \"Not Applicable\"\\n    }   \n",
       "4         {\\n      \"Overall\": \"Positive\",\\n      \"Food Quality\": \"Positive\",\\n      \"Service\": \"Positive\",\\n      \"Ambience\": \"Not Applicable\"\\n    }   \n",
       "\n",
       "                                                                                                                                                                                                                                                                                                       mistral - I5  \n",
       "0           Overall Positive         Food Quality Positive         Service Not Applicable         Ambience Positive         Food Quality Features pizza hummus and pita bread         Service Features          Ambience Features ambience is very pure gives a sense of positivity throughout quaint and cute       \n",
       "1                                                    Overall Positive         Food Quality Positive         Service Not Applicable         Ambience Positive         Food Quality Features Margherita pizza Hummus Pita and Falafel         Service Features          Ambience Features peaceful beauty plants       \n",
       "2                                                                                                    Overall Positive         Food Quality Not Applicable         Service Positive         Ambience Positive         Food Quality Features          Service Features Subham Barnwal         Ambience Features        \n",
       "3                                                                                                          Overall Positive         Food Quality Not Applicable         Service Positive         Ambience Positive         Food Quality Features          Service Features Ms Laxmi         Ambience Features        \n",
       "4                                                                                   Overall Positive         Food Quality Positive         Service Positive         Ambience Positive         Food Quality Features fabulous         Service Features nice professional comfortable         Ambience Features        "
      ]
     },
     "execution_count": 39,
     "metadata": {},
     "output_type": "execute_result"
    }
   ],
   "source": [
    "df.head()"
   ]
  },
  {
   "cell_type": "code",
   "execution_count": 41,
   "metadata": {},
   "outputs": [],
   "source": [
    "m1 = data[column_name].values[0]"
   ]
  },
  {
   "cell_type": "code",
   "execution_count": 42,
   "metadata": {},
   "outputs": [
    {
     "data": {
      "text/plain": [
       "' {\\n        \"Overall\": \"Positive\",\\n        \"Food Quality\": \"Positive\",\\n        \"Service\": \"Not Applicable\",\\n        \"Ambience\": \"Positive\",\\n        \"Food Quality Features\": [\"pizza\", \"hummus and pita bread\"],\\n        \"Service Features\": [],\\n        \"Ambience Features\": [\"ambience is very pure\", \"gives a sense of positivity throughout\", \"quaint and cute\"]\\n    }'"
      ]
     },
     "execution_count": 42,
     "metadata": {},
     "output_type": "execute_result"
    }
   ],
   "source": [
    "m1"
   ]
  },
  {
   "cell_type": "code",
   "execution_count": null,
   "metadata": {},
   "outputs": [],
   "source": []
  }
 ],
 "metadata": {
  "kernelspec": {
   "display_name": ".venv",
   "language": "python",
   "name": "python3"
  },
  "language_info": {
   "codemirror_mode": {
    "name": "ipython",
    "version": 3
   },
   "file_extension": ".py",
   "mimetype": "text/x-python",
   "name": "python",
   "nbconvert_exporter": "python",
   "pygments_lexer": "ipython3",
   "version": "3.12.0"
  }
 },
 "nbformat": 4,
 "nbformat_minor": 2
}
