{
 "cells": [
  {
   "cell_type": "code",
   "execution_count": 4,
   "metadata": {},
   "outputs": [
    {
     "name": "stderr",
     "output_type": "stream",
     "text": [
      "/Users/nra29/VScode/.venv/lib/python3.12/site-packages/tqdm/auto.py:21: TqdmWarning: IProgress not found. Please update jupyter and ipywidgets. See https://ipywidgets.readthedocs.io/en/stable/user_install.html\n",
      "  from .autonotebook import tqdm as notebook_tqdm\n",
      "Fetching 11 files:   0%|          | 0/11 [00:00<?, ?it/s]\n"
     ]
    },
    {
     "ename": "ModelNotFoundError",
     "evalue": "Model not found for path or HF repo: mistralai/Mistral-7B-Instruct-v0.2.\nPlease make sure you specified the local path or Hugging Face repo id correctly.\nIf you are trying to access a private or gated Hugging Face repo, make sure you are authenticated:\nhttps://huggingface.co/docs/huggingface_hub/en/guides/cli#huggingface-cli-login",
     "output_type": "error",
     "traceback": [
      "\u001b[0;31m---------------------------------------------------------------------------\u001b[0m",
      "\u001b[0;31mModelNotFoundError\u001b[0m                        Traceback (most recent call last)",
      "Cell \u001b[0;32mIn[4], line 2\u001b[0m\n\u001b[1;32m      1\u001b[0m \u001b[38;5;28;01mfrom\u001b[39;00m \u001b[38;5;21;01mmlx_lm\u001b[39;00m \u001b[38;5;28;01mimport\u001b[39;00m load, generate\n\u001b[0;32m----> 2\u001b[0m model, tokenizer \u001b[38;5;241m=\u001b[39m \u001b[43mload\u001b[49m\u001b[43m(\u001b[49m\u001b[38;5;124;43m\"\u001b[39;49m\u001b[38;5;124;43mmistralai/Mistral-7B-Instruct-v0.2\u001b[39;49m\u001b[38;5;124;43m\"\u001b[39;49m\u001b[43m)\u001b[49m\n\u001b[1;32m      3\u001b[0m response \u001b[38;5;241m=\u001b[39m generate(model, tokenizer, prompt\u001b[38;5;241m=\u001b[39m\u001b[38;5;124m\"\u001b[39m\u001b[38;5;124mHello, how are you?\u001b[39m\u001b[38;5;124m\"\u001b[39m, verbose\u001b[38;5;241m=\u001b[39m\u001b[38;5;28;01mTrue\u001b[39;00m)\n",
      "File \u001b[0;32m~/VScode/.venv/lib/python3.12/site-packages/mlx_lm/utils.py:571\u001b[0m, in \u001b[0;36mload\u001b[0;34m(path_or_hf_repo, tokenizer_config, model_config, adapter_path, lazy)\u001b[0m\n\u001b[1;32m    543\u001b[0m \u001b[38;5;28;01mdef\u001b[39;00m \u001b[38;5;21mload\u001b[39m(\n\u001b[1;32m    544\u001b[0m     path_or_hf_repo: \u001b[38;5;28mstr\u001b[39m,\n\u001b[1;32m    545\u001b[0m     tokenizer_config\u001b[38;5;241m=\u001b[39m{},\n\u001b[0;32m   (...)\u001b[0m\n\u001b[1;32m    548\u001b[0m     lazy: \u001b[38;5;28mbool\u001b[39m \u001b[38;5;241m=\u001b[39m \u001b[38;5;28;01mFalse\u001b[39;00m,\n\u001b[1;32m    549\u001b[0m ) \u001b[38;5;241m-\u001b[39m\u001b[38;5;241m>\u001b[39m Tuple[nn\u001b[38;5;241m.\u001b[39mModule, TokenizerWrapper]:\n\u001b[1;32m    550\u001b[0m \u001b[38;5;250m    \u001b[39m\u001b[38;5;124;03m\"\"\"\u001b[39;00m\n\u001b[1;32m    551\u001b[0m \u001b[38;5;124;03m    Load the model and tokenizer from a given path or a huggingface repository.\u001b[39;00m\n\u001b[1;32m    552\u001b[0m \n\u001b[0;32m   (...)\u001b[0m\n\u001b[1;32m    569\u001b[0m \u001b[38;5;124;03m        ValueError: If model class or args class are not found.\u001b[39;00m\n\u001b[1;32m    570\u001b[0m \u001b[38;5;124;03m    \"\"\"\u001b[39;00m\n\u001b[0;32m--> 571\u001b[0m     model_path \u001b[38;5;241m=\u001b[39m \u001b[43mget_model_path\u001b[49m\u001b[43m(\u001b[49m\u001b[43mpath_or_hf_repo\u001b[49m\u001b[43m)\u001b[49m\n\u001b[1;32m    573\u001b[0m     model, config \u001b[38;5;241m=\u001b[39m load_model(model_path, lazy)\n\u001b[1;32m    574\u001b[0m     \u001b[38;5;28;01mif\u001b[39;00m adapter_path \u001b[38;5;129;01mis\u001b[39;00m \u001b[38;5;129;01mnot\u001b[39;00m \u001b[38;5;28;01mNone\u001b[39;00m:\n",
      "File \u001b[0;32m~/VScode/.venv/lib/python3.12/site-packages/mlx_lm/utils.py:173\u001b[0m, in \u001b[0;36mget_model_path\u001b[0;34m(path_or_hf_repo, revision)\u001b[0m\n\u001b[1;32m    158\u001b[0m         model_path \u001b[38;5;241m=\u001b[39m Path(\n\u001b[1;32m    159\u001b[0m             snapshot_download(\n\u001b[1;32m    160\u001b[0m                 repo_id\u001b[38;5;241m=\u001b[39mpath_or_hf_repo,\n\u001b[0;32m   (...)\u001b[0m\n\u001b[1;32m    170\u001b[0m             )\n\u001b[1;32m    171\u001b[0m         )\n\u001b[1;32m    172\u001b[0m     \u001b[38;5;28;01mexcept\u001b[39;00m:\n\u001b[0;32m--> 173\u001b[0m         \u001b[38;5;28;01mraise\u001b[39;00m ModelNotFoundError(\n\u001b[1;32m    174\u001b[0m             \u001b[38;5;124mf\u001b[39m\u001b[38;5;124m\"\u001b[39m\u001b[38;5;124mModel not found for path or HF repo: \u001b[39m\u001b[38;5;132;01m{\u001b[39;00mpath_or_hf_repo\u001b[38;5;132;01m}\u001b[39;00m\u001b[38;5;124m.\u001b[39m\u001b[38;5;130;01m\\n\u001b[39;00m\u001b[38;5;124m\"\u001b[39m\n\u001b[1;32m    175\u001b[0m             \u001b[38;5;124m\"\u001b[39m\u001b[38;5;124mPlease make sure you specified the local path or Hugging Face\u001b[39m\u001b[38;5;124m\"\u001b[39m\n\u001b[1;32m    176\u001b[0m             \u001b[38;5;124m\"\u001b[39m\u001b[38;5;124m repo id correctly.\u001b[39m\u001b[38;5;130;01m\\n\u001b[39;00m\u001b[38;5;124mIf you are trying to access a private or\u001b[39m\u001b[38;5;124m\"\u001b[39m\n\u001b[1;32m    177\u001b[0m             \u001b[38;5;124m\"\u001b[39m\u001b[38;5;124m gated Hugging Face repo, make sure you are authenticated:\u001b[39m\u001b[38;5;130;01m\\n\u001b[39;00m\u001b[38;5;124m\"\u001b[39m\n\u001b[1;32m    178\u001b[0m             \u001b[38;5;124m\"\u001b[39m\u001b[38;5;124mhttps://huggingface.co/docs/huggingface_hub/en/guides/cli#huggingface-cli-login\u001b[39m\u001b[38;5;124m\"\u001b[39m\n\u001b[1;32m    179\u001b[0m         ) \u001b[38;5;28;01mfrom\u001b[39;00m \u001b[38;5;28;01mNone\u001b[39;00m\n\u001b[1;32m    180\u001b[0m \u001b[38;5;28;01mreturn\u001b[39;00m model_path\n",
      "\u001b[0;31mModelNotFoundError\u001b[0m: Model not found for path or HF repo: mistralai/Mistral-7B-Instruct-v0.2.\nPlease make sure you specified the local path or Hugging Face repo id correctly.\nIf you are trying to access a private or gated Hugging Face repo, make sure you are authenticated:\nhttps://huggingface.co/docs/huggingface_hub/en/guides/cli#huggingface-cli-login"
     ]
    }
   ],
   "source": [
    "from mlx_lm import load, generate\n",
    "model, tokenizer = load(\"mistralai/Mistral-7B-Instruct-v0.2\")\n",
    "response = generate(model, tokenizer, prompt=\"Hello, how are you?\", verbose=True)"
   ]
  },
  {
   "cell_type": "code",
   "execution_count": null,
   "metadata": {},
   "outputs": [],
   "source": []
  }
 ],
 "metadata": {
  "kernelspec": {
   "display_name": ".venv",
   "language": "python",
   "name": "python3"
  },
  "language_info": {
   "codemirror_mode": {
    "name": "ipython",
    "version": 3
   },
   "file_extension": ".py",
   "mimetype": "text/x-python",
   "name": "python",
   "nbconvert_exporter": "python",
   "pygments_lexer": "ipython3",
   "version": "3.12.0"
  }
 },
 "nbformat": 4,
 "nbformat_minor": 2
}
