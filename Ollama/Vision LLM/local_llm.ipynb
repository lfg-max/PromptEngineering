{
 "cells": [
  {
   "cell_type": "code",
   "execution_count": 1,
   "metadata": {},
   "outputs": [],
   "source": [
    "# pip install llama-index-llms-ollama"
   ]
  },
  {
   "cell_type": "code",
   "execution_count": 3,
   "metadata": {},
   "outputs": [
    {
     "name": "stdout",
     "output_type": "stream",
     "text": [
      "<Thought>\n",
      "Alright, I need to explain what \"nothing\" is. Let's start by considering the basic definition. Nothing typically refers to the absence of anything—no objects, no space, no time, and no events. But wait, is that all? Maybe there's more to it.\n",
      "\n",
      "In philosophy, nothingness has been a subject of deep inquiry. Some philosophers argue that nothingness is impossible because something must exist for us to perceive or discuss it. Others suggest that nothingness can be a concept, even if it doesn't correspond to any actual state in reality.\n",
      "\n",
      "From a scientific perspective, the concept of nothingness is explored in physics. For instance, in quantum mechanics, there's the idea of a vacuum state, which is essentially empty space with no particles present. But does this qualify as \"nothing\"? Or is it just a state devoid of matter but still containing energy?\n",
      "\n",
      "In mathematics, nothing can be represented by zero, which signifies the absence of quantity. Zero is a fundamental concept that allows for the development of complex mathematical systems. But again, zero isn't truly nothing; it's a value representing non-existence in terms of quantity.\n",
      "\n",
      "Language also plays a role here. The word \"nothing\" carries different connotations depending on context. In everyday speech, it might simply mean the absence of something specific, like having no food or no time to do something. But in more abstract discussions, it can delve into deeper philosophical questions about existence and reality.\n",
      "\n",
      "Culturally, the concept of nothingness has been explored in various ways. For example, in Zen Buddhism, nothingness is a path to enlightenment, emphasizing the importance of letting go of attachments and embracing emptiness. This contrasts with Western philosophies that often view nothingness as a void or an absence.\n",
      "\n",
      "Psychologically, the idea of nothing can be both intriguing and unsettling. It challenges our understanding of reality and existence, prompting questions about what gives life meaning and purpose. Some people find comfort in the concept of nothingness, seeing it as a state of peace or tranquility, while others may feel anxious or uncertain when contemplating its implications.\n",
      "\n",
      "In literature and art, nothingness is often used to create a sense of emptiness or to explore themes of existentialism. Works like \"The Waste Land\" by T.S. Eliot delve into the idea of a world stripped of meaning, reflecting on the human condition in times of uncertainty and change.\n",
      "\n",
      "Technologically, concepts related to nothingness are explored in fields like computer science, where binary systems rely on the distinction between zero and one to process information. Here, \"nothing\" is represented by zero, which is essential for computation but doesn't equate to a complete absence of data or meaning.\n",
      "\n",
      "Ethically, the concept of nothingness raises questions about the value of existence and the moral implications of non-being. It challenges us to consider what gives life significance and whether the absence of something can have ethical weight.\n",
      "\n",
      "In summary, \"nothing\" is a multifaceted concept that intersects with philosophy, science, mathematics, language, culture, psychology, literature, art, technology, and ethics. Its definition and implications vary widely depending on the context in which it's used, making it a rich subject for exploration and discussion.\n",
      "</Thought>\n",
      "<Output>\n",
      "Nothing refers to the absence of anything—no objects, no space, no time, and no events. Philosophically, it can be considered as the concept of non-existence or emptiness, explored in various fields like physics, mathematics, language, culture, psychology, literature, art, technology, and ethics. While zero represents nothingness in mathematics and science, the broader concept delves into deeper questions about existence, reality, and human perception.\n",
      "</Output>\n"
     ]
    }
   ],
   "source": [
    "from ollama import Client\n",
    "\n",
    "# Initialize the client\n",
    "client = Client()\n",
    "\n",
    "# Specify the model (make sure you've pulled this model beforehand)\n",
    "# model = \"llama3.2\"   #Give the version of the model that you have installed using ollama\n",
    "# model = \"qwen2.5-coder\"   #Give the version of the model that you have installed using ollama\n",
    "model = 'marco-o1'\n",
    "# model = 'mistral'\n",
    "\n",
    "# Ask a question\n",
    "question = \"What is nothing ?\"\n",
    "\n",
    "# Generate a response using the chat method\n",
    "# response = client.chat(model=model, messages=[{\"role\": \"user\", \"content\": question}])\n",
    "\n",
    "try:\n",
    "    response = client.chat(\n",
    "        model=model,\n",
    "        messages=[{\"role\": \"user\", \"content\": question}],\n",
    "        options={\n",
    "            \"temperature\": 0,\n",
    "            \"top_p\": 0.9,\n",
    "            \"max_tokens\": 1024,\n",
    "            \"presence_penalty\": 0.0,\n",
    "            \"frequency_penalty\": 0.0,\n",
    "            \"best_of\": 1,\n",
    "            \"n\": 1,\n",
    "            \"stop\": ['INST']\n",
    "\n",
    "        }\n",
    "    )\n",
    "    print(response['message']['content'])\n",
    "except Exception as e:\n",
    "    print(f\"An error occurred: {e}\")"
   ]
  },
  {
   "cell_type": "code",
   "execution_count": null,
   "metadata": {},
   "outputs": [],
   "source": []
  }
 ],
 "metadata": {
  "kernelspec": {
   "display_name": ".venv",
   "language": "python",
   "name": "python3"
  },
  "language_info": {
   "codemirror_mode": {
    "name": "ipython",
    "version": 3
   },
   "file_extension": ".py",
   "mimetype": "text/x-python",
   "name": "python",
   "nbconvert_exporter": "python",
   "pygments_lexer": "ipython3",
   "version": "3.12.0"
  }
 },
 "nbformat": 4,
 "nbformat_minor": 2
}
