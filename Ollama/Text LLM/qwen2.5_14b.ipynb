{
 "cells": [
  {
   "cell_type": "code",
   "execution_count": 1,
   "metadata": {},
   "outputs": [],
   "source": [
    "import helper_fn as hf\n",
    "import instructions as cf\n"
   ]
  },
  {
   "cell_type": "markdown",
   "metadata": {},
   "source": [
    "### Model & Instruction"
   ]
  },
  {
   "cell_type": "code",
   "execution_count": 2,
   "metadata": {},
   "outputs": [
    {
     "data": {
      "application/vnd.jupyter.widget-view+json": {
       "model_id": "2f91fe5e63c34539904f62b34c7992ae",
       "version_major": 2,
       "version_minor": 0
      },
      "text/plain": [
       "Dropdown(description='Select Instruction:', options=('I_1', 'I_2', 'I_3', 'I_4', 'I_5'), value='I_1')"
      ]
     },
     "metadata": {},
     "output_type": "display_data"
    }
   ],
   "source": [
    "hf.instruction_dropdown_widget()"
   ]
  },
  {
   "cell_type": "code",
   "execution_count": 3,
   "metadata": {},
   "outputs": [
    {
     "data": {
      "text/plain": [
       "'\\n    You are an AI analyzing restaurant reviews. Classify the sentiment of the provided review into the following categories:\\n    - Positive\\n    - Negative\\n    - Neutral\\n'"
      ]
     },
     "execution_count": 3,
     "metadata": {},
     "output_type": "execute_result"
    }
   ],
   "source": [
    "hf.selected_instruction_value"
   ]
  },
  {
   "cell_type": "code",
   "execution_count": 5,
   "metadata": {},
   "outputs": [
    {
     "data": {
      "application/vnd.jupyter.widget-view+json": {
       "model_id": "f68ccb86cfc948f79e83295a76aba3a2",
       "version_major": 2,
       "version_minor": 0
      },
      "text/plain": [
       "Dropdown(description='Select LLM:', index=1, options=('deepseek-r1:8b', 'qwen3:latest', 'llama3.2', 'mistral',…"
      ]
     },
     "metadata": {},
     "output_type": "display_data"
    }
   ],
   "source": [
    "hf.llm_dropdown_widget()"
   ]
  },
  {
   "cell_type": "code",
   "execution_count": 6,
   "metadata": {},
   "outputs": [
    {
     "data": {
      "text/plain": [
       "'qwen3:latest'"
      ]
     },
     "execution_count": 6,
     "metadata": {},
     "output_type": "execute_result"
    }
   ],
   "source": [
    "hf.selected_llm"
   ]
  },
  {
   "cell_type": "code",
   "execution_count": 7,
   "metadata": {},
   "outputs": [],
   "source": [
    "p1 = hf.Pompt(model_name = hf.selected_llm, instruction = hf.selected_instruction_value)"
   ]
  },
  {
   "cell_type": "code",
   "execution_count": 8,
   "metadata": {},
   "outputs": [
    {
     "data": {
      "text/plain": [
       "'qwen3:latest'"
      ]
     },
     "execution_count": 8,
     "metadata": {},
     "output_type": "execute_result"
    }
   ],
   "source": [
    "p1.model"
   ]
  },
  {
   "cell_type": "code",
   "execution_count": 9,
   "metadata": {},
   "outputs": [
    {
     "data": {
      "text/plain": [
       "'\\n    You are an AI analyzing restaurant reviews. Classify the sentiment of the provided review into the following categories:\\n    - Positive\\n    - Negative\\n    - Neutral\\n'"
      ]
     },
     "execution_count": 9,
     "metadata": {},
     "output_type": "execute_result"
    }
   ],
   "source": [
    "p1.instruction"
   ]
  },
  {
   "cell_type": "code",
   "execution_count": 10,
   "metadata": {},
   "outputs": [],
   "source": [
    "# getting the data\n",
    "data_og = p1.get_data()\n",
    "\n",
    "# creating a copy of the data\n",
    "data = data_og.copy()"
   ]
  },
  {
   "cell_type": "code",
   "execution_count": 11,
   "metadata": {},
   "outputs": [
    {
     "data": {
      "text/html": [
       "<div>\n",
       "<style scoped>\n",
       "    .dataframe tbody tr th:only-of-type {\n",
       "        vertical-align: middle;\n",
       "    }\n",
       "\n",
       "    .dataframe tbody tr th {\n",
       "        vertical-align: top;\n",
       "    }\n",
       "\n",
       "    .dataframe thead th {\n",
       "        text-align: right;\n",
       "    }\n",
       "</style>\n",
       "<table border=\"1\" class=\"dataframe\">\n",
       "  <thead>\n",
       "    <tr style=\"text-align: right;\">\n",
       "      <th></th>\n",
       "      <th>restaurant_ID</th>\n",
       "      <th>rating_review</th>\n",
       "      <th>review_full</th>\n",
       "    </tr>\n",
       "  </thead>\n",
       "  <tbody>\n",
       "    <tr>\n",
       "      <th>0</th>\n",
       "      <td>FLV202</td>\n",
       "      <td>5</td>\n",
       "      <td>Totally in love with the Auro of the place, really beautiful and quite fancy at the same time. The ambience is very pure and gives a sense of positivity throughout. Outdoor and indoor interior are quite quaint and cute. Love the open kitchen idea and there whole marketplace ideology. Due to coronovirus they specifically use disposable cutlery to keep the pandemic in mind taking all the precautionary measures from the beginning of the place with the mask on their staff and using good sanitisation. The food is really amazing specially the pizza straight from the oven and the hummus and pita bread are quite delicious too. If you're looking for a classy yet soothing Italian place in Delhi,Fatjar is a go to for you!</td>\n",
       "    </tr>\n",
       "    <tr>\n",
       "      <th>1</th>\n",
       "      <td>SAV303</td>\n",
       "      <td>5</td>\n",
       "      <td>Kailash colony is brimming with small cafes now. I happened to visit this beauty for lunch and was amazed with the 1st impression it made.  We started with Falafel &amp; Pita and Margherita Pizza. Safe to say, Margherita pizza was the best choice of the day. Its made freshly in front of you in the Wood Fired oven. The taste was exquisite and I would recommend this to anybody who plans to visit this outlet. I could come here just to have that Pizza. Hummus, Pita and Falafel were a good side dish while we ordered the next couple of dishes. We moved on to order Fussili Alfredo. This white sauce fussili pasta was good but could not be compared to the pizza we had earlier.  In the end, we went for Frozen Yoghurt with Honey. It is recommended to have it with honey, which will do wonders to the frozen yoghurt!  This place turned out to be quite peaceful and the plants enhanced its beauty.</td>\n",
       "    </tr>\n",
       "    <tr>\n",
       "      <th>2</th>\n",
       "      <td>YUM789</td>\n",
       "      <td>5</td>\n",
       "      <td>Excellent taste and awesome decorum. Must visit. Subham Barnwal had given us a great service. One of the best experience.</td>\n",
       "    </tr>\n",
       "    <tr>\n",
       "      <th>3</th>\n",
       "      <td>TST101</td>\n",
       "      <td>5</td>\n",
       "      <td>I have visited at jw lough/restourant. There were a first class service at lough, specially Ms.laxmi  who were superbed for handling the client need, me and my family lots enjoyed her specialty in the manner, and Laxmi is a very very good in the client service, I hope when I will come against I would definitely serve from Ms. Laxmi and she is wonderful girl in that service. See you again Ms. Laxmi for the your best service which I have received from you at jw lough/resourant. Thank you JW Marriott Hotel at Atrocity, Delhi</td>\n",
       "    </tr>\n",
       "    <tr>\n",
       "      <th>4</th>\n",
       "      <td>EAT456</td>\n",
       "      <td>5</td>\n",
       "      <td>Had a great experience in the restaurant food was fabulous, staff was nice. Hotel staff seems very professional specially the team at front desk although I was not staying there but they helped me with few of my quarries. Was dining with my kids and the team member at front desk young guy came with some kids book and gave it to my little child. It was a wonderful experience at Holiday inn and the staff was super . I was little worried as using the hotel first time for dining but the staff made it more comfortable. Will strongly recommend this and special thanks to people working at desk do not remember his name but he was a manager in the lobby who suggested us kylin for food and thanks to him that we enjoyed meal at kylin and now it's my first choice for food.</td>\n",
       "    </tr>\n",
       "  </tbody>\n",
       "</table>\n",
       "</div>"
      ],
      "text/plain": [
       "  restaurant_ID  rating_review  \\\n",
       "0        FLV202              5   \n",
       "1        SAV303              5   \n",
       "2        YUM789              5   \n",
       "3        TST101              5   \n",
       "4        EAT456              5   \n",
       "\n",
       "                                                                                                                                                                                                                                                                                                                                                                                                                                                                                                                                                                                                                                                                                                                                                                                                                                                                                                                  review_full  \n",
       "0                                                                                                                                                                            Totally in love with the Auro of the place, really beautiful and quite fancy at the same time. The ambience is very pure and gives a sense of positivity throughout. Outdoor and indoor interior are quite quaint and cute. Love the open kitchen idea and there whole marketplace ideology. Due to coronovirus they specifically use disposable cutlery to keep the pandemic in mind taking all the precautionary measures from the beginning of the place with the mask on their staff and using good sanitisation. The food is really amazing specially the pizza straight from the oven and the hummus and pita bread are quite delicious too. If you're looking for a classy yet soothing Italian place in Delhi,Fatjar is a go to for you!  \n",
       "1  Kailash colony is brimming with small cafes now. I happened to visit this beauty for lunch and was amazed with the 1st impression it made.  We started with Falafel & Pita and Margherita Pizza. Safe to say, Margherita pizza was the best choice of the day. Its made freshly in front of you in the Wood Fired oven. The taste was exquisite and I would recommend this to anybody who plans to visit this outlet. I could come here just to have that Pizza. Hummus, Pita and Falafel were a good side dish while we ordered the next couple of dishes. We moved on to order Fussili Alfredo. This white sauce fussili pasta was good but could not be compared to the pizza we had earlier.  In the end, we went for Frozen Yoghurt with Honey. It is recommended to have it with honey, which will do wonders to the frozen yoghurt!  This place turned out to be quite peaceful and the plants enhanced its beauty.  \n",
       "2                                                                                                                                                                                                                                                                                                                                                                                                                                                                                                                                                                                                                                                                                                                                                                                                   Excellent taste and awesome decorum. Must visit. Subham Barnwal had given us a great service. One of the best experience.  \n",
       "3                                                                                                                                                                                                                                                                                                                                                                             I have visited at jw lough/restourant. There were a first class service at lough, specially Ms.laxmi  who were superbed for handling the client need, me and my family lots enjoyed her specialty in the manner, and Laxmi is a very very good in the client service, I hope when I will come against I would definitely serve from Ms. Laxmi and she is wonderful girl in that service. See you again Ms. Laxmi for the your best service which I have received from you at jw lough/resourant. Thank you JW Marriott Hotel at Atrocity, Delhi  \n",
       "4                                                                                                                         Had a great experience in the restaurant food was fabulous, staff was nice. Hotel staff seems very professional specially the team at front desk although I was not staying there but they helped me with few of my quarries. Was dining with my kids and the team member at front desk young guy came with some kids book and gave it to my little child. It was a wonderful experience at Holiday inn and the staff was super . I was little worried as using the hotel first time for dining but the staff made it more comfortable. Will strongly recommend this and special thanks to people working at desk do not remember his name but he was a manager in the lobby who suggested us kylin for food and thanks to him that we enjoyed meal at kylin and now it's my first choice for food.  "
      ]
     },
     "execution_count": 11,
     "metadata": {},
     "output_type": "execute_result"
    }
   ],
   "source": [
    "data.head()"
   ]
  },
  {
   "cell_type": "markdown",
   "metadata": {},
   "source": [
    "#### Check how this instructionn works on a single input"
   ]
  },
  {
   "cell_type": "code",
   "execution_count": 12,
   "metadata": {},
   "outputs": [
    {
     "name": "stdout",
     "output_type": "stream",
     "text": [
      "<think>\n",
      "Okay, let's see. The user wants me to classify this restaurant review as positive, negative, or neutral. Let me read through the review again to make sure I understand it correctly.\n",
      "\n",
      "The reviewer starts by saying they're \"Totally in love with the Auro of the place,\" which sounds really positive. They mention the place is \"really beautiful and quite fancy at the same time,\" so that's definitely positive. The ambience is described as \"very pure\" and gives a \"sense of positivity throughout,\" which adds to the positive sentiment. \n",
      "\n",
      "They talk about the outdoor and indoor areas being \"quaint and cute,\" which are positive adjectives. The open kitchen idea and the marketplace ideology are mentioned as positives. The reviewer also notes that due to the coronavirus, the place uses disposable cutlery and has precautions like masks and sanitization. This shows they appreciate the safety measures, which is a positive point.\n",
      "\n",
      "The food is described as \"really amazing,\" with specific mentions of pizza, hummus, and pita bread being delicious. The conclusion recommends the place as a \"go to\" for someone looking for a classy and soothing Italian spot in Delhi. \n",
      "\n",
      "I need to check if there's any negative or neutral language. The reviewer doesn't mention any drawbacks. All the points are favorable. Even the mention of coronavirus precautions is framed positively, showing the restaurant is taking care of health measures. \n",
      "\n",
      "So, all the adjectives and descriptions are positive, and there's no negative or neutral content. The sentiment is clearly positive.\n",
      "</think>\n",
      "\n",
      "The sentiment of the review is **Positive**. The reviewer uses enthusiastic language (\"Totally in love,\" \"really beautiful,\" \"amazing\"), praises multiple aspects (ambience, food, safety measures, design), and explicitly recommends the restaurant. There are no negative or neutral remarks.\n"
     ]
    }
   ],
   "source": [
    "m = p1.generate_response(data['review_full'].values[0])\n",
    "print(m)"
   ]
  },
  {
   "cell_type": "markdown",
   "metadata": {},
   "source": [
    "#### Now apply that to all the reviews"
   ]
  },
  {
   "cell_type": "code",
   "execution_count": 13,
   "metadata": {},
   "outputs": [],
   "source": [
    "column_name = p1.model + ' - I1'\n",
    "\n",
    "data[column_name] = data['review_full'].apply(\n",
    "                                                 lambda x: p1.generate_response(x))\n"
   ]
  },
  {
   "cell_type": "markdown",
   "metadata": {},
   "source": [
    "#### Check the Data"
   ]
  },
  {
   "cell_type": "code",
   "execution_count": 13,
   "metadata": {},
   "outputs": [
    {
     "data": {
      "text/html": [
       "<div>\n",
       "<style scoped>\n",
       "    .dataframe tbody tr th:only-of-type {\n",
       "        vertical-align: middle;\n",
       "    }\n",
       "\n",
       "    .dataframe tbody tr th {\n",
       "        vertical-align: top;\n",
       "    }\n",
       "\n",
       "    .dataframe thead th {\n",
       "        text-align: right;\n",
       "    }\n",
       "</style>\n",
       "<table border=\"1\" class=\"dataframe\">\n",
       "  <thead>\n",
       "    <tr style=\"text-align: right;\">\n",
       "      <th></th>\n",
       "      <th>restaurant_ID</th>\n",
       "      <th>rating_review</th>\n",
       "      <th>review_full</th>\n",
       "      <th>qwen2.5-coder - I1</th>\n",
       "    </tr>\n",
       "  </thead>\n",
       "  <tbody>\n",
       "    <tr>\n",
       "      <th>0</th>\n",
       "      <td>FLV202</td>\n",
       "      <td>5</td>\n",
       "      <td>Totally in love with the Auro of the place, really beautiful and quite fancy at the same time. The ambience is very pure and gives a sense of positivity throughout. Outdoor and indoor interior are quite quaint and cute. Love the open kitchen idea and there whole marketplace ideology. Due to coronovirus they specifically use disposable cutlery to keep the pandemic in mind taking all the precautionary measures from the beginning of the place with the mask on their staff and using good sanitisation. The food is really amazing specially the pizza straight from the oven and the hummus and pita bread are quite delicious too. If you're looking for a classy yet soothing Italian place in Delhi,Fatjar is a go to for you!</td>\n",
       "      <td>Positive</td>\n",
       "    </tr>\n",
       "    <tr>\n",
       "      <th>1</th>\n",
       "      <td>SAV303</td>\n",
       "      <td>5</td>\n",
       "      <td>Kailash colony is brimming with small cafes now. I happened to visit this beauty for lunch and was amazed with the 1st impression it made.  We started with Falafel &amp; Pita and Margherita Pizza. Safe to say, Margherita pizza was the best choice of the day. Its made freshly in front of you in the Wood Fired oven. The taste was exquisite and I would recommend this to anybody who plans to visit this outlet. I could come here just to have that Pizza. Hummus, Pita and Falafel were a good side dish while we ordered the next couple of dishes. We moved on to order Fussili Alfredo. This white sauce fussili pasta was good but could not be compared to the pizza we had earlier.  In the end, we went for Frozen Yoghurt with Honey. It is recommended to have it with honey, which will do wonders to the frozen yoghurt!  This place turned out to be quite peaceful and the plants enhanced its beauty.</td>\n",
       "      <td>Positive</td>\n",
       "    </tr>\n",
       "    <tr>\n",
       "      <th>2</th>\n",
       "      <td>YUM789</td>\n",
       "      <td>5</td>\n",
       "      <td>Excellent taste and awesome decorum. Must visit. Subham Barnwal had given us a great service. One of the best experience.</td>\n",
       "      <td>Positive</td>\n",
       "    </tr>\n",
       "    <tr>\n",
       "      <th>3</th>\n",
       "      <td>TST101</td>\n",
       "      <td>5</td>\n",
       "      <td>I have visited at jw lough/restourant. There were a first class service at lough, specially Ms.laxmi  who were superbed for handling the client need, me and my family lots enjoyed her specialty in the manner, and Laxmi is a very very good in the client service, I hope when I will come against I would definitely serve from Ms. Laxmi and she is wonderful girl in that service. See you again Ms. Laxmi for the your best service which I have received from you at jw lough/resourant. Thank you JW Marriott Hotel at Atrocity, Delhi</td>\n",
       "      <td>Positive</td>\n",
       "    </tr>\n",
       "    <tr>\n",
       "      <th>4</th>\n",
       "      <td>EAT456</td>\n",
       "      <td>5</td>\n",
       "      <td>Had a great experience in the restaurant food was fabulous, staff was nice. Hotel staff seems very professional specially the team at front desk although I was not staying there but they helped me with few of my quarries. Was dining with my kids and the team member at front desk young guy came with some kids book and gave it to my little child. It was a wonderful experience at Holiday inn and the staff was super . I was little worried as using the hotel first time for dining but the staff made it more comfortable. Will strongly recommend this and special thanks to people working at desk do not remember his name but he was a manager in the lobby who suggested us kylin for food and thanks to him that we enjoyed meal at kylin and now it's my first choice for food.</td>\n",
       "      <td>Positive</td>\n",
       "    </tr>\n",
       "  </tbody>\n",
       "</table>\n",
       "</div>"
      ],
      "text/plain": [
       "  restaurant_ID  rating_review  \\\n",
       "0        FLV202              5   \n",
       "1        SAV303              5   \n",
       "2        YUM789              5   \n",
       "3        TST101              5   \n",
       "4        EAT456              5   \n",
       "\n",
       "                                                                                                                                                                                                                                                                                                                                                                                                                                                                                                                                                                                                                                                                                                                                                                                                                                                                                                                  review_full  \\\n",
       "0                                                                                                                                                                            Totally in love with the Auro of the place, really beautiful and quite fancy at the same time. The ambience is very pure and gives a sense of positivity throughout. Outdoor and indoor interior are quite quaint and cute. Love the open kitchen idea and there whole marketplace ideology. Due to coronovirus they specifically use disposable cutlery to keep the pandemic in mind taking all the precautionary measures from the beginning of the place with the mask on their staff and using good sanitisation. The food is really amazing specially the pizza straight from the oven and the hummus and pita bread are quite delicious too. If you're looking for a classy yet soothing Italian place in Delhi,Fatjar is a go to for you!   \n",
       "1  Kailash colony is brimming with small cafes now. I happened to visit this beauty for lunch and was amazed with the 1st impression it made.  We started with Falafel & Pita and Margherita Pizza. Safe to say, Margherita pizza was the best choice of the day. Its made freshly in front of you in the Wood Fired oven. The taste was exquisite and I would recommend this to anybody who plans to visit this outlet. I could come here just to have that Pizza. Hummus, Pita and Falafel were a good side dish while we ordered the next couple of dishes. We moved on to order Fussili Alfredo. This white sauce fussili pasta was good but could not be compared to the pizza we had earlier.  In the end, we went for Frozen Yoghurt with Honey. It is recommended to have it with honey, which will do wonders to the frozen yoghurt!  This place turned out to be quite peaceful and the plants enhanced its beauty.   \n",
       "2                                                                                                                                                                                                                                                                                                                                                                                                                                                                                                                                                                                                                                                                                                                                                                                                   Excellent taste and awesome decorum. Must visit. Subham Barnwal had given us a great service. One of the best experience.   \n",
       "3                                                                                                                                                                                                                                                                                                                                                                             I have visited at jw lough/restourant. There were a first class service at lough, specially Ms.laxmi  who were superbed for handling the client need, me and my family lots enjoyed her specialty in the manner, and Laxmi is a very very good in the client service, I hope when I will come against I would definitely serve from Ms. Laxmi and she is wonderful girl in that service. See you again Ms. Laxmi for the your best service which I have received from you at jw lough/resourant. Thank you JW Marriott Hotel at Atrocity, Delhi   \n",
       "4                                                                                                                         Had a great experience in the restaurant food was fabulous, staff was nice. Hotel staff seems very professional specially the team at front desk although I was not staying there but they helped me with few of my quarries. Was dining with my kids and the team member at front desk young guy came with some kids book and gave it to my little child. It was a wonderful experience at Holiday inn and the staff was super . I was little worried as using the hotel first time for dining but the staff made it more comfortable. Will strongly recommend this and special thanks to people working at desk do not remember his name but he was a manager in the lobby who suggested us kylin for food and thanks to him that we enjoyed meal at kylin and now it's my first choice for food.   \n",
       "\n",
       "  qwen2.5-coder - I1  \n",
       "0           Positive  \n",
       "1           Positive  \n",
       "2           Positive  \n",
       "3           Positive  \n",
       "4           Positive  "
      ]
     },
     "execution_count": 13,
     "metadata": {},
     "output_type": "execute_result"
    }
   ],
   "source": [
    "data.head()"
   ]
  },
  {
   "cell_type": "markdown",
   "metadata": {},
   "source": [
    "#### See one of the model responses"
   ]
  },
  {
   "cell_type": "code",
   "execution_count": 14,
   "metadata": {},
   "outputs": [],
   "source": [
    "# review = data['review_full'].values[0]\n",
    "# response = data[column_name].values[0]\n",
    "# review, response"
   ]
  },
  {
   "cell_type": "markdown",
   "metadata": {},
   "source": [
    "#### Check the Sentiments"
   ]
  },
  {
   "cell_type": "code",
   "execution_count": 15,
   "metadata": {},
   "outputs": [],
   "source": [
    "# # applying the function to the model response\n",
    "# data['sentiment'] = data['model_response'].apply(p1.extract_sentiment)\n",
    "# data['sentiment'].head()"
   ]
  },
  {
   "cell_type": "markdown",
   "metadata": {},
   "source": [
    "## Instruction 2\n",
    "### 2. Sentiment Analysis and Returning Structured Output (Llama)\n",
    "\n",
    "\n",
    "defining the instructions for the model\n",
    "instruction_2 = \"\"\"\n",
    "    You are an AI analyzing restaurant reviews. Classify the sentiment of the provided review into the following categories:\n",
    "    - Positive\n",
    "    - Negative\n",
    "    - Neutral\n",
    "\n",
    "    Format the output as a JSON object with a single key-value pair as shown below:\n",
    "    {\"sentiment\": \"your_sentiment_prediction\"}\n",
    "\"\"\""
   ]
  },
  {
   "cell_type": "code",
   "execution_count": 16,
   "metadata": {},
   "outputs": [
    {
     "data": {
      "text/plain": [
       "'\\n    You are an AI analyzing restaurant reviews. Classify the sentiment of the provided review into the following categories:\\n    - Positive\\n    - Negative\\n    - Neutral\\n\\n    Format the output as a JSON object with a single key-value pair as shown below:\\n    {\"sentiment\": \"your_sentiment_prediction\"}\\n'"
      ]
     },
     "execution_count": 16,
     "metadata": {},
     "output_type": "execute_result"
    }
   ],
   "source": [
    "p1.set_instruction(cf.instruction_2)\n",
    "p1.instruction"
   ]
  },
  {
   "cell_type": "markdown",
   "metadata": {},
   "source": [
    "#### Check how this instructionn works on a single input"
   ]
  },
  {
   "cell_type": "code",
   "execution_count": 17,
   "metadata": {},
   "outputs": [
    {
     "name": "stdout",
     "output_type": "stream",
     "text": [
      "```json\n",
      "{\"sentiment\": \"Positive\"}\n",
      "```\n"
     ]
    }
   ],
   "source": [
    "m = p1.generate_response(data['review_full'].values[0])\n",
    "print(m)"
   ]
  },
  {
   "cell_type": "markdown",
   "metadata": {},
   "source": [
    "#### Now apply that to all the reviews"
   ]
  },
  {
   "cell_type": "code",
   "execution_count": 18,
   "metadata": {},
   "outputs": [
    {
     "ename": "KeyboardInterrupt",
     "evalue": "",
     "output_type": "error",
     "traceback": [
      "\u001b[0;31m---------------------------------------------------------------------------\u001b[0m",
      "\u001b[0;31mKeyboardInterrupt\u001b[0m                         Traceback (most recent call last)",
      "Cell \u001b[0;32mIn[18], line 3\u001b[0m\n\u001b[1;32m      1\u001b[0m column_name \u001b[38;5;241m=\u001b[39m p1\u001b[38;5;241m.\u001b[39mmodel \u001b[38;5;241m+\u001b[39m \u001b[38;5;124m'\u001b[39m\u001b[38;5;124m - I2\u001b[39m\u001b[38;5;124m'\u001b[39m\n\u001b[0;32m----> 3\u001b[0m data[column_name] \u001b[38;5;241m=\u001b[39m \u001b[43mdata\u001b[49m\u001b[43m[\u001b[49m\u001b[38;5;124;43m'\u001b[39;49m\u001b[38;5;124;43mreview_full\u001b[39;49m\u001b[38;5;124;43m'\u001b[39;49m\u001b[43m]\u001b[49m\u001b[38;5;241;43m.\u001b[39;49m\u001b[43mapply\u001b[49m\u001b[43m(\u001b[49m\n\u001b[1;32m      4\u001b[0m \u001b[43m                                                 \u001b[49m\u001b[38;5;28;43;01mlambda\u001b[39;49;00m\u001b[43m \u001b[49m\u001b[43mx\u001b[49m\u001b[43m:\u001b[49m\u001b[43m \u001b[49m\u001b[43mp1\u001b[49m\u001b[38;5;241;43m.\u001b[39;49m\u001b[43mgenerate_response\u001b[49m\u001b[43m(\u001b[49m\u001b[43mx\u001b[49m\u001b[43m)\u001b[49m\u001b[43m)\u001b[49m\n",
      "File \u001b[0;32m~/VScode/GL-AIML/.venv/lib/python3.12/site-packages/pandas/core/series.py:4924\u001b[0m, in \u001b[0;36mSeries.apply\u001b[0;34m(self, func, convert_dtype, args, by_row, **kwargs)\u001b[0m\n\u001b[1;32m   4789\u001b[0m \u001b[38;5;28;01mdef\u001b[39;00m \u001b[38;5;21mapply\u001b[39m(\n\u001b[1;32m   4790\u001b[0m     \u001b[38;5;28mself\u001b[39m,\n\u001b[1;32m   4791\u001b[0m     func: AggFuncType,\n\u001b[0;32m   (...)\u001b[0m\n\u001b[1;32m   4796\u001b[0m     \u001b[38;5;241m*\u001b[39m\u001b[38;5;241m*\u001b[39mkwargs,\n\u001b[1;32m   4797\u001b[0m ) \u001b[38;5;241m-\u001b[39m\u001b[38;5;241m>\u001b[39m DataFrame \u001b[38;5;241m|\u001b[39m Series:\n\u001b[1;32m   4798\u001b[0m \u001b[38;5;250m    \u001b[39m\u001b[38;5;124;03m\"\"\"\u001b[39;00m\n\u001b[1;32m   4799\u001b[0m \u001b[38;5;124;03m    Invoke function on values of Series.\u001b[39;00m\n\u001b[1;32m   4800\u001b[0m \n\u001b[0;32m   (...)\u001b[0m\n\u001b[1;32m   4915\u001b[0m \u001b[38;5;124;03m    dtype: float64\u001b[39;00m\n\u001b[1;32m   4916\u001b[0m \u001b[38;5;124;03m    \"\"\"\u001b[39;00m\n\u001b[1;32m   4917\u001b[0m     \u001b[38;5;28;01mreturn\u001b[39;00m \u001b[43mSeriesApply\u001b[49m\u001b[43m(\u001b[49m\n\u001b[1;32m   4918\u001b[0m \u001b[43m        \u001b[49m\u001b[38;5;28;43mself\u001b[39;49m\u001b[43m,\u001b[49m\n\u001b[1;32m   4919\u001b[0m \u001b[43m        \u001b[49m\u001b[43mfunc\u001b[49m\u001b[43m,\u001b[49m\n\u001b[1;32m   4920\u001b[0m \u001b[43m        \u001b[49m\u001b[43mconvert_dtype\u001b[49m\u001b[38;5;241;43m=\u001b[39;49m\u001b[43mconvert_dtype\u001b[49m\u001b[43m,\u001b[49m\n\u001b[1;32m   4921\u001b[0m \u001b[43m        \u001b[49m\u001b[43mby_row\u001b[49m\u001b[38;5;241;43m=\u001b[39;49m\u001b[43mby_row\u001b[49m\u001b[43m,\u001b[49m\n\u001b[1;32m   4922\u001b[0m \u001b[43m        \u001b[49m\u001b[43margs\u001b[49m\u001b[38;5;241;43m=\u001b[39;49m\u001b[43margs\u001b[49m\u001b[43m,\u001b[49m\n\u001b[1;32m   4923\u001b[0m \u001b[43m        \u001b[49m\u001b[43mkwargs\u001b[49m\u001b[38;5;241;43m=\u001b[39;49m\u001b[43mkwargs\u001b[49m\u001b[43m,\u001b[49m\n\u001b[0;32m-> 4924\u001b[0m \u001b[43m    \u001b[49m\u001b[43m)\u001b[49m\u001b[38;5;241;43m.\u001b[39;49m\u001b[43mapply\u001b[49m\u001b[43m(\u001b[49m\u001b[43m)\u001b[49m\n",
      "File \u001b[0;32m~/VScode/GL-AIML/.venv/lib/python3.12/site-packages/pandas/core/apply.py:1427\u001b[0m, in \u001b[0;36mSeriesApply.apply\u001b[0;34m(self)\u001b[0m\n\u001b[1;32m   1424\u001b[0m     \u001b[38;5;28;01mreturn\u001b[39;00m \u001b[38;5;28mself\u001b[39m\u001b[38;5;241m.\u001b[39mapply_compat()\n\u001b[1;32m   1426\u001b[0m \u001b[38;5;66;03m# self.func is Callable\u001b[39;00m\n\u001b[0;32m-> 1427\u001b[0m \u001b[38;5;28;01mreturn\u001b[39;00m \u001b[38;5;28;43mself\u001b[39;49m\u001b[38;5;241;43m.\u001b[39;49m\u001b[43mapply_standard\u001b[49m\u001b[43m(\u001b[49m\u001b[43m)\u001b[49m\n",
      "File \u001b[0;32m~/VScode/GL-AIML/.venv/lib/python3.12/site-packages/pandas/core/apply.py:1507\u001b[0m, in \u001b[0;36mSeriesApply.apply_standard\u001b[0;34m(self)\u001b[0m\n\u001b[1;32m   1501\u001b[0m \u001b[38;5;66;03m# row-wise access\u001b[39;00m\n\u001b[1;32m   1502\u001b[0m \u001b[38;5;66;03m# apply doesn't have a `na_action` keyword and for backward compat reasons\u001b[39;00m\n\u001b[1;32m   1503\u001b[0m \u001b[38;5;66;03m# we need to give `na_action=\"ignore\"` for categorical data.\u001b[39;00m\n\u001b[1;32m   1504\u001b[0m \u001b[38;5;66;03m# TODO: remove the `na_action=\"ignore\"` when that default has been changed in\u001b[39;00m\n\u001b[1;32m   1505\u001b[0m \u001b[38;5;66;03m#  Categorical (GH51645).\u001b[39;00m\n\u001b[1;32m   1506\u001b[0m action \u001b[38;5;241m=\u001b[39m \u001b[38;5;124m\"\u001b[39m\u001b[38;5;124mignore\u001b[39m\u001b[38;5;124m\"\u001b[39m \u001b[38;5;28;01mif\u001b[39;00m \u001b[38;5;28misinstance\u001b[39m(obj\u001b[38;5;241m.\u001b[39mdtype, CategoricalDtype) \u001b[38;5;28;01melse\u001b[39;00m \u001b[38;5;28;01mNone\u001b[39;00m\n\u001b[0;32m-> 1507\u001b[0m mapped \u001b[38;5;241m=\u001b[39m \u001b[43mobj\u001b[49m\u001b[38;5;241;43m.\u001b[39;49m\u001b[43m_map_values\u001b[49m\u001b[43m(\u001b[49m\n\u001b[1;32m   1508\u001b[0m \u001b[43m    \u001b[49m\u001b[43mmapper\u001b[49m\u001b[38;5;241;43m=\u001b[39;49m\u001b[43mcurried\u001b[49m\u001b[43m,\u001b[49m\u001b[43m \u001b[49m\u001b[43mna_action\u001b[49m\u001b[38;5;241;43m=\u001b[39;49m\u001b[43maction\u001b[49m\u001b[43m,\u001b[49m\u001b[43m \u001b[49m\u001b[43mconvert\u001b[49m\u001b[38;5;241;43m=\u001b[39;49m\u001b[38;5;28;43mself\u001b[39;49m\u001b[38;5;241;43m.\u001b[39;49m\u001b[43mconvert_dtype\u001b[49m\n\u001b[1;32m   1509\u001b[0m \u001b[43m\u001b[49m\u001b[43m)\u001b[49m\n\u001b[1;32m   1511\u001b[0m \u001b[38;5;28;01mif\u001b[39;00m \u001b[38;5;28mlen\u001b[39m(mapped) \u001b[38;5;129;01mand\u001b[39;00m \u001b[38;5;28misinstance\u001b[39m(mapped[\u001b[38;5;241m0\u001b[39m], ABCSeries):\n\u001b[1;32m   1512\u001b[0m     \u001b[38;5;66;03m# GH#43986 Need to do list(mapped) in order to get treated as nested\u001b[39;00m\n\u001b[1;32m   1513\u001b[0m     \u001b[38;5;66;03m#  See also GH#25959 regarding EA support\u001b[39;00m\n\u001b[1;32m   1514\u001b[0m     \u001b[38;5;28;01mreturn\u001b[39;00m obj\u001b[38;5;241m.\u001b[39m_constructor_expanddim(\u001b[38;5;28mlist\u001b[39m(mapped), index\u001b[38;5;241m=\u001b[39mobj\u001b[38;5;241m.\u001b[39mindex)\n",
      "File \u001b[0;32m~/VScode/GL-AIML/.venv/lib/python3.12/site-packages/pandas/core/base.py:921\u001b[0m, in \u001b[0;36mIndexOpsMixin._map_values\u001b[0;34m(self, mapper, na_action, convert)\u001b[0m\n\u001b[1;32m    918\u001b[0m \u001b[38;5;28;01mif\u001b[39;00m \u001b[38;5;28misinstance\u001b[39m(arr, ExtensionArray):\n\u001b[1;32m    919\u001b[0m     \u001b[38;5;28;01mreturn\u001b[39;00m arr\u001b[38;5;241m.\u001b[39mmap(mapper, na_action\u001b[38;5;241m=\u001b[39mna_action)\n\u001b[0;32m--> 921\u001b[0m \u001b[38;5;28;01mreturn\u001b[39;00m \u001b[43malgorithms\u001b[49m\u001b[38;5;241;43m.\u001b[39;49m\u001b[43mmap_array\u001b[49m\u001b[43m(\u001b[49m\u001b[43marr\u001b[49m\u001b[43m,\u001b[49m\u001b[43m \u001b[49m\u001b[43mmapper\u001b[49m\u001b[43m,\u001b[49m\u001b[43m \u001b[49m\u001b[43mna_action\u001b[49m\u001b[38;5;241;43m=\u001b[39;49m\u001b[43mna_action\u001b[49m\u001b[43m,\u001b[49m\u001b[43m \u001b[49m\u001b[43mconvert\u001b[49m\u001b[38;5;241;43m=\u001b[39;49m\u001b[43mconvert\u001b[49m\u001b[43m)\u001b[49m\n",
      "File \u001b[0;32m~/VScode/GL-AIML/.venv/lib/python3.12/site-packages/pandas/core/algorithms.py:1743\u001b[0m, in \u001b[0;36mmap_array\u001b[0;34m(arr, mapper, na_action, convert)\u001b[0m\n\u001b[1;32m   1741\u001b[0m values \u001b[38;5;241m=\u001b[39m arr\u001b[38;5;241m.\u001b[39mastype(\u001b[38;5;28mobject\u001b[39m, copy\u001b[38;5;241m=\u001b[39m\u001b[38;5;28;01mFalse\u001b[39;00m)\n\u001b[1;32m   1742\u001b[0m \u001b[38;5;28;01mif\u001b[39;00m na_action \u001b[38;5;129;01mis\u001b[39;00m \u001b[38;5;28;01mNone\u001b[39;00m:\n\u001b[0;32m-> 1743\u001b[0m     \u001b[38;5;28;01mreturn\u001b[39;00m \u001b[43mlib\u001b[49m\u001b[38;5;241;43m.\u001b[39;49m\u001b[43mmap_infer\u001b[49m\u001b[43m(\u001b[49m\u001b[43mvalues\u001b[49m\u001b[43m,\u001b[49m\u001b[43m \u001b[49m\u001b[43mmapper\u001b[49m\u001b[43m,\u001b[49m\u001b[43m \u001b[49m\u001b[43mconvert\u001b[49m\u001b[38;5;241;43m=\u001b[39;49m\u001b[43mconvert\u001b[49m\u001b[43m)\u001b[49m\n\u001b[1;32m   1744\u001b[0m \u001b[38;5;28;01melse\u001b[39;00m:\n\u001b[1;32m   1745\u001b[0m     \u001b[38;5;28;01mreturn\u001b[39;00m lib\u001b[38;5;241m.\u001b[39mmap_infer_mask(\n\u001b[1;32m   1746\u001b[0m         values, mapper, mask\u001b[38;5;241m=\u001b[39misna(values)\u001b[38;5;241m.\u001b[39mview(np\u001b[38;5;241m.\u001b[39muint8), convert\u001b[38;5;241m=\u001b[39mconvert\n\u001b[1;32m   1747\u001b[0m     )\n",
      "File \u001b[0;32mlib.pyx:2972\u001b[0m, in \u001b[0;36mpandas._libs.lib.map_infer\u001b[0;34m()\u001b[0m\n",
      "Cell \u001b[0;32mIn[18], line 4\u001b[0m, in \u001b[0;36m<lambda>\u001b[0;34m(x)\u001b[0m\n\u001b[1;32m      1\u001b[0m column_name \u001b[38;5;241m=\u001b[39m p1\u001b[38;5;241m.\u001b[39mmodel \u001b[38;5;241m+\u001b[39m \u001b[38;5;124m'\u001b[39m\u001b[38;5;124m - I2\u001b[39m\u001b[38;5;124m'\u001b[39m\n\u001b[1;32m      3\u001b[0m data[column_name] \u001b[38;5;241m=\u001b[39m data[\u001b[38;5;124m'\u001b[39m\u001b[38;5;124mreview_full\u001b[39m\u001b[38;5;124m'\u001b[39m]\u001b[38;5;241m.\u001b[39mapply(\n\u001b[0;32m----> 4\u001b[0m                                                  \u001b[38;5;28;01mlambda\u001b[39;00m x: \u001b[43mp1\u001b[49m\u001b[38;5;241;43m.\u001b[39;49m\u001b[43mgenerate_response\u001b[49m\u001b[43m(\u001b[49m\u001b[43mx\u001b[49m\u001b[43m)\u001b[49m)\n",
      "File \u001b[0;32m~/VScode/GL-AIML/helper_fn.py:135\u001b[0m, in \u001b[0;36mPompt.generate_response\u001b[0;34m(self, review)\u001b[0m\n\u001b[1;32m    123\u001b[0m prompt \u001b[38;5;241m=\u001b[39m \u001b[38;5;124mf\u001b[39m\u001b[38;5;124m\"\u001b[39m\u001b[38;5;132;01m{\u001b[39;00mreview\u001b[38;5;132;01m}\u001b[39;00m\u001b[38;5;130;01m\\n\u001b[39;00m\u001b[38;5;132;01m{\u001b[39;00msystem_message\u001b[38;5;132;01m}\u001b[39;00m\u001b[38;5;124m\"\u001b[39m\n\u001b[1;32m    124\u001b[0m \u001b[38;5;66;03m# # Generate a response from the LLaMA model with additional parameters\u001b[39;00m\n\u001b[1;32m    125\u001b[0m \u001b[38;5;66;03m# llm_response = client.chat(\u001b[39;00m\n\u001b[1;32m    126\u001b[0m \u001b[38;5;66;03m#     model=model,\u001b[39;00m\n\u001b[0;32m   (...)\u001b[0m\n\u001b[1;32m    133\u001b[0m \u001b[38;5;66;03m# )\u001b[39;00m\n\u001b[1;32m    134\u001b[0m \u001b[38;5;66;03m# Generate a response from the LLaMA model with additional parameters\u001b[39;00m\n\u001b[0;32m--> 135\u001b[0m llm_response \u001b[38;5;241m=\u001b[39m \u001b[43mclient\u001b[49m\u001b[38;5;241;43m.\u001b[39;49m\u001b[43mchat\u001b[49m\u001b[43m(\u001b[49m\n\u001b[1;32m    136\u001b[0m \u001b[43m    \u001b[49m\u001b[43mmodel\u001b[49m\u001b[38;5;241;43m=\u001b[39;49m\u001b[38;5;28;43mself\u001b[39;49m\u001b[38;5;241;43m.\u001b[39;49m\u001b[43mmodel\u001b[49m\u001b[43m,\u001b[49m\n\u001b[1;32m    137\u001b[0m \u001b[43m    \u001b[49m\u001b[43mmessages\u001b[49m\u001b[38;5;241;43m=\u001b[39;49m\u001b[43m[\u001b[49m\u001b[43m{\u001b[49m\u001b[38;5;124;43m\"\u001b[39;49m\u001b[38;5;124;43mrole\u001b[39;49m\u001b[38;5;124;43m\"\u001b[39;49m\u001b[43m:\u001b[49m\u001b[43m \u001b[49m\u001b[38;5;124;43m\"\u001b[39;49m\u001b[38;5;124;43muser\u001b[39;49m\u001b[38;5;124;43m\"\u001b[39;49m\u001b[43m,\u001b[49m\u001b[43m \u001b[49m\u001b[38;5;124;43m\"\u001b[39;49m\u001b[38;5;124;43mcontent\u001b[39;49m\u001b[38;5;124;43m\"\u001b[39;49m\u001b[43m:\u001b[49m\u001b[43m \u001b[49m\u001b[43mprompt\u001b[49m\u001b[43m}\u001b[49m\u001b[43m]\u001b[49m\u001b[43m,\u001b[49m\n\u001b[1;32m    138\u001b[0m \u001b[43m    \u001b[49m\u001b[43moptions\u001b[49m\u001b[38;5;241;43m=\u001b[39;49m\u001b[43m{\u001b[49m\n\u001b[1;32m    139\u001b[0m \u001b[43m                \u001b[49m\u001b[38;5;124;43m\"\u001b[39;49m\u001b[38;5;124;43mtemperature\u001b[39;49m\u001b[38;5;124;43m\"\u001b[39;49m\u001b[43m:\u001b[49m\u001b[43m \u001b[49m\u001b[38;5;241;43m0\u001b[39;49m\u001b[43m,\u001b[49m\n\u001b[1;32m    140\u001b[0m \u001b[43m                \u001b[49m\u001b[38;5;124;43m\"\u001b[39;49m\u001b[38;5;124;43mtop_p\u001b[39;49m\u001b[38;5;124;43m\"\u001b[39;49m\u001b[43m:\u001b[49m\u001b[43m \u001b[49m\u001b[38;5;241;43m0.9\u001b[39;49m\u001b[43m,\u001b[49m\n\u001b[1;32m    141\u001b[0m \u001b[43m                \u001b[49m\u001b[38;5;124;43m\"\u001b[39;49m\u001b[38;5;124;43mmax_tokens\u001b[39;49m\u001b[38;5;124;43m\"\u001b[39;49m\u001b[43m:\u001b[49m\u001b[43m \u001b[49m\u001b[38;5;241;43m1024\u001b[39;49m\u001b[43m,\u001b[49m\n\u001b[1;32m    142\u001b[0m \u001b[43m                \u001b[49m\u001b[38;5;124;43m\"\u001b[39;49m\u001b[38;5;124;43mpresence_penalty\u001b[39;49m\u001b[38;5;124;43m\"\u001b[39;49m\u001b[43m:\u001b[49m\u001b[43m \u001b[49m\u001b[38;5;241;43m0.0\u001b[39;49m\u001b[43m,\u001b[49m\n\u001b[1;32m    143\u001b[0m \u001b[43m                \u001b[49m\u001b[38;5;124;43m\"\u001b[39;49m\u001b[38;5;124;43mfrequency_penalty\u001b[39;49m\u001b[38;5;124;43m\"\u001b[39;49m\u001b[43m:\u001b[49m\u001b[43m \u001b[49m\u001b[38;5;241;43m0.0\u001b[39;49m\u001b[43m,\u001b[49m\n\u001b[1;32m    144\u001b[0m \u001b[43m                \u001b[49m\u001b[38;5;124;43m\"\u001b[39;49m\u001b[38;5;124;43mbest_of\u001b[39;49m\u001b[38;5;124;43m\"\u001b[39;49m\u001b[43m:\u001b[49m\u001b[43m \u001b[49m\u001b[38;5;241;43m1\u001b[39;49m\u001b[43m,\u001b[49m\n\u001b[1;32m    145\u001b[0m \u001b[43m                \u001b[49m\u001b[38;5;124;43m\"\u001b[39;49m\u001b[38;5;124;43mn\u001b[39;49m\u001b[38;5;124;43m\"\u001b[39;49m\u001b[43m:\u001b[49m\u001b[43m \u001b[49m\u001b[38;5;241;43m1\u001b[39;49m\u001b[43m,\u001b[49m\n\u001b[1;32m    146\u001b[0m \u001b[43m                \u001b[49m\u001b[38;5;124;43m\"\u001b[39;49m\u001b[38;5;124;43mstop\u001b[39;49m\u001b[38;5;124;43m\"\u001b[39;49m\u001b[43m:\u001b[49m\u001b[43m \u001b[49m\u001b[43m[\u001b[49m\u001b[38;5;124;43m'\u001b[39;49m\u001b[38;5;124;43mINST\u001b[39;49m\u001b[38;5;124;43m'\u001b[39;49m\u001b[43m]\u001b[49m\n\u001b[1;32m    147\u001b[0m \n\u001b[1;32m    148\u001b[0m \u001b[43m            \u001b[49m\u001b[43m}\u001b[49m\n\u001b[1;32m    149\u001b[0m \u001b[43m\u001b[49m\u001b[43m)\u001b[49m\n\u001b[1;32m    153\u001b[0m \u001b[38;5;66;03m# Extract the sentiment from the response\u001b[39;00m\n\u001b[1;32m    154\u001b[0m message \u001b[38;5;241m=\u001b[39m llm_response[\u001b[38;5;124m'\u001b[39m\u001b[38;5;124mmessage\u001b[39m\u001b[38;5;124m'\u001b[39m][\u001b[38;5;124m'\u001b[39m\u001b[38;5;124mcontent\u001b[39m\u001b[38;5;124m'\u001b[39m]\n",
      "File \u001b[0;32m~/VScode/GL-AIML/.venv/lib/python3.12/site-packages/ollama/_client.py:332\u001b[0m, in \u001b[0;36mClient.chat\u001b[0;34m(self, model, messages, tools, stream, format, options, keep_alive)\u001b[0m\n\u001b[1;32m    288\u001b[0m \u001b[38;5;28;01mdef\u001b[39;00m \u001b[38;5;21mchat\u001b[39m(\n\u001b[1;32m    289\u001b[0m   \u001b[38;5;28mself\u001b[39m,\n\u001b[1;32m    290\u001b[0m   model: \u001b[38;5;28mstr\u001b[39m \u001b[38;5;241m=\u001b[39m \u001b[38;5;124m'\u001b[39m\u001b[38;5;124m'\u001b[39m,\n\u001b[0;32m   (...)\u001b[0m\n\u001b[1;32m    297\u001b[0m   keep_alive: Optional[Union[\u001b[38;5;28mfloat\u001b[39m, \u001b[38;5;28mstr\u001b[39m]] \u001b[38;5;241m=\u001b[39m \u001b[38;5;28;01mNone\u001b[39;00m,\n\u001b[1;32m    298\u001b[0m ) \u001b[38;5;241m-\u001b[39m\u001b[38;5;241m>\u001b[39m Union[ChatResponse, Iterator[ChatResponse]]:\n\u001b[1;32m    299\u001b[0m \u001b[38;5;250m  \u001b[39m\u001b[38;5;124;03m\"\"\"\u001b[39;00m\n\u001b[1;32m    300\u001b[0m \u001b[38;5;124;03m  Create a chat response using the requested model.\u001b[39;00m\n\u001b[1;32m    301\u001b[0m \n\u001b[0;32m   (...)\u001b[0m\n\u001b[1;32m    330\u001b[0m \u001b[38;5;124;03m  Returns `ChatResponse` if `stream` is `False`, otherwise returns a `ChatResponse` generator.\u001b[39;00m\n\u001b[1;32m    331\u001b[0m \u001b[38;5;124;03m  \"\"\"\u001b[39;00m\n\u001b[0;32m--> 332\u001b[0m   \u001b[38;5;28;01mreturn\u001b[39;00m \u001b[38;5;28;43mself\u001b[39;49m\u001b[38;5;241;43m.\u001b[39;49m\u001b[43m_request\u001b[49m\u001b[43m(\u001b[49m\n\u001b[1;32m    333\u001b[0m \u001b[43m    \u001b[49m\u001b[43mChatResponse\u001b[49m\u001b[43m,\u001b[49m\n\u001b[1;32m    334\u001b[0m \u001b[43m    \u001b[49m\u001b[38;5;124;43m'\u001b[39;49m\u001b[38;5;124;43mPOST\u001b[39;49m\u001b[38;5;124;43m'\u001b[39;49m\u001b[43m,\u001b[49m\n\u001b[1;32m    335\u001b[0m \u001b[43m    \u001b[49m\u001b[38;5;124;43m'\u001b[39;49m\u001b[38;5;124;43m/api/chat\u001b[39;49m\u001b[38;5;124;43m'\u001b[39;49m\u001b[43m,\u001b[49m\n\u001b[1;32m    336\u001b[0m \u001b[43m    \u001b[49m\u001b[43mjson\u001b[49m\u001b[38;5;241;43m=\u001b[39;49m\u001b[43mChatRequest\u001b[49m\u001b[43m(\u001b[49m\n\u001b[1;32m    337\u001b[0m \u001b[43m      \u001b[49m\u001b[43mmodel\u001b[49m\u001b[38;5;241;43m=\u001b[39;49m\u001b[43mmodel\u001b[49m\u001b[43m,\u001b[49m\n\u001b[1;32m    338\u001b[0m \u001b[43m      \u001b[49m\u001b[43mmessages\u001b[49m\u001b[38;5;241;43m=\u001b[39;49m\u001b[43m[\u001b[49m\u001b[43mmessage\u001b[49m\u001b[43m \u001b[49m\u001b[38;5;28;43;01mfor\u001b[39;49;00m\u001b[43m \u001b[49m\u001b[43mmessage\u001b[49m\u001b[43m \u001b[49m\u001b[38;5;129;43;01min\u001b[39;49;00m\u001b[43m \u001b[49m\u001b[43m_copy_messages\u001b[49m\u001b[43m(\u001b[49m\u001b[43mmessages\u001b[49m\u001b[43m)\u001b[49m\u001b[43m]\u001b[49m\u001b[43m,\u001b[49m\n\u001b[1;32m    339\u001b[0m \u001b[43m      \u001b[49m\u001b[43mtools\u001b[49m\u001b[38;5;241;43m=\u001b[39;49m\u001b[43m[\u001b[49m\u001b[43mtool\u001b[49m\u001b[43m \u001b[49m\u001b[38;5;28;43;01mfor\u001b[39;49;00m\u001b[43m \u001b[49m\u001b[43mtool\u001b[49m\u001b[43m \u001b[49m\u001b[38;5;129;43;01min\u001b[39;49;00m\u001b[43m \u001b[49m\u001b[43m_copy_tools\u001b[49m\u001b[43m(\u001b[49m\u001b[43mtools\u001b[49m\u001b[43m)\u001b[49m\u001b[43m]\u001b[49m\u001b[43m,\u001b[49m\n\u001b[1;32m    340\u001b[0m \u001b[43m      \u001b[49m\u001b[43mstream\u001b[49m\u001b[38;5;241;43m=\u001b[39;49m\u001b[43mstream\u001b[49m\u001b[43m,\u001b[49m\n\u001b[1;32m    341\u001b[0m \u001b[43m      \u001b[49m\u001b[38;5;28;43mformat\u001b[39;49m\u001b[38;5;241;43m=\u001b[39;49m\u001b[38;5;28;43mformat\u001b[39;49m\u001b[43m,\u001b[49m\n\u001b[1;32m    342\u001b[0m \u001b[43m      \u001b[49m\u001b[43moptions\u001b[49m\u001b[38;5;241;43m=\u001b[39;49m\u001b[43moptions\u001b[49m\u001b[43m,\u001b[49m\n\u001b[1;32m    343\u001b[0m \u001b[43m      \u001b[49m\u001b[43mkeep_alive\u001b[49m\u001b[38;5;241;43m=\u001b[39;49m\u001b[43mkeep_alive\u001b[49m\u001b[43m,\u001b[49m\n\u001b[1;32m    344\u001b[0m \u001b[43m    \u001b[49m\u001b[43m)\u001b[49m\u001b[38;5;241;43m.\u001b[39;49m\u001b[43mmodel_dump\u001b[49m\u001b[43m(\u001b[49m\u001b[43mexclude_none\u001b[49m\u001b[38;5;241;43m=\u001b[39;49m\u001b[38;5;28;43;01mTrue\u001b[39;49;00m\u001b[43m)\u001b[49m\u001b[43m,\u001b[49m\n\u001b[1;32m    345\u001b[0m \u001b[43m    \u001b[49m\u001b[43mstream\u001b[49m\u001b[38;5;241;43m=\u001b[39;49m\u001b[43mstream\u001b[49m\u001b[43m,\u001b[49m\n\u001b[1;32m    346\u001b[0m \u001b[43m  \u001b[49m\u001b[43m)\u001b[49m\n",
      "File \u001b[0;32m~/VScode/GL-AIML/.venv/lib/python3.12/site-packages/ollama/_client.py:177\u001b[0m, in \u001b[0;36mClient._request\u001b[0;34m(self, cls, stream, *args, **kwargs)\u001b[0m\n\u001b[1;32m    173\u001b[0m         \u001b[38;5;28;01myield\u001b[39;00m \u001b[38;5;28mcls\u001b[39m(\u001b[38;5;241m*\u001b[39m\u001b[38;5;241m*\u001b[39mpart)\n\u001b[1;32m    175\u001b[0m   \u001b[38;5;28;01mreturn\u001b[39;00m inner()\n\u001b[0;32m--> 177\u001b[0m \u001b[38;5;28;01mreturn\u001b[39;00m \u001b[38;5;28mcls\u001b[39m(\u001b[38;5;241m*\u001b[39m\u001b[38;5;241m*\u001b[39m\u001b[38;5;28;43mself\u001b[39;49m\u001b[38;5;241;43m.\u001b[39;49m\u001b[43m_request_raw\u001b[49m\u001b[43m(\u001b[49m\u001b[38;5;241;43m*\u001b[39;49m\u001b[43margs\u001b[49m\u001b[43m,\u001b[49m\u001b[43m \u001b[49m\u001b[38;5;241;43m*\u001b[39;49m\u001b[38;5;241;43m*\u001b[39;49m\u001b[43mkwargs\u001b[49m\u001b[43m)\u001b[49m\u001b[38;5;241m.\u001b[39mjson())\n",
      "File \u001b[0;32m~/VScode/GL-AIML/.venv/lib/python3.12/site-packages/ollama/_client.py:118\u001b[0m, in \u001b[0;36mClient._request_raw\u001b[0;34m(self, *args, **kwargs)\u001b[0m\n\u001b[1;32m    117\u001b[0m \u001b[38;5;28;01mdef\u001b[39;00m \u001b[38;5;21m_request_raw\u001b[39m(\u001b[38;5;28mself\u001b[39m, \u001b[38;5;241m*\u001b[39margs, \u001b[38;5;241m*\u001b[39m\u001b[38;5;241m*\u001b[39mkwargs):\n\u001b[0;32m--> 118\u001b[0m   r \u001b[38;5;241m=\u001b[39m \u001b[38;5;28;43mself\u001b[39;49m\u001b[38;5;241;43m.\u001b[39;49m\u001b[43m_client\u001b[49m\u001b[38;5;241;43m.\u001b[39;49m\u001b[43mrequest\u001b[49m\u001b[43m(\u001b[49m\u001b[38;5;241;43m*\u001b[39;49m\u001b[43margs\u001b[49m\u001b[43m,\u001b[49m\u001b[43m \u001b[49m\u001b[38;5;241;43m*\u001b[39;49m\u001b[38;5;241;43m*\u001b[39;49m\u001b[43mkwargs\u001b[49m\u001b[43m)\u001b[49m\n\u001b[1;32m    119\u001b[0m   \u001b[38;5;28;01mtry\u001b[39;00m:\n\u001b[1;32m    120\u001b[0m     r\u001b[38;5;241m.\u001b[39mraise_for_status()\n",
      "File \u001b[0;32m~/VScode/GL-AIML/.venv/lib/python3.12/site-packages/httpx/_client.py:837\u001b[0m, in \u001b[0;36mClient.request\u001b[0;34m(self, method, url, content, data, files, json, params, headers, cookies, auth, follow_redirects, timeout, extensions)\u001b[0m\n\u001b[1;32m    822\u001b[0m     warnings\u001b[38;5;241m.\u001b[39mwarn(message, \u001b[38;5;167;01mDeprecationWarning\u001b[39;00m)\n\u001b[1;32m    824\u001b[0m request \u001b[38;5;241m=\u001b[39m \u001b[38;5;28mself\u001b[39m\u001b[38;5;241m.\u001b[39mbuild_request(\n\u001b[1;32m    825\u001b[0m     method\u001b[38;5;241m=\u001b[39mmethod,\n\u001b[1;32m    826\u001b[0m     url\u001b[38;5;241m=\u001b[39murl,\n\u001b[0;32m   (...)\u001b[0m\n\u001b[1;32m    835\u001b[0m     extensions\u001b[38;5;241m=\u001b[39mextensions,\n\u001b[1;32m    836\u001b[0m )\n\u001b[0;32m--> 837\u001b[0m \u001b[38;5;28;01mreturn\u001b[39;00m \u001b[38;5;28;43mself\u001b[39;49m\u001b[38;5;241;43m.\u001b[39;49m\u001b[43msend\u001b[49m\u001b[43m(\u001b[49m\u001b[43mrequest\u001b[49m\u001b[43m,\u001b[49m\u001b[43m \u001b[49m\u001b[43mauth\u001b[49m\u001b[38;5;241;43m=\u001b[39;49m\u001b[43mauth\u001b[49m\u001b[43m,\u001b[49m\u001b[43m \u001b[49m\u001b[43mfollow_redirects\u001b[49m\u001b[38;5;241;43m=\u001b[39;49m\u001b[43mfollow_redirects\u001b[49m\u001b[43m)\u001b[49m\n",
      "File \u001b[0;32m~/VScode/GL-AIML/.venv/lib/python3.12/site-packages/httpx/_client.py:926\u001b[0m, in \u001b[0;36mClient.send\u001b[0;34m(self, request, stream, auth, follow_redirects)\u001b[0m\n\u001b[1;32m    922\u001b[0m \u001b[38;5;28mself\u001b[39m\u001b[38;5;241m.\u001b[39m_set_timeout(request)\n\u001b[1;32m    924\u001b[0m auth \u001b[38;5;241m=\u001b[39m \u001b[38;5;28mself\u001b[39m\u001b[38;5;241m.\u001b[39m_build_request_auth(request, auth)\n\u001b[0;32m--> 926\u001b[0m response \u001b[38;5;241m=\u001b[39m \u001b[38;5;28;43mself\u001b[39;49m\u001b[38;5;241;43m.\u001b[39;49m\u001b[43m_send_handling_auth\u001b[49m\u001b[43m(\u001b[49m\n\u001b[1;32m    927\u001b[0m \u001b[43m    \u001b[49m\u001b[43mrequest\u001b[49m\u001b[43m,\u001b[49m\n\u001b[1;32m    928\u001b[0m \u001b[43m    \u001b[49m\u001b[43mauth\u001b[49m\u001b[38;5;241;43m=\u001b[39;49m\u001b[43mauth\u001b[49m\u001b[43m,\u001b[49m\n\u001b[1;32m    929\u001b[0m \u001b[43m    \u001b[49m\u001b[43mfollow_redirects\u001b[49m\u001b[38;5;241;43m=\u001b[39;49m\u001b[43mfollow_redirects\u001b[49m\u001b[43m,\u001b[49m\n\u001b[1;32m    930\u001b[0m \u001b[43m    \u001b[49m\u001b[43mhistory\u001b[49m\u001b[38;5;241;43m=\u001b[39;49m\u001b[43m[\u001b[49m\u001b[43m]\u001b[49m\u001b[43m,\u001b[49m\n\u001b[1;32m    931\u001b[0m \u001b[43m\u001b[49m\u001b[43m)\u001b[49m\n\u001b[1;32m    932\u001b[0m \u001b[38;5;28;01mtry\u001b[39;00m:\n\u001b[1;32m    933\u001b[0m     \u001b[38;5;28;01mif\u001b[39;00m \u001b[38;5;129;01mnot\u001b[39;00m stream:\n",
      "File \u001b[0;32m~/VScode/GL-AIML/.venv/lib/python3.12/site-packages/httpx/_client.py:954\u001b[0m, in \u001b[0;36mClient._send_handling_auth\u001b[0;34m(self, request, auth, follow_redirects, history)\u001b[0m\n\u001b[1;32m    951\u001b[0m request \u001b[38;5;241m=\u001b[39m \u001b[38;5;28mnext\u001b[39m(auth_flow)\n\u001b[1;32m    953\u001b[0m \u001b[38;5;28;01mwhile\u001b[39;00m \u001b[38;5;28;01mTrue\u001b[39;00m:\n\u001b[0;32m--> 954\u001b[0m     response \u001b[38;5;241m=\u001b[39m \u001b[38;5;28;43mself\u001b[39;49m\u001b[38;5;241;43m.\u001b[39;49m\u001b[43m_send_handling_redirects\u001b[49m\u001b[43m(\u001b[49m\n\u001b[1;32m    955\u001b[0m \u001b[43m        \u001b[49m\u001b[43mrequest\u001b[49m\u001b[43m,\u001b[49m\n\u001b[1;32m    956\u001b[0m \u001b[43m        \u001b[49m\u001b[43mfollow_redirects\u001b[49m\u001b[38;5;241;43m=\u001b[39;49m\u001b[43mfollow_redirects\u001b[49m\u001b[43m,\u001b[49m\n\u001b[1;32m    957\u001b[0m \u001b[43m        \u001b[49m\u001b[43mhistory\u001b[49m\u001b[38;5;241;43m=\u001b[39;49m\u001b[43mhistory\u001b[49m\u001b[43m,\u001b[49m\n\u001b[1;32m    958\u001b[0m \u001b[43m    \u001b[49m\u001b[43m)\u001b[49m\n\u001b[1;32m    959\u001b[0m     \u001b[38;5;28;01mtry\u001b[39;00m:\n\u001b[1;32m    960\u001b[0m         \u001b[38;5;28;01mtry\u001b[39;00m:\n",
      "File \u001b[0;32m~/VScode/GL-AIML/.venv/lib/python3.12/site-packages/httpx/_client.py:991\u001b[0m, in \u001b[0;36mClient._send_handling_redirects\u001b[0;34m(self, request, follow_redirects, history)\u001b[0m\n\u001b[1;32m    988\u001b[0m \u001b[38;5;28;01mfor\u001b[39;00m hook \u001b[38;5;129;01min\u001b[39;00m \u001b[38;5;28mself\u001b[39m\u001b[38;5;241m.\u001b[39m_event_hooks[\u001b[38;5;124m\"\u001b[39m\u001b[38;5;124mrequest\u001b[39m\u001b[38;5;124m\"\u001b[39m]:\n\u001b[1;32m    989\u001b[0m     hook(request)\n\u001b[0;32m--> 991\u001b[0m response \u001b[38;5;241m=\u001b[39m \u001b[38;5;28;43mself\u001b[39;49m\u001b[38;5;241;43m.\u001b[39;49m\u001b[43m_send_single_request\u001b[49m\u001b[43m(\u001b[49m\u001b[43mrequest\u001b[49m\u001b[43m)\u001b[49m\n\u001b[1;32m    992\u001b[0m \u001b[38;5;28;01mtry\u001b[39;00m:\n\u001b[1;32m    993\u001b[0m     \u001b[38;5;28;01mfor\u001b[39;00m hook \u001b[38;5;129;01min\u001b[39;00m \u001b[38;5;28mself\u001b[39m\u001b[38;5;241m.\u001b[39m_event_hooks[\u001b[38;5;124m\"\u001b[39m\u001b[38;5;124mresponse\u001b[39m\u001b[38;5;124m\"\u001b[39m]:\n",
      "File \u001b[0;32m~/VScode/GL-AIML/.venv/lib/python3.12/site-packages/httpx/_client.py:1027\u001b[0m, in \u001b[0;36mClient._send_single_request\u001b[0;34m(self, request)\u001b[0m\n\u001b[1;32m   1022\u001b[0m     \u001b[38;5;28;01mraise\u001b[39;00m \u001b[38;5;167;01mRuntimeError\u001b[39;00m(\n\u001b[1;32m   1023\u001b[0m         \u001b[38;5;124m\"\u001b[39m\u001b[38;5;124mAttempted to send an async request with a sync Client instance.\u001b[39m\u001b[38;5;124m\"\u001b[39m\n\u001b[1;32m   1024\u001b[0m     )\n\u001b[1;32m   1026\u001b[0m \u001b[38;5;28;01mwith\u001b[39;00m request_context(request\u001b[38;5;241m=\u001b[39mrequest):\n\u001b[0;32m-> 1027\u001b[0m     response \u001b[38;5;241m=\u001b[39m \u001b[43mtransport\u001b[49m\u001b[38;5;241;43m.\u001b[39;49m\u001b[43mhandle_request\u001b[49m\u001b[43m(\u001b[49m\u001b[43mrequest\u001b[49m\u001b[43m)\u001b[49m\n\u001b[1;32m   1029\u001b[0m \u001b[38;5;28;01massert\u001b[39;00m \u001b[38;5;28misinstance\u001b[39m(response\u001b[38;5;241m.\u001b[39mstream, SyncByteStream)\n\u001b[1;32m   1031\u001b[0m response\u001b[38;5;241m.\u001b[39mrequest \u001b[38;5;241m=\u001b[39m request\n",
      "File \u001b[0;32m~/VScode/GL-AIML/.venv/lib/python3.12/site-packages/httpx/_transports/default.py:236\u001b[0m, in \u001b[0;36mHTTPTransport.handle_request\u001b[0;34m(self, request)\u001b[0m\n\u001b[1;32m    223\u001b[0m req \u001b[38;5;241m=\u001b[39m httpcore\u001b[38;5;241m.\u001b[39mRequest(\n\u001b[1;32m    224\u001b[0m     method\u001b[38;5;241m=\u001b[39mrequest\u001b[38;5;241m.\u001b[39mmethod,\n\u001b[1;32m    225\u001b[0m     url\u001b[38;5;241m=\u001b[39mhttpcore\u001b[38;5;241m.\u001b[39mURL(\n\u001b[0;32m   (...)\u001b[0m\n\u001b[1;32m    233\u001b[0m     extensions\u001b[38;5;241m=\u001b[39mrequest\u001b[38;5;241m.\u001b[39mextensions,\n\u001b[1;32m    234\u001b[0m )\n\u001b[1;32m    235\u001b[0m \u001b[38;5;28;01mwith\u001b[39;00m map_httpcore_exceptions():\n\u001b[0;32m--> 236\u001b[0m     resp \u001b[38;5;241m=\u001b[39m \u001b[38;5;28;43mself\u001b[39;49m\u001b[38;5;241;43m.\u001b[39;49m\u001b[43m_pool\u001b[49m\u001b[38;5;241;43m.\u001b[39;49m\u001b[43mhandle_request\u001b[49m\u001b[43m(\u001b[49m\u001b[43mreq\u001b[49m\u001b[43m)\u001b[49m\n\u001b[1;32m    238\u001b[0m \u001b[38;5;28;01massert\u001b[39;00m \u001b[38;5;28misinstance\u001b[39m(resp\u001b[38;5;241m.\u001b[39mstream, typing\u001b[38;5;241m.\u001b[39mIterable)\n\u001b[1;32m    240\u001b[0m \u001b[38;5;28;01mreturn\u001b[39;00m Response(\n\u001b[1;32m    241\u001b[0m     status_code\u001b[38;5;241m=\u001b[39mresp\u001b[38;5;241m.\u001b[39mstatus,\n\u001b[1;32m    242\u001b[0m     headers\u001b[38;5;241m=\u001b[39mresp\u001b[38;5;241m.\u001b[39mheaders,\n\u001b[1;32m    243\u001b[0m     stream\u001b[38;5;241m=\u001b[39mResponseStream(resp\u001b[38;5;241m.\u001b[39mstream),\n\u001b[1;32m    244\u001b[0m     extensions\u001b[38;5;241m=\u001b[39mresp\u001b[38;5;241m.\u001b[39mextensions,\n\u001b[1;32m    245\u001b[0m )\n",
      "File \u001b[0;32m~/VScode/GL-AIML/.venv/lib/python3.12/site-packages/httpcore/_sync/connection_pool.py:256\u001b[0m, in \u001b[0;36mConnectionPool.handle_request\u001b[0;34m(self, request)\u001b[0m\n\u001b[1;32m    253\u001b[0m         closing \u001b[38;5;241m=\u001b[39m \u001b[38;5;28mself\u001b[39m\u001b[38;5;241m.\u001b[39m_assign_requests_to_connections()\n\u001b[1;32m    255\u001b[0m     \u001b[38;5;28mself\u001b[39m\u001b[38;5;241m.\u001b[39m_close_connections(closing)\n\u001b[0;32m--> 256\u001b[0m     \u001b[38;5;28;01mraise\u001b[39;00m exc \u001b[38;5;28;01mfrom\u001b[39;00m \u001b[38;5;28;01mNone\u001b[39;00m\n\u001b[1;32m    258\u001b[0m \u001b[38;5;66;03m# Return the response. Note that in this case we still have to manage\u001b[39;00m\n\u001b[1;32m    259\u001b[0m \u001b[38;5;66;03m# the point at which the response is closed.\u001b[39;00m\n\u001b[1;32m    260\u001b[0m \u001b[38;5;28;01massert\u001b[39;00m \u001b[38;5;28misinstance\u001b[39m(response\u001b[38;5;241m.\u001b[39mstream, typing\u001b[38;5;241m.\u001b[39mIterable)\n",
      "File \u001b[0;32m~/VScode/GL-AIML/.venv/lib/python3.12/site-packages/httpcore/_sync/connection_pool.py:236\u001b[0m, in \u001b[0;36mConnectionPool.handle_request\u001b[0;34m(self, request)\u001b[0m\n\u001b[1;32m    232\u001b[0m connection \u001b[38;5;241m=\u001b[39m pool_request\u001b[38;5;241m.\u001b[39mwait_for_connection(timeout\u001b[38;5;241m=\u001b[39mtimeout)\n\u001b[1;32m    234\u001b[0m \u001b[38;5;28;01mtry\u001b[39;00m:\n\u001b[1;32m    235\u001b[0m     \u001b[38;5;66;03m# Send the request on the assigned connection.\u001b[39;00m\n\u001b[0;32m--> 236\u001b[0m     response \u001b[38;5;241m=\u001b[39m \u001b[43mconnection\u001b[49m\u001b[38;5;241;43m.\u001b[39;49m\u001b[43mhandle_request\u001b[49m\u001b[43m(\u001b[49m\n\u001b[1;32m    237\u001b[0m \u001b[43m        \u001b[49m\u001b[43mpool_request\u001b[49m\u001b[38;5;241;43m.\u001b[39;49m\u001b[43mrequest\u001b[49m\n\u001b[1;32m    238\u001b[0m \u001b[43m    \u001b[49m\u001b[43m)\u001b[49m\n\u001b[1;32m    239\u001b[0m \u001b[38;5;28;01mexcept\u001b[39;00m ConnectionNotAvailable:\n\u001b[1;32m    240\u001b[0m     \u001b[38;5;66;03m# In some cases a connection may initially be available to\u001b[39;00m\n\u001b[1;32m    241\u001b[0m     \u001b[38;5;66;03m# handle a request, but then become unavailable.\u001b[39;00m\n\u001b[1;32m    242\u001b[0m     \u001b[38;5;66;03m#\u001b[39;00m\n\u001b[1;32m    243\u001b[0m     \u001b[38;5;66;03m# In this case we clear the connection and try again.\u001b[39;00m\n\u001b[1;32m    244\u001b[0m     pool_request\u001b[38;5;241m.\u001b[39mclear_connection()\n",
      "File \u001b[0;32m~/VScode/GL-AIML/.venv/lib/python3.12/site-packages/httpcore/_sync/connection.py:103\u001b[0m, in \u001b[0;36mHTTPConnection.handle_request\u001b[0;34m(self, request)\u001b[0m\n\u001b[1;32m    100\u001b[0m     \u001b[38;5;28mself\u001b[39m\u001b[38;5;241m.\u001b[39m_connect_failed \u001b[38;5;241m=\u001b[39m \u001b[38;5;28;01mTrue\u001b[39;00m\n\u001b[1;32m    101\u001b[0m     \u001b[38;5;28;01mraise\u001b[39;00m exc\n\u001b[0;32m--> 103\u001b[0m \u001b[38;5;28;01mreturn\u001b[39;00m \u001b[38;5;28;43mself\u001b[39;49m\u001b[38;5;241;43m.\u001b[39;49m\u001b[43m_connection\u001b[49m\u001b[38;5;241;43m.\u001b[39;49m\u001b[43mhandle_request\u001b[49m\u001b[43m(\u001b[49m\u001b[43mrequest\u001b[49m\u001b[43m)\u001b[49m\n",
      "File \u001b[0;32m~/VScode/GL-AIML/.venv/lib/python3.12/site-packages/httpcore/_sync/http11.py:136\u001b[0m, in \u001b[0;36mHTTP11Connection.handle_request\u001b[0;34m(self, request)\u001b[0m\n\u001b[1;32m    134\u001b[0m     \u001b[38;5;28;01mwith\u001b[39;00m Trace(\u001b[38;5;124m\"\u001b[39m\u001b[38;5;124mresponse_closed\u001b[39m\u001b[38;5;124m\"\u001b[39m, logger, request) \u001b[38;5;28;01mas\u001b[39;00m trace:\n\u001b[1;32m    135\u001b[0m         \u001b[38;5;28mself\u001b[39m\u001b[38;5;241m.\u001b[39m_response_closed()\n\u001b[0;32m--> 136\u001b[0m \u001b[38;5;28;01mraise\u001b[39;00m exc\n",
      "File \u001b[0;32m~/VScode/GL-AIML/.venv/lib/python3.12/site-packages/httpcore/_sync/http11.py:106\u001b[0m, in \u001b[0;36mHTTP11Connection.handle_request\u001b[0;34m(self, request)\u001b[0m\n\u001b[1;32m     95\u001b[0m     \u001b[38;5;28;01mpass\u001b[39;00m\n\u001b[1;32m     97\u001b[0m \u001b[38;5;28;01mwith\u001b[39;00m Trace(\n\u001b[1;32m     98\u001b[0m     \u001b[38;5;124m\"\u001b[39m\u001b[38;5;124mreceive_response_headers\u001b[39m\u001b[38;5;124m\"\u001b[39m, logger, request, kwargs\n\u001b[1;32m     99\u001b[0m ) \u001b[38;5;28;01mas\u001b[39;00m trace:\n\u001b[1;32m    100\u001b[0m     (\n\u001b[1;32m    101\u001b[0m         http_version,\n\u001b[1;32m    102\u001b[0m         status,\n\u001b[1;32m    103\u001b[0m         reason_phrase,\n\u001b[1;32m    104\u001b[0m         headers,\n\u001b[1;32m    105\u001b[0m         trailing_data,\n\u001b[0;32m--> 106\u001b[0m     ) \u001b[38;5;241m=\u001b[39m \u001b[38;5;28;43mself\u001b[39;49m\u001b[38;5;241;43m.\u001b[39;49m\u001b[43m_receive_response_headers\u001b[49m\u001b[43m(\u001b[49m\u001b[38;5;241;43m*\u001b[39;49m\u001b[38;5;241;43m*\u001b[39;49m\u001b[43mkwargs\u001b[49m\u001b[43m)\u001b[49m\n\u001b[1;32m    107\u001b[0m     trace\u001b[38;5;241m.\u001b[39mreturn_value \u001b[38;5;241m=\u001b[39m (\n\u001b[1;32m    108\u001b[0m         http_version,\n\u001b[1;32m    109\u001b[0m         status,\n\u001b[1;32m    110\u001b[0m         reason_phrase,\n\u001b[1;32m    111\u001b[0m         headers,\n\u001b[1;32m    112\u001b[0m     )\n\u001b[1;32m    114\u001b[0m network_stream \u001b[38;5;241m=\u001b[39m \u001b[38;5;28mself\u001b[39m\u001b[38;5;241m.\u001b[39m_network_stream\n",
      "File \u001b[0;32m~/VScode/GL-AIML/.venv/lib/python3.12/site-packages/httpcore/_sync/http11.py:177\u001b[0m, in \u001b[0;36mHTTP11Connection._receive_response_headers\u001b[0;34m(self, request)\u001b[0m\n\u001b[1;32m    174\u001b[0m timeout \u001b[38;5;241m=\u001b[39m timeouts\u001b[38;5;241m.\u001b[39mget(\u001b[38;5;124m\"\u001b[39m\u001b[38;5;124mread\u001b[39m\u001b[38;5;124m\"\u001b[39m, \u001b[38;5;28;01mNone\u001b[39;00m)\n\u001b[1;32m    176\u001b[0m \u001b[38;5;28;01mwhile\u001b[39;00m \u001b[38;5;28;01mTrue\u001b[39;00m:\n\u001b[0;32m--> 177\u001b[0m     event \u001b[38;5;241m=\u001b[39m \u001b[38;5;28;43mself\u001b[39;49m\u001b[38;5;241;43m.\u001b[39;49m\u001b[43m_receive_event\u001b[49m\u001b[43m(\u001b[49m\u001b[43mtimeout\u001b[49m\u001b[38;5;241;43m=\u001b[39;49m\u001b[43mtimeout\u001b[49m\u001b[43m)\u001b[49m\n\u001b[1;32m    178\u001b[0m     \u001b[38;5;28;01mif\u001b[39;00m \u001b[38;5;28misinstance\u001b[39m(event, h11\u001b[38;5;241m.\u001b[39mResponse):\n\u001b[1;32m    179\u001b[0m         \u001b[38;5;28;01mbreak\u001b[39;00m\n",
      "File \u001b[0;32m~/VScode/GL-AIML/.venv/lib/python3.12/site-packages/httpcore/_sync/http11.py:217\u001b[0m, in \u001b[0;36mHTTP11Connection._receive_event\u001b[0;34m(self, timeout)\u001b[0m\n\u001b[1;32m    214\u001b[0m     event \u001b[38;5;241m=\u001b[39m \u001b[38;5;28mself\u001b[39m\u001b[38;5;241m.\u001b[39m_h11_state\u001b[38;5;241m.\u001b[39mnext_event()\n\u001b[1;32m    216\u001b[0m \u001b[38;5;28;01mif\u001b[39;00m event \u001b[38;5;129;01mis\u001b[39;00m h11\u001b[38;5;241m.\u001b[39mNEED_DATA:\n\u001b[0;32m--> 217\u001b[0m     data \u001b[38;5;241m=\u001b[39m \u001b[38;5;28;43mself\u001b[39;49m\u001b[38;5;241;43m.\u001b[39;49m\u001b[43m_network_stream\u001b[49m\u001b[38;5;241;43m.\u001b[39;49m\u001b[43mread\u001b[49m\u001b[43m(\u001b[49m\n\u001b[1;32m    218\u001b[0m \u001b[43m        \u001b[49m\u001b[38;5;28;43mself\u001b[39;49m\u001b[38;5;241;43m.\u001b[39;49m\u001b[43mREAD_NUM_BYTES\u001b[49m\u001b[43m,\u001b[49m\u001b[43m \u001b[49m\u001b[43mtimeout\u001b[49m\u001b[38;5;241;43m=\u001b[39;49m\u001b[43mtimeout\u001b[49m\n\u001b[1;32m    219\u001b[0m \u001b[43m    \u001b[49m\u001b[43m)\u001b[49m\n\u001b[1;32m    221\u001b[0m     \u001b[38;5;66;03m# If we feed this case through h11 we'll raise an exception like:\u001b[39;00m\n\u001b[1;32m    222\u001b[0m     \u001b[38;5;66;03m#\u001b[39;00m\n\u001b[1;32m    223\u001b[0m     \u001b[38;5;66;03m#     httpcore.RemoteProtocolError: can't handle event type\u001b[39;00m\n\u001b[0;32m   (...)\u001b[0m\n\u001b[1;32m    227\u001b[0m     \u001b[38;5;66;03m# perspective. Instead we handle this case distinctly and treat\u001b[39;00m\n\u001b[1;32m    228\u001b[0m     \u001b[38;5;66;03m# it as a ConnectError.\u001b[39;00m\n\u001b[1;32m    229\u001b[0m     \u001b[38;5;28;01mif\u001b[39;00m data \u001b[38;5;241m==\u001b[39m \u001b[38;5;124mb\u001b[39m\u001b[38;5;124m\"\u001b[39m\u001b[38;5;124m\"\u001b[39m \u001b[38;5;129;01mand\u001b[39;00m \u001b[38;5;28mself\u001b[39m\u001b[38;5;241m.\u001b[39m_h11_state\u001b[38;5;241m.\u001b[39mtheir_state \u001b[38;5;241m==\u001b[39m h11\u001b[38;5;241m.\u001b[39mSEND_RESPONSE:\n",
      "File \u001b[0;32m~/VScode/GL-AIML/.venv/lib/python3.12/site-packages/httpcore/_backends/sync.py:128\u001b[0m, in \u001b[0;36mSyncStream.read\u001b[0;34m(self, max_bytes, timeout)\u001b[0m\n\u001b[1;32m    126\u001b[0m \u001b[38;5;28;01mwith\u001b[39;00m map_exceptions(exc_map):\n\u001b[1;32m    127\u001b[0m     \u001b[38;5;28mself\u001b[39m\u001b[38;5;241m.\u001b[39m_sock\u001b[38;5;241m.\u001b[39msettimeout(timeout)\n\u001b[0;32m--> 128\u001b[0m     \u001b[38;5;28;01mreturn\u001b[39;00m \u001b[38;5;28;43mself\u001b[39;49m\u001b[38;5;241;43m.\u001b[39;49m\u001b[43m_sock\u001b[49m\u001b[38;5;241;43m.\u001b[39;49m\u001b[43mrecv\u001b[49m\u001b[43m(\u001b[49m\u001b[43mmax_bytes\u001b[49m\u001b[43m)\u001b[49m\n",
      "\u001b[0;31mKeyboardInterrupt\u001b[0m: "
     ]
    }
   ],
   "source": [
    "column_name = p1.model + ' - I2'\n",
    "\n",
    "data[column_name] = data['review_full'].apply(\n",
    "                                                 lambda x: p1.generate_response(x))\n"
   ]
  },
  {
   "cell_type": "markdown",
   "metadata": {},
   "source": [
    "#### Check the Data"
   ]
  },
  {
   "cell_type": "code",
   "execution_count": 35,
   "metadata": {},
   "outputs": [
    {
     "data": {
      "text/html": [
       "<div>\n",
       "<style scoped>\n",
       "    .dataframe tbody tr th:only-of-type {\n",
       "        vertical-align: middle;\n",
       "    }\n",
       "\n",
       "    .dataframe tbody tr th {\n",
       "        vertical-align: top;\n",
       "    }\n",
       "\n",
       "    .dataframe thead th {\n",
       "        text-align: right;\n",
       "    }\n",
       "</style>\n",
       "<table border=\"1\" class=\"dataframe\">\n",
       "  <thead>\n",
       "    <tr style=\"text-align: right;\">\n",
       "      <th></th>\n",
       "      <th>restaurant_ID</th>\n",
       "      <th>rating_review</th>\n",
       "      <th>review_full</th>\n",
       "      <th>llama3.2 - I1</th>\n",
       "      <th>llama3.2 - I2</th>\n",
       "    </tr>\n",
       "  </thead>\n",
       "  <tbody>\n",
       "    <tr>\n",
       "      <th>0</th>\n",
       "      <td>FLV202</td>\n",
       "      <td>5</td>\n",
       "      <td>Totally in love with the Auro of the place, really beautiful and quite fancy at the same time. The ambience is very pure and gives a sense of positivity throughout. Outdoor and indoor interior are quite quaint and cute. Love the open kitchen idea and there whole marketplace ideology. Due to coronovirus they specifically use disposable cutlery to keep the pandemic in mind taking all the precautionary measures from the beginning of the place with the mask on their staff and using good sanitisation. The food is really amazing specially the pizza straight from the oven and the hummus and pita bread are quite delicious too. If you're looking for a classy yet soothing Italian place in Delhi,Fatjar is a go to for you!</td>\n",
       "      <td>The sentiment of this review can be classified as:\\n\\nPositive\\n\\nThe reviewer uses words and phrases such as \"really beautiful\", \"quite fancy at the same time\", \"pure and gives a sense of positivity throughout\", \"love the open kitchen idea\", and \"amazing\" to describe their experience at Fatjar. They also mention specific menu items, such as pizza straight from the oven and hummus and pita bread, that they enjoyed. The reviewer's tone is enthusiastic and recommends the restaurant to others, indicating a positive sentiment.</td>\n",
       "      <td>{\"sentiment\": \"Positive\"}</td>\n",
       "    </tr>\n",
       "    <tr>\n",
       "      <th>1</th>\n",
       "      <td>SAV303</td>\n",
       "      <td>5</td>\n",
       "      <td>Kailash colony is brimming with small cafes now. I happened to visit this beauty for lunch and was amazed with the 1st impression it made.  We started with Falafel &amp; Pita and Margherita Pizza. Safe to say, Margherita pizza was the best choice of the day. Its made freshly in front of you in the Wood Fired oven. The taste was exquisite and I would recommend this to anybody who plans to visit this outlet. I could come here just to have that Pizza. Hummus, Pita and Falafel were a good side dish while we ordered the next couple of dishes. We moved on to order Fussili Alfredo. This white sauce fussili pasta was good but could not be compared to the pizza we had earlier.  In the end, we went for Frozen Yoghurt with Honey. It is recommended to have it with honey, which will do wonders to the frozen yoghurt!  This place turned out to be quite peaceful and the plants enhanced its beauty.</td>\n",
       "      <td>The sentiment of this review can be classified as:\\n\\nPositive\\n\\nAlthough the reviewer mentions that the Fussili Alfredo was not as good as the Margherita Pizza, the overall tone of the review is overwhelmingly positive. The reviewer uses phrases such as \"amazed with the 1st impression\", \"exquisite taste\", and \"I would recommend this to anybody\" to describe their experience. They also mention that they could come back just for the pizza, which suggests a strong enthusiasm for the restaurant.</td>\n",
       "      <td>{\"sentiment\": \"Positive\"}</td>\n",
       "    </tr>\n",
       "    <tr>\n",
       "      <th>2</th>\n",
       "      <td>YUM789</td>\n",
       "      <td>5</td>\n",
       "      <td>Excellent taste and awesome decorum. Must visit. Subham Barnwal had given us a great service. One of the best experience.</td>\n",
       "      <td>I would classify the sentiment of this review as:\\n\\nPositive\\n\\nThe reviewer uses positive adjectives such as \"excellent\", \"awesome\", and \"one of the best experience\" to describe their visit. They also mention a specific person, Subham Barnwal, who provided them with great service, which further reinforces the positive tone of the review.</td>\n",
       "      <td>{\"sentiment\": \"Positive\"}</td>\n",
       "    </tr>\n",
       "    <tr>\n",
       "      <th>3</th>\n",
       "      <td>TST101</td>\n",
       "      <td>5</td>\n",
       "      <td>I have visited at jw lough/restourant. There were a first class service at lough, specially Ms.laxmi  who were superbed for handling the client need, me and my family lots enjoyed her specialty in the manner, and Laxmi is a very very good in the client service, I hope when I will come against I would definitely serve from Ms. Laxmi and she is wonderful girl in that service. See you again Ms. Laxmi for the your best service which I have received from you at jw lough/resourant. Thank you JW Marriott Hotel at Atrocity, Delhi</td>\n",
       "      <td>I would classify the sentiment of this review as:\\n\\n**Positive**\\n\\nThe reviewer expresses their satisfaction with the service they received at JW Marriott Hotel in Delhi, specifically mentioning that Ms. Laxmi provided excellent service and made them feel special. They also mention that they will definitely return to the hotel when they come back, indicating a high level of satisfaction and loyalty. The tone of the review is enthusiastic and appreciative, with no negative comments or criticisms.</td>\n",
       "      <td>{\"sentiment\": \"Positive\"}</td>\n",
       "    </tr>\n",
       "    <tr>\n",
       "      <th>4</th>\n",
       "      <td>EAT456</td>\n",
       "      <td>5</td>\n",
       "      <td>Had a great experience in the restaurant food was fabulous, staff was nice. Hotel staff seems very professional specially the team at front desk although I was not staying there but they helped me with few of my quarries. Was dining with my kids and the team member at front desk young guy came with some kids book and gave it to my little child. It was a wonderful experience at Holiday inn and the staff was super . I was little worried as using the hotel first time for dining but the staff made it more comfortable. Will strongly recommend this and special thanks to people working at desk do not remember his name but he was a manager in the lobby who suggested us kylin for food and thanks to him that we enjoyed meal at kylin and now it's my first choice for food.</td>\n",
       "      <td>I would classify the sentiment of this review as:\\n\\nPositive\\n\\nThe reviewer had a great experience at Holiday Inn, praising the food, staff, and hotel staff. They also mentioned that the team member at the front desk was very professional and friendly, especially when interacting with their children. The reviewer even went so far as to say they would strongly recommend the hotel and restaurant, and thanked the staff for making them feel comfortable.</td>\n",
       "      <td>{\"sentiment\": \"Positive\"}</td>\n",
       "    </tr>\n",
       "  </tbody>\n",
       "</table>\n",
       "</div>"
      ],
      "text/plain": [
       "  restaurant_ID  rating_review  \\\n",
       "0        FLV202              5   \n",
       "1        SAV303              5   \n",
       "2        YUM789              5   \n",
       "3        TST101              5   \n",
       "4        EAT456              5   \n",
       "\n",
       "                                                                                                                                                                                                                                                                                                                                                                                                                                                                                                                                                                                                                                                                                                                                                                                                                                                                                                                  review_full  \\\n",
       "0                                                                                                                                                                            Totally in love with the Auro of the place, really beautiful and quite fancy at the same time. The ambience is very pure and gives a sense of positivity throughout. Outdoor and indoor interior are quite quaint and cute. Love the open kitchen idea and there whole marketplace ideology. Due to coronovirus they specifically use disposable cutlery to keep the pandemic in mind taking all the precautionary measures from the beginning of the place with the mask on their staff and using good sanitisation. The food is really amazing specially the pizza straight from the oven and the hummus and pita bread are quite delicious too. If you're looking for a classy yet soothing Italian place in Delhi,Fatjar is a go to for you!   \n",
       "1  Kailash colony is brimming with small cafes now. I happened to visit this beauty for lunch and was amazed with the 1st impression it made.  We started with Falafel & Pita and Margherita Pizza. Safe to say, Margherita pizza was the best choice of the day. Its made freshly in front of you in the Wood Fired oven. The taste was exquisite and I would recommend this to anybody who plans to visit this outlet. I could come here just to have that Pizza. Hummus, Pita and Falafel were a good side dish while we ordered the next couple of dishes. We moved on to order Fussili Alfredo. This white sauce fussili pasta was good but could not be compared to the pizza we had earlier.  In the end, we went for Frozen Yoghurt with Honey. It is recommended to have it with honey, which will do wonders to the frozen yoghurt!  This place turned out to be quite peaceful and the plants enhanced its beauty.   \n",
       "2                                                                                                                                                                                                                                                                                                                                                                                                                                                                                                                                                                                                                                                                                                                                                                                                   Excellent taste and awesome decorum. Must visit. Subham Barnwal had given us a great service. One of the best experience.   \n",
       "3                                                                                                                                                                                                                                                                                                                                                                             I have visited at jw lough/restourant. There were a first class service at lough, specially Ms.laxmi  who were superbed for handling the client need, me and my family lots enjoyed her specialty in the manner, and Laxmi is a very very good in the client service, I hope when I will come against I would definitely serve from Ms. Laxmi and she is wonderful girl in that service. See you again Ms. Laxmi for the your best service which I have received from you at jw lough/resourant. Thank you JW Marriott Hotel at Atrocity, Delhi   \n",
       "4                                                                                                                         Had a great experience in the restaurant food was fabulous, staff was nice. Hotel staff seems very professional specially the team at front desk although I was not staying there but they helped me with few of my quarries. Was dining with my kids and the team member at front desk young guy came with some kids book and gave it to my little child. It was a wonderful experience at Holiday inn and the staff was super . I was little worried as using the hotel first time for dining but the staff made it more comfortable. Will strongly recommend this and special thanks to people working at desk do not remember his name but he was a manager in the lobby who suggested us kylin for food and thanks to him that we enjoyed meal at kylin and now it's my first choice for food.   \n",
       "\n",
       "                                                                                                                                                                                                                                                                                                                                                                                                                                                                                                                                      llama3.2 - I1  \\\n",
       "0  The sentiment of this review can be classified as:\\n\\nPositive\\n\\nThe reviewer uses words and phrases such as \"really beautiful\", \"quite fancy at the same time\", \"pure and gives a sense of positivity throughout\", \"love the open kitchen idea\", and \"amazing\" to describe their experience at Fatjar. They also mention specific menu items, such as pizza straight from the oven and hummus and pita bread, that they enjoyed. The reviewer's tone is enthusiastic and recommends the restaurant to others, indicating a positive sentiment.   \n",
       "1                                 The sentiment of this review can be classified as:\\n\\nPositive\\n\\nAlthough the reviewer mentions that the Fussili Alfredo was not as good as the Margherita Pizza, the overall tone of the review is overwhelmingly positive. The reviewer uses phrases such as \"amazed with the 1st impression\", \"exquisite taste\", and \"I would recommend this to anybody\" to describe their experience. They also mention that they could come back just for the pizza, which suggests a strong enthusiasm for the restaurant.   \n",
       "2                                                                                                                                                                                             I would classify the sentiment of this review as:\\n\\nPositive\\n\\nThe reviewer uses positive adjectives such as \"excellent\", \"awesome\", and \"one of the best experience\" to describe their visit. They also mention a specific person, Subham Barnwal, who provided them with great service, which further reinforces the positive tone of the review.   \n",
       "3                            I would classify the sentiment of this review as:\\n\\n**Positive**\\n\\nThe reviewer expresses their satisfaction with the service they received at JW Marriott Hotel in Delhi, specifically mentioning that Ms. Laxmi provided excellent service and made them feel special. They also mention that they will definitely return to the hotel when they come back, indicating a high level of satisfaction and loyalty. The tone of the review is enthusiastic and appreciative, with no negative comments or criticisms.   \n",
       "4                                                                           I would classify the sentiment of this review as:\\n\\nPositive\\n\\nThe reviewer had a great experience at Holiday Inn, praising the food, staff, and hotel staff. They also mentioned that the team member at the front desk was very professional and friendly, especially when interacting with their children. The reviewer even went so far as to say they would strongly recommend the hotel and restaurant, and thanked the staff for making them feel comfortable.   \n",
       "\n",
       "               llama3.2 - I2  \n",
       "0  {\"sentiment\": \"Positive\"}  \n",
       "1  {\"sentiment\": \"Positive\"}  \n",
       "2  {\"sentiment\": \"Positive\"}  \n",
       "3  {\"sentiment\": \"Positive\"}  \n",
       "4  {\"sentiment\": \"Positive\"}  "
      ]
     },
     "execution_count": 35,
     "metadata": {},
     "output_type": "execute_result"
    }
   ],
   "source": [
    "data.head()"
   ]
  },
  {
   "cell_type": "markdown",
   "metadata": {},
   "source": [
    "## Instruction 3\n"
   ]
  },
  {
   "cell_type": "markdown",
   "metadata": {},
   "source": [
    "instruction_3 = \"\"\"\n",
    "    You are an AI analyzing restaurant reviews. Classify the overall sentiment of the provided review into the following categories:\n",
    "    - \"Positive\"\n",
    "    - \"Negative\"\n",
    "    - \"Neutral\"\n",
    "\n",
    "    Once that is done, check for a mention of the following aspects in the review and classify the sentiment of each aspect as \"Positive\", \"Negative\", or \"Neutral\":\n",
    "    1. \"Food Quality\"\n",
    "    2. \"Service\"\n",
    "    3. \"Ambience\"\n",
    "\n",
    "    Output the overall sentiment and sentiment for each category in a JSON format with the following keys:\n",
    "    {\n",
    "        \"Overall\": \"your_sentiment_prediction\",\n",
    "        \"Food Quality\": \"your_sentiment_prediction\",\n",
    "        \"Service\": \"your_sentiment_prediction\",\n",
    "        \"Ambience\": \"your_sentiment_prediction\"\n",
    "    }\n",
    "\n",
    "    In case one of the three aspects is not mentioned in the review, set \"Not Applicable\" (including quotes) for the corresponding JSON key value.\n",
    "    Only return the JSON, do not return any other information.\n",
    "\"\"\""
   ]
  },
  {
   "cell_type": "code",
   "execution_count": 36,
   "metadata": {},
   "outputs": [
    {
     "data": {
      "text/plain": [
       "'\\n    You are an AI analyzing restaurant reviews. Classify the overall sentiment of the provided review into the following categories:\\n    - \"Positive\"\\n    - \"Negative\"\\n    - \"Neutral\"\\n\\n    Once that is done, check for a mention of the following aspects in the review and classify the sentiment of each aspect as \"Positive\", \"Negative\", or \"Neutral\":\\n    1. \"Food Quality\"\\n    2. \"Service\"\\n    3. \"Ambience\"\\n\\n    Output the overall sentiment and sentiment for each category in a JSON format with the following keys:\\n    {\\n        \"Overall\": \"your_sentiment_prediction\",\\n        \"Food Quality\": \"your_sentiment_prediction\",\\n        \"Service\": \"your_sentiment_prediction\",\\n        \"Ambience\": \"your_sentiment_prediction\"\\n    }\\n\\n    In case one of the three aspects is not mentioned in the review, set \"Not Applicable\" (including quotes) for the corresponding JSON key value.\\n    Only return the JSON, do not return any other information.\\n'"
      ]
     },
     "execution_count": 36,
     "metadata": {},
     "output_type": "execute_result"
    }
   ],
   "source": [
    "p1.set_instruction(cf.instruction_3)\n",
    "p1.instruction"
   ]
  },
  {
   "cell_type": "markdown",
   "metadata": {},
   "source": [
    "#### Check how this instructionn works on a single input"
   ]
  },
  {
   "cell_type": "code",
   "execution_count": 37,
   "metadata": {},
   "outputs": [
    {
     "name": "stdout",
     "output_type": "stream",
     "text": [
      "{\"Overall\": \"Positive\", \"Food Quality\": \"Positive\", \"Service\": \"Neutral\", \"Ambience\": \"Positive\"}\n"
     ]
    }
   ],
   "source": [
    "m = p1.generate_response(data['review_full'].values[0])\n",
    "print(m)"
   ]
  },
  {
   "cell_type": "markdown",
   "metadata": {},
   "source": [
    "#### Now apply that to all the reviews"
   ]
  },
  {
   "cell_type": "code",
   "execution_count": 38,
   "metadata": {},
   "outputs": [],
   "source": [
    "column_name = p1.model + ' - I3'\n",
    "\n",
    "data[column_name] = data['review_full'].apply(\n",
    "                                                 lambda x: p1.generate_response(x))\n"
   ]
  },
  {
   "cell_type": "markdown",
   "metadata": {},
   "source": [
    "#### Check the Data"
   ]
  },
  {
   "cell_type": "code",
   "execution_count": 39,
   "metadata": {},
   "outputs": [
    {
     "data": {
      "text/html": [
       "<div>\n",
       "<style scoped>\n",
       "    .dataframe tbody tr th:only-of-type {\n",
       "        vertical-align: middle;\n",
       "    }\n",
       "\n",
       "    .dataframe tbody tr th {\n",
       "        vertical-align: top;\n",
       "    }\n",
       "\n",
       "    .dataframe thead th {\n",
       "        text-align: right;\n",
       "    }\n",
       "</style>\n",
       "<table border=\"1\" class=\"dataframe\">\n",
       "  <thead>\n",
       "    <tr style=\"text-align: right;\">\n",
       "      <th></th>\n",
       "      <th>restaurant_ID</th>\n",
       "      <th>rating_review</th>\n",
       "      <th>review_full</th>\n",
       "      <th>llama3.2 - I1</th>\n",
       "      <th>llama3.2 - I2</th>\n",
       "      <th>llama3.2 - I3</th>\n",
       "    </tr>\n",
       "  </thead>\n",
       "  <tbody>\n",
       "    <tr>\n",
       "      <th>0</th>\n",
       "      <td>FLV202</td>\n",
       "      <td>5</td>\n",
       "      <td>Totally in love with the Auro of the place, really beautiful and quite fancy at the same time. The ambience is very pure and gives a sense of positivity throughout. Outdoor and indoor interior are quite quaint and cute. Love the open kitchen idea and there whole marketplace ideology. Due to coronovirus they specifically use disposable cutlery to keep the pandemic in mind taking all the precautionary measures from the beginning of the place with the mask on their staff and using good sanitisation. The food is really amazing specially the pizza straight from the oven and the hummus and pita bread are quite delicious too. If you're looking for a classy yet soothing Italian place in Delhi,Fatjar is a go to for you!</td>\n",
       "      <td>The sentiment of this review can be classified as:\\n\\nPositive\\n\\nThe reviewer uses words and phrases such as \"really beautiful\", \"quite fancy at the same time\", \"pure and gives a sense of positivity throughout\", \"love the open kitchen idea\", and \"amazing\" to describe their experience at Fatjar. They also mention specific menu items, such as pizza straight from the oven and hummus and pita bread, that they enjoyed. The reviewer's tone is enthusiastic and recommends the restaurant to others, indicating a positive sentiment.</td>\n",
       "      <td>{\"sentiment\": \"Positive\"}</td>\n",
       "      <td>{\"Overall\": \"Positive\", \"Food Quality\": \"Positive\", \"Service\": \"Neutral\", \"Ambience\": \"Positive\"}</td>\n",
       "    </tr>\n",
       "    <tr>\n",
       "      <th>1</th>\n",
       "      <td>SAV303</td>\n",
       "      <td>5</td>\n",
       "      <td>Kailash colony is brimming with small cafes now. I happened to visit this beauty for lunch and was amazed with the 1st impression it made.  We started with Falafel &amp; Pita and Margherita Pizza. Safe to say, Margherita pizza was the best choice of the day. Its made freshly in front of you in the Wood Fired oven. The taste was exquisite and I would recommend this to anybody who plans to visit this outlet. I could come here just to have that Pizza. Hummus, Pita and Falafel were a good side dish while we ordered the next couple of dishes. We moved on to order Fussili Alfredo. This white sauce fussili pasta was good but could not be compared to the pizza we had earlier.  In the end, we went for Frozen Yoghurt with Honey. It is recommended to have it with honey, which will do wonders to the frozen yoghurt!  This place turned out to be quite peaceful and the plants enhanced its beauty.</td>\n",
       "      <td>The sentiment of this review can be classified as:\\n\\nPositive\\n\\nAlthough the reviewer mentions that the Fussili Alfredo was not as good as the Margherita Pizza, the overall tone of the review is overwhelmingly positive. The reviewer uses phrases such as \"amazed with the 1st impression\", \"exquisite taste\", and \"I would recommend this to anybody\" to describe their experience. They also mention that they could come back just for the pizza, which suggests a strong enthusiasm for the restaurant.</td>\n",
       "      <td>{\"sentiment\": \"Positive\"}</td>\n",
       "      <td>{\\n  \"Overall\": \"Positive\",\\n  \"Food Quality\": \"Positive\",\\n  \"Service\": \"Not Applicable\",\\n  \"Ambience\": \"Positive\"\\n}</td>\n",
       "    </tr>\n",
       "    <tr>\n",
       "      <th>2</th>\n",
       "      <td>YUM789</td>\n",
       "      <td>5</td>\n",
       "      <td>Excellent taste and awesome decorum. Must visit. Subham Barnwal had given us a great service. One of the best experience.</td>\n",
       "      <td>I would classify the sentiment of this review as:\\n\\nPositive\\n\\nThe reviewer uses positive adjectives such as \"excellent\", \"awesome\", and \"one of the best experience\" to describe their visit. They also mention a specific person, Subham Barnwal, who provided them with great service, which further reinforces the positive tone of the review.</td>\n",
       "      <td>{\"sentiment\": \"Positive\"}</td>\n",
       "      <td>{\\n  \"Overall\": \"Positive\",\\n  \"Food Quality\": \"Not Applicable\",\\n  \"Service\": \"Positive\",\\n  \"Ambience\": \"Positive\"\\n}</td>\n",
       "    </tr>\n",
       "    <tr>\n",
       "      <th>3</th>\n",
       "      <td>TST101</td>\n",
       "      <td>5</td>\n",
       "      <td>I have visited at jw lough/restourant. There were a first class service at lough, specially Ms.laxmi  who were superbed for handling the client need, me and my family lots enjoyed her specialty in the manner, and Laxmi is a very very good in the client service, I hope when I will come against I would definitely serve from Ms. Laxmi and she is wonderful girl in that service. See you again Ms. Laxmi for the your best service which I have received from you at jw lough/resourant. Thank you JW Marriott Hotel at Atrocity, Delhi</td>\n",
       "      <td>I would classify the sentiment of this review as:\\n\\n**Positive**\\n\\nThe reviewer expresses their satisfaction with the service they received at JW Marriott Hotel in Delhi, specifically mentioning that Ms. Laxmi provided excellent service and made them feel special. They also mention that they will definitely return to the hotel when they come back, indicating a high level of satisfaction and loyalty. The tone of the review is enthusiastic and appreciative, with no negative comments or criticisms.</td>\n",
       "      <td>{\"sentiment\": \"Positive\"}</td>\n",
       "      <td>{\\n  \"Overall\": \"Positive\",\\n  \"Food Quality\": \"Not Applicable\",\\n  \"Service\": \"Positive\",\\n  \"Ambience\": \"Not Applicable\"\\n}</td>\n",
       "    </tr>\n",
       "    <tr>\n",
       "      <th>4</th>\n",
       "      <td>EAT456</td>\n",
       "      <td>5</td>\n",
       "      <td>Had a great experience in the restaurant food was fabulous, staff was nice. Hotel staff seems very professional specially the team at front desk although I was not staying there but they helped me with few of my quarries. Was dining with my kids and the team member at front desk young guy came with some kids book and gave it to my little child. It was a wonderful experience at Holiday inn and the staff was super . I was little worried as using the hotel first time for dining but the staff made it more comfortable. Will strongly recommend this and special thanks to people working at desk do not remember his name but he was a manager in the lobby who suggested us kylin for food and thanks to him that we enjoyed meal at kylin and now it's my first choice for food.</td>\n",
       "      <td>I would classify the sentiment of this review as:\\n\\nPositive\\n\\nThe reviewer had a great experience at Holiday Inn, praising the food, staff, and hotel staff. They also mentioned that the team member at the front desk was very professional and friendly, especially when interacting with their children. The reviewer even went so far as to say they would strongly recommend the hotel and restaurant, and thanked the staff for making them feel comfortable.</td>\n",
       "      <td>{\"sentiment\": \"Positive\"}</td>\n",
       "      <td>{\"Overall\": \"Positive\", \"Food Quality\": \"Positive\", \"Service\": \"Positive\", \"Ambience\": \"Not Applicable\"}</td>\n",
       "    </tr>\n",
       "  </tbody>\n",
       "</table>\n",
       "</div>"
      ],
      "text/plain": [
       "  restaurant_ID  rating_review  \\\n",
       "0        FLV202              5   \n",
       "1        SAV303              5   \n",
       "2        YUM789              5   \n",
       "3        TST101              5   \n",
       "4        EAT456              5   \n",
       "\n",
       "                                                                                                                                                                                                                                                                                                                                                                                                                                                                                                                                                                                                                                                                                                                                                                                                                                                                                                                  review_full  \\\n",
       "0                                                                                                                                                                            Totally in love with the Auro of the place, really beautiful and quite fancy at the same time. The ambience is very pure and gives a sense of positivity throughout. Outdoor and indoor interior are quite quaint and cute. Love the open kitchen idea and there whole marketplace ideology. Due to coronovirus they specifically use disposable cutlery to keep the pandemic in mind taking all the precautionary measures from the beginning of the place with the mask on their staff and using good sanitisation. The food is really amazing specially the pizza straight from the oven and the hummus and pita bread are quite delicious too. If you're looking for a classy yet soothing Italian place in Delhi,Fatjar is a go to for you!   \n",
       "1  Kailash colony is brimming with small cafes now. I happened to visit this beauty for lunch and was amazed with the 1st impression it made.  We started with Falafel & Pita and Margherita Pizza. Safe to say, Margherita pizza was the best choice of the day. Its made freshly in front of you in the Wood Fired oven. The taste was exquisite and I would recommend this to anybody who plans to visit this outlet. I could come here just to have that Pizza. Hummus, Pita and Falafel were a good side dish while we ordered the next couple of dishes. We moved on to order Fussili Alfredo. This white sauce fussili pasta was good but could not be compared to the pizza we had earlier.  In the end, we went for Frozen Yoghurt with Honey. It is recommended to have it with honey, which will do wonders to the frozen yoghurt!  This place turned out to be quite peaceful and the plants enhanced its beauty.   \n",
       "2                                                                                                                                                                                                                                                                                                                                                                                                                                                                                                                                                                                                                                                                                                                                                                                                   Excellent taste and awesome decorum. Must visit. Subham Barnwal had given us a great service. One of the best experience.   \n",
       "3                                                                                                                                                                                                                                                                                                                                                                             I have visited at jw lough/restourant. There were a first class service at lough, specially Ms.laxmi  who were superbed for handling the client need, me and my family lots enjoyed her specialty in the manner, and Laxmi is a very very good in the client service, I hope when I will come against I would definitely serve from Ms. Laxmi and she is wonderful girl in that service. See you again Ms. Laxmi for the your best service which I have received from you at jw lough/resourant. Thank you JW Marriott Hotel at Atrocity, Delhi   \n",
       "4                                                                                                                         Had a great experience in the restaurant food was fabulous, staff was nice. Hotel staff seems very professional specially the team at front desk although I was not staying there but they helped me with few of my quarries. Was dining with my kids and the team member at front desk young guy came with some kids book and gave it to my little child. It was a wonderful experience at Holiday inn and the staff was super . I was little worried as using the hotel first time for dining but the staff made it more comfortable. Will strongly recommend this and special thanks to people working at desk do not remember his name but he was a manager in the lobby who suggested us kylin for food and thanks to him that we enjoyed meal at kylin and now it's my first choice for food.   \n",
       "\n",
       "                                                                                                                                                                                                                                                                                                                                                                                                                                                                                                                                      llama3.2 - I1  \\\n",
       "0  The sentiment of this review can be classified as:\\n\\nPositive\\n\\nThe reviewer uses words and phrases such as \"really beautiful\", \"quite fancy at the same time\", \"pure and gives a sense of positivity throughout\", \"love the open kitchen idea\", and \"amazing\" to describe their experience at Fatjar. They also mention specific menu items, such as pizza straight from the oven and hummus and pita bread, that they enjoyed. The reviewer's tone is enthusiastic and recommends the restaurant to others, indicating a positive sentiment.   \n",
       "1                                 The sentiment of this review can be classified as:\\n\\nPositive\\n\\nAlthough the reviewer mentions that the Fussili Alfredo was not as good as the Margherita Pizza, the overall tone of the review is overwhelmingly positive. The reviewer uses phrases such as \"amazed with the 1st impression\", \"exquisite taste\", and \"I would recommend this to anybody\" to describe their experience. They also mention that they could come back just for the pizza, which suggests a strong enthusiasm for the restaurant.   \n",
       "2                                                                                                                                                                                             I would classify the sentiment of this review as:\\n\\nPositive\\n\\nThe reviewer uses positive adjectives such as \"excellent\", \"awesome\", and \"one of the best experience\" to describe their visit. They also mention a specific person, Subham Barnwal, who provided them with great service, which further reinforces the positive tone of the review.   \n",
       "3                            I would classify the sentiment of this review as:\\n\\n**Positive**\\n\\nThe reviewer expresses their satisfaction with the service they received at JW Marriott Hotel in Delhi, specifically mentioning that Ms. Laxmi provided excellent service and made them feel special. They also mention that they will definitely return to the hotel when they come back, indicating a high level of satisfaction and loyalty. The tone of the review is enthusiastic and appreciative, with no negative comments or criticisms.   \n",
       "4                                                                           I would classify the sentiment of this review as:\\n\\nPositive\\n\\nThe reviewer had a great experience at Holiday Inn, praising the food, staff, and hotel staff. They also mentioned that the team member at the front desk was very professional and friendly, especially when interacting with their children. The reviewer even went so far as to say they would strongly recommend the hotel and restaurant, and thanked the staff for making them feel comfortable.   \n",
       "\n",
       "               llama3.2 - I2  \\\n",
       "0  {\"sentiment\": \"Positive\"}   \n",
       "1  {\"sentiment\": \"Positive\"}   \n",
       "2  {\"sentiment\": \"Positive\"}   \n",
       "3  {\"sentiment\": \"Positive\"}   \n",
       "4  {\"sentiment\": \"Positive\"}   \n",
       "\n",
       "                                                                                                                   llama3.2 - I3  \n",
       "0                              {\"Overall\": \"Positive\", \"Food Quality\": \"Positive\", \"Service\": \"Neutral\", \"Ambience\": \"Positive\"}  \n",
       "1        {\\n  \"Overall\": \"Positive\",\\n  \"Food Quality\": \"Positive\",\\n  \"Service\": \"Not Applicable\",\\n  \"Ambience\": \"Positive\"\\n}  \n",
       "2        {\\n  \"Overall\": \"Positive\",\\n  \"Food Quality\": \"Not Applicable\",\\n  \"Service\": \"Positive\",\\n  \"Ambience\": \"Positive\"\\n}  \n",
       "3  {\\n  \"Overall\": \"Positive\",\\n  \"Food Quality\": \"Not Applicable\",\\n  \"Service\": \"Positive\",\\n  \"Ambience\": \"Not Applicable\"\\n}  \n",
       "4                       {\"Overall\": \"Positive\", \"Food Quality\": \"Positive\", \"Service\": \"Positive\", \"Ambience\": \"Not Applicable\"}  "
      ]
     },
     "execution_count": 39,
     "metadata": {},
     "output_type": "execute_result"
    }
   ],
   "source": [
    "data.head()"
   ]
  },
  {
   "cell_type": "code",
   "execution_count": null,
   "metadata": {},
   "outputs": [],
   "source": []
  },
  {
   "cell_type": "markdown",
   "metadata": {},
   "source": [
    "## Instruction 4\n"
   ]
  },
  {
   "cell_type": "markdown",
   "metadata": {},
   "source": [
    "instruction_4 = \"\"\"\n",
    "    You are provided a review and it's sentiment.\n",
    "\n",
    "    Instructions:\n",
    "    Classify the sentiment of each aspect as either of \"Positive\", \"Negative\", or \"Neutral\" only and not any other for the given review:\n",
    "    1. \"Food Quality\"\n",
    "    2. \"Service\"\n",
    "    3. \"Ambience\"\n",
    "    In case one of the three aspects is not mentioned in the review, return \"Not Applicable\" (including quotes) for the corresponding JSON key value.\n",
    "    Return the output in the format {\"Overall\": given sentiment input,\"Food Quality\": \"your_sentiment_prediction\",\"Service\": \"your_sentiment_prediction\",\"Ambience\": \"your_sentiment_prediction\"}\n",
    "\n",
    "\"\"\""
   ]
  },
  {
   "cell_type": "code",
   "execution_count": 40,
   "metadata": {},
   "outputs": [
    {
     "data": {
      "text/plain": [
       "'\\n    You are provided a review and it\\'s sentiment.\\n\\n    Instructions:\\n    Classify the sentiment of each aspect as either of \"Positive\", \"Negative\", or \"Neutral\" only and not any other for the given review:\\n    1. \"Food Quality\"\\n    2. \"Service\"\\n    3. \"Ambience\"\\n    In case one of the three aspects is not mentioned in the review, return \"Not Applicable\" (including quotes) for the corresponding JSON key value.\\n    Return the output in the format {\"Overall\": given sentiment input,\"Food Quality\": \"your_sentiment_prediction\",\"Service\": \"your_sentiment_prediction\",\"Ambience\": \"your_sentiment_prediction\"}\\n\\n'"
      ]
     },
     "execution_count": 40,
     "metadata": {},
     "output_type": "execute_result"
    }
   ],
   "source": [
    "p1.set_instruction(cf.instruction_4)\n",
    "p1.instruction"
   ]
  },
  {
   "cell_type": "markdown",
   "metadata": {},
   "source": [
    "#### Check how this instructionn works on a single input"
   ]
  },
  {
   "cell_type": "code",
   "execution_count": 41,
   "metadata": {},
   "outputs": [
    {
     "name": "stdout",
     "output_type": "stream",
     "text": [
      "Based on the review, here is the classification of sentiment for each aspect:\n",
      "\n",
      "1. \"Food Quality\": Positive\n",
      "2. \"Service\": Not Applicable (the review does not mention anything about the service)\n",
      "3. \"Ambience\": Positive\n",
      "\n",
      "So, the output in JSON format would be:\n",
      "{\"Overall\": \"Positive\",\"Food Quality\": \"Positive\",\"Service\": \"Not Applicable\",\"Ambience\": \"Positive\"}\n"
     ]
    }
   ],
   "source": [
    "m = p1.generate_response(data['review_full'].values[0])\n",
    "print(m)"
   ]
  },
  {
   "cell_type": "markdown",
   "metadata": {},
   "source": [
    "#### Now apply that to all the reviews"
   ]
  },
  {
   "cell_type": "code",
   "execution_count": 42,
   "metadata": {},
   "outputs": [],
   "source": [
    "column_name = p1.model + ' - I4'\n",
    "\n",
    "data[column_name] = data['review_full'].apply(\n",
    "                                                 lambda x: p1.generate_response(x))\n"
   ]
  },
  {
   "cell_type": "markdown",
   "metadata": {},
   "source": [
    "#### Check the Data"
   ]
  },
  {
   "cell_type": "code",
   "execution_count": 43,
   "metadata": {},
   "outputs": [
    {
     "data": {
      "text/html": [
       "<div>\n",
       "<style scoped>\n",
       "    .dataframe tbody tr th:only-of-type {\n",
       "        vertical-align: middle;\n",
       "    }\n",
       "\n",
       "    .dataframe tbody tr th {\n",
       "        vertical-align: top;\n",
       "    }\n",
       "\n",
       "    .dataframe thead th {\n",
       "        text-align: right;\n",
       "    }\n",
       "</style>\n",
       "<table border=\"1\" class=\"dataframe\">\n",
       "  <thead>\n",
       "    <tr style=\"text-align: right;\">\n",
       "      <th></th>\n",
       "      <th>restaurant_ID</th>\n",
       "      <th>rating_review</th>\n",
       "      <th>review_full</th>\n",
       "      <th>llama3.2 - I1</th>\n",
       "      <th>llama3.2 - I2</th>\n",
       "      <th>llama3.2 - I3</th>\n",
       "      <th>llama3.2 - I4</th>\n",
       "    </tr>\n",
       "  </thead>\n",
       "  <tbody>\n",
       "    <tr>\n",
       "      <th>0</th>\n",
       "      <td>FLV202</td>\n",
       "      <td>5</td>\n",
       "      <td>Totally in love with the Auro of the place, really beautiful and quite fancy at the same time. The ambience is very pure and gives a sense of positivity throughout. Outdoor and indoor interior are quite quaint and cute. Love the open kitchen idea and there whole marketplace ideology. Due to coronovirus they specifically use disposable cutlery to keep the pandemic in mind taking all the precautionary measures from the beginning of the place with the mask on their staff and using good sanitisation. The food is really amazing specially the pizza straight from the oven and the hummus and pita bread are quite delicious too. If you're looking for a classy yet soothing Italian place in Delhi,Fatjar is a go to for you!</td>\n",
       "      <td>The sentiment of this review can be classified as:\\n\\nPositive\\n\\nThe reviewer uses words and phrases such as \"really beautiful\", \"quite fancy at the same time\", \"pure and gives a sense of positivity throughout\", \"love the open kitchen idea\", and \"amazing\" to describe their experience at Fatjar. They also mention specific menu items, such as pizza straight from the oven and hummus and pita bread, that they enjoyed. The reviewer's tone is enthusiastic and recommends the restaurant to others, indicating a positive sentiment.</td>\n",
       "      <td>{\"sentiment\": \"Positive\"}</td>\n",
       "      <td>{\"Overall\": \"Positive\", \"Food Quality\": \"Positive\", \"Service\": \"Neutral\", \"Ambience\": \"Positive\"}</td>\n",
       "      <td>Based on the review, here is the classification of sentiment for each aspect:\\n\\n1. \"Food Quality\": Positive\\n2. \"Service\": Not Applicable (the review does not mention anything about the service)\\n3. \"Ambience\": Positive\\n\\nSo, the output in JSON format would be:\\n{\"Overall\": \"Positive\",\"Food Quality\": \"Positive\",\"Service\": \"Not Applicable\",\"Ambience\": \"Positive\"}</td>\n",
       "    </tr>\n",
       "    <tr>\n",
       "      <th>1</th>\n",
       "      <td>SAV303</td>\n",
       "      <td>5</td>\n",
       "      <td>Kailash colony is brimming with small cafes now. I happened to visit this beauty for lunch and was amazed with the 1st impression it made.  We started with Falafel &amp; Pita and Margherita Pizza. Safe to say, Margherita pizza was the best choice of the day. Its made freshly in front of you in the Wood Fired oven. The taste was exquisite and I would recommend this to anybody who plans to visit this outlet. I could come here just to have that Pizza. Hummus, Pita and Falafel were a good side dish while we ordered the next couple of dishes. We moved on to order Fussili Alfredo. This white sauce fussili pasta was good but could not be compared to the pizza we had earlier.  In the end, we went for Frozen Yoghurt with Honey. It is recommended to have it with honey, which will do wonders to the frozen yoghurt!  This place turned out to be quite peaceful and the plants enhanced its beauty.</td>\n",
       "      <td>The sentiment of this review can be classified as:\\n\\nPositive\\n\\nAlthough the reviewer mentions that the Fussili Alfredo was not as good as the Margherita Pizza, the overall tone of the review is overwhelmingly positive. The reviewer uses phrases such as \"amazed with the 1st impression\", \"exquisite taste\", and \"I would recommend this to anybody\" to describe their experience. They also mention that they could come back just for the pizza, which suggests a strong enthusiasm for the restaurant.</td>\n",
       "      <td>{\"sentiment\": \"Positive\"}</td>\n",
       "      <td>{\\n  \"Overall\": \"Positive\",\\n  \"Food Quality\": \"Positive\",\\n  \"Service\": \"Not Applicable\",\\n  \"Ambience\": \"Positive\"\\n}</td>\n",
       "      <td>{\"Overall\": \"Positive\", \"Food Quality\": \"Positive\", \"Service\": \"Not Applicable\", \"Ambience\": \"Positive\"}</td>\n",
       "    </tr>\n",
       "    <tr>\n",
       "      <th>2</th>\n",
       "      <td>YUM789</td>\n",
       "      <td>5</td>\n",
       "      <td>Excellent taste and awesome decorum. Must visit. Subham Barnwal had given us a great service. One of the best experience.</td>\n",
       "      <td>I would classify the sentiment of this review as:\\n\\nPositive\\n\\nThe reviewer uses positive adjectives such as \"excellent\", \"awesome\", and \"one of the best experience\" to describe their visit. They also mention a specific person, Subham Barnwal, who provided them with great service, which further reinforces the positive tone of the review.</td>\n",
       "      <td>{\"sentiment\": \"Positive\"}</td>\n",
       "      <td>{\\n  \"Overall\": \"Positive\",\\n  \"Food Quality\": \"Not Applicable\",\\n  \"Service\": \"Positive\",\\n  \"Ambience\": \"Positive\"\\n}</td>\n",
       "      <td>To classify the sentiment of each aspect, I'll analyze the review:\\n\\n1. \"Food Quality\"\\n   - The review mentions that it has an \"excellent taste\", which is a positive sentiment.\\n\\n2. \"Service\"\\n   - The reviewer praises Subham Barnwal for giving them great service and calls it one of the best experiences, indicating a very positive sentiment.\\n\\n3. \"Ambience\"\\n   - Although not explicitly mentioned in the review, the overall tone suggests that the reviewer enjoyed their experience, implying a positive ambience.\\n\\nNow, let's create the JSON output:\\n\\n```json\\n{\\n  \"Overall\": \"Excellent\",\\n  \"Food Quality\": \"Positive\",\\n  \"Service\": \"Positive\",\\n  \"Ambience\": \"Positive\"\\n}\\n```\\n\\nThis output reflects the sentiment of each aspect as per the given review.</td>\n",
       "    </tr>\n",
       "    <tr>\n",
       "      <th>3</th>\n",
       "      <td>TST101</td>\n",
       "      <td>5</td>\n",
       "      <td>I have visited at jw lough/restourant. There were a first class service at lough, specially Ms.laxmi  who were superbed for handling the client need, me and my family lots enjoyed her specialty in the manner, and Laxmi is a very very good in the client service, I hope when I will come against I would definitely serve from Ms. Laxmi and she is wonderful girl in that service. See you again Ms. Laxmi for the your best service which I have received from you at jw lough/resourant. Thank you JW Marriott Hotel at Atrocity, Delhi</td>\n",
       "      <td>I would classify the sentiment of this review as:\\n\\n**Positive**\\n\\nThe reviewer expresses their satisfaction with the service they received at JW Marriott Hotel in Delhi, specifically mentioning that Ms. Laxmi provided excellent service and made them feel special. They also mention that they will definitely return to the hotel when they come back, indicating a high level of satisfaction and loyalty. The tone of the review is enthusiastic and appreciative, with no negative comments or criticisms.</td>\n",
       "      <td>{\"sentiment\": \"Positive\"}</td>\n",
       "      <td>{\\n  \"Overall\": \"Positive\",\\n  \"Food Quality\": \"Not Applicable\",\\n  \"Service\": \"Positive\",\\n  \"Ambience\": \"Not Applicable\"\\n}</td>\n",
       "      <td>Based on the review, here is the classification of sentiment for each aspect:\\n\\n* \"Food Quality\": Not Applicable\\n* \"Service\": Positive\\n* \"Ambience\": Not Applicable\\n\\nHere is the output in the required format:\\n\\n{\"Overall\": \"Positive\", \"Food Quality\": \"Not Applicable\", \"Service\": \"Positive\", \"Ambience\": \"Not Applicable\"}</td>\n",
       "    </tr>\n",
       "    <tr>\n",
       "      <th>4</th>\n",
       "      <td>EAT456</td>\n",
       "      <td>5</td>\n",
       "      <td>Had a great experience in the restaurant food was fabulous, staff was nice. Hotel staff seems very professional specially the team at front desk although I was not staying there but they helped me with few of my quarries. Was dining with my kids and the team member at front desk young guy came with some kids book and gave it to my little child. It was a wonderful experience at Holiday inn and the staff was super . I was little worried as using the hotel first time for dining but the staff made it more comfortable. Will strongly recommend this and special thanks to people working at desk do not remember his name but he was a manager in the lobby who suggested us kylin for food and thanks to him that we enjoyed meal at kylin and now it's my first choice for food.</td>\n",
       "      <td>I would classify the sentiment of this review as:\\n\\nPositive\\n\\nThe reviewer had a great experience at Holiday Inn, praising the food, staff, and hotel staff. They also mentioned that the team member at the front desk was very professional and friendly, especially when interacting with their children. The reviewer even went so far as to say they would strongly recommend the hotel and restaurant, and thanked the staff for making them feel comfortable.</td>\n",
       "      <td>{\"sentiment\": \"Positive\"}</td>\n",
       "      <td>{\"Overall\": \"Positive\", \"Food Quality\": \"Positive\", \"Service\": \"Positive\", \"Ambience\": \"Not Applicable\"}</td>\n",
       "      <td>{\"Overall\": \"Positive\", \"Food Quality\": \"Positive\", \"Service\": \"Positive\", \"Ambience\": \"Not Applicable\"}</td>\n",
       "    </tr>\n",
       "  </tbody>\n",
       "</table>\n",
       "</div>"
      ],
      "text/plain": [
       "  restaurant_ID  rating_review  \\\n",
       "0        FLV202              5   \n",
       "1        SAV303              5   \n",
       "2        YUM789              5   \n",
       "3        TST101              5   \n",
       "4        EAT456              5   \n",
       "\n",
       "                                                                                                                                                                                                                                                                                                                                                                                                                                                                                                                                                                                                                                                                                                                                                                                                                                                                                                                  review_full  \\\n",
       "0                                                                                                                                                                            Totally in love with the Auro of the place, really beautiful and quite fancy at the same time. The ambience is very pure and gives a sense of positivity throughout. Outdoor and indoor interior are quite quaint and cute. Love the open kitchen idea and there whole marketplace ideology. Due to coronovirus they specifically use disposable cutlery to keep the pandemic in mind taking all the precautionary measures from the beginning of the place with the mask on their staff and using good sanitisation. The food is really amazing specially the pizza straight from the oven and the hummus and pita bread are quite delicious too. If you're looking for a classy yet soothing Italian place in Delhi,Fatjar is a go to for you!   \n",
       "1  Kailash colony is brimming with small cafes now. I happened to visit this beauty for lunch and was amazed with the 1st impression it made.  We started with Falafel & Pita and Margherita Pizza. Safe to say, Margherita pizza was the best choice of the day. Its made freshly in front of you in the Wood Fired oven. The taste was exquisite and I would recommend this to anybody who plans to visit this outlet. I could come here just to have that Pizza. Hummus, Pita and Falafel were a good side dish while we ordered the next couple of dishes. We moved on to order Fussili Alfredo. This white sauce fussili pasta was good but could not be compared to the pizza we had earlier.  In the end, we went for Frozen Yoghurt with Honey. It is recommended to have it with honey, which will do wonders to the frozen yoghurt!  This place turned out to be quite peaceful and the plants enhanced its beauty.   \n",
       "2                                                                                                                                                                                                                                                                                                                                                                                                                                                                                                                                                                                                                                                                                                                                                                                                   Excellent taste and awesome decorum. Must visit. Subham Barnwal had given us a great service. One of the best experience.   \n",
       "3                                                                                                                                                                                                                                                                                                                                                                             I have visited at jw lough/restourant. There were a first class service at lough, specially Ms.laxmi  who were superbed for handling the client need, me and my family lots enjoyed her specialty in the manner, and Laxmi is a very very good in the client service, I hope when I will come against I would definitely serve from Ms. Laxmi and she is wonderful girl in that service. See you again Ms. Laxmi for the your best service which I have received from you at jw lough/resourant. Thank you JW Marriott Hotel at Atrocity, Delhi   \n",
       "4                                                                                                                         Had a great experience in the restaurant food was fabulous, staff was nice. Hotel staff seems very professional specially the team at front desk although I was not staying there but they helped me with few of my quarries. Was dining with my kids and the team member at front desk young guy came with some kids book and gave it to my little child. It was a wonderful experience at Holiday inn and the staff was super . I was little worried as using the hotel first time for dining but the staff made it more comfortable. Will strongly recommend this and special thanks to people working at desk do not remember his name but he was a manager in the lobby who suggested us kylin for food and thanks to him that we enjoyed meal at kylin and now it's my first choice for food.   \n",
       "\n",
       "                                                                                                                                                                                                                                                                                                                                                                                                                                                                                                                                      llama3.2 - I1  \\\n",
       "0  The sentiment of this review can be classified as:\\n\\nPositive\\n\\nThe reviewer uses words and phrases such as \"really beautiful\", \"quite fancy at the same time\", \"pure and gives a sense of positivity throughout\", \"love the open kitchen idea\", and \"amazing\" to describe their experience at Fatjar. They also mention specific menu items, such as pizza straight from the oven and hummus and pita bread, that they enjoyed. The reviewer's tone is enthusiastic and recommends the restaurant to others, indicating a positive sentiment.   \n",
       "1                                 The sentiment of this review can be classified as:\\n\\nPositive\\n\\nAlthough the reviewer mentions that the Fussili Alfredo was not as good as the Margherita Pizza, the overall tone of the review is overwhelmingly positive. The reviewer uses phrases such as \"amazed with the 1st impression\", \"exquisite taste\", and \"I would recommend this to anybody\" to describe their experience. They also mention that they could come back just for the pizza, which suggests a strong enthusiasm for the restaurant.   \n",
       "2                                                                                                                                                                                             I would classify the sentiment of this review as:\\n\\nPositive\\n\\nThe reviewer uses positive adjectives such as \"excellent\", \"awesome\", and \"one of the best experience\" to describe their visit. They also mention a specific person, Subham Barnwal, who provided them with great service, which further reinforces the positive tone of the review.   \n",
       "3                            I would classify the sentiment of this review as:\\n\\n**Positive**\\n\\nThe reviewer expresses their satisfaction with the service they received at JW Marriott Hotel in Delhi, specifically mentioning that Ms. Laxmi provided excellent service and made them feel special. They also mention that they will definitely return to the hotel when they come back, indicating a high level of satisfaction and loyalty. The tone of the review is enthusiastic and appreciative, with no negative comments or criticisms.   \n",
       "4                                                                           I would classify the sentiment of this review as:\\n\\nPositive\\n\\nThe reviewer had a great experience at Holiday Inn, praising the food, staff, and hotel staff. They also mentioned that the team member at the front desk was very professional and friendly, especially when interacting with their children. The reviewer even went so far as to say they would strongly recommend the hotel and restaurant, and thanked the staff for making them feel comfortable.   \n",
       "\n",
       "               llama3.2 - I2  \\\n",
       "0  {\"sentiment\": \"Positive\"}   \n",
       "1  {\"sentiment\": \"Positive\"}   \n",
       "2  {\"sentiment\": \"Positive\"}   \n",
       "3  {\"sentiment\": \"Positive\"}   \n",
       "4  {\"sentiment\": \"Positive\"}   \n",
       "\n",
       "                                                                                                                   llama3.2 - I3  \\\n",
       "0                              {\"Overall\": \"Positive\", \"Food Quality\": \"Positive\", \"Service\": \"Neutral\", \"Ambience\": \"Positive\"}   \n",
       "1        {\\n  \"Overall\": \"Positive\",\\n  \"Food Quality\": \"Positive\",\\n  \"Service\": \"Not Applicable\",\\n  \"Ambience\": \"Positive\"\\n}   \n",
       "2        {\\n  \"Overall\": \"Positive\",\\n  \"Food Quality\": \"Not Applicable\",\\n  \"Service\": \"Positive\",\\n  \"Ambience\": \"Positive\"\\n}   \n",
       "3  {\\n  \"Overall\": \"Positive\",\\n  \"Food Quality\": \"Not Applicable\",\\n  \"Service\": \"Positive\",\\n  \"Ambience\": \"Not Applicable\"\\n}   \n",
       "4                       {\"Overall\": \"Positive\", \"Food Quality\": \"Positive\", \"Service\": \"Positive\", \"Ambience\": \"Not Applicable\"}   \n",
       "\n",
       "                                                                                                                                                                                                                                                                                                                                                                                                                                                                                                                                                                                                                                                                                                                                                                                    llama3.2 - I4  \n",
       "0                                                                                                                                                                                                                                                                                                                                                                                                                  Based on the review, here is the classification of sentiment for each aspect:\\n\\n1. \"Food Quality\": Positive\\n2. \"Service\": Not Applicable (the review does not mention anything about the service)\\n3. \"Ambience\": Positive\\n\\nSo, the output in JSON format would be:\\n{\"Overall\": \"Positive\",\"Food Quality\": \"Positive\",\"Service\": \"Not Applicable\",\"Ambience\": \"Positive\"}  \n",
       "1                                                                                                                                                                                                                                                                                                                                                                                                                                                                                                                                                                                                                                                                                        {\"Overall\": \"Positive\", \"Food Quality\": \"Positive\", \"Service\": \"Not Applicable\", \"Ambience\": \"Positive\"}  \n",
       "2  To classify the sentiment of each aspect, I'll analyze the review:\\n\\n1. \"Food Quality\"\\n   - The review mentions that it has an \"excellent taste\", which is a positive sentiment.\\n\\n2. \"Service\"\\n   - The reviewer praises Subham Barnwal for giving them great service and calls it one of the best experiences, indicating a very positive sentiment.\\n\\n3. \"Ambience\"\\n   - Although not explicitly mentioned in the review, the overall tone suggests that the reviewer enjoyed their experience, implying a positive ambience.\\n\\nNow, let's create the JSON output:\\n\\n```json\\n{\\n  \"Overall\": \"Excellent\",\\n  \"Food Quality\": \"Positive\",\\n  \"Service\": \"Positive\",\\n  \"Ambience\": \"Positive\"\\n}\\n```\\n\\nThis output reflects the sentiment of each aspect as per the given review.  \n",
       "3                                                                                                                                                                                                                                                                                                                                                                                                                                                          Based on the review, here is the classification of sentiment for each aspect:\\n\\n* \"Food Quality\": Not Applicable\\n* \"Service\": Positive\\n* \"Ambience\": Not Applicable\\n\\nHere is the output in the required format:\\n\\n{\"Overall\": \"Positive\", \"Food Quality\": \"Not Applicable\", \"Service\": \"Positive\", \"Ambience\": \"Not Applicable\"}  \n",
       "4                                                                                                                                                                                                                                                                                                                                                                                                                                                                                                                                                                                                                                                                                        {\"Overall\": \"Positive\", \"Food Quality\": \"Positive\", \"Service\": \"Positive\", \"Ambience\": \"Not Applicable\"}  "
      ]
     },
     "execution_count": 43,
     "metadata": {},
     "output_type": "execute_result"
    }
   ],
   "source": [
    "data.head()"
   ]
  },
  {
   "cell_type": "markdown",
   "metadata": {},
   "source": [
    "## Instruction 5\n"
   ]
  },
  {
   "cell_type": "markdown",
   "metadata": {},
   "source": [
    "# defining the instructions for the model\n",
    "instruction_5 = \"\"\"\n",
    "    You are an AI tasked with analyzing restaurant reviews. Your goal is to classify the overall sentiment of the provided review into the following categories:\n",
    "        - Positive\n",
    "        - Negative\n",
    "        - Neutral\n",
    "\n",
    "    Subsequently, assess the sentiment of specific aspects mentioned in the review, namely:\n",
    "        1. Food quality\n",
    "        2. Service\n",
    "        3. Ambience\n",
    "\n",
    "    Further, identify liked and/or disliked features associated with each aspect in the review.\n",
    "\n",
    "    Return the output in the specified JSON format, ensuring consistency and handling missing values appropriately:\n",
    "\n",
    "    {\n",
    "        \"Overall\": \"your_sentiment_prediction\",\n",
    "        \"Food Quality\": \"your_sentiment_prediction\",\n",
    "        \"Service\": \"your_sentiment_prediction\",\n",
    "        \"Ambience\": \"your_sentiment_prediction\",\n",
    "        \"Food Quality Features\": [\"liked/disliked features\"],\n",
    "        \"Service Features\": [\"liked/disliked features\"],\n",
    "        \"Ambience Features\": [\"liked/disliked features\"]\n",
    "    }\n",
    "\n",
    "    The sentiment prediction for Overall, Food Quality, Service, and Ambience should be one of \"Positive\", \"Negative\", or \"Neutral\" only.\n",
    "    In case one of the three aspects is not mentioned in the review, set \"Not Applicable\" (including quotes) in the corresponding JSON key value for the sentiment.\n",
    "    In case there are no liked/disliked features for a particular aspect, assign an empty list in the corresponding JSON key value for the aspect.\n",
    "    Only return the JSON, do NOT return any other text or information."
   ]
  },
  {
   "cell_type": "code",
   "execution_count": 44,
   "metadata": {},
   "outputs": [
    {
     "data": {
      "text/plain": [
       "'\\n    You are an AI tasked with analyzing restaurant reviews. Your goal is to classify the overall sentiment of the provided review into the following categories:\\n        - Positive\\n        - Negative\\n        - Neutral\\n\\n    Subsequently, assess the sentiment of specific aspects mentioned in the review, namely:\\n        1. Food quality\\n        2. Service\\n        3. Ambience\\n\\n    Further, identify liked and/or disliked features associated with each aspect in the review.\\n\\n    Return the output in the specified JSON format, ensuring consistency and handling missing values appropriately:\\n\\n    {\\n        \"Overall\": \"your_sentiment_prediction\",\\n        \"Food Quality\": \"your_sentiment_prediction\",\\n        \"Service\": \"your_sentiment_prediction\",\\n        \"Ambience\": \"your_sentiment_prediction\",\\n        \"Food Quality Features\": [\"liked/disliked features\"],\\n        \"Service Features\": [\"liked/disliked features\"],\\n        \"Ambience Features\": [\"liked/disliked features\"]\\n    }\\n\\n    The sentiment prediction for Overall, Food Quality, Service, and Ambience should be one of \"Positive\", \"Negative\", or \"Neutral\" only.\\n    In case one of the three aspects is not mentioned in the review, set \"Not Applicable\" (including quotes) in the corresponding JSON key value for the sentiment.\\n    In case there are no liked/disliked features for a particular aspect, assign an empty list in the corresponding JSON key value for the aspect.\\n    Only return the JSON, do NOT return any other text or information.\\n'"
      ]
     },
     "execution_count": 44,
     "metadata": {},
     "output_type": "execute_result"
    }
   ],
   "source": [
    "p1.set_instruction(cf.instruction_5)\n",
    "p1.instruction"
   ]
  },
  {
   "cell_type": "markdown",
   "metadata": {},
   "source": [
    "#### Check how this instructionn works on a single input"
   ]
  },
  {
   "cell_type": "code",
   "execution_count": 45,
   "metadata": {},
   "outputs": [
    {
     "name": "stdout",
     "output_type": "stream",
     "text": [
      "{\"Overall\": \"Positive\", \"Food Quality\": \"Positive\", \"Service\": \"Neutral\", \"Ambience\": \"Positive\", \"Food Quality Features\": [\"open kitchen idea\", \"marketplace ideology\"], \"Service Features\": [\"mask on their staff\", \"good sanitisation\"], \"Ambience Features\": [\"quaint and cute outdoor and indoor interior\"]}\n"
     ]
    }
   ],
   "source": [
    "m = p1.generate_response(data['review_full'].values[0])\n",
    "print(m)"
   ]
  },
  {
   "cell_type": "markdown",
   "metadata": {},
   "source": [
    "#### Now apply that to all the reviews"
   ]
  },
  {
   "cell_type": "code",
   "execution_count": 46,
   "metadata": {},
   "outputs": [],
   "source": [
    "column_name = p1.model + ' - I5'\n",
    "\n",
    "data[column_name] = data['review_full'].apply(\n",
    "                                                 lambda x: p1.generate_response(x))\n"
   ]
  },
  {
   "cell_type": "markdown",
   "metadata": {},
   "source": [
    "#### Check the Data"
   ]
  },
  {
   "cell_type": "code",
   "execution_count": 47,
   "metadata": {},
   "outputs": [
    {
     "data": {
      "text/html": [
       "<div>\n",
       "<style scoped>\n",
       "    .dataframe tbody tr th:only-of-type {\n",
       "        vertical-align: middle;\n",
       "    }\n",
       "\n",
       "    .dataframe tbody tr th {\n",
       "        vertical-align: top;\n",
       "    }\n",
       "\n",
       "    .dataframe thead th {\n",
       "        text-align: right;\n",
       "    }\n",
       "</style>\n",
       "<table border=\"1\" class=\"dataframe\">\n",
       "  <thead>\n",
       "    <tr style=\"text-align: right;\">\n",
       "      <th></th>\n",
       "      <th>restaurant_ID</th>\n",
       "      <th>rating_review</th>\n",
       "      <th>review_full</th>\n",
       "      <th>llama3.2 - I1</th>\n",
       "      <th>llama3.2 - I2</th>\n",
       "      <th>llama3.2 - I3</th>\n",
       "      <th>llama3.2 - I4</th>\n",
       "      <th>llama3.2 - I5</th>\n",
       "    </tr>\n",
       "  </thead>\n",
       "  <tbody>\n",
       "    <tr>\n",
       "      <th>0</th>\n",
       "      <td>FLV202</td>\n",
       "      <td>5</td>\n",
       "      <td>Totally in love with the Auro of the place, really beautiful and quite fancy at the same time. The ambience is very pure and gives a sense of positivity throughout. Outdoor and indoor interior are quite quaint and cute. Love the open kitchen idea and there whole marketplace ideology. Due to coronovirus they specifically use disposable cutlery to keep the pandemic in mind taking all the precautionary measures from the beginning of the place with the mask on their staff and using good sanitisation. The food is really amazing specially the pizza straight from the oven and the hummus and pita bread are quite delicious too. If you're looking for a classy yet soothing Italian place in Delhi,Fatjar is a go to for you!</td>\n",
       "      <td>The sentiment of this review can be classified as:\\n\\nPositive\\n\\nThe reviewer uses words and phrases such as \"really beautiful\", \"quite fancy at the same time\", \"pure and gives a sense of positivity throughout\", \"love the open kitchen idea\", and \"amazing\" to describe their experience at Fatjar. They also mention specific menu items, such as pizza straight from the oven and hummus and pita bread, that they enjoyed. The reviewer's tone is enthusiastic and recommends the restaurant to others, indicating a positive sentiment.</td>\n",
       "      <td>{\"sentiment\": \"Positive\"}</td>\n",
       "      <td>{\"Overall\": \"Positive\", \"Food Quality\": \"Positive\", \"Service\": \"Neutral\", \"Ambience\": \"Positive\"}</td>\n",
       "      <td>Based on the review, here is the classification of sentiment for each aspect:\\n\\n1. \"Food Quality\": Positive\\n2. \"Service\": Not Applicable (the review does not mention anything about the service)\\n3. \"Ambience\": Positive\\n\\nSo, the output in JSON format would be:\\n{\"Overall\": \"Positive\",\"Food Quality\": \"Positive\",\"Service\": \"Not Applicable\",\"Ambience\": \"Positive\"}</td>\n",
       "      <td>{\"Overall\": \"Positive\", \"Food Quality\": \"Positive\", \"Service\": \"Neutral\", \"Ambience\": \"Positive\", \"Food Quality Features\": [\"open kitchen idea\", \"marketplace ideology\"], \"Service Features\": [\"mask on their staff\", \"good sanitisation\"], \"Ambience Features\": [\"quaint and cute outdoor and indoor interior\"]}</td>\n",
       "    </tr>\n",
       "    <tr>\n",
       "      <th>1</th>\n",
       "      <td>SAV303</td>\n",
       "      <td>5</td>\n",
       "      <td>Kailash colony is brimming with small cafes now. I happened to visit this beauty for lunch and was amazed with the 1st impression it made.  We started with Falafel &amp; Pita and Margherita Pizza. Safe to say, Margherita pizza was the best choice of the day. Its made freshly in front of you in the Wood Fired oven. The taste was exquisite and I would recommend this to anybody who plans to visit this outlet. I could come here just to have that Pizza. Hummus, Pita and Falafel were a good side dish while we ordered the next couple of dishes. We moved on to order Fussili Alfredo. This white sauce fussili pasta was good but could not be compared to the pizza we had earlier.  In the end, we went for Frozen Yoghurt with Honey. It is recommended to have it with honey, which will do wonders to the frozen yoghurt!  This place turned out to be quite peaceful and the plants enhanced its beauty.</td>\n",
       "      <td>The sentiment of this review can be classified as:\\n\\nPositive\\n\\nAlthough the reviewer mentions that the Fussili Alfredo was not as good as the Margherita Pizza, the overall tone of the review is overwhelmingly positive. The reviewer uses phrases such as \"amazed with the 1st impression\", \"exquisite taste\", and \"I would recommend this to anybody\" to describe their experience. They also mention that they could come back just for the pizza, which suggests a strong enthusiasm for the restaurant.</td>\n",
       "      <td>{\"sentiment\": \"Positive\"}</td>\n",
       "      <td>{\\n  \"Overall\": \"Positive\",\\n  \"Food Quality\": \"Positive\",\\n  \"Service\": \"Not Applicable\",\\n  \"Ambience\": \"Positive\"\\n}</td>\n",
       "      <td>{\"Overall\": \"Positive\", \"Food Quality\": \"Positive\", \"Service\": \"Not Applicable\", \"Ambience\": \"Positive\"}</td>\n",
       "      <td>{\\n  \"Overall\": \"Positive\",\\n  \"Food Quality\": \"Positive\",\\n  \"Service\": \"Not Applicable\",\\n  \"Ambience\": \"Positive\",\\n  \"Food Quality Features\": [\"Freshly made Wood Fired oven Margherita Pizza\", \"Hummus, Pita and Falafel as good side dishes\"],\\n  \"Service Features\": [],\\n  \"Ambience Features\": [\"Peaceful atmosphere with plants\"]\\n}</td>\n",
       "    </tr>\n",
       "    <tr>\n",
       "      <th>2</th>\n",
       "      <td>YUM789</td>\n",
       "      <td>5</td>\n",
       "      <td>Excellent taste and awesome decorum. Must visit. Subham Barnwal had given us a great service. One of the best experience.</td>\n",
       "      <td>I would classify the sentiment of this review as:\\n\\nPositive\\n\\nThe reviewer uses positive adjectives such as \"excellent\", \"awesome\", and \"one of the best experience\" to describe their visit. They also mention a specific person, Subham Barnwal, who provided them with great service, which further reinforces the positive tone of the review.</td>\n",
       "      <td>{\"sentiment\": \"Positive\"}</td>\n",
       "      <td>{\\n  \"Overall\": \"Positive\",\\n  \"Food Quality\": \"Not Applicable\",\\n  \"Service\": \"Positive\",\\n  \"Ambience\": \"Positive\"\\n}</td>\n",
       "      <td>To classify the sentiment of each aspect, I'll analyze the review:\\n\\n1. \"Food Quality\"\\n   - The review mentions that it has an \"excellent taste\", which is a positive sentiment.\\n\\n2. \"Service\"\\n   - The reviewer praises Subham Barnwal for giving them great service and calls it one of the best experiences, indicating a very positive sentiment.\\n\\n3. \"Ambience\"\\n   - Although not explicitly mentioned in the review, the overall tone suggests that the reviewer enjoyed their experience, implying a positive ambience.\\n\\nNow, let's create the JSON output:\\n\\n```json\\n{\\n  \"Overall\": \"Excellent\",\\n  \"Food Quality\": \"Positive\",\\n  \"Service\": \"Positive\",\\n  \"Ambience\": \"Positive\"\\n}\\n```\\n\\nThis output reflects the sentiment of each aspect as per the given review.</td>\n",
       "      <td>{\\n  \"Overall\": \"Positive\",\\n  \"Food Quality\": \"Not Applicable\",\\n  \"Service\": \"Positive\",\\n  \"Ambience\": \"Positive\",\\n  \"Food Quality Features\": [],\\n  \"Service Features\": [\"Subham Barnwal\", \"great service\"],\\n  \"Ambience Features\": [\"decorum\"]\\n}</td>\n",
       "    </tr>\n",
       "    <tr>\n",
       "      <th>3</th>\n",
       "      <td>TST101</td>\n",
       "      <td>5</td>\n",
       "      <td>I have visited at jw lough/restourant. There were a first class service at lough, specially Ms.laxmi  who were superbed for handling the client need, me and my family lots enjoyed her specialty in the manner, and Laxmi is a very very good in the client service, I hope when I will come against I would definitely serve from Ms. Laxmi and she is wonderful girl in that service. See you again Ms. Laxmi for the your best service which I have received from you at jw lough/resourant. Thank you JW Marriott Hotel at Atrocity, Delhi</td>\n",
       "      <td>I would classify the sentiment of this review as:\\n\\n**Positive**\\n\\nThe reviewer expresses their satisfaction with the service they received at JW Marriott Hotel in Delhi, specifically mentioning that Ms. Laxmi provided excellent service and made them feel special. They also mention that they will definitely return to the hotel when they come back, indicating a high level of satisfaction and loyalty. The tone of the review is enthusiastic and appreciative, with no negative comments or criticisms.</td>\n",
       "      <td>{\"sentiment\": \"Positive\"}</td>\n",
       "      <td>{\\n  \"Overall\": \"Positive\",\\n  \"Food Quality\": \"Not Applicable\",\\n  \"Service\": \"Positive\",\\n  \"Ambience\": \"Not Applicable\"\\n}</td>\n",
       "      <td>Based on the review, here is the classification of sentiment for each aspect:\\n\\n* \"Food Quality\": Not Applicable\\n* \"Service\": Positive\\n* \"Ambience\": Not Applicable\\n\\nHere is the output in the required format:\\n\\n{\"Overall\": \"Positive\", \"Food Quality\": \"Not Applicable\", \"Service\": \"Positive\", \"Ambience\": \"Not Applicable\"}</td>\n",
       "      <td>{\\n  \"Overall\": \"Positive\",\\n  \"Food Quality\": \"Not Applicable\",\\n  \"Service\": \"Positive\",\\n  \"Ambience\": \"Not Applicable\",\\n  \"Food Quality Features\": [],\\n  \"Service Features\": [\"specialty in the manner\", \"client service\"],\\n  \"Ambience Features\": []\\n}</td>\n",
       "    </tr>\n",
       "    <tr>\n",
       "      <th>4</th>\n",
       "      <td>EAT456</td>\n",
       "      <td>5</td>\n",
       "      <td>Had a great experience in the restaurant food was fabulous, staff was nice. Hotel staff seems very professional specially the team at front desk although I was not staying there but they helped me with few of my quarries. Was dining with my kids and the team member at front desk young guy came with some kids book and gave it to my little child. It was a wonderful experience at Holiday inn and the staff was super . I was little worried as using the hotel first time for dining but the staff made it more comfortable. Will strongly recommend this and special thanks to people working at desk do not remember his name but he was a manager in the lobby who suggested us kylin for food and thanks to him that we enjoyed meal at kylin and now it's my first choice for food.</td>\n",
       "      <td>I would classify the sentiment of this review as:\\n\\nPositive\\n\\nThe reviewer had a great experience at Holiday Inn, praising the food, staff, and hotel staff. They also mentioned that the team member at the front desk was very professional and friendly, especially when interacting with their children. The reviewer even went so far as to say they would strongly recommend the hotel and restaurant, and thanked the staff for making them feel comfortable.</td>\n",
       "      <td>{\"sentiment\": \"Positive\"}</td>\n",
       "      <td>{\"Overall\": \"Positive\", \"Food Quality\": \"Positive\", \"Service\": \"Positive\", \"Ambience\": \"Not Applicable\"}</td>\n",
       "      <td>{\"Overall\": \"Positive\", \"Food Quality\": \"Positive\", \"Service\": \"Positive\", \"Ambience\": \"Not Applicable\"}</td>\n",
       "      <td>{\"Overall\": \"Positive\", \"Food Quality\": \"Positive\", \"Service\": \"Positive\", \"Ambience\": \"Positive\", \"Food Quality Features\": [\"fabulous\", \"super\"], \"Service Features\": [\"nice\", \"professional\", \"helpful\", \"young guy came with kids book and gave it to my little child\"], \"Ambience Features\": []}</td>\n",
       "    </tr>\n",
       "  </tbody>\n",
       "</table>\n",
       "</div>"
      ],
      "text/plain": [
       "  restaurant_ID  rating_review  \\\n",
       "0        FLV202              5   \n",
       "1        SAV303              5   \n",
       "2        YUM789              5   \n",
       "3        TST101              5   \n",
       "4        EAT456              5   \n",
       "\n",
       "                                                                                                                                                                                                                                                                                                                                                                                                                                                                                                                                                                                                                                                                                                                                                                                                                                                                                                                  review_full  \\\n",
       "0                                                                                                                                                                            Totally in love with the Auro of the place, really beautiful and quite fancy at the same time. The ambience is very pure and gives a sense of positivity throughout. Outdoor and indoor interior are quite quaint and cute. Love the open kitchen idea and there whole marketplace ideology. Due to coronovirus they specifically use disposable cutlery to keep the pandemic in mind taking all the precautionary measures from the beginning of the place with the mask on their staff and using good sanitisation. The food is really amazing specially the pizza straight from the oven and the hummus and pita bread are quite delicious too. If you're looking for a classy yet soothing Italian place in Delhi,Fatjar is a go to for you!   \n",
       "1  Kailash colony is brimming with small cafes now. I happened to visit this beauty for lunch and was amazed with the 1st impression it made.  We started with Falafel & Pita and Margherita Pizza. Safe to say, Margherita pizza was the best choice of the day. Its made freshly in front of you in the Wood Fired oven. The taste was exquisite and I would recommend this to anybody who plans to visit this outlet. I could come here just to have that Pizza. Hummus, Pita and Falafel were a good side dish while we ordered the next couple of dishes. We moved on to order Fussili Alfredo. This white sauce fussili pasta was good but could not be compared to the pizza we had earlier.  In the end, we went for Frozen Yoghurt with Honey. It is recommended to have it with honey, which will do wonders to the frozen yoghurt!  This place turned out to be quite peaceful and the plants enhanced its beauty.   \n",
       "2                                                                                                                                                                                                                                                                                                                                                                                                                                                                                                                                                                                                                                                                                                                                                                                                   Excellent taste and awesome decorum. Must visit. Subham Barnwal had given us a great service. One of the best experience.   \n",
       "3                                                                                                                                                                                                                                                                                                                                                                             I have visited at jw lough/restourant. There were a first class service at lough, specially Ms.laxmi  who were superbed for handling the client need, me and my family lots enjoyed her specialty in the manner, and Laxmi is a very very good in the client service, I hope when I will come against I would definitely serve from Ms. Laxmi and she is wonderful girl in that service. See you again Ms. Laxmi for the your best service which I have received from you at jw lough/resourant. Thank you JW Marriott Hotel at Atrocity, Delhi   \n",
       "4                                                                                                                         Had a great experience in the restaurant food was fabulous, staff was nice. Hotel staff seems very professional specially the team at front desk although I was not staying there but they helped me with few of my quarries. Was dining with my kids and the team member at front desk young guy came with some kids book and gave it to my little child. It was a wonderful experience at Holiday inn and the staff was super . I was little worried as using the hotel first time for dining but the staff made it more comfortable. Will strongly recommend this and special thanks to people working at desk do not remember his name but he was a manager in the lobby who suggested us kylin for food and thanks to him that we enjoyed meal at kylin and now it's my first choice for food.   \n",
       "\n",
       "                                                                                                                                                                                                                                                                                                                                                                                                                                                                                                                                      llama3.2 - I1  \\\n",
       "0  The sentiment of this review can be classified as:\\n\\nPositive\\n\\nThe reviewer uses words and phrases such as \"really beautiful\", \"quite fancy at the same time\", \"pure and gives a sense of positivity throughout\", \"love the open kitchen idea\", and \"amazing\" to describe their experience at Fatjar. They also mention specific menu items, such as pizza straight from the oven and hummus and pita bread, that they enjoyed. The reviewer's tone is enthusiastic and recommends the restaurant to others, indicating a positive sentiment.   \n",
       "1                                 The sentiment of this review can be classified as:\\n\\nPositive\\n\\nAlthough the reviewer mentions that the Fussili Alfredo was not as good as the Margherita Pizza, the overall tone of the review is overwhelmingly positive. The reviewer uses phrases such as \"amazed with the 1st impression\", \"exquisite taste\", and \"I would recommend this to anybody\" to describe their experience. They also mention that they could come back just for the pizza, which suggests a strong enthusiasm for the restaurant.   \n",
       "2                                                                                                                                                                                             I would classify the sentiment of this review as:\\n\\nPositive\\n\\nThe reviewer uses positive adjectives such as \"excellent\", \"awesome\", and \"one of the best experience\" to describe their visit. They also mention a specific person, Subham Barnwal, who provided them with great service, which further reinforces the positive tone of the review.   \n",
       "3                            I would classify the sentiment of this review as:\\n\\n**Positive**\\n\\nThe reviewer expresses their satisfaction with the service they received at JW Marriott Hotel in Delhi, specifically mentioning that Ms. Laxmi provided excellent service and made them feel special. They also mention that they will definitely return to the hotel when they come back, indicating a high level of satisfaction and loyalty. The tone of the review is enthusiastic and appreciative, with no negative comments or criticisms.   \n",
       "4                                                                           I would classify the sentiment of this review as:\\n\\nPositive\\n\\nThe reviewer had a great experience at Holiday Inn, praising the food, staff, and hotel staff. They also mentioned that the team member at the front desk was very professional and friendly, especially when interacting with their children. The reviewer even went so far as to say they would strongly recommend the hotel and restaurant, and thanked the staff for making them feel comfortable.   \n",
       "\n",
       "               llama3.2 - I2  \\\n",
       "0  {\"sentiment\": \"Positive\"}   \n",
       "1  {\"sentiment\": \"Positive\"}   \n",
       "2  {\"sentiment\": \"Positive\"}   \n",
       "3  {\"sentiment\": \"Positive\"}   \n",
       "4  {\"sentiment\": \"Positive\"}   \n",
       "\n",
       "                                                                                                                   llama3.2 - I3  \\\n",
       "0                              {\"Overall\": \"Positive\", \"Food Quality\": \"Positive\", \"Service\": \"Neutral\", \"Ambience\": \"Positive\"}   \n",
       "1        {\\n  \"Overall\": \"Positive\",\\n  \"Food Quality\": \"Positive\",\\n  \"Service\": \"Not Applicable\",\\n  \"Ambience\": \"Positive\"\\n}   \n",
       "2        {\\n  \"Overall\": \"Positive\",\\n  \"Food Quality\": \"Not Applicable\",\\n  \"Service\": \"Positive\",\\n  \"Ambience\": \"Positive\"\\n}   \n",
       "3  {\\n  \"Overall\": \"Positive\",\\n  \"Food Quality\": \"Not Applicable\",\\n  \"Service\": \"Positive\",\\n  \"Ambience\": \"Not Applicable\"\\n}   \n",
       "4                       {\"Overall\": \"Positive\", \"Food Quality\": \"Positive\", \"Service\": \"Positive\", \"Ambience\": \"Not Applicable\"}   \n",
       "\n",
       "                                                                                                                                                                                                                                                                                                                                                                                                                                                                                                                                                                                                                                                                                                                                                                                    llama3.2 - I4  \\\n",
       "0                                                                                                                                                                                                                                                                                                                                                                                                                  Based on the review, here is the classification of sentiment for each aspect:\\n\\n1. \"Food Quality\": Positive\\n2. \"Service\": Not Applicable (the review does not mention anything about the service)\\n3. \"Ambience\": Positive\\n\\nSo, the output in JSON format would be:\\n{\"Overall\": \"Positive\",\"Food Quality\": \"Positive\",\"Service\": \"Not Applicable\",\"Ambience\": \"Positive\"}   \n",
       "1                                                                                                                                                                                                                                                                                                                                                                                                                                                                                                                                                                                                                                                                                        {\"Overall\": \"Positive\", \"Food Quality\": \"Positive\", \"Service\": \"Not Applicable\", \"Ambience\": \"Positive\"}   \n",
       "2  To classify the sentiment of each aspect, I'll analyze the review:\\n\\n1. \"Food Quality\"\\n   - The review mentions that it has an \"excellent taste\", which is a positive sentiment.\\n\\n2. \"Service\"\\n   - The reviewer praises Subham Barnwal for giving them great service and calls it one of the best experiences, indicating a very positive sentiment.\\n\\n3. \"Ambience\"\\n   - Although not explicitly mentioned in the review, the overall tone suggests that the reviewer enjoyed their experience, implying a positive ambience.\\n\\nNow, let's create the JSON output:\\n\\n```json\\n{\\n  \"Overall\": \"Excellent\",\\n  \"Food Quality\": \"Positive\",\\n  \"Service\": \"Positive\",\\n  \"Ambience\": \"Positive\"\\n}\\n```\\n\\nThis output reflects the sentiment of each aspect as per the given review.   \n",
       "3                                                                                                                                                                                                                                                                                                                                                                                                                                                          Based on the review, here is the classification of sentiment for each aspect:\\n\\n* \"Food Quality\": Not Applicable\\n* \"Service\": Positive\\n* \"Ambience\": Not Applicable\\n\\nHere is the output in the required format:\\n\\n{\"Overall\": \"Positive\", \"Food Quality\": \"Not Applicable\", \"Service\": \"Positive\", \"Ambience\": \"Not Applicable\"}   \n",
       "4                                                                                                                                                                                                                                                                                                                                                                                                                                                                                                                                                                                                                                                                                        {\"Overall\": \"Positive\", \"Food Quality\": \"Positive\", \"Service\": \"Positive\", \"Ambience\": \"Not Applicable\"}   \n",
       "\n",
       "                                                                                                                                                                                                                                                                                                                                    llama3.2 - I5  \n",
       "0                               {\"Overall\": \"Positive\", \"Food Quality\": \"Positive\", \"Service\": \"Neutral\", \"Ambience\": \"Positive\", \"Food Quality Features\": [\"open kitchen idea\", \"marketplace ideology\"], \"Service Features\": [\"mask on their staff\", \"good sanitisation\"], \"Ambience Features\": [\"quaint and cute outdoor and indoor interior\"]}  \n",
       "1  {\\n  \"Overall\": \"Positive\",\\n  \"Food Quality\": \"Positive\",\\n  \"Service\": \"Not Applicable\",\\n  \"Ambience\": \"Positive\",\\n  \"Food Quality Features\": [\"Freshly made Wood Fired oven Margherita Pizza\", \"Hummus, Pita and Falafel as good side dishes\"],\\n  \"Service Features\": [],\\n  \"Ambience Features\": [\"Peaceful atmosphere with plants\"]\\n}  \n",
       "2                                                                                        {\\n  \"Overall\": \"Positive\",\\n  \"Food Quality\": \"Not Applicable\",\\n  \"Service\": \"Positive\",\\n  \"Ambience\": \"Positive\",\\n  \"Food Quality Features\": [],\\n  \"Service Features\": [\"Subham Barnwal\", \"great service\"],\\n  \"Ambience Features\": [\"decorum\"]\\n}  \n",
       "3                                                                                 {\\n  \"Overall\": \"Positive\",\\n  \"Food Quality\": \"Not Applicable\",\\n  \"Service\": \"Positive\",\\n  \"Ambience\": \"Not Applicable\",\\n  \"Food Quality Features\": [],\\n  \"Service Features\": [\"specialty in the manner\", \"client service\"],\\n  \"Ambience Features\": []\\n}  \n",
       "4                                            {\"Overall\": \"Positive\", \"Food Quality\": \"Positive\", \"Service\": \"Positive\", \"Ambience\": \"Positive\", \"Food Quality Features\": [\"fabulous\", \"super\"], \"Service Features\": [\"nice\", \"professional\", \"helpful\", \"young guy came with kids book and gave it to my little child\"], \"Ambience Features\": []}  "
      ]
     },
     "execution_count": 47,
     "metadata": {},
     "output_type": "execute_result"
    }
   ],
   "source": [
    "data.head()"
   ]
  },
  {
   "cell_type": "code",
   "execution_count": null,
   "metadata": {},
   "outputs": [],
   "source": []
  }
 ],
 "metadata": {
  "kernelspec": {
   "display_name": ".venv",
   "language": "python",
   "name": "python3"
  },
  "language_info": {
   "codemirror_mode": {
    "name": "ipython",
    "version": 3
   },
   "file_extension": ".py",
   "mimetype": "text/x-python",
   "name": "python",
   "nbconvert_exporter": "python",
   "pygments_lexer": "ipython3",
   "version": "3.12.0"
  }
 },
 "nbformat": 4,
 "nbformat_minor": 2
}
