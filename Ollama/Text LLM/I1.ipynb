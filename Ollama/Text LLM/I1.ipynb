{
 "cells": [
  {
   "cell_type": "code",
   "execution_count": 23,
   "metadata": {},
   "outputs": [],
   "source": [
    "import helper_fn as hf\n",
    "import instructions as ins\n"
   ]
  },
  {
   "cell_type": "markdown",
   "metadata": {},
   "source": [
    "### Model & Instruction"
   ]
  },
  {
   "cell_type": "code",
   "execution_count": 24,
   "metadata": {},
   "outputs": [
    {
     "data": {
      "application/vnd.jupyter.widget-view+json": {
       "model_id": "f38cfdc3668c44739759a0123684ebdd",
       "version_major": 2,
       "version_minor": 0
      },
      "text/plain": [
       "Dropdown(description='Select Instruction:', index=2, options=('I_1', 'I_2', 'I_3', 'I_4', 'I_5'), value='I_3')"
      ]
     },
     "metadata": {},
     "output_type": "display_data"
    }
   ],
   "source": [
    "hf.instruction_dropdown_widget()"
   ]
  },
  {
   "cell_type": "code",
   "execution_count": 25,
   "metadata": {},
   "outputs": [
    {
     "data": {
      "text/plain": [
       "'\\n    You are an AI analyzing restaurant reviews. Classify the overall sentiment of the provided review into the following categories:\\n    - \"Positive\"\\n    - \"Negative\"\\n    - \"Neutral\"\\n\\n    Once that is done, check for a mention of the following aspects in the review and classify the sentiment of each aspect as \"Positive\", \"Negative\", or \"Neutral\":\\n    1. \"Food Quality\"\\n    2. \"Service\"\\n    3. \"Ambience\"\\n\\n    Output the overall sentiment and sentiment for each category in a JSON format with the following keys:\\n    {\\n        \"Overall\": \"your_sentiment_prediction\",\\n        \"Food Quality\": \"your_sentiment_prediction\",\\n        \"Service\": \"your_sentiment_prediction\",\\n        \"Ambience\": \"your_sentiment_prediction\"\\n    }\\n\\n    In case one of the three aspects is not mentioned in the review, set \"Not Applicable\" (including quotes) for the corresponding JSON key value.\\n    Only return the JSON, do not return any other information.\\n'"
      ]
     },
     "execution_count": 25,
     "metadata": {},
     "output_type": "execute_result"
    }
   ],
   "source": [
    "hf.selected_instruction_value"
   ]
  },
  {
   "cell_type": "code",
   "execution_count": 26,
   "metadata": {},
   "outputs": [
    {
     "data": {
      "application/vnd.jupyter.widget-view+json": {
       "model_id": "8309a54f35884482b51eebb773d7edfc",
       "version_major": 2,
       "version_minor": 0
      },
      "text/plain": [
       "Dropdown(description='Select LLM:', index=2, options=('deepseek-r1:8b', 'qwen3:latest', 'llama3.2', 'mistral',…"
      ]
     },
     "metadata": {},
     "output_type": "display_data"
    }
   ],
   "source": [
    "hf.llm_dropdown_widget()"
   ]
  },
  {
   "cell_type": "code",
   "execution_count": 27,
   "metadata": {},
   "outputs": [
    {
     "data": {
      "text/plain": [
       "'llama3.2'"
      ]
     },
     "execution_count": 27,
     "metadata": {},
     "output_type": "execute_result"
    }
   ],
   "source": [
    "hf.selected_llm"
   ]
  },
  {
   "cell_type": "code",
   "execution_count": 28,
   "metadata": {},
   "outputs": [],
   "source": [
    "p1 = hf.Pompt(model_name = hf.selected_llm, instruction = hf.selected_instruction_value)"
   ]
  },
  {
   "cell_type": "code",
   "execution_count": 29,
   "metadata": {},
   "outputs": [
    {
     "data": {
      "text/plain": [
       "'llama3.2'"
      ]
     },
     "execution_count": 29,
     "metadata": {},
     "output_type": "execute_result"
    }
   ],
   "source": [
    "p1.model"
   ]
  },
  {
   "cell_type": "code",
   "execution_count": 30,
   "metadata": {},
   "outputs": [
    {
     "data": {
      "text/plain": [
       "'\\n    You are an AI analyzing restaurant reviews. Classify the overall sentiment of the provided review into the following categories:\\n    - \"Positive\"\\n    - \"Negative\"\\n    - \"Neutral\"\\n\\n    Once that is done, check for a mention of the following aspects in the review and classify the sentiment of each aspect as \"Positive\", \"Negative\", or \"Neutral\":\\n    1. \"Food Quality\"\\n    2. \"Service\"\\n    3. \"Ambience\"\\n\\n    Output the overall sentiment and sentiment for each category in a JSON format with the following keys:\\n    {\\n        \"Overall\": \"your_sentiment_prediction\",\\n        \"Food Quality\": \"your_sentiment_prediction\",\\n        \"Service\": \"your_sentiment_prediction\",\\n        \"Ambience\": \"your_sentiment_prediction\"\\n    }\\n\\n    In case one of the three aspects is not mentioned in the review, set \"Not Applicable\" (including quotes) for the corresponding JSON key value.\\n    Only return the JSON, do not return any other information.\\n'"
      ]
     },
     "execution_count": 30,
     "metadata": {},
     "output_type": "execute_result"
    }
   ],
   "source": [
    "p1.instruction"
   ]
  },
  {
   "cell_type": "code",
   "execution_count": 31,
   "metadata": {},
   "outputs": [],
   "source": [
    "# getting the data\n",
    "data_og = p1.get_data()\n",
    "\n",
    "# creating a copy of the data\n",
    "data = data_og.copy()"
   ]
  },
  {
   "cell_type": "code",
   "execution_count": 32,
   "metadata": {},
   "outputs": [
    {
     "data": {
      "text/html": [
       "<div>\n",
       "<style scoped>\n",
       "    .dataframe tbody tr th:only-of-type {\n",
       "        vertical-align: middle;\n",
       "    }\n",
       "\n",
       "    .dataframe tbody tr th {\n",
       "        vertical-align: top;\n",
       "    }\n",
       "\n",
       "    .dataframe thead th {\n",
       "        text-align: right;\n",
       "    }\n",
       "</style>\n",
       "<table border=\"1\" class=\"dataframe\">\n",
       "  <thead>\n",
       "    <tr style=\"text-align: right;\">\n",
       "      <th></th>\n",
       "      <th>restaurant_ID</th>\n",
       "      <th>rating_review</th>\n",
       "      <th>review_full</th>\n",
       "    </tr>\n",
       "  </thead>\n",
       "  <tbody>\n",
       "    <tr>\n",
       "      <th>0</th>\n",
       "      <td>FLV202</td>\n",
       "      <td>5</td>\n",
       "      <td>Totally in love with the Auro of the place, really beautiful and quite fancy at the same time. The ambience is very pure and gives a sense of positivity throughout. Outdoor and indoor interior are quite quaint and cute. Love the open kitchen idea and there whole marketplace ideology. Due to coronovirus they specifically use disposable cutlery to keep the pandemic in mind taking all the precautionary measures from the beginning of the place with the mask on their staff and using good sanitisation. The food is really amazing specially the pizza straight from the oven and the hummus and pita bread are quite delicious too. If you're looking for a classy yet soothing Italian place in Delhi,Fatjar is a go to for you!</td>\n",
       "    </tr>\n",
       "    <tr>\n",
       "      <th>1</th>\n",
       "      <td>SAV303</td>\n",
       "      <td>5</td>\n",
       "      <td>Kailash colony is brimming with small cafes now. I happened to visit this beauty for lunch and was amazed with the 1st impression it made.  We started with Falafel &amp; Pita and Margherita Pizza. Safe to say, Margherita pizza was the best choice of the day. Its made freshly in front of you in the Wood Fired oven. The taste was exquisite and I would recommend this to anybody who plans to visit this outlet. I could come here just to have that Pizza. Hummus, Pita and Falafel were a good side dish while we ordered the next couple of dishes. We moved on to order Fussili Alfredo. This white sauce fussili pasta was good but could not be compared to the pizza we had earlier.  In the end, we went for Frozen Yoghurt with Honey. It is recommended to have it with honey, which will do wonders to the frozen yoghurt!  This place turned out to be quite peaceful and the plants enhanced its beauty.</td>\n",
       "    </tr>\n",
       "    <tr>\n",
       "      <th>2</th>\n",
       "      <td>YUM789</td>\n",
       "      <td>5</td>\n",
       "      <td>Excellent taste and awesome decorum. Must visit. Subham Barnwal had given us a great service. One of the best experience.</td>\n",
       "    </tr>\n",
       "    <tr>\n",
       "      <th>3</th>\n",
       "      <td>TST101</td>\n",
       "      <td>5</td>\n",
       "      <td>I have visited at jw lough/restourant. There were a first class service at lough, specially Ms.laxmi  who were superbed for handling the client need, me and my family lots enjoyed her specialty in the manner, and Laxmi is a very very good in the client service, I hope when I will come against I would definitely serve from Ms. Laxmi and she is wonderful girl in that service. See you again Ms. Laxmi for the your best service which I have received from you at jw lough/resourant. Thank you JW Marriott Hotel at Atrocity, Delhi</td>\n",
       "    </tr>\n",
       "    <tr>\n",
       "      <th>4</th>\n",
       "      <td>EAT456</td>\n",
       "      <td>5</td>\n",
       "      <td>Had a great experience in the restaurant food was fabulous, staff was nice. Hotel staff seems very professional specially the team at front desk although I was not staying there but they helped me with few of my quarries. Was dining with my kids and the team member at front desk young guy came with some kids book and gave it to my little child. It was a wonderful experience at Holiday inn and the staff was super . I was little worried as using the hotel first time for dining but the staff made it more comfortable. Will strongly recommend this and special thanks to people working at desk do not remember his name but he was a manager in the lobby who suggested us kylin for food and thanks to him that we enjoyed meal at kylin and now it's my first choice for food.</td>\n",
       "    </tr>\n",
       "  </tbody>\n",
       "</table>\n",
       "</div>"
      ],
      "text/plain": [
       "  restaurant_ID  rating_review  \\\n",
       "0        FLV202              5   \n",
       "1        SAV303              5   \n",
       "2        YUM789              5   \n",
       "3        TST101              5   \n",
       "4        EAT456              5   \n",
       "\n",
       "                                                                                                                                                                                                                                                                                                                                                                                                                                                                                                                                                                                                                                                                                                                                                                                                                                                                                                                  review_full  \n",
       "0                                                                                                                                                                            Totally in love with the Auro of the place, really beautiful and quite fancy at the same time. The ambience is very pure and gives a sense of positivity throughout. Outdoor and indoor interior are quite quaint and cute. Love the open kitchen idea and there whole marketplace ideology. Due to coronovirus they specifically use disposable cutlery to keep the pandemic in mind taking all the precautionary measures from the beginning of the place with the mask on their staff and using good sanitisation. The food is really amazing specially the pizza straight from the oven and the hummus and pita bread are quite delicious too. If you're looking for a classy yet soothing Italian place in Delhi,Fatjar is a go to for you!  \n",
       "1  Kailash colony is brimming with small cafes now. I happened to visit this beauty for lunch and was amazed with the 1st impression it made.  We started with Falafel & Pita and Margherita Pizza. Safe to say, Margherita pizza was the best choice of the day. Its made freshly in front of you in the Wood Fired oven. The taste was exquisite and I would recommend this to anybody who plans to visit this outlet. I could come here just to have that Pizza. Hummus, Pita and Falafel were a good side dish while we ordered the next couple of dishes. We moved on to order Fussili Alfredo. This white sauce fussili pasta was good but could not be compared to the pizza we had earlier.  In the end, we went for Frozen Yoghurt with Honey. It is recommended to have it with honey, which will do wonders to the frozen yoghurt!  This place turned out to be quite peaceful and the plants enhanced its beauty.  \n",
       "2                                                                                                                                                                                                                                                                                                                                                                                                                                                                                                                                                                                                                                                                                                                                                                                                   Excellent taste and awesome decorum. Must visit. Subham Barnwal had given us a great service. One of the best experience.  \n",
       "3                                                                                                                                                                                                                                                                                                                                                                             I have visited at jw lough/restourant. There were a first class service at lough, specially Ms.laxmi  who were superbed for handling the client need, me and my family lots enjoyed her specialty in the manner, and Laxmi is a very very good in the client service, I hope when I will come against I would definitely serve from Ms. Laxmi and she is wonderful girl in that service. See you again Ms. Laxmi for the your best service which I have received from you at jw lough/resourant. Thank you JW Marriott Hotel at Atrocity, Delhi  \n",
       "4                                                                                                                         Had a great experience in the restaurant food was fabulous, staff was nice. Hotel staff seems very professional specially the team at front desk although I was not staying there but they helped me with few of my quarries. Was dining with my kids and the team member at front desk young guy came with some kids book and gave it to my little child. It was a wonderful experience at Holiday inn and the staff was super . I was little worried as using the hotel first time for dining but the staff made it more comfortable. Will strongly recommend this and special thanks to people working at desk do not remember his name but he was a manager in the lobby who suggested us kylin for food and thanks to him that we enjoyed meal at kylin and now it's my first choice for food.  "
      ]
     },
     "execution_count": 32,
     "metadata": {},
     "output_type": "execute_result"
    }
   ],
   "source": [
    "data.head()"
   ]
  },
  {
   "cell_type": "markdown",
   "metadata": {},
   "source": [
    "#### Check how this instructionn works on a single input"
   ]
  },
  {
   "cell_type": "code",
   "execution_count": 42,
   "metadata": {},
   "outputs": [
    {
     "data": {
      "application/vnd.jupyter.widget-view+json": {
       "model_id": "f38cfdc3668c44739759a0123684ebdd",
       "version_major": 2,
       "version_minor": 0
      },
      "text/plain": [
       "Dropdown(description='Select Instruction:', index=4, options=('I_1', 'I_2', 'I_3', 'I_4', 'I_5'), value='I_5')"
      ]
     },
     "metadata": {},
     "output_type": "display_data"
    }
   ],
   "source": [
    "hf.instruction_dropdown_widget()"
   ]
  },
  {
   "cell_type": "code",
   "execution_count": 43,
   "metadata": {},
   "outputs": [
    {
     "data": {
      "text/plain": [
       "'\\n    You are an AI tasked with analyzing restaurant reviews. Your goal is to classify the overall sentiment of the provided review into the following categories:\\n        - Positive\\n        - Negative\\n        - Neutral\\n\\n    Subsequently, assess the sentiment of specific aspects mentioned in the review, namely:\\n        1. Food quality\\n        2. Service\\n        3. Ambience\\n\\n    Further, identify liked and/or disliked features associated with each aspect in the review.\\n\\n    Return the output in the specified JSON format, ensuring consistency and handling missing values appropriately:\\n\\n    {\\n        \"Overall\": \"your_sentiment_prediction\",\\n        \"Food Quality\": \"your_sentiment_prediction\",\\n        \"Service\": \"your_sentiment_prediction\",\\n        \"Ambience\": \"your_sentiment_prediction\",\\n        \"Food Quality Features\": [\"liked/disliked features\"],\\n        \"Service Features\": [\"liked/disliked features\"],\\n        \"Ambience Features\": [\"liked/disliked features\"]\\n    }\\n\\n    The sentiment prediction for Overall, Food Quality, Service, and Ambience should be one of \"Positive\", \"Negative\", or \"Neutral\" only.\\n    In case one of the three aspects is not mentioned in the review, set \"Not Applicable\" (including quotes) in the corresponding JSON key value for the sentiment.\\n    In case there are no liked/disliked features for a particular aspect, assign an empty list in the corresponding JSON key value for the aspect.\\n    Only return the JSON, do NOT return any other text or information.\\n'"
      ]
     },
     "execution_count": 43,
     "metadata": {},
     "output_type": "execute_result"
    }
   ],
   "source": [
    "p1.set_instruction(hf.selected_instruction_value)\n",
    "p1.instruction"
   ]
  },
  {
   "cell_type": "code",
   "execution_count": 44,
   "metadata": {},
   "outputs": [
    {
     "name": "stdout",
     "output_type": "stream",
     "text": [
      "{\n",
      "  \"Overall\": \"Positive\",\n",
      "  \"Food Quality\": \"Positive\",\n",
      "  \"Service\": \"Not Applicable\",\n",
      "  \"Ambience\": \"Positive\",\n",
      "  \"Food Quality Features\": [\"beautiful\", \"fancy\", \"amazing\", \"delicious\"],\n",
      "  \"Service Features\": [],\n",
      "  \"Ambience Features\": [\"pure\", \"positive\", \"quaint\", \"cute\"]\n",
      "}\n"
     ]
    }
   ],
   "source": [
    "m = p1.generate_response(data['review_full'].values[0])\n",
    "print(m)"
   ]
  },
  {
   "cell_type": "code",
   "execution_count": null,
   "metadata": {},
   "outputs": [],
   "source": []
  },
  {
   "cell_type": "code",
   "execution_count": null,
   "metadata": {},
   "outputs": [],
   "source": []
  },
  {
   "cell_type": "code",
   "execution_count": null,
   "metadata": {},
   "outputs": [],
   "source": []
  }
 ],
 "metadata": {
  "kernelspec": {
   "display_name": ".venv",
   "language": "python",
   "name": "python3"
  },
  "language_info": {
   "codemirror_mode": {
    "name": "ipython",
    "version": 3
   },
   "file_extension": ".py",
   "mimetype": "text/x-python",
   "name": "python",
   "nbconvert_exporter": "python",
   "pygments_lexer": "ipython3",
   "version": "3.12.0"
  }
 },
 "nbformat": 4,
 "nbformat_minor": 2
}
